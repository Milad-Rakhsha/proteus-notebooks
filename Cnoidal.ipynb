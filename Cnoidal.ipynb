{
 "metadata": {
  "name": "Cnoidal"
 },
 "nbformat": 3,
 "nbformat_minor": 0,
 "worksheets": [
  {
   "cells": [
    {
     "cell_type": "code",
     "collapsed": false,
     "input": [
      "from sympy import *\n",
      "cn = mpmath.ellipfun('cn')\n",
      "g=9.8\n",
      "h = 0.5\n",
      "H = 0.25*h\n",
      "m=0.9\n",
      "eta2 = (H/m)*(1.0 - m - mpmath.ellipe(m)/mpmath.ellipk(m))\n",
      "Delta = h*sqrt(4.0*m*h/(3.0*H))\n",
      "c = sqrt(g*h)*(1.0 + (H/(m*h))*(1.0 - 0.5*m - (3.0/2.0)*mpmath.ellipe(m)/mpmath.ellipk(m)))\n",
      "def eta(x,t):\n",
      "    return eta2 + H*cn(2.0*mpmath.ellipk(m)*(x-c*t),m)**2\n",
      "L = c\n",
      "nx=101\n",
      "dx = L/float(nx-1)\n",
      "xl = [i*dx for i in range(nx)]\n",
      "hl = [h+eta(x,0.0) for x in xl]\n",
      "pyplot.axis('equal')\n",
      "pyplot.plot(xl,hl)"
     ],
     "language": "python",
     "metadata": {},
     "outputs": [
      {
       "output_type": "pyout",
       "prompt_number": 1,
       "text": [
        "[<matplotlib.lines.Line2D at 0x10d6bd2d0>]"
       ]
      },
      {
       "output_type": "display_data",
       "png": "[encoded data removed]",
       "text": [
        "<matplotlib.figure.Figure at 0x10c98fe50>"
       ]
      }
     ],
     "prompt_number": 1
    },
    {
     "cell_type": "code",
     "collapsed": false,
     "input": [],
     "language": "python",
     "metadata": {},
     "outputs": []
    }
   ],
   "metadata": {}
  }
 ]
}