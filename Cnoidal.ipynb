{
 "cells": [
  {
   "cell_type": "code",
   "execution_count": 1,
   "metadata": {
    "collapsed": false
   },
   "outputs": [
    {
     "data": {
      "text/plain": [
       "[<matplotlib.lines.Line2D at 0x7f54f468b9d0>]"
      ]
     },
     "execution_count": 1,
     "metadata": {},
     "output_type": "execute_result"
    },
    {
     "data": {
      "image/png": "[encoded data removed]",
      "text/plain": [
       "<matplotlib.figure.Figure at 0x7f54daad5550>"
      ]
     },
     "metadata": {},
     "output_type": "display_data"
    }
   ],
   "source": [
    "%matplotlib inline\n",
    "from matplotlib  import pyplot\n",
    "from sympy import *\n",
    "cn = mpmath.ellipfun('cn')\n",
    "g=9.8\n",
    "h = 0.5\n",
    "H = 0.25*h\n",
    "m=0.9\n",
    "eta2 = (H/m)*(1.0 - m - mpmath.ellipe(m)/mpmath.ellipk(m))\n",
    "Delta = h*sqrt(4.0*m*h/(3.0*H))\n",
    "c = sqrt(g*h)*(1.0 + (H/(m*h))*(1.0 - 0.5*m - (3.0/2.0)*mpmath.ellipe(m)/mpmath.ellipk(m)))\n",
    "def eta(x,t):\n",
    "    return eta2 + H*cn(2.0*mpmath.ellipk(m)*(x-c*t),m)**2\n",
    "L = c\n",
    "nx=101\n",
    "dx = L/float(nx-1)\n",
    "xl = [i*dx for i in range(nx)]\n",
    "hl = [h+eta(x,0.0) for x in xl]\n",
    "pyplot.axis('equal')\n",
    "pyplot.plot(xl,hl)"
   ]
  }
 ],
 "metadata": {
  "kernelspec": {
   "display_name": "Python 2",
   "language": "python",
   "name": "python2"
  },
  "language_info": {
   "codemirror_mode": {
    "name": "ipython",
    "version": 2
   },
   "file_extension": ".py",
   "mimetype": "text/x-python",
   "name": "python",
   "nbconvert_exporter": "python",
   "pygments_lexer": "ipython2",
   "version": "2.7.9"
  }
 },
 "nbformat": 4,
 "nbformat_minor": 0
}
