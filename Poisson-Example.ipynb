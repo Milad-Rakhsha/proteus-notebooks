{
 "cells": [
  {
   "cell_type": "markdown",
   "metadata": {},
   "source": [
    "Solve the Poisson equation on a square domain.  That is, find $u:\\Omega \\rightarrow \\Re$ such that\n",
    "$$\n",
    "-\\nabla \\cdot \\left[A\\nabla u \\right] + r(x) = 0\n",
    "$$\n",
    "on \n",
    "$$\n",
    "\\Omega = [0,1] \\times [0,1]\n",
    "$$\n",
    "where $A$ is constant, and $r(x)$ is a function of space only."
   ]
  },
  {
   "cell_type": "code",
   "execution_count": 1,
   "metadata": {
    "collapsed": false
   },
   "outputs": [],
   "source": [
    "from proteus.iproteus import * #pull in what we need for using proteus interactively"
   ]
  },
  {
   "cell_type": "markdown",
   "metadata": {},
   "source": [
    "Define the PDE by defining the coefficients"
   ]
  },
  {
   "cell_type": "code",
   "execution_count": 2,
   "metadata": {
    "collapsed": false
   },
   "outputs": [],
   "source": [
    "class Poisson(TransportCoefficients.TC_base):\n",
    "    \"\"\"\n",
    "    The coefficients of the Poisson equation \n",
    "    \"\"\"\n",
    "    def __init__(self,A,rofx):\n",
    "        TransportCoefficients.TC_base.__init__(self, \n",
    "                         nc=1, #number of components\n",
    "                         variableNames=['u'],\n",
    "                         diffusion = {0:{0:{0:'constant'}}},#constant means not a function of the solution\n",
    "                         potential = {0:{0:'u'}}, #define the potential for the diffusion term to be the solution itself\n",
    "                         reaction  = {0:{0:'constant'}})\n",
    "        self.A=A;\n",
    "        self.rofx=rofx\n",
    "        \n",
    "    def evaluate(self,t,c):\n",
    "        \"\"\"\n",
    "        evaluate quadrature point values held in the dictionary c\n",
    "        These are labelled according to the 'master equation.' For example,\n",
    "         \n",
    "        c[('a',0,0)] = diffusion coefficient for the 0th equation (first) with respect to the\n",
    "                       0th potential (the solution itself)\n",
    "                       The value at each quadrature point is a n_d x n_d tensor (n_d=number of space dimensions).\n",
    "                       Usually the tensor values are stored as a flat array in compressed sparse row format to save space. \n",
    "                       By default, we assume the tensor is full though.\n",
    "                       \n",
    "        c[('r',0)]   = reaction term for the 0th equation. This is where we will put the source term\n",
    "        \"\"\"\n",
    "        #diffusion coefficient\n",
    "        c[('a',0,0)][...,0] = self.A[0][0]\n",
    "        c[('a',0,0)][...,3] = self.A[1][1]\n",
    "        #reaction, 'x' is the spatial coordinate. It is always 3d\n",
    "        c[('r',0)][:]     = self.rofx(c['x'][:])"
   ]
  },
  {
   "cell_type": "markdown",
   "metadata": {},
   "source": [
    "Setup the problem to have a solution\n",
    "\n",
    "$$\n",
    "u(x_0,x_1) = \\cos(2\\pi x_0)\\sin(2\\pi x_0)\\cos(2\\pi x_1)\\sin(2\\pi x_1)\n",
    "$$\n",
    "\n",
    "or\n",
    "\n",
    "$$\n",
    "u(x_0,x_1) = x_0(1-x_0)x_1(1-x_1)\n",
    "$$\n",
    "\n",
    "For fun, we can take advantage of sage's symbolic calculus to calculate the correct expression for $r$."
   ]
  },
  {
   "cell_type": "markdown",
   "metadata": {},
   "source": [
    "Define the python functions for evaluating the terms. Note that the x array for the quadrature points will be a\n",
    "\n",
    "multidimensional array. The last dimension will be 3 always though."
   ]
  },
  {
   "cell_type": "code",
   "execution_count": 3,
   "metadata": {
    "collapsed": false
   },
   "outputs": [
    {
     "name": "stdout",
     "output_type": "stream",
     "text": [
      "x.shape=  (3, 2, 3) \n",
      " x=\n",
      "[[[ 0  1  2]\n",
      "  [ 3  4  5]]\n",
      "\n",
      " [[ 6  7  8]\n",
      "  [ 9 10 11]]\n",
      "\n",
      " [[12 13 14]\n",
      "  [15 16 17]]]\n",
      "x[...,0].shape=  (3, 2) \n",
      " x[...,0]=\n",
      "[[ 0  3]\n",
      " [ 6  9]\n",
      " [12 15]]\n",
      "x[...,1].shape=  (3, 2) \n",
      " x[...,1]=\n",
      "[[ 1  4]\n",
      " [ 7 10]\n",
      " [13 16]]\n"
     ]
    }
   ],
   "source": [
    "#use numpy for evaluations\n",
    "import numpy as np\n",
    "a0 = 1.0\n",
    "def uex0(x):\n",
    "    \"\"\"\n",
    "    exact solution: \n",
    "\\[\n",
    "u(x_0,x_1) = \\cos(2\\pi x_0)\\sin(2\\pi x_0)\\cos(2\\pi x_1)\\sin(2\\pi x_1)\n",
    "\\]\n",
    "    \"\"\"\n",
    "    pi2=2.0*np.pi    \n",
    "    return np.cos(pi2*x[...,0])*np.sin(pi2*x[...,0])*np.cos(pi2*x[...,1])*np.sin(pi2*x[...,1])\n",
    "def rofx0(x):\n",
    "    \"\"\"\n",
    "    r term for \n",
    "\\[\n",
    "u(x_0,x_1) = \\cos(2\\pi x_0)\\sin(2\\pi x_0)\\cos(2\\pi x_1)\\sin(2\\pi x_1)\n",
    "\\]\n",
    "\n",
    "    \"\"\"\n",
    "    pi2=2.0*np.pi    \n",
    "    return -32.*np.pi*np.pi*a0*np.sin(pi2*x[...,0])*np.sin(pi2*x[...,1])*np.cos(pi2*x[...,0])*np.cos(pi2*x[...,1])\n",
    "#just illustrate numpy notation\n",
    "x = np.arange(3*2*3).reshape(3,2,3)\n",
    "print 'x.shape= ',x.shape,'\\n x=\\n',x\n",
    "print 'x[...,0].shape= ',x[...,0].shape,'\\n x[...,0]=\\n',x[...,0]\n",
    "print 'x[...,1].shape= ',x[...,1].shape,'\\n x[...,1]=\\n',x[...,1]"
   ]
  },
  {
   "cell_type": "markdown",
   "metadata": {},
   "source": [
    "Define the physical input to the model"
   ]
  },
  {
   "cell_type": "code",
   "execution_count": 4,
   "metadata": {
    "collapsed": false
   },
   "outputs": [],
   "source": [
    "#use numpy for evaluations\n",
    "import numpy as np\n",
    "physics = default_p\n",
    "physics.name = \"poisson_2d\"\n",
    "physics.nd = 2; #Two dimensions\n",
    "#spatial domain\n",
    "physics.L=(1.0,1.0,1.0)\n",
    "\n",
    "#the object for evaluating the coefficients   \n",
    "A  =[[a0,0.0],\n",
    "     [0.0,a0]]\n",
    "physics.coefficients=Poisson(A,rofx0)\n",
    "\n",
    "#convenience functions for holding the boundary condition\n",
    "def constant_one(x,t):\n",
    "    return 1.0\n",
    "def constant_zero(x,t):\n",
    "    return 0.0\n",
    "#this functions job is to return another function holding the Dirichlet boundary conditions \n",
    "# wherever they are set\n",
    "def getDBC(x,flag):\n",
    "    if x[0] == 0.0 or x[1] == 0.0:\n",
    "        return constant_zero\n",
    "    elif x[0] == 1.0 or x[1] == 1.0:\n",
    "        return constant_zero\n",
    "        \n",
    "physics.dirichletConditions = {0:getDBC}"
   ]
  },
  {
   "cell_type": "markdown",
   "metadata": {},
   "source": [
    "Define the numerics input for the problem"
   ]
  },
  {
   "cell_type": "code",
   "execution_count": 5,
   "metadata": {
    "collapsed": false
   },
   "outputs": [],
   "source": [
    "numerics=default_n\n",
    "#piecewise linears\n",
    "numerics.femSpaces = {0:FemTools.C0_AffineLinearOnSimplexWithNodalBasis}\n",
    "#Quadrature rules for elements and element  boundaries\n",
    "numerics.elementQuadrature = Quadrature.SimplexGaussQuadrature(physics.nd,3)\n",
    "numerics.elementBoundaryQuadrature = Quadrature.SimplexGaussQuadrature(physics.nd-1,3)\n",
    "#number of nodes in the x and y direction\n",
    "numerics.nnx = numerics.nny= 41\n",
    "#matrix type\n",
    "numerics.matrix = LinearAlgebraTools.SparseMatrix\n",
    "#use petsc solvers wrapped by petsc4py\n",
    "numerics.multilevelLinearSolver = LinearSolvers.KSP_petsc4py\n",
    "numerics.levelLinearSolver = LinearSolvers.KSP_petsc4py\n",
    "#using petsc4py requires weak boundary condition enforcement\n",
    "numerics.numericalFluxType = NumericalFlux.Diffusion_IIPG_exterior\n",
    "#can also use our internal wrapper for SuperLU\n",
    "#numerics.multilevelLinearSolver = LinearSolvers.LU\n",
    "#numerics.levelLinearSolver = LinearSolvers.LU\n",
    "\n",
    "#linear solve rtolerance\n",
    "numerics.l_atol_res = 1.0e-8\n",
    "numerics.periodicDirichletConditions=None\n",
    "#\n",
    "# split operator options (trivial since we're not splitting)\n",
    "#\n",
    "so = default_so\n",
    "so.name = physics.name\n",
    "so.sList=[default_s]\n",
    "so.tnList = [0,1]"
   ]
  },
  {
   "cell_type": "markdown",
   "metadata": {},
   "source": [
    "Construct a NumericalSolution object and solve the problem"
   ]
  },
  {
   "cell_type": "code",
   "execution_count": 6,
   "metadata": {
    "collapsed": false
   },
   "outputs": [],
   "source": [
    "ns = NumericalSolution.NS_base(so,[physics],[numerics],so.sList,opts)\n",
    "ns.calculateSolution('run1')\n",
    "#arrays for using matplotlib's unstructured plotting interface\n",
    "x = ns.modelList[0].levelModelList[-1].mesh.nodeArray[:,0]\n",
    "y = ns.modelList[0].levelModelList[-1].mesh.nodeArray[:,1]\n",
    "triangles = ns.modelList[0].levelModelList[-1].mesh.elementNodesArray\n",
    "u = ns.modelList[0].levelModelList[-1].u[0].dof"
   ]
  },
  {
   "cell_type": "markdown",
   "metadata": {},
   "source": [
    "Plot the solution with matplotlib. Only works for $C^0 P^1$ right now"
   ]
  },
  {
   "cell_type": "code",
   "execution_count": 7,
   "metadata": {
    "collapsed": false
   },
   "outputs": [
    {
     "name": "stdout",
     "output_type": "stream",
     "text": [
      "Populating the interactive namespace from numpy and matplotlib\n"
     ]
    },
    {
     "name": "stderr",
     "output_type": "stream",
     "text": [
      "WARNING: pylab import has clobbered these variables: ['log']\n",
      "`%matplotlib` prevents importing * from pylab and numpy\n"
     ]
    }
   ],
   "source": [
    "%pylab inline"
   ]
  },
  {
   "cell_type": "code",
   "execution_count": 8,
   "metadata": {
    "collapsed": false
   },
   "outputs": [
    {
     "data": {
      "image/png": "[encoded data removed]",
      "text/plain": [
       "<matplotlib.figure.Figure at 0x7f2121dcce50>"
      ]
     },
     "metadata": {},
     "output_type": "display_data"
    },
    {
     "data": {
      "text/plain": [
       "<matplotlib.figure.Figure at 0x7f2121d05b10>"
      ]
     },
     "metadata": {},
     "output_type": "display_data"
    }
   ],
   "source": [
    "import matplotlib.pyplot as plt\n",
    "plt.clf()\n",
    "plt.tricontourf(x,y,triangles,u)\n",
    "plt.xlabel('x'); plt.ylabel('y')\n",
    "plt.title('approximate solution'); plt.colorbar()\n",
    "plt.show()\n",
    "plt.savefig(\"c.png\")"
   ]
  },
  {
   "cell_type": "markdown",
   "metadata": {},
   "source": [
    "Compare to the exact solution, evaluated at the degrees of freedom. Again, only works for $C^0 P^1$ elements"
   ]
  },
  {
   "cell_type": "code",
   "execution_count": 9,
   "metadata": {
    "collapsed": false
   },
   "outputs": [],
   "source": [
    "import numpy as np\n",
    "uex_vals = np.zeros(u.shape,'d')\n",
    "uex_vals = uex0(ns.modelList[0].levelModelList[-1].mesh.nodeArray)"
   ]
  },
  {
   "cell_type": "code",
   "execution_count": 10,
   "metadata": {
    "collapsed": false
   },
   "outputs": [
    {
     "data": {
      "image/png": "[encoded data removed]",
      "text/plain": [
       "<matplotlib.figure.Figure at 0x7f2121d05f90>"
      ]
     },
     "metadata": {},
     "output_type": "display_data"
    }
   ],
   "source": [
    "plt.clf()\n",
    "plt.tricontourf(x,y,triangles,uex_vals)\n",
    "plt.xlabel('x'); plt.ylabel('y')\n",
    "plt.title('exact solution'); plt.colorbar()\n",
    "plt.savefig(\"cex.png\")"
   ]
  },
  {
   "cell_type": "code",
   "execution_count": 11,
   "metadata": {
    "collapsed": false
   },
   "outputs": [
    {
     "name": "stdout",
     "output_type": "stream",
     "text": [
      "Trapezoidal rule approx for error at dofs for nx=41 ny=41 is 0.00224575130184 \n"
     ]
    }
   ],
   "source": [
    "err = u-uex_vals\n",
    "err *= err\n",
    "err *= physics.L[0]*physics.L[1]/(numerics.nnx*numerics.nny)\n",
    "L2approx = np.sqrt(err.sum())\n",
    "print \"Trapezoidal rule approx for error at dofs for nx=%s ny=%s is %s \" % (numerics.nnx,numerics.nny,L2approx)"
   ]
  }
 ],
 "metadata": {
  "kernelspec": {
   "display_name": "Python 2",
   "language": "python",
   "name": "python2"
  },
  "language_info": {
   "codemirror_mode": {
    "name": "ipython",
    "version": 2
   },
   "file_extension": ".py",
   "mimetype": "text/x-python",
   "name": "python",
   "nbconvert_exporter": "python",
   "pygments_lexer": "ipython2",
   "version": "2.7.8"
  }
 },
 "nbformat": 4,
 "nbformat_minor": 0
}
