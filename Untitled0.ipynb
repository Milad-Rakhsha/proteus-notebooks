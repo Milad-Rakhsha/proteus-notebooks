{
 "metadata": {
  "name": "Untitled0"
 },
 "nbformat": 3,
 "worksheets": [
  {
   "cells": [
    {
     "cell_type": "code",
     "input": [
      "from IPython.parallel import Client, error",
      "cluster = Client(profile=\"diamond\",sshserver=\"diamond03.erdc.hpc.mil\",password=\"\")",
      "view = cluster[:]",
      "view.block = True",
      "%load_ext parallelmagic",
      "view.activate()"
     ],
     "language": "python",
     "outputs": [],
     "prompt_number": 1
    },
    {
     "cell_type": "code",
     "input": [
      "view"
     ],
     "language": "python",
     "outputs": [
      {
       "output_type": "pyout",
       "prompt_number": 2,
       "text": [
        "<DirectView [0, 1, 2, 3,...]>"
       ]
      }
     ],
     "prompt_number": 2
    },
    {
     "cell_type": "code",
     "input": [
      ""
     ],
     "language": "python",
     "outputs": [],
     "prompt_number": 2
    },
    {
     "cell_type": "code",
     "input": [
      "%%px",
      "from proteus import Comm",
      "comm = Comm.init()",
      "print comm.rank()",
      "print comm.size()"
     ],
     "language": "python",
     "outputs": [
      {
       "output_type": "stream",
       "stream": "stdout",
       "text": [
        "Parallel execution on engine(s): [0, 1, 2, 3, 4, 5, 6, 7, 8, 9, 10, 11, 12, 13, 14, 15, 16, 17, 18, 19, 20, 21, 22, 23, 24, 25, 26, 27, 28, 29, 30, 31, 32, 33, 34, 35, 36, 37, 38, 39, 40, 41, 42, 43, 44, 45, 46, 47, 48, 49, 50, 51, 52, 53, 54, 55, 56, 57, 58, 59, 60, 61, 62, 63]",
        "[stdout:9] ",
        "5",
        "64",
        ""
       ]
      },
      {
       "output_type": "stream",
       "stream": "stdout",
       "text": [
        "[stdout:10] ",
        "28",
        "64",
        "[stdout:11] ",
        "61",
        "64",
        "[stdout:12] ",
        "32",
        "64",
        "[stdout:13] ",
        "21",
        "64",
        "[stdout:14] ",
        "58",
        "64",
        "[stdout:15] ",
        "39",
        "64",
        "[stdout:16] ",
        "55",
        "64",
        "[stdout:17] ",
        "25",
        "64",
        "[stdout:18] ",
        "43",
        "64",
        "[stdout:19] ",
        "63",
        "64",
        "[stdout:20] ",
        "11",
        "64",
        "[stdout:21] ",
        "16",
        "64",
        "[stdout:22] ",
        "26",
        "64",
        "[stdout:23] ",
        "7",
        "64",
        "[stdout:24] ",
        "37",
        "64",
        "[stdout:25] ",
        "57",
        "64",
        "[stdout:26] ",
        "13",
        "64",
        "[stdout:27] ",
        "59",
        "64",
        "[stdout:28] ",
        "47",
        "64",
        ""
       ]
      }
     ],
     "prompt_number": 3
    },
    {
     "cell_type": "code",
     "input": [
      ""
     ],
     "language": "python",
     "outputs": [],
     "prompt_number": 3
    }
   ]
  }
 ]
}