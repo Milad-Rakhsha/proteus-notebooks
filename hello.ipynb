{
 "metadata": {
  "name": "hello"
 },
 "nbformat": 3,
 "worksheets": [
  {
   "cells": [
    {
     "cell_type": "code",
     "collapsed": false,
     "input": [
      "print \"hello world\""
     ],
     "language": "python",
     "outputs": [
      {
       "output_type": "stream",
       "stream": "stdout",
       "text": [
        "hello world"
       ]
      }
     ],
     "prompt_number": 1
    },
    {
     "cell_type": "code",
     "collapsed": true,
     "input": [
      "x = arange(0.0,1.0,0.01)",
      "y = x**2"
     ],
     "language": "python",
     "outputs": [],
     "prompt_number": 2
    },
    {
     "cell_type": "code",
     "collapsed": false,
     "input": [
      "plot(x,y)"
     ],
     "language": "python",
     "outputs": [
      {
       "output_type": "pyout",
       "prompt_number": 3,
       "text": [
        "[<matplotlib.lines.Line2D at 0x1e1ce50>]"
       ]
      },
      {
       "output_type": "display_data",
       "png": "[encoded data removed]"
      }
     ],
     "prompt_number": 3
    },
    {
     "cell_type": "code",
     "collapsed": false,
     "input": [
      "!git  add shallowWater-threaded.ipynb",
      "!git commit -a -m \"added new threaded notebook\""
     ],
     "language": "python",
     "outputs": [
      {
       "output_type": "stream",
       "stream": "stdout",
       "text": [
        "[master 7db26e6] added new threaded notebook",
        " 5 files changed, 1321 insertions(+), 1033 deletions(-)",
        " rewrite Parallel Magics.ipynb (94%)",
        " create mode 100644 shallowWater-threaded.ipynb",
        " rewrite shallowWater.ipynb (77%)",
        ""
       ]
      }
     ],
     "prompt_number": 17
    },
    {
     "cell_type": "code",
     "collapsed": false,
     "input": [
      "!ls *.ipynb"
     ],
     "language": "python",
     "outputs": [
      {
       "output_type": "stream",
       "stream": "stdout",
       "text": [
        "adr-apply.ipynb       display_test.ipynb      shallowWater.ipynb",
        "adr.ipynb\t      hello.ipynb\t      shallowWater-threaded-Copy0.ipynb",
        "adr-serial.ipynb      hpc3geo_twophase.ipynb  shallowWater-threaded.ipynb",
        "BackgroundLoop.ipynb  ModelingBudget.ipynb    Timing.ipynb",
        "cluster_test.ipynb    Parallel Magics.ipynb   ViewOfServerLog.ipynb",
        ""
       ]
      }
     ],
     "prompt_number": 15
    },
    {
     "cell_type": "code",
     "collapsed": false,
     "input": [
      "!git push"
     ],
     "language": "python",
     "outputs": [
      {
       "output_type": "stream",
       "stream": "stdout",
       "text": [
        "Counting objects: 12, done.",
        "Delta compression using up to 16 threads.",
        "Compressing objects:  14% (1/7)   ",
        "Compressing objects:  28% (2/7)   ",
        "Compressing objects:  42% (3/7)   "
       ]
      },
      {
       "output_type": "stream",
       "stream": "stdout",
       "text": [
        "Compressing objects:  57% (4/7)   ",
        "Compressing objects:  71% (5/7)   ",
        "Compressing objects:  85% (6/7)   ",
        "Compressing objects: 100% (7/7)   ",
        "Compressing objects: 100% (7/7), done.",
        "Writing objects:  14% (1/7)   ",
        "Writing objects:  28% (2/7)   ",
        "Writing objects:  42% (3/7)   ",
        "Writing objects:  57% (4/7)   ",
        "Writing objects:  71% (5/7)   ",
        "Writing objects:  85% (6/7)   ",
        "Writing objects: 100% (7/7)   ",
        "Writing objects: 100% (7/7), 249.88 KiB, done.",
        "Total 7 (delta 2), reused 0 (delta 0)",
        ""
       ]
      },
      {
       "output_type": "stream",
       "stream": "stdout",
       "text": [
        "To git@github.com:erdc-cm/proteus-notebooks.git",
        "   c2f6e3b..7db26e6  master -> master",
        ""
       ]
      }
     ],
     "prompt_number": 18
    },
    {
     "cell_type": "code",
     "collapsed": true,
     "input": [
      ""
     ],
     "language": "python",
     "outputs": []
    }
   ]
  }
 ]
}