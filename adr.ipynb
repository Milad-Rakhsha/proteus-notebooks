{
 "metadata": {
  "name": "adr"
 },
 "nbformat": 3,
 "worksheets": [
  {
   "cells": [
    {
     "cell_type": "markdown",
     "source": [
      "#Interactive Proteus parallel example",
      "",
      "##Load IPython support for working with MPI tasks"
     ]
    },
    {
     "cell_type": "code",
     "collapsed": false,
     "input": [
      "from IPython.parallel import Client",
      "c = Client(profile=\"mpi\")",
      "view = c[:]",
      "%load_ext parallelmagic",
      "view.activate()",
      "%autopx #switch to MPI tasks"
     ],
     "language": "python",
     "outputs": [
      {
       "output_type": "stream",
       "stream": "stdout",
       "text": [
        "%autopx enabled"
       ]
      }
     ],
     "prompt_number": 1
    },
    {
     "cell_type": "markdown",
     "source": [
      "##Load interactive Proteus module, physics, and numerics on the MPI tasks and solve problem"
     ]
    },
    {
     "cell_type": "code",
     "collapsed": true,
     "input": [
      "from proteus.iproteus import * ",
      "from proteus import default_n,default_s,default_so",
      "import ladr_2d_p,ladr_2d_n",
      "from proteus import Comm",
      "comm = Comm.get()",
      "pList = [ladr_2d_p]",
      "nList = [ladr_2d_n]",
      "so = default_so",
      "so.name = pList[0].name = \"ladr_2d\"",
      "so.sList=[default_s]",
      "so.tnList = ladr_2d_n.tnList",
      "nList[0].multilevelLinearSolver=default_n.KSP_petsc4py",
      "#opts.viewer='vtk'",
      "#viewers = Viewers.viewerOn(so.name+`comm.rank()`,opts.viewer)",
      "ns = NumericalSolution.NS_base(so,pList,nList,so.sList,opts)",
      "ns.calculateSolution('run1')",
      "x = ns.modelList[0].levelModelList[-1].mesh.nodeArray[:,0]",
      "y = ns.modelList[0].levelModelList[-1].mesh.nodeArray[:,1]",
      "triangles = ns.modelList[0].levelModelList[-1].mesh.elementNodesArray",
      "u = ns.modelList[0].levelModelList[-1].u[0].dof",
      "#if comm.isMaster():",
      "#    imageList = [window.png for window in viewers.windowDict.values()]",
      "#else:",
      "#    imageList = []"
     ],
     "language": "python",
     "outputs": [],
     "prompt_number": 2
    },
    {
     "cell_type": "code",
     "collapsed": false,
     "input": [
      "%autopx #switch back to client task"
     ],
     "language": "python",
     "outputs": [
      {
       "output_type": "stream",
       "stream": "stdout",
       "text": [
        "%autopx disabled"
       ]
      }
     ],
     "prompt_number": 3
    },
    {
     "cell_type": "markdown",
     "source": [
      "##Combine subdomain solutions and plot"
     ]
    },
    {
     "cell_type": "code",
     "collapsed": false,
     "input": [
      "x = numpy.concatenate(view['x'])",
      "y = numpy.concatenate(view['y'])",
      "u = numpy.concatenate(view['u'])",
      "n0=0",
      "n1=n0+len(view['x'][0])",
      "n2=n1+len(view['x'][1])",
      "n3=n2+len(view['x'][2])",
      "triangles = numpy.concatenate((view['triangles'][0]+n0,",
      "                               view['triangles'][1]+n1,",
      "                               view['triangles'][2]+n2,",
      "                               view['triangles'][3]+n3))",
      "tricontourf(x,y,triangles,u)"
     ],
     "language": "python",
     "outputs": [
      {
       "output_type": "pyout",
       "prompt_number": 4,
       "text": [
        "<matplotlib.tri.tricontour.TriContourSet instance at 0x3605128>"
       ]
      },
      {
       "output_type": "display_data",
       "png": "[encoded data removed]"
      }
     ],
     "prompt_number": 4
    },
    {
     "cell_type": "code",
     "collapsed": false,
     "input": [
      "#print view['imageList']",
      "#png = view['imageList'][0][0]",
      "#print png"
     ],
     "language": "python",
     "outputs": [],
     "prompt_number": 5
    },
    {
     "cell_type": "code",
     "collapsed": false,
     "input": [
      "#from IPython.core.display import Image",
      "#Image(png,embed=True)"
     ],
     "language": "python",
     "outputs": [],
     "prompt_number": 6
    },
    {
     "cell_type": "code",
     "collapsed": true,
     "input": [],
     "language": "python",
     "outputs": [],
     "prompt_number": 6
    }
   ]
  }
 ]
}