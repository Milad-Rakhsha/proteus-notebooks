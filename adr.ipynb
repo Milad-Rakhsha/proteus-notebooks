{
 "cells": [
  {
   "cell_type": "markdown",
   "metadata": {},
   "source": [
    "#Interactive Proteus parallel example\n",
    "\n",
    "##Load IPython support for working with MPI tasks"
   ]
  },
  {
   "cell_type": "code",
   "execution_count": 1,
   "metadata": {
    "collapsed": false
   },
   "outputs": [],
   "source": [
    "from IPython.parallel import Client\n",
    "c = Client(profile=\"mpi\")\n",
    "view = c[:]\n",
    "%load_ext parallelmagic\n",
    "view.activate()"
   ]
  },
  {
   "cell_type": "markdown",
   "metadata": {},
   "source": [
    "##Load interactive Proteus module, physics, and numerics on the MPI tasks and solve problem"
   ]
  },
  {
   "cell_type": "code",
   "execution_count": 5,
   "metadata": {
    "collapsed": false
   },
   "outputs": [],
   "source": [
    "%%px --block\n",
    "from proteus.iproteus import * \n",
    "from proteus import default_n,default_s,default_so\n",
    "import ladr_2d_p,ladr_2d_n\n",
    "from proteus import Comm\n",
    "comm = Comm.get()\n",
    "pList = [ladr_2d_p]\n",
    "nList = [ladr_2d_n]\n",
    "so = default_so\n",
    "so.name = pList[0].name = \"ladr_2d\"\n",
    "so.sList=[default_s]\n",
    "so.tnList = ladr_2d_n.tnList\n",
    "nList[0].multilevelLinearSolver=default_n.KSP_petsc4py\n",
    "#opts.viewer='vtk'\n",
    "#viewers = Viewers.viewerOn(so.name+`comm.rank()`,opts.viewer)\n",
    "ns = NumericalSolution.NS_base(so,pList,nList,so.sList,opts)\n",
    "ns.calculateSolution('run1')\n",
    "x = ns.modelList[0].levelModelList[-1].mesh.nodeArray[:,0]\n",
    "y = ns.modelList[0].levelModelList[-1].mesh.nodeArray[:,1]\n",
    "triangles = ns.modelList[0].levelModelList[-1].mesh.elementNodesArray\n",
    "u = ns.modelList[0].levelModelList[-1].u[0].dof\n",
    "#if comm.isMaster():\n",
    "#    imageList = [window.png for window in viewers.windowDict.values()]\n",
    "#else:\n",
    "#    imageList = []"
   ]
  },
  {
   "cell_type": "markdown",
   "metadata": {},
   "source": [
    "##Combine subdomain solutions and plot"
   ]
  },
  {
   "cell_type": "code",
   "execution_count": 7,
   "metadata": {
    "collapsed": false
   },
   "outputs": [],
   "source": [
    "import  numpy\n",
    "x = numpy.concatenate(view['x'])\n",
    "y = numpy.concatenate(view['y'])\n",
    "u = numpy.concatenate(view['u'])\n",
    "n0=0\n",
    "n1=n0+len(view['x'][0])\n",
    "n2=n1+len(view['x'][1])\n",
    "n3=n2+len(view['x'][2])\n",
    "triangles = numpy.concatenate((view['triangles'][0]+n0,\n",
    "                               view['triangles'][1]+n1,\n",
    "                               view['triangles'][2]+n2,\n",
    "                               view['triangles'][3]+n3))\n",
    "#tricontourf(x,y,triangles,u)"
   ]
  },
  {
   "cell_type": "code",
   "execution_count": 9,
   "metadata": {
    "collapsed": false
   },
   "outputs": [],
   "source": [
    "#print view['imageList']\n",
    "#png = view['imageList'][3][0]\n",
    "#print png"
   ]
  },
  {
   "cell_type": "code",
   "execution_count": 10,
   "metadata": {
    "collapsed": false
   },
   "outputs": [],
   "source": [
    "#from IPython.core.display import Image\n",
    "#Image(png,embed=True)"
   ]
  },
  {
   "cell_type": "code",
   "execution_count": null,
   "metadata": {
    "collapsed": true
   },
   "outputs": [],
   "source": []
  }
 ],
 "metadata": {
  "kernelspec": {
   "display_name": "Python 2",
   "language": "python",
   "name": "python2"
  },
  "language_info": {
   "codemirror_mode": {
    "name": "ipython",
    "version": 2
   },
   "file_extension": ".py",
   "mimetype": "text/x-python",
   "name": "python",
   "nbconvert_exporter": "python",
   "pygments_lexer": "ipython2",
   "version": "2.7.9"
  }
 },
 "nbformat": 4,
 "nbformat_minor": 0
}
