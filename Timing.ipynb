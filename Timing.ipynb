{
 "metadata": {
  "name": "Timing"
 },
 "nbformat": 3,
 "worksheets": [
  {
   "cells": [
    {
     "cell_type": "code",
     "collapsed": false,
     "input": [
      "from IPython import parallel",
      "rc = parallel.Client(profile='nbserver')",
      "dview = rc[:]"
     ],
     "language": "python",
     "outputs": [],
     "prompt_number": 2
    },
    {
     "cell_type": "code",
     "collapsed": false,
     "input": [
      "rc.ids"
     ],
     "language": "python",
     "outputs": [
      {
       "output_type": "pyout",
       "prompt_number": 4,
       "text": [
        "[0, 1, 2, 3]"
       ]
      }
     ],
     "prompt_number": 4
    },
    {
     "cell_type": "markdown",
     "source": [
      "Submit dummy sleep with %autopx"
     ]
    },
    {
     "cell_type": "code",
     "collapsed": false,
     "input": [
      "dview.activate()",
      "%autopx"
     ],
     "language": "python",
     "outputs": [
      {
       "output_type": "stream",
       "stream": "stdout",
       "text": [
        "%autopx enabled"
       ]
      }
     ],
     "prompt_number": 47
    },
    {
     "cell_type": "code",
     "collapsed": true,
     "input": [
      "import time",
      "time.sleep(1)"
     ],
     "language": "python",
     "outputs": [],
     "prompt_number": 48
    },
    {
     "cell_type": "code",
     "collapsed": false,
     "input": [
      "%autopx"
     ],
     "language": "python",
     "outputs": [
      {
       "output_type": "stream",
       "stream": "stdout",
       "text": [
        "%autopx disabled"
       ]
      }
     ],
     "prompt_number": 49
    },
    {
     "cell_type": "markdown",
     "source": [
      "Get the last AsyncResult object from the Client, which has access to metadata about the execution."
     ]
    },
    {
     "cell_type": "code",
     "collapsed": true,
     "input": [
      "asyncresult = rc.get_result(-1)"
     ],
     "language": "python",
     "outputs": [],
     "prompt_number": 53
    },
    {
     "cell_type": "markdown",
     "source": [
      "Functions for extracting runtimes from the AsyncResult (timestamps are `datetime.datetime` objects)"
     ]
    },
    {
     "cell_type": "code",
     "collapsed": true,
     "input": [
      "def runtime(ar):",
      "    \"\"\"compute runtime purely on engine\"\"\"",
      "    return (ar.completed - ar.started).total_seconds()",
      "",
      "def totaltime(ar):",
      "    \"\"\"with overhead of submitting code via IPython\"\"\"",
      "    return (ar.completed - ar.submitted).total_seconds()"
     ],
     "language": "python",
     "outputs": [],
     "prompt_number": 55
    },
    {
     "cell_type": "markdown",
     "source": [
      "Get the timings for pure execution, and including network overhead:"
     ]
    },
    {
     "cell_type": "code",
     "collapsed": false,
     "input": [
      "ex = runtime(asyncresult)",
      "tot = totaltime(asyncresult)",
      "print \"engine runtime\", ex",
      "print \"  with IPython\", tot",
      "print \"percent overhead: %.2f%%\" % (100 * (tot-ex)/ex)"
     ],
     "language": "python",
     "outputs": [
      {
       "output_type": "stream",
       "stream": "stdout",
       "text": [
        "engine runtime 1.009709",
        "  with IPython 1.021709",
        "percent overhead: 1.19%"
       ]
      }
     ],
     "prompt_number": 56
    },
    {
     "cell_type": "markdown",
     "source": [
      "So, 1% overhead on a job that took one second."
     ]
    }
   ]
  }
 ]
}