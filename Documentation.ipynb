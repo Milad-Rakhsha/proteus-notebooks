{
 "cells": [
  {
   "cell_type": "markdown",
   "metadata": {
    "slideshow": {
     "slide_type": "slide"
    }
   },
   "source": [
    "#Documenting Proteus \n",
    "\n",
    "##Learn how to write:\n",
    "\n",
    "- ##Python comments\n",
    "- ##Python doc strings\n",
    "- ##C/C++ comments\n",
    "- ##Generate the documentation"
   ]
  },
  {
   "cell_type": "markdown",
   "metadata": {
    "slideshow": {
     "slide_type": "slide"
    }
   },
   "source": [
    "#Python comments\n",
    "##From Python \"PEP8\" http://legacy.python.org/dev/peps/pep-0008:\n",
    "\n",
    "- ##Comments that contradict the code are worse than no comments. \n",
    "- ##Comments should be complete sentences. \n",
    "- ##If a comment is short, the period at the end can be omitted. \n",
    "- ##When writing English, Strunk and White apply."
   ]
  },
  {
   "cell_type": "code",
   "execution_count": 1,
   "metadata": {
    "collapsed": false,
    "slideshow": {
     "slide_type": "slide"
    }
   },
   "outputs": [],
   "source": [
    "! echo \"Hello Chris\" > out.txt"
   ]
  },
  {
   "cell_type": "code",
   "execution_count": 2,
   "metadata": {
    "collapsed": false,
    "slideshow": {
     "slide_type": "fragment"
    }
   },
   "outputs": [],
   "source": [
    "#open a text file and print line list to screen\n",
    "def printFile(filename=\"default.txt\"):\n",
    "    file = open(filename,'r')\n",
    "    print file.readlines()"
   ]
  },
  {
   "cell_type": "code",
   "execution_count": 3,
   "metadata": {
    "collapsed": false,
    "slideshow": {
     "slide_type": "fragment"
    }
   },
   "outputs": [
    {
     "name": "stdout",
     "output_type": "stream",
     "text": [
      "['Hello Chris\\n']\n"
     ]
    }
   ],
   "source": [
    "printFile(\"out.txt\")"
   ]
  },
  {
   "cell_type": "code",
   "execution_count": 4,
   "metadata": {
    "collapsed": false,
    "slideshow": {
     "slide_type": "fragment"
    }
   },
   "outputs": [
    {
     "name": "stdout",
     "output_type": "stream",
     "text": [
      "Help on function printFile in module __main__:\n",
      "\n",
      "printFile(filename='default.txt')\n",
      "    #open a text file and print line list to screen\n",
      "\n"
     ]
    }
   ],
   "source": [
    "help(printFile)"
   ]
  },
  {
   "cell_type": "code",
   "execution_count": 5,
   "metadata": {
    "collapsed": false,
    "slideshow": {
     "slide_type": "slide"
    }
   },
   "outputs": [],
   "source": [
    "def printFile(filename=\"default.txt\"):\n",
    "    \"\"\"\n",
    "    Open a text file and print line list to screen\n",
    "    \"\"\"\n",
    "    file = open(filename,'r')\n",
    "    print file.readlines()"
   ]
  },
  {
   "cell_type": "code",
   "execution_count": 6,
   "metadata": {
    "collapsed": false,
    "slideshow": {
     "slide_type": "fragment"
    }
   },
   "outputs": [
    {
     "name": "stdout",
     "output_type": "stream",
     "text": [
      "Help on function printFile in module __main__:\n",
      "\n",
      "printFile(filename='default.txt')\n",
      "    Open a text file and print line list to screen\n",
      "\n"
     ]
    }
   ],
   "source": [
    "help(printFile)"
   ]
  },
  {
   "cell_type": "code",
   "execution_count": 7,
   "metadata": {
    "collapsed": false,
    "slideshow": {
     "slide_type": "fragment"
    }
   },
   "outputs": [
    {
     "name": "stdout",
     "output_type": "stream",
     "text": [
      "Help on function printFile in module __main__:\n",
      "\n",
      "printFile(filename='default.txt')\n",
      "    Open a text file and print line list to screen\n",
      "\n"
     ]
    }
   ],
   "source": [
    "help(printFile)"
   ]
  }
 ],
 "metadata": {
  "kernelspec": {
   "display_name": "Python 2",
   "language": "python",
   "name": "python2"
  },
  "language_info": {
   "codemirror_mode": {
    "name": "ipython",
    "version": 2
   },
   "file_extension": ".py",
   "mimetype": "text/x-python",
   "name": "python",
   "nbconvert_exporter": "python",
   "pygments_lexer": "ipython2",
   "version": "2.7.8"
  }
 },
 "nbformat": 4,
 "nbformat_minor": 0
}
