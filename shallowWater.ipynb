{
 "metadata": {
  "name": "shallowWater"
 },
 "nbformat": 3,
 "worksheets": [
  {
   "cells": [
    {
     "cell_type": "markdown",
     "source": [
      "#Interactive Proteus parallel example",
      "",
      "##Load IPython support for working with MPI tasks"
     ]
    },
    {
     "cell_type": "code",
     "collapsed": false,
     "input": [
      "from IPython.parallel import Client",
      "c = Client(profile=\"mpi\")",
      "view = c[:]",
      "%load_ext parallelmagic",
      "view.activate()"
     ],
     "language": "python",
     "outputs": [],
     "prompt_number": 3
    },
    {
     "cell_type": "markdown",
     "source": [
      "##Load interactive Proteus module, physics, and numerics on the MPI tasks and solve problem"
     ]
    },
    {
     "cell_type": "code",
     "collapsed": false,
     "input": [
      "%%px --block",
      "from proteus.iproteus import * ",
      "from proteus import default_n,default_s,default_so",
      "import sw_2d_p,sw_2d_n",
      "from proteus import Comm",
      "comm = Comm.get()",
      "nSteps = 101",
      "sw_2d_n.tnList = [i*sw_2d_p.T/float(nSteps-1) for i in range(nSteps)]",
      "pList = [sw_2d_p]",
      "nList = [sw_2d_n]",
      "so = default_so",
      "so.name = pList[0].name = \"sw_2d\"",
      "so.sList=[default_s]",
      "so.tnList = sw_2d_n.tnList",
      "nList[0].multilevelLinearSolver=default_n.KSP_petsc4py",
      "#opts.viewer='vtk'",
      "#viewers = Viewers.viewerOn(so.name+`comm.rank()`,opts.viewer)",
      "from petsc4py import PETSc",
      "OptDB = PETSc.Options()",
      "OptDB.setValue(\"ksp_type\",\"bcgsl\")",
      "OptDB.setValue(\"pc_type\",\"asm\")",
      "OptDB.setValue(\"pc_asm_type\",\"basic\")",
      "OptDB.setValue(\"sub_pc_type\",\"jacobi\")",
      "OptDB.setValue(\"ksp_rtol\",0.0)",
      "OptDB.setValue(\"ksp_atol\",1.0e-8)",
      "ns = NumericalSolution.NS_base(so,pList,nList,so.sList,opts)",
      "ns.calculateSolution('run1')",
      "x = ns.modelList[0].levelModelList[-1].mesh.nodeArray[:,0]",
      "y = ns.modelList[0].levelModelList[-1].mesh.nodeArray[:,1]",
      "triangles = ns.modelList[0].levelModelList[-1].mesh.elementNodesArray",
      "u = ns.modelList[0].levelModelList[-1].u[0].dof",
      "#if comm.isMaster():",
      "#    imageList = [window.png for window in viewers.windowDict.values()]",
      "#else:",
      "#    imageList = []"
     ],
     "language": "python",
     "outputs": [
      {
       "output_type": "stream",
       "stream": "stdout",
       "text": [
        "Parallel execution on engine(s): [0, 1, 2, 3]",
        "[stdout:0]"
       ]
      },
      {
       "output_type": "stream",
       "stream": "stdout",
       "text": [
        " sw_2d",
        "",
        "True",
        "SW2D init  0 0",
        "SW2D init  0 0",
        "SW2D init  1 22",
        "SW2D init  1 22",
        "SW2D init  2 11",
        "SW2D init  2 11",
        "2  nSpace_global",
        "1 0 1 1 0 1 1 0 1 1 0 1 1 0 1 1 0 1 1 0 1 1 0 1 1 0 1",
        "[stdout:1] sw_2d",
        "",
        "True",
        "SW2D init  0 0",
        "SW2D init  0 0",
        "SW2D init  1 23",
        "SW2D init  1 23",
        "SW2D init  2 32",
        "SW2D init  2 32",
        "2  nSpace_global",
        "1 0 1 1 0 1 1 0 1 1 0 1 1 0 1 1 0 1 1 0 1 1 0 1 1 0 1",
        "[stdout:2] sw_2d",
        "",
        "True",
        "SW2D init  0 0",
        "SW2D init  0 0",
        "SW2D init  1 22",
        "SW2D init  1 22",
        "SW2D init  2 33",
        "SW2D init  2 33",
        "2  nSpace_global",
        "1 0 1 1 0 1 1 0 1 1 0 1 1 0 1 1 0 1 1 0 1 1 0 1 1 0 1",
        "[stdout:3] sw_2d",
        "",
        "True",
        "SW2D init  0 0",
        "SW2D init  0 0",
        "SW2D init  1 21",
        "SW2D init  1 21",
        "SW2D init  2 11",
        "SW2D init  2 11",
        "2  nSpace_global",
        "1 0 1 1 0 1 1 0 1 1 0 1 1 0 1 1 0 1 1 0 1 1 0 1 1 0 1",
        ""
       ]
      }
     ],
     "prompt_number": 4
    },
    {
     "cell_type": "markdown",
     "source": [
      "##Combine subdomain solutions and plot"
     ]
    },
    {
     "cell_type": "code",
     "collapsed": false,
     "input": [
      "x = numpy.concatenate(view['x'])",
      "y = numpy.concatenate(view['y'])",
      "u = numpy.concatenate(view['u'])",
      "n0=0",
      "n1=n0+len(view['x'][0])",
      "n2=n1+len(view['x'][1])",
      "n3=n2+len(view['x'][2])",
      "triangles = numpy.concatenate((view['triangles'][0]+n0,",
      "                               view['triangles'][1]+n1,",
      "                               view['triangles'][2]+n2,",
      "                               view['triangles'][3]+n3))",
      "tricontourf(x,y,triangles,u)"
     ],
     "language": "python",
     "outputs": [
      {
       "output_type": "pyout",
       "prompt_number": 5,
       "text": [
        "<matplotlib.tri.tricontour.TriContourSet instance at 0x2e0b488>"
       ]
      },
      {
       "output_type": "display_data",
       "png": "[encoded data removed]"
      }
     ],
     "prompt_number": 5
    },
    {
     "cell_type": "code",
     "collapsed": false,
     "input": [
      "#print view['imageList']",
      "#png = view['imageList'][0][0]",
      "#print png"
     ],
     "language": "python",
     "outputs": [],
     "prompt_number": 6
    },
    {
     "cell_type": "code",
     "collapsed": false,
     "input": [
      "#from IPython.core.display import Image",
      "#Image(png,embed=True)"
     ],
     "language": "python",
     "outputs": [],
     "prompt_number": 7
    },
    {
     "cell_type": "code",
     "collapsed": true,
     "input": [
      ""
     ],
     "language": "python",
     "outputs": [],
     "prompt_number": 7
    }
   ]
  }
 ]
}