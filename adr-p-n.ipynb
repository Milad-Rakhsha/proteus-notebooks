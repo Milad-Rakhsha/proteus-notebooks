{
 "metadata": {
  "name": "adr-p-n"
 },
 "nbformat": 3,
 "worksheets": [
  {
   "cells": [
    {
     "cell_type": "markdown",
     "source": [
      "#Interactive Proteus parallel example",
      "",
      "##Load IPython support for working with MPI tasks"
     ]
    },
    {
     "cell_type": "code",
     "collapsed": false,
     "input": [
      "from IPython.parallel import Client",
      "c = Client(profile=\"mpi\")",
      "view = c[:]",
      "%load_ext parallelmagic",
      "view.activate()"
     ],
     "language": "python",
     "outputs": [],
     "prompt_number": 1
    },
    {
     "cell_type": "markdown",
     "source": [
      "##Load interactive Proteus module, physics, and numerics on the MPI tasks and solve problem"
     ]
    },
    {
     "cell_type": "code",
     "collapsed": false,
     "input": [
      "%%px --block",
      "from proteus.iproteus import * ",
      "from proteus import default_n as n",
      "from proteus import default_p as p",
      "from proteus import default_s,default_so",
      "from proteus.TransportCoefficients import *",
      "",
      "class LAD(TC_base):",
      "    \"\"\"",
      "    The coefficients of the linear advection-diffusion equation",
      "    \"\"\"",
      "    def __init__(self,M,A,B):",
      "        TC_base.__init__(self, ",
      "                         nc=1, #number of components",
      "                         variableNames=['u'],",
      "                         mass      = {0:{0:'linear'}},",
      "                         advection = {0:{0:'linear'}},",
      "                         diffusion = {0:{0:{0:'constant'}}},",
      "                         potential = {0:{0:'u'}},",
      "                         reaction  = {0:{0:'linear'}})",
      "        self.M=M;",
      "        self.A=A;",
      "        self.B=B;",
      "    ",
      "    def evaluate(self,t,c):",
      "        c[('m',0)][:]         = self.M*c[('u',0)]  ",
      "        c[('dm',0,0)][:]      = self.M",
      "        c[('f',0)][...,0]     = self.B[0]*c[('u',0)]",
      "        c[('f',0)][...,1]     = self.B[1]*c[('u',0)]",
      "        c[('df',0,0)][...,0]  = self.B[0]",
      "        c[('df',0,0)][...,1]  = self.B[1]",
      "        c[('a',0,0)][...,0,0] = self.A[0][0]",
      "        c[('a',0,0)][...,1,1] = self.A[1][1]",
      "",
      "#physics",
      "p.name = \"ladr_2d\"",
      "p.nd = 2; #Two dimensions",
      "p.L=(1.0,1.0,1.0); ",
      "p.T=1.0",
      "",
      "p.coefficients=LAD(M=1.0,",
      "                 A=[[0.001,0.0],",
      "                    [0.0,0.001]],",
      "                 B=[2.0,1.0])",
      "",
      "def getDBC(x,flag):",
      "    if x[0] == 0.0 or x[1] == 0.0:",
      "        return lambda x,t: 1.0",
      "    elif x[0] == 1.0 or x[1] == 1.0:",
      "        return lambda x,t: 0.0",
      "",
      "p.dirichletConditions = {0:getDBC}",
      "p.advectiveFluxBoundaryConditions = {}",
      "p.diffusiveFluxBoundaryConditions = {0:{}}",
      "p.periodicDirichletConditions = None",
      "class IC:",
      "    def __init__(self):",
      "        pass",
      "    def uOfXT(self,x,t):",
      "        if x[0] <= 0.0 or x[1] <= 0.0:",
      "            return 1.0",
      "        else:",
      "            return 0.0",
      "",
      "p.initialConditions  = {0:IC()}",
      "#numerics",
      "n.timeIntegration = n.BackwardEuler_cfl",
      "n.stepController = n.Min_dt_cfl_controller",
      "n.runCFL=1.0",
      "n.femSpaces = {0:n.C0_AffineLinearOnSimplexWithNodalBasis}",
      "n.elementQuadrature = n.SimplexGaussQuadrature(p.nd,3)",
      "n.elementBoundaryQuadrature = n.SimplexGaussQuadrature(p.nd-1,3)",
      "n.subgridError = n.AdvectionDiffusionReaction_ASGS(p.coefficients,p.nd,lag=False)",
      "n.shockCapturing = n.ResGradQuad_SC(p.coefficients,p.nd,",
      "                               shockCapturingFactor=0.99,",
      "                               lag=True)",
      "n.numericalFluxType = n.Advection_DiagonalUpwind_Diffusion_SIPG_exterior",
      "n.nnx=41; n.nny=41",
      "n.tnList=[float(i)/40.0 for i in range(11)]",
      "n.matrix = n.SparseMatrix",
      "n.multilevelLinearSolver = n.KSP_petsc4py",
      "n.linearSmoother = n.Jacobi",
      "n.l_atol_res = 1.0e-8",
      "n.parallelPartitioningType = n.MeshParallelPartitioningTypes.element",
      "n.nLayersOfOverlapForParallel = 1",
      "",
      "from proteus import Comm",
      "comm = Comm.get()",
      "pList = [p]",
      "nList = [n]",
      "so = default_so",
      "so.name = pList[0].name = \"ladr_2d\"",
      "so.sList=[default_s]",
      "so.tnList = n.tnList",
      "nList[0].multilevelLinearSolver=default_n.KSP_petsc4py",
      "#opts.viewer='vtk'",
      "#viewers = Viewers.viewerOn(so.name+`comm.rank()`,opts.viewer)",
      "ns = NumericalSolution.NS_base(so,pList,nList,so.sList,opts)",
      "ns.calculateSolution('run1')",
      "x = ns.modelList[0].levelModelList[-1].mesh.nodeArray[:,0]",
      "y = ns.modelList[0].levelModelList[-1].mesh.nodeArray[:,1]",
      "triangles = ns.modelList[0].levelModelList[-1].mesh.elementNodesArray",
      "u = ns.modelList[0].levelModelList[-1].u[0].dof",
      "#if comm.isMaster():",
      "#    imageList = [window.png for window in viewers.windowDict.values()]",
      "#else:",
      "#    imageList = []"
     ],
     "language": "python",
     "outputs": [
      {
       "ename": "CompositeError",
       "evalue": "one or more exceptions from call to method: execute\n[0:execute]: ValueError: The file 'ladr_2d0.h5' is already opened.  Please close it before reopening in write mode.\n[1:execute]: ValueError: The file 'ladr_2d0.h5' is already opened.  Please close it before reopening in write mode.\n[2:execute]: AttributeError: 'module' object has no attribute 'periodicDirichletConditions'\n[3:execute]: ValueError: The file 'ladr_2d0.h5' is already opened.  Please close it before reopening in write mode.",
       "output_type": "pyerr",
       "traceback": [
        "\u001b[0;31m---------------------------------------------------------------------------\u001b[0m\n\u001b[0;31mCompositeError\u001b[0m                            Traceback (most recent call last)",
        "\u001b[0;32m<ipython-input-6-a2c5705f078d>\u001b[0m in \u001b[0;36m<module>\u001b[0;34m()\u001b[0m\n\u001b[0;32m----> 1\u001b[0;31m \u001b[0mget_ipython\u001b[0m\u001b[0;34m(\u001b[0m\u001b[0;34m)\u001b[0m\u001b[0;34m.\u001b[0m\u001b[0m_run_cached_cell_magic\u001b[0m\u001b[0;34m(\u001b[0m\u001b[0;34mu'px'\u001b[0m\u001b[0;34m,\u001b[0m \u001b[0;34mu'--block'\u001b[0m\u001b[0;34m)\u001b[0m\u001b[0;34m\u001b[0m\u001b[0m\n\u001b[0m",
        "\u001b[0;32m/Users/cekees/proteus/darwinclang/Library/Frameworks/Python.framework/Versions/2.7/lib/python2.7/site-packages/IPython/core/interactiveshell.pyc\u001b[0m in \u001b[0;36m_run_cached_cell_magic\u001b[0;34m(self, magic_name, line)\u001b[0m\n\u001b[1;32m   2507\u001b[0m         \u001b[0mcell\u001b[0m \u001b[0;34m=\u001b[0m \u001b[0mself\u001b[0m\u001b[0;34m.\u001b[0m\u001b[0m_current_cell_magic_body\u001b[0m\u001b[0;34m\u001b[0m\u001b[0m\n\u001b[1;32m   2508\u001b[0m         \u001b[0mself\u001b[0m\u001b[0;34m.\u001b[0m\u001b[0m_current_cell_magic_body\u001b[0m \u001b[0;34m=\u001b[0m \u001b[0mNone\u001b[0m\u001b[0;34m\u001b[0m\u001b[0m\n\u001b[0;32m-> 2509\u001b[0;31m         \u001b[0;32mreturn\u001b[0m \u001b[0mself\u001b[0m\u001b[0;34m.\u001b[0m\u001b[0mrun_cell_magic\u001b[0m\u001b[0;34m(\u001b[0m\u001b[0mmagic_name\u001b[0m\u001b[0;34m,\u001b[0m \u001b[0mline\u001b[0m\u001b[0;34m,\u001b[0m \u001b[0mcell\u001b[0m\u001b[0;34m)\u001b[0m\u001b[0;34m\u001b[0m\u001b[0m\n\u001b[0m\u001b[1;32m   2510\u001b[0m \u001b[0;34m\u001b[0m\u001b[0m\n\u001b[1;32m   2511\u001b[0m     \u001b[0;32mdef\u001b[0m \u001b[0mrun_cell\u001b[0m\u001b[0;34m(\u001b[0m\u001b[0mself\u001b[0m\u001b[0;34m,\u001b[0m \u001b[0mraw_cell\u001b[0m\u001b[0;34m,\u001b[0m \u001b[0mstore_history\u001b[0m\u001b[0;34m=\u001b[0m\u001b[0mFalse\u001b[0m\u001b[0;34m,\u001b[0m \u001b[0msilent\u001b[0m\u001b[0;34m=\u001b[0m\u001b[0mFalse\u001b[0m\u001b[0;34m)\u001b[0m\u001b[0;34m:\u001b[0m\u001b[0;34m\u001b[0m\u001b[0m\n",
        "\u001b[0;32m/Users/cekees/proteus/darwinclang/Library/Frameworks/Python.framework/Versions/2.7/lib/python2.7/site-packages/IPython/core/interactiveshell.pyc\u001b[0m in \u001b[0;36mrun_cell_magic\u001b[0;34m(self, magic_name, line, cell)\u001b[0m\n\u001b[1;32m   2089\u001b[0m             \u001b[0mmagic_arg_s\u001b[0m \u001b[0;34m=\u001b[0m \u001b[0mself\u001b[0m\u001b[0;34m.\u001b[0m\u001b[0mvar_expand\u001b[0m\u001b[0;34m(\u001b[0m\u001b[0mline\u001b[0m\u001b[0;34m,\u001b[0m \u001b[0mstack_depth\u001b[0m\u001b[0;34m)\u001b[0m\u001b[0;34m\u001b[0m\u001b[0m\n\u001b[1;32m   2090\u001b[0m             \u001b[0;32mwith\u001b[0m \u001b[0mself\u001b[0m\u001b[0;34m.\u001b[0m\u001b[0mbuiltin_trap\u001b[0m\u001b[0;34m:\u001b[0m\u001b[0;34m\u001b[0m\u001b[0m\n\u001b[0;32m-> 2091\u001b[0;31m                 \u001b[0mresult\u001b[0m \u001b[0;34m=\u001b[0m \u001b[0mfn\u001b[0m\u001b[0;34m(\u001b[0m\u001b[0mline\u001b[0m\u001b[0;34m,\u001b[0m \u001b[0mcell\u001b[0m\u001b[0;34m)\u001b[0m\u001b[0;34m\u001b[0m\u001b[0m\n\u001b[0m\u001b[1;32m   2092\u001b[0m             \u001b[0;32mreturn\u001b[0m \u001b[0mresult\u001b[0m\u001b[0;34m\u001b[0m\u001b[0m\n\u001b[1;32m   2093\u001b[0m \u001b[0;34m\u001b[0m\u001b[0m\n",
        "\u001b[0;32m/Users/cekees/proteus/darwinclang/Library/Frameworks/Python.framework/Versions/2.7/lib/python2.7/site-packages/IPython/extensions/parallelmagic.pyc\u001b[0m in \u001b[0;36mcell_px\u001b[0;34m(self, line, cell)\u001b[0m\n",
        "\u001b[0;32m/Users/cekees/proteus/darwinclang/Library/Frameworks/Python.framework/Versions/2.7/lib/python2.7/site-packages/IPython/core/magic.pyc\u001b[0m in \u001b[0;36m<lambda>\u001b[0;34m(f, *a, **k)\u001b[0m\n\u001b[1;32m    188\u001b[0m     \u001b[0;31m# but it's overkill for just that one bit of state.\u001b[0m\u001b[0;34m\u001b[0m\u001b[0;34m\u001b[0m\u001b[0m\n\u001b[1;32m    189\u001b[0m     \u001b[0;32mdef\u001b[0m \u001b[0mmagic_deco\u001b[0m\u001b[0;34m(\u001b[0m\u001b[0marg\u001b[0m\u001b[0;34m)\u001b[0m\u001b[0;34m:\u001b[0m\u001b[0;34m\u001b[0m\u001b[0m\n\u001b[0;32m--> 190\u001b[0;31m         \u001b[0mcall\u001b[0m \u001b[0;34m=\u001b[0m \u001b[0;32mlambda\u001b[0m \u001b[0mf\u001b[0m\u001b[0;34m,\u001b[0m \u001b[0;34m*\u001b[0m\u001b[0ma\u001b[0m\u001b[0;34m,\u001b[0m \u001b[0;34m**\u001b[0m\u001b[0mk\u001b[0m\u001b[0;34m:\u001b[0m \u001b[0mf\u001b[0m\u001b[0;34m(\u001b[0m\u001b[0;34m*\u001b[0m\u001b[0ma\u001b[0m\u001b[0;34m,\u001b[0m \u001b[0;34m**\u001b[0m\u001b[0mk\u001b[0m\u001b[0;34m)\u001b[0m\u001b[0;34m\u001b[0m\u001b[0m\n\u001b[0m\u001b[1;32m    191\u001b[0m \u001b[0;34m\u001b[0m\u001b[0m\n\u001b[1;32m    192\u001b[0m         \u001b[0;32mif\u001b[0m \u001b[0mcallable\u001b[0m\u001b[0;34m(\u001b[0m\u001b[0marg\u001b[0m\u001b[0;34m)\u001b[0m\u001b[0;34m:\u001b[0m\u001b[0;34m\u001b[0m\u001b[0m\n",
        "\u001b[0;32m/Users/cekees/proteus/darwinclang/Library/Frameworks/Python.framework/Versions/2.7/lib/python2.7/site-packages/IPython/extensions/parallelmagic.pyc\u001b[0m in \u001b[0;36mcell_px\u001b[0;34m(self, line, cell)\u001b[0m\n\u001b[1;32m    203\u001b[0m             \u001b[0mblock\u001b[0m \u001b[0;34m=\u001b[0m \u001b[0mFalse\u001b[0m\u001b[0;34m\u001b[0m\u001b[0m\n\u001b[1;32m    204\u001b[0m \u001b[0;34m\u001b[0m\u001b[0m\n\u001b[0;32m--> 205\u001b[0;31m         \u001b[0;32mreturn\u001b[0m \u001b[0mself\u001b[0m\u001b[0;34m.\u001b[0m\u001b[0mparallel_execute\u001b[0m\u001b[0;34m(\u001b[0m\u001b[0mcell\u001b[0m\u001b[0;34m,\u001b[0m \u001b[0mblock\u001b[0m\u001b[0;34m=\u001b[0m\u001b[0mblock\u001b[0m\u001b[0;34m,\u001b[0m \u001b[0mgroupby\u001b[0m\u001b[0;34m=\u001b[0m\u001b[0mgroupby\u001b[0m\u001b[0;34m)\u001b[0m\u001b[0;34m\u001b[0m\u001b[0m\n\u001b[0m\u001b[1;32m    206\u001b[0m \u001b[0;34m\u001b[0m\u001b[0m\n\u001b[1;32m    207\u001b[0m     \u001b[0;34m@\u001b[0m\u001b[0mskip_doctest\u001b[0m\u001b[0;34m\u001b[0m\u001b[0m\n",
        "\u001b[0;32m/Users/cekees/proteus/darwinclang/Library/Frameworks/Python.framework/Versions/2.7/lib/python2.7/site-packages/IPython/extensions/parallelmagic.pyc\u001b[0m in \u001b[0;36mparallel_execute\u001b[0;34m(self, cell, block, groupby)\u001b[0m\n\u001b[1;32m    133\u001b[0m         \u001b[0mresult\u001b[0m \u001b[0;34m=\u001b[0m \u001b[0mself\u001b[0m\u001b[0;34m.\u001b[0m\u001b[0mactive_view\u001b[0m\u001b[0;34m.\u001b[0m\u001b[0mexecute\u001b[0m\u001b[0;34m(\u001b[0m\u001b[0mcell\u001b[0m\u001b[0;34m,\u001b[0m \u001b[0msilent\u001b[0m\u001b[0;34m=\u001b[0m\u001b[0mFalse\u001b[0m\u001b[0;34m,\u001b[0m \u001b[0mblock\u001b[0m\u001b[0;34m=\u001b[0m\u001b[0mFalse\u001b[0m\u001b[0;34m)\u001b[0m\u001b[0;34m\u001b[0m\u001b[0m\n\u001b[1;32m    134\u001b[0m         \u001b[0;32mif\u001b[0m \u001b[0mblock\u001b[0m\u001b[0;34m:\u001b[0m\u001b[0;34m\u001b[0m\u001b[0m\n\u001b[0;32m--> 135\u001b[0;31m             \u001b[0mresult\u001b[0m\u001b[0;34m.\u001b[0m\u001b[0mget\u001b[0m\u001b[0;34m(\u001b[0m\u001b[0;34m)\u001b[0m\u001b[0;34m\u001b[0m\u001b[0m\n\u001b[0m\u001b[1;32m    136\u001b[0m             \u001b[0mresult\u001b[0m\u001b[0;34m.\u001b[0m\u001b[0mdisplay_outputs\u001b[0m\u001b[0;34m(\u001b[0m\u001b[0mgroupby\u001b[0m\u001b[0;34m)\u001b[0m\u001b[0;34m\u001b[0m\u001b[0m\n\u001b[1;32m    137\u001b[0m         \u001b[0;32melse\u001b[0m\u001b[0;34m:\u001b[0m\u001b[0;34m\u001b[0m\u001b[0m\n",
        "\u001b[0;32m/Users/cekees/proteus/darwinclang/Library/Frameworks/Python.framework/Versions/2.7/lib/python2.7/site-packages/IPython/parallel/client/asyncresult.pyc\u001b[0m in \u001b[0;36mget\u001b[0;34m(self, timeout)\u001b[0m\n\u001b[1;32m    118\u001b[0m                 \u001b[0;32mreturn\u001b[0m \u001b[0mself\u001b[0m\u001b[0;34m.\u001b[0m\u001b[0m_result\u001b[0m\u001b[0;34m\u001b[0m\u001b[0m\n\u001b[1;32m    119\u001b[0m             \u001b[0;32melse\u001b[0m\u001b[0;34m:\u001b[0m\u001b[0;34m\u001b[0m\u001b[0m\n\u001b[0;32m--> 120\u001b[0;31m                 \u001b[0;32mraise\u001b[0m \u001b[0mself\u001b[0m\u001b[0;34m.\u001b[0m\u001b[0m_exception\u001b[0m\u001b[0;34m\u001b[0m\u001b[0m\n\u001b[0m\u001b[1;32m    121\u001b[0m         \u001b[0;32melse\u001b[0m\u001b[0;34m:\u001b[0m\u001b[0;34m\u001b[0m\u001b[0m\n\u001b[1;32m    122\u001b[0m             \u001b[0;32mraise\u001b[0m \u001b[0merror\u001b[0m\u001b[0;34m.\u001b[0m\u001b[0mTimeoutError\u001b[0m\u001b[0;34m(\u001b[0m\u001b[0;34m\"Result not ready.\"\u001b[0m\u001b[0;34m)\u001b[0m\u001b[0;34m\u001b[0m\u001b[0m\n",
        "\u001b[0;31mCompositeError\u001b[0m: one or more exceptions from call to method: execute\n[0:execute]: ValueError: The file 'ladr_2d0.h5' is already opened.  Please close it before reopening in write mode.\n[1:execute]: ValueError: The file 'ladr_2d0.h5' is already opened.  Please close it before reopening in write mode.\n[2:execute]: AttributeError: 'module' object has no attribute 'periodicDirichletConditions'\n[3:execute]: ValueError: The file 'ladr_2d0.h5' is already opened.  Please close it before reopening in write mode."
       ]
      },
      {
       "output_type": "stream",
       "stream": "stdout",
       "text": [
        "Parallel execution on engine(s): [0, 1, 2, 3]",
        ""
       ]
      }
     ],
     "prompt_number": 6
    },
    {
     "cell_type": "markdown",
     "source": [
      "##Combine subdomain solutions and plot"
     ]
    },
    {
     "cell_type": "code",
     "collapsed": false,
     "input": [
      "x = numpy.concatenate(view['x'])",
      "y = numpy.concatenate(view['y'])",
      "u = numpy.concatenate(view['u'])",
      "n0=0",
      "n1=n0+len(view['x'][0])",
      "n2=n1+len(view['x'][1])",
      "n3=n2+len(view['x'][2])",
      "triangles = numpy.concatenate((view['triangles'][0]+n0,",
      "                               view['triangles'][1]+n1,",
      "                               view['triangles'][2]+n2,",
      "                               view['triangles'][3]+n3))",
      "tricontourf(x,y,triangles,u)"
     ],
     "language": "python",
     "outputs": []
    },
    {
     "cell_type": "code",
     "collapsed": false,
     "input": [
      "#print view['imageList']",
      "#png = view['imageList'][0][0]",
      "#print png"
     ],
     "language": "python",
     "outputs": []
    },
    {
     "cell_type": "code",
     "collapsed": false,
     "input": [
      "#from IPython.core.display import Image",
      "#Image(png,embed=True)"
     ],
     "language": "python",
     "outputs": []
    },
    {
     "cell_type": "code",
     "collapsed": true,
     "input": [
      ""
     ],
     "language": "python",
     "outputs": []
    }
   ]
  }
 ]
}