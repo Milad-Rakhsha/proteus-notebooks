{
 "metadata": {
  "name": "adr-p-n"
 },
 "nbformat": 3,
 "nbformat_minor": 0,
 "worksheets": [
  {
   "cells": [
    {
     "cell_type": "markdown",
     "metadata": {},
     "source": [
      "#Interactive Proteus parallel example\n",
      "\n",
      "##Load IPython support for working with MPI tasks"
     ]
    },
    {
     "cell_type": "code",
     "collapsed": false,
     "input": [
      "from IPython.parallel import Client\n",
      "c = Client(profile=\"mpi\")\n",
      "view = c[:]\n",
      "%load_ext parallelmagic\n",
      "view.activate()"
     ],
     "language": "python",
     "metadata": {},
     "outputs": [],
     "prompt_number": 1
    },
    {
     "cell_type": "markdown",
     "metadata": {},
     "source": [
      "##Load interactive Proteus module, physics, and numerics on the MPI tasks and solve problem"
     ]
    },
    {
     "cell_type": "code",
     "collapsed": false,
     "input": [
      "%%px --block\n",
      "from proteus.iproteus import * \n",
      "from proteus import default_n as n\n",
      "from proteus import default_p as p\n",
      "from proteus import default_s,default_so\n",
      "from proteus.TransportCoefficients import *\n",
      "\n",
      "class LAD(TC_base):\n",
      "    \"\"\"\n",
      "    The coefficients of the linear advection-diffusion equation\n",
      "    \"\"\"\n",
      "    def __init__(self,M,A,B):\n",
      "        TC_base.__init__(self, \n",
      "                         nc=1, #number of components\n",
      "                         variableNames=['u'],\n",
      "                         mass      = {0:{0:'linear'}},\n",
      "                         advection = {0:{0:'linear'}},\n",
      "                         diffusion = {0:{0:{0:'constant'}}},\n",
      "                         potential = {0:{0:'u'}},\n",
      "                         reaction  = {0:{0:'linear'}})\n",
      "        self.M=M;\n",
      "        self.A=A;\n",
      "        self.B=B;\n",
      "    \n",
      "    def evaluate(self,t,c):\n",
      "        c[('m',0)][:]         = self.M*c[('u',0)]  \n",
      "        c[('dm',0,0)][:]      = self.M\n",
      "        c[('f',0)][...,0]     = self.B[0]*c[('u',0)]\n",
      "        c[('f',0)][...,1]     = self.B[1]*c[('u',0)]\n",
      "        c[('df',0,0)][...,0]  = self.B[0]\n",
      "        c[('df',0,0)][...,1]  = self.B[1]\n",
      "        c[('a',0,0)][...,0,0] = self.A[0][0]\n",
      "        c[('a',0,0)][...,1,1] = self.A[1][1]\n",
      "\n",
      "#physics\n",
      "p.name = \"ladr_2d\"\n",
      "p.nd = 2; #Two dimensions\n",
      "p.L=(1.0,1.0,1.0); \n",
      "p.T=1.0\n",
      "\n",
      "p.coefficients=LAD(M=1.0,\n",
      "                 A=[[0.001,0.0],\n",
      "                    [0.0,0.001]],\n",
      "                 B=[2.0,1.0])\n",
      "\n",
      "def getDBC(x,flag):\n",
      "    if x[0] == 0.0 or x[1] == 0.0:\n",
      "        return lambda x,t: 1.0\n",
      "    elif x[0] == 1.0 or x[1] == 1.0:\n",
      "        return lambda x,t: 0.0\n",
      "\n",
      "p.dirichletConditions = {0:getDBC}\n",
      "p.advectiveFluxBoundaryConditions = {}\n",
      "p.diffusiveFluxBoundaryConditions = {0:{}}\n",
      "p.periodicDirichletConditions = None\n",
      "class IC:\n",
      "    def __init__(self):\n",
      "        pass\n",
      "    def uOfXT(self,x,t):\n",
      "        if x[0] <= 0.0 or x[1] <= 0.0:\n",
      "            return 1.0\n",
      "        else:\n",
      "            return 0.0\n",
      "\n",
      "p.initialConditions  = {0:IC()}\n",
      "#numerics\n",
      "n.timeIntegration = n.BackwardEuler_cfl\n",
      "n.stepController = n.Min_dt_cfl_controller\n",
      "n.runCFL=1.0\n",
      "n.femSpaces = {0:n.C0_AffineLinearOnSimplexWithNodalBasis}\n",
      "n.elementQuadrature = n.SimplexGaussQuadrature(p.nd,3)\n",
      "n.elementBoundaryQuadrature = n.SimplexGaussQuadrature(p.nd-1,3)\n",
      "n.subgridError = n.AdvectionDiffusionReaction_ASGS(p.coefficients,p.nd,lag=False)\n",
      "n.shockCapturing = n.ResGradQuad_SC(p.coefficients,p.nd,\n",
      "                               shockCapturingFactor=0.99,\n",
      "                               lag=True)\n",
      "n.numericalFluxType = n.Advection_DiagonalUpwind_Diffusion_SIPG_exterior\n",
      "n.nnx=41; n.nny=41\n",
      "n.tnList=[float(i)/40.0 for i in range(11)]\n",
      "n.matrix = n.SparseMatrix\n",
      "n.multilevelLinearSolver = n.KSP_petsc4py\n",
      "n.linearSmoother = n.Jacobi\n",
      "n.l_atol_res = 1.0e-8\n",
      "n.parallelPartitioningType = n.MeshParallelPartitioningTypes.element\n",
      "n.nLayersOfOverlapForParallel = 1\n",
      "n.periodicDirichletConditions = None\n",
      "\n",
      "from proteus import Comm\n",
      "comm = Comm.get()\n",
      "pList = [p]\n",
      "nList = [n]\n",
      "so = default_so\n",
      "so.name = pList[0].name = \"ladr_2d\"\n",
      "so.sList=[default_s]\n",
      "so.tnList = n.tnList\n",
      "nList[0].multilevelLinearSolver=default_n.KSP_petsc4py\n",
      "#opts.viewer='vtk'\n",
      "#viewers = Viewers.viewerOn(so.name+`comm.rank()`,opts.viewer)\n",
      "ns = NumericalSolution.NS_base(so,pList,nList,so.sList,opts)\n",
      "ns.calculateSolution('run1')\n",
      "x = ns.modelList[0].levelModelList[-1].mesh.nodeArray[:,0]\n",
      "y = ns.modelList[0].levelModelList[-1].mesh.nodeArray[:,1]\n",
      "triangles = ns.modelList[0].levelModelList[-1].mesh.elementNodesArray\n",
      "u = ns.modelList[0].levelModelList[-1].u[0].dof\n",
      "n = len(x)\n",
      "#if comm.isMaster():\n",
      "#    imageList = [window.png for window in viewers.windowDict.values()]\n",
      "#else:\n",
      "#    imageList = []"
     ],
     "language": "python",
     "metadata": {},
     "outputs": [
      {
       "output_type": "stream",
       "stream": "stdout",
       "text": [
        "[stdout:0] \n",
        "ladr_2d\n",
        "\n",
        "True\n",
        "1 0 1\n",
        "[stdout:1] \n",
        "ladr_2d\n",
        "\n",
        "True\n",
        "1 0 1\n",
        "[stdout:2] \n",
        "ladr_2d\n",
        "\n",
        "True\n",
        "1 0 1\n",
        "[stdout:3] \n",
        "ladr_2d\n",
        "\n",
        "True\n",
        "1 0 1\n"
       ]
      }
     ],
     "prompt_number": 2
    },
    {
     "cell_type": "markdown",
     "metadata": {},
     "source": [
      "##Combine subdomain solutions and plot"
     ]
    },
    {
     "cell_type": "code",
     "collapsed": false,
     "input": [
      "x = numpy.concatenate(view['x'])\n",
      "y = numpy.concatenate(view['y'])\n",
      "u = numpy.concatenate(view['u'])\n",
      "n0=0\n",
      "n1=n0+len(view['x'][0])\n",
      "n2=n1+len(view['x'][1])\n",
      "n3=n2+len(view['x'][2])\n",
      "triangles = numpy.concatenate((view['triangles'][0]+n0,\n",
      "                               view['triangles'][1]+n1,\n",
      "                               view['triangles'][2]+n2,\n",
      "                               view['triangles'][3]+n3))\n",
      "tricontourf(x,y,triangles,u)"
     ],
     "language": "python",
     "metadata": {},
     "outputs": [
      {
       "output_type": "pyout",
       "prompt_number": 3,
       "text": [
        "<matplotlib.tri.tricontour.TriContourSet instance at 0x2d50f80>"
       ]
      },
      {
       "output_type": "display_data",
       "png": "[encoded data removed]",
       "text": [
        "<matplotlib.figure.Figure at 0x2c8c790>"
       ]
      }
     ],
     "prompt_number": 3
    },
    {
     "cell_type": "code",
     "collapsed": false,
     "input": [],
     "language": "python",
     "metadata": {},
     "outputs": [],
     "prompt_number": 3
    }
   ],
   "metadata": {}
  }
 ]
}