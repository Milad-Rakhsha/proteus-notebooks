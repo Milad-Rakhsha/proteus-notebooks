{
 "metadata": {
  "name": "",
  "signature": "sha256:06e30f2cc5368b564c141a57ac175d23d8cecd8441dbcbc87199c862634acb3e"
 },
 "nbformat": 3,
 "nbformat_minor": 0,
 "worksheets": [
  {
   "cells": [
    {
     "cell_type": "markdown",
     "metadata": {},
     "source": [
      "#AdH SUPG formulation\n",
      "Here, I'll try to document the essential features of the SUPG approach taken in AdH"
     ]
    },
    {
     "cell_type": "markdown",
     "metadata": {},
     "source": [
      "#Formulation\n",
      "Following [Berger and Stockstill, 1995], we consider the shallow water equations  variables \n",
      "\n",
      "\\begin{align}\n",
      "\\vec U_t + \\frac{\\partial \\vec F}{\\partial x} + \\frac{\\partial \\vec G}{\\partial y} + \\vec H = 0 \n",
      "\\end{align}\n",
      "written in terms of the conservation variables\n",
      "\\begin{align}\n",
      "\\vec U = [h, p, q]^t = [h,hu,hv]^t\n",
      "\\end{align}\n",
      "where $h$ is the water depth above a bottom elevation, $z$, $u$ is the velocity in the $x$ direction, and $y$ is the velocity in the $y$ direction. $p$ and $q$ are the corresponding discharges.\n",
      "The flux vectors are\n",
      "\\begin{align}\n",
      "\\vec F &= \n",
      "\\begin{array}{|c|}\n",
      "p \\\\\n",
      "\\frac{p^2}{h} + \\frac{1}{2}gh^2 -\\frac{h\\sigma_{xx} }{\\rho} \\\\\n",
      "\\frac{pq}{h} -\\frac{h\\sigma_{yx}}{\\rho}\n",
      "\\end{array}\n",
      "\\end{align}\n",
      "and \n",
      "\\begin{align}\n",
      "\\vec G &= \n",
      "\\begin{array}{|c|}\n",
      "q \\\\\n",
      "\\frac{pq}{h} -\\frac{h\\sigma_{xy}}{\\rho} \\\\\n",
      "\\frac{q^2}{h} + \\frac{1}{2}gh^2 -\\frac{h\\sigma_{yy} }{\\rho} \n",
      "\\end{array}\n",
      "\\end{align}\n",
      "Here $g$ is the gravitational acceleration constant, $\\rho$ is the fluid density (constant), and $\\mathbf{\\sigma}$ represents the Reynolds stresses due to turbulence which are written using a Boussinesq approximation as\n",
      "\\begin{align}\n",
      "\\sigma_{xx} &= 2\\rho \\nu \\frac{\\partial u}{\\partial x}, \\sigma_{yx}=\\sigma_{xy} = \\rho\\nu\\left(\\frac{\\partial u}{\\partial y}+ \\frac{\\partial v}{\\partial x}\\right), \\mbox{ and } \\sigma_{yy} = 2 \\rho\\nu\\frac{\\partial v}{\\partial y}\n",
      "\\end{align}\n",
      "where $\\nu$ is the kinematic eddy viscosity.\n",
      "The source term $\\vec H$ is\n",
      "\\begin{align}\n",
      "\\vec H &= \n",
      "\\begin{array}{|c|}\n",
      "-s_r \\\\\n",
      "gh\\frac{\\partial z}{\\partial x} + gp \\frac{n^2(q^2+q^2)^{1/2}}{C_0^2h^{7/3}} \\\\\n",
      "gh\\frac{\\partial z}{\\partial y} + gq \\frac{n^2(q^2+q^2)^{1/2}}{C_0^2h^{7/3}}\n",
      "\\end{array}\n",
      "\\end{align}\n",
      "where $s_r$ is a rainfall rate, $n$ is Manning's roughness coefficient, and $C_0$ is a conversion coefficient (1.0 [m] or 1.486 [ft])."
     ]
    },
    {
     "cell_type": "markdown",
     "metadata": {},
     "source": [
      "#Galerkin approximation\n",
      "\n",
      "AdH is implemented in terms of the primitive variables $h$, $u$, and $v$. It also assumes that the 'grid-scale' test and trial functions are taken from the space $W_h$ of nodal, piecewise linear functions defined on triangles. To be concrete, we start with a simple Galerkin procedure. We multiply each equation in the SW2D system by a test function $w \\in W_h$ and integrate by parts and ignore boundary integrals, we get the problem: find $h$,$u$, and $v \\in V_h=W_h$ such that\n",
      "\n",
      "##Continuity\n",
      "\\begin{align}\n",
      "(h_t,w)_{\\Omega} - (h u,w_x)_{\\Omega} - (h v, w_y)_{\\Omega} - (s_r,w)_{\\Omega}  &= 0\n",
      "\\end{align}\n",
      "\n",
      "##$x$-momentum\n",
      "\\begin{align}\n",
      "\\left((hu)_t,w\\right)_{\\Omega} - \\left(hu^2 + \\frac{1}{2}gh^2,w_x\\right)_{\\Omega} - \\left(huv,w_y\\right)_{\\Omega} + \\left(2h\\nu u_x,w_x\\right)_{\\Omega}  + \\left(h\\nu(u_y+u_x),w_y\\right) + \\left(ghz_x,w\\right)_{\\Omega} \n",
      "&= 0\n",
      "\\end{align}\n",
      "\n",
      "##$y$-momentum\n",
      "\\begin{align}\n",
      "\\left((hv)_t,w\\right)_{\\Omega} - \\left(hv^2 + \\frac{1}{2}gh^2,w_y\\right)_{\\Omega} - \\left(hvu,w_x\\right)_{\\Omega} + \\left(2h\\nu u_y,w_y\\right)_{\\Omega}  + \\left(h\\nu(u_y+u_x),w_x\\right) + \\left(ghz_y,w\\right)_{\\Omega} &= 0\n",
      "\\end{align}\n",
      "for all $w \\in W_h$,\n",
      "where for brevity I've switched to the subscript notation $u_{x}$ to represent partial differentiation and \n",
      "\\begin{align}\n",
      "(a,b)_{\\Omega} &= \\int_{\\Omega}a b \\; \\mathrm{d}\\Omega\n",
      "\\end{align}\n",
      "In the following, the integration domain for $(a,b)$ will be understood to be $\\Omega$ unless specified explicitly.\n",
      "\n",
      "#Stabilized approximation\n",
      "AdH uses a Petrov-Galerkin (SUPG) approximation. [Berger and Stockstill, 1995] write the modified nodal test functions as \n",
      "\\begin{align}\n",
      "\\mathbf{w}^{\\ast}_i &= w_{i}\\mathbf{I} +\\alpha\\left(\\Delta x w_{i,x}\\mathbf{\\hat{A}} + \\Delta yw_{i,y}\\mathbf{\\hat{B}}\\right)\n",
      "\\end{align}\n",
      "where $w_i$ is the standard, scalar piecewise linear shape function associated with node $i$, $\\alpha \\in [0,0.5]$, and \n",
      "\\begin{align}\n",
      "\\Delta x &= 2\\left(x_{\\xi}^2 + x_{\\eta}^2\\right), \\\\\n",
      "\\Delta y &= 2\\left(y_{\\xi}^2 + y_{\\eta}^2\\right), \\\\\n",
      "\\end{align}\n",
      "Here $x_{\\xi},y_{\\xi}$ and $x_{\\eta},y_{\\eta}$ are the Jacobian terms from the mapping between the reference and physical elements.\n",
      "\n",
      "To define $\\mathbf{\\hat{A}}$ and $\\mathbf{\\hat{B}}$, [Berger and Stockstill, 1995] diagonalize the Euler Jacobians $\\mathbf{A} = \\vec F_{\\vec U} = \\partial \\vec F/\\partial \\vec U$ and $\\mathbf{B} = \\vec {G}_{\\vec U}=\\partial \\vec G/\\partial \\vec U$ as\n",
      "\\begin{align}\n",
      "\\mathbf{A} &= \\mathbf{S}^{x,-1}\\mathbf{\\Lambda}^x\\mathbf{S}^x, \\; \\mbox{ and } \\\\\n",
      "\\mathbf{B} &= \\mathbf{S}^{y,-1}\\mathbf{\\Lambda}^y\\mathbf{S}^y \n",
      "\\end{align}\n",
      "and define $\\mathbf{\\hat{A}}$ and $\\mathbf{\\hat{B}}$ as\n",
      "\\begin{align}\n",
      "\\mathbf{\\hat{A}} &= \\mathbf{S}^{x,-1}\\mathbf{\\hat{\\Lambda}}^x\\mathbf{S}^x, \\; \\mbox{ and } \\\\\n",
      "\\mathbf{\\hat{B}} &= \\mathbf{S}^{y,-1}\\mathbf{\\hat{\\Lambda}}^y\\mathbf{S}^y \n",
      "\\end{align}\n",
      "where $\\mathbf{\\hat{\\Lambda}}^x$ is\n",
      "\\begin{align}\n",
      "\\begin{array}{|ccc|}\n",
      "\\frac{\\lambda_1}{\\left(\\lambda_1^2 + v^2\\right)^{1/2}} & 0 & 0 \\\\\n",
      "0 &\\frac{\\lambda_2}{\\left(\\lambda_2^2 + v^2\\right)^{1/2}} & 0  \\\\\n",
      "0 & 0 & \\frac{\\lambda_3}{\\left(\\lambda_3^2 + v^2\\right)^{1/2}}\n",
      "\\end{array}\n",
      "\\end{align}\n",
      "with \n",
      "$\\lambda_1, \\lambda_2 = u \\pm c$, $\\lambda_3=u$ and $c=\\sqrt{gh}$. Similarly,\n",
      "$\\mathbf{\\hat{\\Lambda}}^y$ is\n",
      "\\begin{align}\n",
      "\\begin{array}{|ccc|}\n",
      "\\frac{\\gamma_1}{\\left(\\gamma_1^2 + u^2\\right)^{1/2}} & 0 & 0 \\\\\n",
      "0 &\\frac{\\gamma_2}{\\left(\\gamma_2^2 + u^2\\right)^{1/2}} & 0  \\\\\n",
      "0 & 0 & \\frac{\\gamma_3}{\\left(\\gamma_3^2 + u^2\\right)^{1/2}}\n",
      "\\end{array}\n",
      "\\end{align}\n",
      "with \n",
      "$\\gamma_1, \\gamma_2 = v \\pm c$, and $\\gamma_3=u$. \n",
      "\n",
      "The notation in [Berger and Stockstill, 1995] is a little different than I'm used to using, but they write the final residual as\n",
      "\n",
      "\\begin{align}\n",
      "\\sum_{e}\\left[\\int_{\\Omega_e}\\left(\\mathbf{w}^{\\ast}_i\\vec U_{t} - w_{i,x}\\vec F\n",
      "-w_{i,y}\\vec G + \\mathbf{w}^{'}_i\\mathbf{A}\\vec U_{x} + \\mathbf{w}^{'}_i\\mathbf{B}\\vec U_{y} + \\mathbf{w}^{\\ast}_i\\vec H\\right)\\mathrm{d}\\Omega_e + \\oint_{\\Gamma_e}w_i\\left(\\vec Fn^x + \\vec Gn^y\\right)\\mathrm{d}\\Gamma_e\\right] = 0\n",
      "\\end{align}\n",
      "where $\\vec n = [n^x,n^y]$ is the unit outer normal on $\\Gamma_e$ and\n",
      "\\begin{align}\n",
      "\\mathbf{w}^{'}_i &= \\alpha\\left(\\Delta x w_{i,x}\\mathbf{\\hat{A}} + \\Delta y w_{i,y}\\mathbf{\\hat{B}}\\right)\n",
      "\\end{align}"
     ]
    },
    {
     "cell_type": "markdown",
     "metadata": {},
     "source": [
      "#Revisiting [Berger and Stockstill, 1995]\n",
      "Using sympy, I'll go through and check some of the calculations and definitions in   [Berger and Stockstill, 1995]\n",
      "\n",
      "Setting up the variables and fluxes"
     ]
    },
    {
     "cell_type": "code",
     "collapsed": false,
     "input": [
      "from sympy import *\n",
      "init_printing()\n",
      "h,u,v,p,q,g,c,a = symbols('h,u,v,p,q,g,c,a')"
     ],
     "language": "python",
     "metadata": {},
     "outputs": []
    },
    {
     "cell_type": "code",
     "collapsed": false,
     "input": [
      "U = Matrix([h,p,q])\n",
      "F = Matrix([p,p**2/h + g*h**2/2,p*q/h])\n",
      "G = Matrix([q,p*q/h,q**2/h + g*h**2/2])\n",
      "U,F,G"
     ],
     "language": "python",
     "metadata": {},
     "outputs": []
    },
    {
     "cell_type": "markdown",
     "metadata": {},
     "source": [
      "Define the Euler Jacobians"
     ]
    },
    {
     "cell_type": "code",
     "collapsed": false,
     "input": [
      "A = simplify(F.jacobian(U))\n",
      "B = simplify(G.jacobian(U))\n",
      "A,B"
     ],
     "language": "python",
     "metadata": {},
     "outputs": []
    },
    {
     "cell_type": "markdown",
     "metadata": {},
     "source": [
      "Or, in terms of $h,u,v$"
     ]
    },
    {
     "cell_type": "code",
     "collapsed": false,
     "input": [
      "A_prim=simplify(A.subs(p,h*u).subs(q,h*v))\n",
      "B_prim=simplify(B.subs(p,h*u).subs(q,h*v))\n",
      "A_prim,B_prim"
     ],
     "language": "python",
     "metadata": {},
     "outputs": []
    },
    {
     "cell_type": "markdown",
     "metadata": {},
     "source": [
      "Now, calulate the eigenvalues and eigenvectors for the Euler Jacobians"
     ]
    },
    {
     "cell_type": "code",
     "collapsed": false,
     "input": [
      "EA = A.eigenvects(simplify=True)\n",
      "EA"
     ],
     "language": "python",
     "metadata": {},
     "outputs": []
    },
    {
     "cell_type": "markdown",
     "metadata": {},
     "source": [
      "eigenvects returns triples of the eigenvalue, multiplicity and the eigenvector. Let's extract the eigenvalues and simplify"
     ]
    },
    {
     "cell_type": "code",
     "collapsed": false,
     "input": [
      "lambdaA=[EA[0][0],EA[1][0],EA[2][0]]\n",
      "lambdaA=[simplify(ea.subs(p,h*u).subs(sqrt(g*h**5),h**2*c)) for ea in lambdaA]\n",
      "lambdaA"
     ],
     "language": "python",
     "metadata": {},
     "outputs": []
    },
    {
     "cell_type": "code",
     "collapsed": false,
     "input": [],
     "language": "python",
     "metadata": {},
     "outputs": []
    },
    {
     "cell_type": "markdown",
     "metadata": {},
     "source": [
      "Let's build the matrix of eigenvectors $\\mathbf{R}^x$ next"
     ]
    },
    {
     "cell_type": "code",
     "collapsed": false,
     "input": [
      "Rx = simplify(EA[0][2][0].row_join(EA[1][2][0]).row_join(EA[2][2][0]))\n",
      "Rx = simplify(Rx.subs(p,h*u).subs(sqrt(g*h**5),h**2*c).subs(q,h*v))\n",
      "Rx"
     ],
     "language": "python",
     "metadata": {},
     "outputs": []
    },
    {
     "cell_type": "markdown",
     "metadata": {},
     "source": [
      "The inverse is"
     ]
    },
    {
     "cell_type": "code",
     "collapsed": false,
     "input": [
      "RxI = simplify(Rx.inv())\n",
      "RxI"
     ],
     "language": "python",
     "metadata": {},
     "outputs": []
    },
    {
     "cell_type": "markdown",
     "metadata": {},
     "source": [
      "Sanity check"
     ]
    },
    {
     "cell_type": "code",
     "collapsed": false,
     "input": [
      "simplify(RxI*Rx)"
     ],
     "language": "python",
     "metadata": {},
     "outputs": []
    },
    {
     "cell_type": "markdown",
     "metadata": {},
     "source": [
      "Checking that it diagonalizes $\\mathbf{A}$. That is, $\\mathbf{\\Lambda}^x = \\mathbf{R}^{x,-1}\\mathbf{A}\\mathbf{R}^x$"
     ]
    },
    {
     "cell_type": "code",
     "collapsed": false,
     "input": [
      "Lx=RxI*A*Rx\n",
      "Lx = simplify(Lx.subs(p,h*u).subs(g*h,c**2).subs(q,h*v))\n",
      "Lx\n"
     ],
     "language": "python",
     "metadata": {},
     "outputs": []
    },
    {
     "cell_type": "markdown",
     "metadata": {},
     "source": [
      "Now, we repeat the same process for $\\mathbf{B}$"
     ]
    },
    {
     "cell_type": "code",
     "collapsed": false,
     "input": [
      "EB = B.eigenvects(simplify=True)\n",
      "EB"
     ],
     "language": "python",
     "metadata": {},
     "outputs": []
    },
    {
     "cell_type": "code",
     "collapsed": false,
     "input": [
      "lambdaB=[EB[0][0],EB[1][0],EB[2][0]]\n",
      "lambdaB=[simplify(eb.subs(q,h*v).subs(sqrt(g*h**5),h**2*c)) for eb in lambdaB]\n",
      "lambdaB"
     ],
     "language": "python",
     "metadata": {},
     "outputs": []
    },
    {
     "cell_type": "code",
     "collapsed": false,
     "input": [
      "Ry = simplify(EB[0][2][0].row_join(EB[1][2][0]).row_join(EB[2][2][0]))\n",
      "Ry = simplify(Ry.subs(p,h*u).subs(sqrt(g*h**5),h**2*c).subs(q,h*v))\n",
      "Ry"
     ],
     "language": "python",
     "metadata": {},
     "outputs": []
    },
    {
     "cell_type": "code",
     "collapsed": false,
     "input": [
      "RyI = simplify(Ry.inv())\n",
      "RyI"
     ],
     "language": "python",
     "metadata": {},
     "outputs": []
    },
    {
     "cell_type": "code",
     "collapsed": false,
     "input": [
      "simplify(RyI*Ry)"
     ],
     "language": "python",
     "metadata": {},
     "outputs": []
    },
    {
     "cell_type": "markdown",
     "metadata": {},
     "source": [
      "Checking again that $\\mathbf{R}^y$ diagonalizes, $\\mathbf{B}$. That is, $\\mathbf{\\Lambda}^{y} = \\mathbf{R}^{y,-1}\\mathbf{B}\\mathbf{R}^y$"
     ]
    },
    {
     "cell_type": "code",
     "collapsed": false,
     "input": [
      "Ly=RyI*B*Ry\n",
      "Ly = simplify(Ly.subs(p,h*u).subs(g*h,c**2).subs(q,h*v))\n",
      "Ly\n"
     ],
     "language": "python",
     "metadata": {},
     "outputs": []
    },
    {
     "cell_type": "markdown",
     "metadata": {},
     "source": [
      "###Now we move to defining $\\hat{\\mathbf{A}}$ and $\\hat{\\mathbf{B}}$"
     ]
    },
    {
     "cell_type": "code",
     "collapsed": false,
     "input": [
      "LambdaX = Matrix([[lambdaA[0]/sqrt(lambdaA[0]**2 + v**2),0,0],\n",
      "                  [0,lambdaA[1]/sqrt(lambdaA[1]**2+v**2),0],\n",
      "                  [0,0,lambdaA[2]/sqrt(lambdaA[2]**2+v**2)]])\n",
      "LambdaX"
     ],
     "language": "python",
     "metadata": {},
     "outputs": []
    },
    {
     "cell_type": "code",
     "collapsed": false,
     "input": [
      "LambdaY = Matrix([[lambdaB[0]/sqrt(lambdaB[0]**2 + u**2),0,0],\n",
      "                  [0,lambdaB[1]/sqrt(lambdaB[1]**2+u**2),0],\n",
      "                  [0,0,lambdaB[2]/sqrt(lambdaB[2]**2+u**2)]])\n",
      "LambdaY"
     ],
     "language": "python",
     "metadata": {},
     "outputs": []
    },
    {
     "cell_type": "markdown",
     "metadata": {},
     "source": [
      "Calculate\n",
      "\\begin{align}\n",
      "\\hat{\\mathbf{A}}=\\mathbf{R}^x\\mathbf{\\hat{\\Lambda}}^x\\mathbf{R}^{x,-1}\n",
      "\\end{align}"
     ]
    },
    {
     "cell_type": "code",
     "collapsed": false,
     "input": [
      "Ahat=Rx*LambdaX*RxI\n",
      "Ahat=simplify(Ahat)\n",
      "Ahat"
     ],
     "language": "python",
     "metadata": {},
     "outputs": []
    },
    {
     "cell_type": "markdown",
     "metadata": {},
     "source": [
      "Hmm, this doesn't look a lot like the $\\mathbf{\\hat{A}}$ defined in the code as far as I can tell. Trying to simplify a little bit"
     ]
    },
    {
     "cell_type": "code",
     "collapsed": false,
     "input": [
      "simplify(Ahat.subs(v,0))"
     ],
     "language": "python",
     "metadata": {},
     "outputs": []
    },
    {
     "cell_type": "markdown",
     "metadata": {},
     "source": [
      "Performing similar calculations for $\\mathbf{\\hat{B}}$\n",
      "\\begin{align}\n",
      "\\mathbf{\\hat{B}}=\\mathbf{R}^y\\mathbf{\\hat{\\Lambda}}^y\\mathbf{R}^{y,-1}\n",
      "\\end{align}"
     ]
    },
    {
     "cell_type": "code",
     "collapsed": false,
     "input": [
      "Bhat=Ry*LambdaY*RyI\n",
      "Bhat=simplify(Bhat)\n",
      "Bhat"
     ],
     "language": "python",
     "metadata": {},
     "outputs": []
    },
    {
     "cell_type": "code",
     "collapsed": false,
     "input": [
      "simplify(Bhat.subs(u,0).subs(sqrt(c**2 - 2*c*v + v**2),(c-v)).subs(sqrt(c**2 + 2*c*v + v**2),(c+v)))"
     ],
     "language": "python",
     "metadata": {},
     "outputs": []
    },
    {
     "cell_type": "markdown",
     "metadata": {},
     "source": [
      "These don't look very much like what appears to be used in the actual code (see below). First, let's double check the eigenvector matrices again"
     ]
    },
    {
     "cell_type": "code",
     "collapsed": false,
     "input": [
      "LambdaA = Matrix([[lambdaA[0],0,0],\n",
      "                  [0,lambdaA[1],0],\n",
      "                  [0,0,lambdaA[2]]])\n",
      "LambdaA"
     ],
     "language": "python",
     "metadata": {},
     "outputs": []
    },
    {
     "cell_type": "code",
     "collapsed": false,
     "input": [
      "simplify(A-Rx*LambdaA*RxI).subs(p,u*h).subs(q,v*h).subs(c**2,g*h)"
     ],
     "language": "python",
     "metadata": {},
     "outputs": []
    },
    {
     "cell_type": "code",
     "collapsed": false,
     "input": [
      "LambdaB = Matrix([[lambdaB[0],0,0],\n",
      "                  [0,lambdaB[1],0],\n",
      "                  [0,0,lambdaB[2]]])\n",
      "LambdaB"
     ],
     "language": "python",
     "metadata": {},
     "outputs": []
    },
    {
     "cell_type": "code",
     "collapsed": false,
     "input": [
      "simplify(B-Ry*LambdaB*RyI).subs(p,u*h).subs(q,v*h).subs(c**2,g*h)"
     ],
     "language": "python",
     "metadata": {},
     "outputs": []
    },
    {
     "cell_type": "markdown",
     "metadata": {},
     "source": [
      "#Implementation of stabilized approximation in AdH\n",
      "To check what is going on, I'll go back and look at the implementation of the SUPG approximation in AdH. Looking at the [Berger and Stockstill, 1995] formulation, we see that the additional SUPG stabilization terms can be written in the form\n",
      "\\begin{align}\n",
      "\\sum_{e}\\left(\\alpha \\Delta x w_x, \\mathbf{\\hat{A}}\\vec R\\right)_{\\Omega_e} + \\sum_{e}\\left(\\alpha \\Delta y w_y,\\mathbf{\\hat{B}}\\vec R\\right)_{\\Omega_e}\n",
      "\\end{align}\n",
      "where, $\\vec R$ is a linearized strong residual, again $\\alpha \\in [0,0.5]$ and the integrations are carried out component-wise. \n",
      "\n",
      "We write $\\vec R = [R_h,R_u,R_v]^{t}$ and $\\mathbf{\\hat{A}}$ as \n",
      "\\begin{align}\n",
      "\\begin{array}{|ccc|}\n",
      "\\hat{A}_{hh} & \\hat{A}_{hu} & \\hat{A}_{hv} \\\\\n",
      "\\hat{A}_{uh} & \\hat{A}_{uu} & \\hat{A}_{uv} \\\\\n",
      "\\hat{A}_{vh} & \\hat{A}_{vu} & \\hat{A}_{vv} \\\\\n",
      "\\end{array}\n",
      "\\end{align}\n",
      "The notation for $\\mathbf{\\hat{B}}$ is similar.\n",
      "\n",
      "##Continuity\n",
      "The stabilization terms in this case are \n",
      "\\begin{align}\n",
      "\\left(\\alpha \\Delta x w_x,\\hat{A}_{hh}R_h + \\hat{A}_{hu}R_u + \\hat{A}_{hv}R_v\\right)_{e} + \n",
      "\\left(\\alpha \\Delta y w_y,\\hat{B}_{hh}R_h + \\hat{B}_{hu}R_u + \\hat{B}_{hv}R_v\\right)_{e} &= \\\\\n",
      "\\alpha |\\Omega_e| \\left[\\Delta x w_x \\left(\\frac{\\bar{u}}{a}R_{h,e} + \\frac{\\bar{h}}{a}R_{u,e}\\right) + \n",
      " \\Delta y w_y \\left(\\frac{\\bar{v}}{a}R_{h,e} + \\frac{\\bar{h}}{a}R_{v,e}\\right)\\right]\n",
      "\\end{align}\n",
      "where, $\\bar{h}$, $\\bar{u}$, and $\\bar{v}$ represent averages over element $\\Omega_e$\n",
      "\\begin{align}\n",
      "\\Delta x &= \\Delta y = \\sqrt{|\\Omega_e|} \\\\\n",
      "a &= \\sqrt{\\bar{u}^2 + \\bar{v}^2 + c^2} \\\\\n",
      "c &= \\sqrt{g\\bar{h}}\n",
      "\\end{align}\n",
      "and the strong residuals are approximated as\n",
      "\\begin{align}\n",
      "R_{h,e} & = \\bar{h}^{n+1}-\\bar{h}^n + \\Delta t^{n+1}\\left[\\bar{u}h_x + \\bar{h}u_x + \\bar{v}h_y + \\bar{h}v_y - s_r^{n+1}\\right] \\\\\n",
      "R_{u,e} & = \\Delta t^{n+1}\\left(\\bar{u}u_x + \\bar{v}u_y + gh_x z_x  \n",
      "\\right)\\\\\n",
      "R_{v,e} & = \\Delta t^{n+1}\\left(\\bar{u}v_x + \\bar{v}v_y + gh_y z_y\\right)\n",
      "\\end{align}\n",
      "where I've neglected the friction terms for convenience\n",
      "\n",
      "##$x$-momentum\n",
      "Similarly, the $x$ momentum stabilization terms are\n",
      "\\begin{align}\n",
      "\\left(\\alpha \\Delta x w_x,\\hat{A}_{uh}R_h + \\hat{A}_{uu}R_u + \\hat{A}_{uv}R_v\\right)_{e} + \n",
      "\\left(\\alpha \\Delta y w_y,\\hat{B}_{uh}R_h + \\hat{B}_{uu}R_u + \\hat{B}_{uv}R_v\\right)_{e} &= \\\\\n",
      "\\alpha |\\Omega_e|\\left[ \\Delta x w_x \\left(\\frac{\\bar{h}g}{a}R_{h,e} + \\frac{\\bar{h}\\bar{u}}{a}R_{u,e}\\right) + \n",
      "\\Delta y w_y \\frac{\\bar{h}\\bar{v}}{a}R_{u,e}\\right]\n",
      "\\end{align}\n",
      "\n",
      "##$y$-momentum\n",
      "\\begin{align}\n",
      "\\left(\\alpha \\Delta x w_x,\\hat{A}_{vh}R_h + \\hat{A}_{vu}R_u + \\hat{A}_{vv}R_v\\right)_{e} + \n",
      "\\left(\\alpha \\Delta y w_y,\\hat{B}_{vh}R_h + \\hat{B}_{vu}R_u + \\hat{B}_{vv}R_v\\right)_{e} &= \\\\\n",
      "\\alpha |\\Omega_e|\\left[\\Delta x w_x \\frac{\\bar{u}\\bar{h}}{a}R_{v,e} + \n",
      " \\Delta y w_y \\left(\\frac{g\\bar{v}}{a}R_{h,e} + \\frac{\\bar{h}\\bar{v}}{a}R_{v,e}\\right)\\right]\n",
      "\\end{align}\n",
      "\n",
      "In other words, we have $\\mathbf{\\hat{A}}$ approximated as\n",
      "\\begin{align}\n",
      "\\frac{1}{a}\\begin{array}{|ccc|}\n",
      "\\bar{u} & \\bar{h} & 0 \\\\\n",
      "\\bar{h}g & \\bar{h}\\bar{u} & 0\\\\\n",
      "0 & 0 & \\bar{u}\\bar{h}\\\\\n",
      "\\end{array}\n",
      "\\end{align}\n",
      "and $\\mathbf{\\hat{B}}$ is\n",
      "\\begin{align}\n",
      "\\frac{1}{a}\\begin{array}{|ccc|}\n",
      "\\bar{v} & 0 & \\bar{h}  \\\\\n",
      "0 & \\bar{h}\\bar{v} & 0 \\\\\n",
      "\\bar{h}g & 0 & \\bar{v}\\bar{h}\\\\\n",
      "\\end{array}\n",
      "\\end{align}\n"
     ]
    },
    {
     "cell_type": "markdown",
     "metadata": {},
     "source": [
      "##Initial implementation in Proteus\n",
      "As a quick start, I've implemented a version of the AdH stabilization in the ```SW2D.py``` optimized module. I made a few minor changes to make it simpler to fit into the Proteus framework. Specifically, I'm using\n",
      "\n",
      "\\begin{align}\n",
      "\\sum_{e}\\left(\\alpha \\Delta x w_x, \\mathbf{\\hat{A}}\\vec R\\right)_{\\Omega_e} + \\sum_{e}\\left(\\alpha \\Delta y w_y,\\mathbf{\\hat{B}}\\vec R\\right)_{\\Omega_e}\n",
      "\\end{align}\n",
      "where the linearized strong residuals are approximated at each element quadrature point, $k$ as\n",
      "\\begin{align}\n",
      "R_{h,k} & = \\frac{h^{n+1}-h^n}{\\Delta t^{n+1}} + u^nh_x + h^nu_x + v^nh_y + h^nv_y - s_r^{n+1} \\\\\n",
      "R_{u,k} & = \\frac{u^{n+1}h^{n+1}-u^nh^n}{\\Delta t^{n+1}} + u^nu_x + v^nu_y + gh_x z_x  \\\\\n",
      "R_{v,k} & = \\frac{v^{n+1}h^{n+1}-v^nh^n}{\\Delta t^{n+1}} + u^nv_x + v^nv_y + gh_y z_y\n",
      "\\end{align}\n",
      "The matrix $\\mathbf{\\hat{A}}_k$ at each quadrature point is\n",
      "\\begin{align}\n",
      "\\frac{1}{a^n}\\begin{array}{|ccc|}\n",
      "u^n & h^n & 0 \\\\\n",
      "h^ng & h^nu^n & 0\\\\\n",
      "0 & 0 & u^nh^n\\\\\n",
      "\\end{array}\n",
      "\\end{align}\n",
      "while $\\mathbf{\\hat{B}}_k$ is\n",
      "\\begin{align}\n",
      "\\frac{1}{a^n}\\begin{array}{|ccc|}\n",
      "v^n & 0 & h^n  \\\\\n",
      "0 & h^nv^n & 0 \\\\\n",
      "h^ng & 0 & v^nh^n\\\\\n",
      "\\end{array}\n",
      "\\end{align}\n",
      "\n"
     ]
    },
    {
     "cell_type": "markdown",
     "metadata": {},
     "source": [
      "###Initial results\n",
      "Below are some plots comparing my attempted translation of AdH's stabilization to the approximation that was in the trunk of ```proteus-mprans``` before merging in the ```sw2d-fix``` branch. They are for the ```sw2d_hump_2d``` test problem with $g=1$, $\\nu=10^{-8}$ and no shock-capturing. The initial condition (below) is a 'peak' of water of height 9, and zero velocicty. The four boundaries are modelled as walls (no flux). Backward Euler is used with a target Courant number of 1/3.\n",
      "\n",
      "The plots below show $h$ colored by the magnitude of velocity for four different approximations. From left to right, they are SUPG stabilization, SUPG plus shock-capturing, the original stabilization, and the original stabilization plus shock-capturing.\n",
      "\n",
      "The shock-capturing used is isotropic with a coefficient\n",
      "\\begin{align}\n",
      "\\nu_c &= 0.5h_e\\left(R_u^2 + R_v^2\\right)^{1/2} \n",
      "\\end{align}\n",
      "where $h_e$ is the element diameter. It is applied to the momentum equations only. That is, we add a term\n",
      "\\begin{align}\n",
      "\\sum_{e}\\left(\\nu^n_cu^{n+1}_x,w_x\\right)_e\n",
      "\\end{align}\n",
      "to the $x$-momentum equation. The $y$-momentum equation is analgous.\n",
      "\n",
      "From on the results, it looks like the SUPG stabilization is working somewhat. The results with the original stabilization and shock-capturing look better than the original stabilization alone but not as good as the SUPG stabilization or SUPG plus shock-capturing."
     ]
    },
    {
     "cell_type": "code",
     "collapsed": false,
     "input": [
      "from IPython.display import Image\n",
      "print \"T=0.\"\n",
      "imwidth='800px'\n",
      "Image(filename='figures/adh-stab/supg_vs_orig_nu1m8_T0.png',width=imwidth)\n",
      "\n"
     ],
     "language": "python",
     "metadata": {},
     "outputs": []
    },
    {
     "cell_type": "code",
     "collapsed": false,
     "input": [
      "print \"T=0.2487\"\n",
      "Image(filename='figures/adh-stab/supg_vs_orig_nu1m8_T0_2487.png',width=imwidth)\n",
      "\n"
     ],
     "language": "python",
     "metadata": {},
     "outputs": []
    },
    {
     "cell_type": "code",
     "collapsed": false,
     "input": [
      "print \"T=0.5222\"\n",
      "Image(filename='figures/adh-stab/supg_vs_orig_nu1m8_T0_522.png',width=imwidth)"
     ],
     "language": "python",
     "metadata": {},
     "outputs": []
    },
    {
     "cell_type": "code",
     "collapsed": false,
     "input": [
      "print \"T=1.01\"\n",
      "Image(filename='figures/adh-stab/supg_vs_orig_nu1m8_T1_01.png',width=imwidth)"
     ],
     "language": "python",
     "metadata": {},
     "outputs": []
    },
    {
     "cell_type": "code",
     "collapsed": false,
     "input": [
      "print \"T=1.99\"\n",
      "Image(filename='figures/adh-stab/supg_vs_orig_nu1m8_T1_99.png',width=imwidth)"
     ],
     "language": "python",
     "metadata": {},
     "outputs": []
    },
    {
     "cell_type": "code",
     "collapsed": false,
     "input": [
      "print \"T=3.00\"\n",
      "Image(filename='figures/adh-stab/supg_vs_orig_nu1m8_T3_00.png',width=imwidth)"
     ],
     "language": "python",
     "metadata": {},
     "outputs": []
    },
    {
     "cell_type": "code",
     "collapsed": false,
     "input": [
      "print \"T=4.00\"\n",
      "Image(filename='figures/adh-stab/supg_vs_orig_nu1m8_T4_00.png',width=imwidth)"
     ],
     "language": "python",
     "metadata": {},
     "outputs": []
    },
    {
     "cell_type": "code",
     "collapsed": false,
     "input": [
      "print \"T=4.2786\"\n",
      "Image(filename='figures/adh-stab/supg_vs_orig_nu1m8_T4_2786.png',width=imwidth)"
     ],
     "language": "python",
     "metadata": {},
     "outputs": []
    },
    {
     "cell_type": "code",
     "collapsed": false,
     "input": [
      "print \"T=5.00\"\n",
      "Image(filename='figures/adh-stab/supg_vs_orig_nu1m8_T5.png',width=imwidth)"
     ],
     "language": "python",
     "metadata": {},
     "outputs": []
    },
    {
     "cell_type": "code",
     "collapsed": false,
     "input": [],
     "language": "python",
     "metadata": {},
     "outputs": []
    }
   ],
   "metadata": {}
  }
 ]
}