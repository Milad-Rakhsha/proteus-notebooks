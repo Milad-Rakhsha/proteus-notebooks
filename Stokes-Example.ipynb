{
 "cells": [
  {
   "cell_type": "markdown",
   "metadata": {},
   "source": [
    "### Solve the Stokes equation on a square domain.  \n",
    "\n",
    "That is, find\n",
    "$p,\\mathbf{v}:\\Omega \\rightarrow \\Re \\otimes \\Re^n$ such that\n",
    "$$\n",
    "\\nabla \\cdot \\mathbf{v}  = r(x) \n",
    "$$\n",
    "$$\n",
    "\\mathbf{v} + A \\nabla p + \\nabla \\cdot \\left(-\\epsilon \\nabla  \\mathbf{v}\\right) = 0\n",
    "$$\n",
    "on \n",
    "$$\n",
    "\\Omega = [0,1]\n",
    "$$\n",
    "where $A$ is constant, and $r(x)$ is a function of space only."
   ]
  },
  {
   "cell_type": "code",
   "execution_count": 1,
   "metadata": {
    "collapsed": false
   },
   "outputs": [],
   "source": [
    "from proteus.iproteus import * #pull in what we need for using proteus interactively\n",
    "Profiling.logLevel=3\n",
    "Profiling.verbose = True"
   ]
  },
  {
   "cell_type": "markdown",
   "metadata": {},
   "source": [
    "Define the PDE by defining the coefficients"
   ]
  },
  {
   "cell_type": "code",
   "execution_count": 2,
   "metadata": {
    "collapsed": false
   },
   "outputs": [],
   "source": [
    "class Stokes(TransportCoefficients.TC_base):\n",
    "    \"\"\"\n",
    "    The coefficients of the Poisson equation \n",
    "    \"\"\"\n",
    "    def __init__(self,A,rofx,epsilon=0.001):\n",
    "        TransportCoefficients.TC_base.__init__(self, \n",
    "                         nc=2, #number of components\n",
    "                         variableNames=['p','v'],\n",
    "                         advection = {0:{1:'linear'}},\n",
    "                         hamiltonian = {1:{0:'linear'}},#A grad (p)\n",
    "                         diffusion = {1:{1:{1:'constant'}}},#the brinkman term - \\epsilon \\grad v\n",
    "                         potential = {1:{1:'u'}}, #define the potential for the diffusion term to be the solution itself\n",
    "                         reaction  = {0:{0:'constant'},\n",
    "                                      1:{1:'linear'}})\n",
    "        self.A=A\n",
    "        self.rofx=rofx\n",
    "        self.epsilon = epsilon\n",
    "        \n",
    "    def evaluate(self,t,c):\n",
    "        \"\"\"\n",
    "        evaluate quadrature point values held in the dictionary c\n",
    "        These are labelled according to the 'master equation.' For example,\n",
    "         \n",
    "        c[('a',0,0)] = diffusion coefficient for the 0th equation (first) with respect to the\n",
    "                       0th potential (the solution itself)\n",
    "                       The value at each quadrature point is a n_d x n_d tensor (n_d=number of space dimensions).\n",
    "                       Usually the tensor values are stored as a flat array in compressed sparse row format to save space. \n",
    "                       By default, we assume the tensor is full though.\n",
    "                       \n",
    "        c[('r',0)]   = reaction term for the 0th equation. This is where we will put the source term\n",
    "        \"\"\"\n",
    "        p = c[('u',0)]\n",
    "        v = c[('u',1)]#1D - x component of velocity\n",
    "        grad_p = c[('grad(u)',0)]\n",
    "        #equation 0  div(f) + r = 0  (proteus  notation)  div(velocity)=r(x) (our notation)\n",
    "        c[('f',0)][...,0] = v\n",
    "        c[('df',0,1)][...,0] = 1.0  # d_f^0_d_u^0\n",
    "        c[('r',0)][:]     = -self.rofx(c['x'][:])\n",
    "        c[('dr',0,0)][:]   = 0.0\n",
    "        #equation 1   A grad(p) + v + div(-epsilon grad(v)) = 0\n",
    "        c[('H',1)][:] = self.A[0][0]*grad_p[...,0] #A grad(p)\n",
    "        c[('dH',1,0)][...,0] = self.A[0][0] #A\n",
    "        c[('r',1)][:]     = v\n",
    "        c[('dr',1,1)][:]  = 1.0#1\n",
    "        c[('a',1,1)][...,0] = self.epsilon# -epsilon \\grad v\n",
    "        c[('da',1,1,1)][...,0] = 0.0# -d_epsilon\n",
    "        #dummy terms\n",
    "        #c[('a',0,0)][...,0] = 0.0\n",
    "        #c[('da',0,0,0)][...,0] = 0.0\n",
    "        #c[('f',1)][...,0] = 0.0\n",
    "        #c[('df',1,1)][...,0] = 0.0\n",
    "\n"
   ]
  },
  {
   "cell_type": "markdown",
   "metadata": {},
   "source": [
    "Setup the problem to have a solution\n",
    "\n",
    "$$\n",
    "p(x_0) = 1 + \\sin(2\\pi x_0)\n",
    "$$\n",
    "\n",
    "or\n",
    "\n",
    "$$\n",
    "r(x_0) = 8 \\pi^2 \\sin(2\\pi x_0)\n",
    "$$\n",
    "\n",
    "For fun, we can take advantage of sage's symbolic calculus to calculate the correct expression for $r$."
   ]
  },
  {
   "cell_type": "markdown",
   "metadata": {},
   "source": [
    "Define the python functions for evaluating the terms. Note that the x array for the quadrature points will be a\n",
    "\n",
    "multidimensional array. The last dimension will be 3 always though."
   ]
  },
  {
   "cell_type": "code",
   "execution_count": 3,
   "metadata": {
    "collapsed": false
   },
   "outputs": [],
   "source": [
    "#use numpy for evaluations\n",
    "import numpy as np\n",
    "a0 = 2.0\n",
    "def pex0(x):\n",
    "    pi2=2.0*np.pi    \n",
    "    return 1.0 + np.sin(pi2*x[...,0])\n",
    "\n",
    "#note, this is not exact for Stokes\n",
    "def vex0(x):\n",
    "    pi2=2.0*np.pi\n",
    "    return -a0*pi2*np.cos(pi2*x[...,0])\n",
    "\n",
    "def rofx0(x):\n",
    "    pi2=2.0*np.pi\n",
    "    return a0*pi2*pi2*np.sin(pi2*x[...,0])"
   ]
  },
  {
   "cell_type": "markdown",
   "metadata": {},
   "source": [
    "Define the physical input to the model"
   ]
  },
  {
   "cell_type": "code",
   "execution_count": 4,
   "metadata": {
    "collapsed": false
   },
   "outputs": [],
   "source": [
    "#use numpy for evaluations\n",
    "import numpy as np\n",
    "physics = default_p\n",
    "physics.name = \"stokes_1d\"\n",
    "physics.nd = 1; #One dimension\n",
    "#spatial domain\n",
    "physics.L=(1.0,1.0,1.0)\n",
    "\n",
    "#the object for evaluating the coefficients   \n",
    "A  =[[a0]]\n",
    "physics.coefficients=Stokes(A,rofx0)\n",
    "\n",
    "#this functions job is to return another function holding the Dirichlet boundary conditions \n",
    "# wherever they are set\n",
    "    \n",
    "eps=1.0e-8\n",
    "boundaryFlags = {'left':1,'right':2,'top':3}\n",
    "def getDBC_p(x,flag):\n",
    "    if x[0] <= 0.0+eps:\n",
    "        return lambda x,t: pex0(x)\n",
    "    elif x[0] >= physics.L[0]-eps:\n",
    "        return lambda x,t: pex0(x)\n",
    "    else:\n",
    "        return None\n",
    "\n",
    "def getNone(x,flag):\n",
    "    return None\n",
    "\n",
    "def getZeroFlux(x,flag):\n",
    "    if x[0] <= 0.0+eps:\n",
    "        return lambda x,t: 0.0\n",
    "    elif x[0] >= physics.L[0]-eps:\n",
    "        return lambda x,t: 0.0\n",
    "    \n",
    "physics.dirichletConditions = {0:getDBC_p,#pressure Dirichlet\n",
    "                               1:getNone}\n",
    "\n",
    "physics.advectiveFluxBoundaryConditions = {0:getNone}\n",
    "physics.diffusiveFluxBoundaryConditions = {1:{1:getZeroFlux}}#viscous flux\n",
    "physics.fluxBoundaryConditions = {0:'mixedFlow',1:'outFlow'}"
   ]
  },
  {
   "cell_type": "markdown",
   "metadata": {},
   "source": [
    "Define the numerics input for the problem"
   ]
  },
  {
   "cell_type": "code",
   "execution_count": 5,
   "metadata": {
    "collapsed": false
   },
   "outputs": [],
   "source": [
    "numerics=default_n\n",
    "#piecewise linears\n",
    "numerics.femSpaces = {0:FemTools.C0_AffineLinearOnSimplexWithNodalBasis,#pressure space\n",
    "                      1:FemTools.C0_AffineQuadraticOnSimplexWithNodalBasis}#velocity space\n",
    "#Quadrature rules for elements and element  boundaries\n",
    "numerics.elementQuadrature = Quadrature.SimplexGaussQuadrature(physics.nd,4)\n",
    "numerics.elementBoundaryQuadrature = Quadrature.SimplexGaussQuadrature(physics.nd-1,4)\n",
    "#number of nodes in the x and y direction\n",
    "numerics.nn = 41\n",
    "#numerics.nny= 41\n",
    "#matrix type\n",
    "numerics.numericalFluxType = NumericalFlux.StrongDirichletFactory(physics.fluxBoundaryConditions)\n",
    "#numerics.numericalFluxType = MixedDarcy_exterior\n",
    "#numerics.numericalFluxType = NumericalFlux.Advection_DiagonalUpwind_Diffusion_IIPG_exterior\n",
    "#numerics.numericalFluxType = NumericalFlux.Advection_Diagonal_average\n",
    "numerics.matrix = LinearAlgebraTools.SparseMatrix\n",
    "#use petsc solvers wrapped by petsc4py\n",
    "#numerics.multilevelLinearSolver = LinearSolvers.KSP_petsc4py\n",
    "#numerics.levelLinearSolver = LinearSolvers.KSP_petsc4py\n",
    "#using petsc4py requires weak boundary condition enforcement\n",
    "#can also use our internal wrapper for SuperLU\n",
    "numerics.multilevelLinearSolver = LinearSolvers.LU\n",
    "numerics.levelLinearSolver = LinearSolvers.LU\n",
    "\n",
    "#linear solve rtolerance\n",
    "numerics.l_atol_res = 1.0e-8\n",
    "numerics.nl_atol_res = 1.0e-4\n",
    "numerics.periodicDirichletConditions=None\n",
    "#\n",
    "# split operator options (trivial since we're not splitting)\n",
    "#\n",
    "so = default_so\n",
    "so.name = physics.name\n",
    "so.sList=[default_s]\n",
    "so.tnList = [0,1]"
   ]
  },
  {
   "cell_type": "markdown",
   "metadata": {},
   "source": [
    "Construct a NumericalSolution object and solve the problem"
   ]
  },
  {
   "cell_type": "code",
   "execution_count": 6,
   "metadata": {
    "collapsed": false
   },
   "outputs": [
    {
     "name": "stdout",
     "output_type": "stream",
     "text": [
      "[       5] Initializing NumericalSolution for stokes_1d\n",
      " System includes: \n",
      "stokes_1d\n",
      "\n",
      "[       5] Setting Archiver(s)\n",
      "[       5] Setting up MultilevelMesh\n",
      "[       5] Building one multilevel mesh for all models\n",
      "[       5] Generating mesh for stokes_1d\n",
      "[       5] Partitioning mesh among 1 processors using partitioningType = 0\n",
      "[       5] Number of Subdomain Elements Owned= 40\n",
      "[       5] Number of Subdomain Elements = 40\n",
      "[       5] Number of Subdomain Nodes Owned= 41\n",
      "[       5] Number of Subdomain Nodes = 41\n",
      "[       5] Number of Subdomain elementBoundaries Owned= 41\n",
      "[       5] Number of Subdomain elementBoundaries = 41\n",
      "[       5] Number of Subdomain Edges Owned= 40\n",
      "[       5] Number of Subdomain Edges = 40\n",
      "[       5] Finished partitioning\n",
      "[       5] *** Global ***\n",
      "Number of edges : 40\n",
      "Number of nodes : 41\n",
      "\n",
      "*** Local ***\n",
      "Number of edges : 40\n",
      "Number of nodes : 41\n",
      "\n",
      "[       5] Numerical Solution Sparse diffusion information key (1, 1) = (array([0, 1], dtype=int32), array([0], dtype=int32))\n",
      "[       5] Setting up MultilevelTransport for stokes_1d\n",
      "[       5] Building Transport for each mesh\n",
      "[       5] Generating Trial Space\n",
      "[       5] Generating Test Space\n",
      "[       5] Allocating u\n",
      "[       5] Allocating phi\n",
      "[       5] Setting Boundary Conditions\n",
      "[       5] Setting Boundary Conditions-1\n",
      "[       5] Setting Boundary Conditions-2\n",
      "[       5] Setting Boundary Conditions-2a\n",
      "[       5] Setting Boundary Conditions-3\n",
      "[       5] Setting Boundary Conditions-4\n",
      "[       5] Initializing OneLevelTransport\n",
      "[       5] Sparse diffusion information key (1, 1) = (array([0, 1], dtype=int32), array([0], dtype=int32))\n",
      "[       5] Updating local to global mappings\n",
      "[       5] Building time integration object\n",
      "[       5] Calculating numerical quadrature formulas\n",
      "fluxBoundaryCondition_components set([0, 1])\n",
      "[       5] Allocating residual and solution vectors\n",
      "[       5] Allocating Jacobian\n",
      "[       5] Building sparse matrix structure\n",
      "[       5] Allocating parallel storage\n",
      "[       5] Building Mesh Transfers\n",
      "[       5] Setting stokes_1d stepController to proteus.StepControl.SC_base\n",
      "[       5] Setting up MultilevelLinearSolver forstokes_1d\n",
      "[       5] multilevelLinearSolverChooser type= proteus.LinearSolvers.LU\n",
      "[       5] Setting up MultilevelNonLinearSolver for stokes_1d\n",
      "[       5] Finished setting up models and solvers\n",
      "[       5] Setting up SimTools for stokes_1d\n",
      "[       5] Using tnList from so = stokes_1d\n",
      "[       5] Time sequence[0, 1]\n",
      "[       5] Setting stokes_1d systemStepController to object of type proteus.SplitOperator.Sequential_MinModelStep\n",
      "[       5] Finished NumericalSolution initialization\n",
      "[       5] Setting initial conditions\n",
      "[       5] No initial conditions provided for model stokes_1d\n",
      "[       5] Attaching models and running spin-up step if requested\n",
      "[       5] Archiving initial conditions\n",
      "[       5] Estimating initial time derivative and initializing time history for model stokes_1d\n",
      "[       5] Choosing initial time step for model stokes_1d\n",
      "[       5] Initializing time step on model stokes_1d to dt =  1.00000e+00\n",
      "[       5] Initializing time history for model step controller\n",
      "[       5] Auxiliary variable calculations for model stokes_1d\n",
      "[       5] Initializing time step on system Default System to dt =  1.00000e+00\n",
      "[       5] Initializing step sequence for system Default System to [(1, <proteus.Transport.MultilevelTransport instance at 0x7f1a9474dbd8>)]\n",
      "[       5] Starting time stepping\n",
      "[       5] ==============================================================\n",
      "[       5] Solving over interval [ 0.00000e+00, 1.00000e+00]\n",
      "[       5] ==============================================================\n",
      "[       5] Model: stokes_1d\n",
      "[       5] StepControl base stepExact t_model= 1 tOut= 1 t_model_last= 0 dt_model= 1 setting to 1 \n",
      "[       5]    Newton it 0 norm(r) =  9.03368e+00  \t\t norm(r)/(rtol*norm(r0)+atol) = 99.8894 test=r\n",
      "[       5]    Newton it 1 norm(r) =  1.38544e-14  \t\t norm(r)/(rtol*norm(r0)+atol) =  1.53194e-13\n",
      "[       5] Step Taken, System time step t= 2.00000e+00, dt= 1.00000e+00\n",
      "[       5] Step Taken, Model step t= 2.00000e+00, dt= 1.00000e+00 for model stokes_1d\n",
      "[       5] Closing solution archive for stokes_1d\n",
      "[       5] Closing Archive\n",
      "[       5] Done Closing Archive\n"
     ]
    }
   ],
   "source": [
    "ns = NumericalSolution.NS_base(so,[physics],[numerics],so.sList,opts)\n",
    "ns.calculateSolution('run1')\n",
    "#arrays for using matplotlib's unstructured plotting interface\n",
    "x = ns.modelList[0].levelModelList[-1].mesh.nodeArray[:,0]\n",
    "#y = ns.modelList[0].levelModelList[-1].mesh.nodeArray[:,1]\n",
    "#triangles = ns.modelList[0].levelModelList[-1].mesh.elementNodesArray\n",
    "p = ns.modelList[0].levelModelList[-1].u[0].dof\n",
    "v = ns.modelList[0].levelModelList[-1].u[1].dof"
   ]
  },
  {
   "cell_type": "markdown",
   "metadata": {},
   "source": [
    "Plot the solution with matplotlib. Only works for $C^0 P^1$ right now"
   ]
  },
  {
   "cell_type": "code",
   "execution_count": 7,
   "metadata": {
    "collapsed": false,
    "scrolled": true
   },
   "outputs": [
    {
     "name": "stdout",
     "output_type": "stream",
     "text": [
      "Populating the interactive namespace from numpy and matplotlib\n"
     ]
    },
    {
     "name": "stderr",
     "output_type": "stream",
     "text": [
      "WARNING: pylab import has clobbered these variables: ['log']\n",
      "`%matplotlib` prevents importing * from pylab and numpy\n"
     ]
    }
   ],
   "source": [
    "%pylab inline"
   ]
  },
  {
   "cell_type": "code",
   "execution_count": 8,
   "metadata": {
    "collapsed": false
   },
   "outputs": [
    {
     "data": {
      "image/png": "[encoded data removed]",
      "text/plain": [
       "<matplotlib.figure.Figure at 0x7f1a8fd2c250>"
      ]
     },
     "metadata": {},
     "output_type": "display_data"
    }
   ],
   "source": [
    "import matplotlib.pyplot as plt\n",
    "fig, (ax1,ax2) = plt.subplots(2,1)\n",
    "ax1.plot(x,p)\n",
    "useTH=True\n",
    "if not useTH:\n",
    "    ax2.plot(x,v[:numerics.nn])\n",
    "else:\n",
    "    xm = np.array(0.5*(x[:-1]+x[1:]))\n",
    "    xq=[];\n",
    "    vq=[];\n",
    "    pq=[];\n",
    "    for i in range(numerics.nn-1):\n",
    "        xq.append(x[i])\n",
    "        vq.append(v[i])\n",
    "#    uq.append(u[i])\n",
    "        xq.append(xm[i])\n",
    "        vq.append(v[numerics.nn+i])\n",
    "#    uq.append(u[numerics.nn+i])\n",
    "    xq.append(x[-1])\n",
    "    vq.append(v[-1])\n",
    "#uq.append(u[-1])\n",
    "#xq = np.concatenate([x,xm])\n",
    "#xq.append(x1[-1])\n",
    "#ax1.plot(xq,uq)\n",
    "    ax2.plot(xq,vq)"
   ]
  },
  {
   "cell_type": "code",
   "execution_count": 9,
   "metadata": {
    "collapsed": false
   },
   "outputs": [
    {
     "data": {
      "text/plain": [
       "array([  0.00000000e+00,  -1.62944723e-01,  -3.21877207e-01,\n",
       "        -4.72884005e-01,  -6.12246830e-01,  -7.36534106e-01,\n",
       "        -8.42685467e-01,  -9.28087116e-01,  -9.90636180e-01,\n",
       "        -1.02879249e+00,  -1.04161652e+00,  -1.02879249e+00,\n",
       "        -9.90636180e-01,  -9.28087116e-01,  -8.42685467e-01,\n",
       "        -7.36534106e-01,  -6.12246830e-01,  -4.72884005e-01,\n",
       "        -3.21877207e-01,  -1.62944723e-01,  -1.33226763e-15,\n",
       "         1.62944723e-01,   3.21877207e-01,   4.72884005e-01,\n",
       "         6.12246830e-01,   7.36534106e-01,   8.42685467e-01,\n",
       "         9.28087116e-01,   9.90636180e-01,   1.02879249e+00,\n",
       "         1.04161652e+00,   1.02879249e+00,   9.90636180e-01,\n",
       "         9.28087116e-01,   8.42685467e-01,   7.36534106e-01,\n",
       "         6.12246830e-01,   4.72884005e-01,   3.21877207e-01,\n",
       "         1.62944723e-01,   2.22044605e-16])"
      ]
     },
     "execution_count": 9,
     "metadata": {},
     "output_type": "execute_result"
    }
   ],
   "source": [
    "pex0(x) - p"
   ]
  },
  {
   "cell_type": "markdown",
   "metadata": {},
   "source": [
    "Compare to the exact solution, evaluated at the degrees of freedom. Again, only works for $C^0 P^1$ elements"
   ]
  },
  {
   "cell_type": "code",
   "execution_count": 10,
   "metadata": {
    "collapsed": false
   },
   "outputs": [],
   "source": [
    "import numpy as np\n",
    "pex_vals = pex0(ns.modelList[0].levelModelList[-1].mesh.nodeArray)\n",
    "vex_vals = vex0(ns.modelList[0].levelModelList[-1].mesh.nodeArray)\n",
    "rex_vals = rofx0(ns.modelList[0].levelModelList[-1].mesh.nodeArray)"
   ]
  },
  {
   "cell_type": "code",
   "execution_count": 11,
   "metadata": {
    "collapsed": false
   },
   "outputs": [
    {
     "data": {
      "text/plain": [
       "<matplotlib.text.Text at 0x7f1a8fa70450>"
      ]
     },
     "execution_count": 11,
     "metadata": {},
     "output_type": "execute_result"
    },
    {
     "data": {
      "image/png": "[encoded data removed]",
      "text/plain": [
       "<matplotlib.figure.Figure at 0x7f1a8fc04b50>"
      ]
     },
     "metadata": {},
     "output_type": "display_data"
    }
   ],
   "source": [
    "fig, (ax1,ax2,ax3) = plt.subplots(3,1)\n",
    "ax1.plot(x,pex_vals)\n",
    "ax1.set_xlabel('x')\n",
    "ax1.set_ylabel('u exact') \n",
    "ax2.plot(x,vex_vals)\n",
    "ax2.set_xlabel('x')\n",
    "ax2.set_ylabel('v exact')\n",
    "ax3.plot(x,rex_vals)\n",
    "ax3.set_xlabel('x')\n",
    "ax3.set_ylabel('r exact')"
   ]
  },
  {
   "cell_type": "code",
   "execution_count": 12,
   "metadata": {
    "collapsed": false
   },
   "outputs": [
    {
     "name": "stdout",
     "output_type": "stream",
     "text": [
      "(41,) (40,)\n",
      "Trapezoidal rule approx for error at dofs for nx=41 ny=0.0290662393336 is 21.4983598849 \n"
     ]
    },
    {
     "data": {
      "image/png": "[encoded data removed]",
      "text/plain": [
       "<matplotlib.figure.Figure at 0x7f1a8fafef10>"
      ]
     },
     "metadata": {},
     "output_type": "display_data"
    }
   ],
   "source": [
    "err_p = p-pex_vals\n",
    "err_p *= err_p\n",
    "err_p *= physics.L[0]*physics.L[1]/(numerics.nn)\n",
    "L2approx_p = np.sqrt(err_p.sum())\n",
    "print x.shape,xm.shape\n",
    "err_v = v-vex0(np.concatenate((x,xm)))\n",
    "plt.plot(err_v)\n",
    "err_v *= err_v\n",
    "err_v *= physics.L[0]*physics.L[1]/(numerics.nn)\n",
    "L2approx_v = np.sqrt(err_v.sum())\n",
    "print \"Trapezoidal rule approx for error at dofs for nx=%s ny=%s is %s \" % (numerics.nn,L2approx_p,L2approx_v)"
   ]
  },
  {
   "cell_type": "code",
   "execution_count": null,
   "metadata": {
    "collapsed": true
   },
   "outputs": [],
   "source": []
  }
 ],
 "metadata": {
  "kernelspec": {
   "display_name": "Python 2",
   "language": "python",
   "name": "python2"
  },
  "language_info": {
   "codemirror_mode": {
    "name": "ipython",
    "version": 2
   },
   "file_extension": ".py",
   "mimetype": "text/x-python",
   "name": "python",
   "nbconvert_exporter": "python",
   "pygments_lexer": "ipython2",
   "version": "2.7.9"
  }
 },
 "nbformat": 4,
 "nbformat_minor": 0
}
