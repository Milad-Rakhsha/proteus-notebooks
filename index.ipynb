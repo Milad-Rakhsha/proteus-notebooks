{
 "metadata": {
  "name": "",
  "signature": "sha256:bdbbd97978f02e43d41784a48ba767c6bdeec33e9c4f24f585050b1f0e236735"
 },
 "nbformat": 3,
 "nbformat_minor": 0,
 "worksheets": [
  {
   "cells": [
    {
     "cell_type": "markdown",
     "metadata": {},
     "source": [
      "<img src=\"proteus.svg\">"
     ]
    },
    {
     "cell_type": "markdown",
     "metadata": {},
     "source": [
      "#Tutorials"
     ]
    },
    {
     "cell_type": "markdown",
     "metadata": {},
     "source": [
      "* [Defining a model domain](Domain_Tutorial.ipynb)\n",
      "* [Defining the model equations](Equation_Tutorial.ipynb)\n",
      "* [Defining the boundary and initial conditions](Boundary_Conditions_Tutorial.ipynb)\n",
      "* [Time Discretization](Time_Discretization_Tutorial.ipynb)\n",
      "* [Spatial Discretization](Spatial_Discretization_Tutorial.ipynb)\n",
      "* [Nonlinear Solvers](Nonlinear_Solvers_Tutorial.ipynb)\n",
      "* [Linear Solvers](Linear_Solvers_Tutorial.ipynb)\n",
      "* [Calculating Auxiliary Variables](Auxiliary_Variables_Tutorial.ipynb)"
     ]
    },
    {
     "cell_type": "code",
     "collapsed": false,
     "input": [],
     "language": "python",
     "metadata": {},
     "outputs": []
    }
   ],
   "metadata": {}
  }
 ]
}