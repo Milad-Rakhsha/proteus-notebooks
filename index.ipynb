{
 "cells": [
  {
   "cell_type": "markdown",
   "metadata": {},
   "source": [
    "<img src=\"proteus.svg\">"
   ]
  },
  {
   "cell_type": "markdown",
   "metadata": {},
   "source": [
    "#Tutorials"
   ]
  },
  {
   "cell_type": "markdown",
   "metadata": {},
   "source": [
    "* [Defining a model domain](Domain_Tutorial.ipynb)\n",
    "* [Defining the model equations](Equation_Tutorial.ipynb)\n",
    "* [Defining the boundary and initial conditions](Boundary_Conditions_Tutorial.ipynb)\n",
    "* [Time Discretization](Time_Discretization_Tutorial.ipynb)\n",
    "* [Spatial Discretization](Spatial_Discretization_Tutorial.ipynb)\n",
    "* [Nonlinear Solvers](Nonlinear_Solvers_Tutorial.ipynb)\n",
    "* [Linear Solvers](Linear_Solvers_Tutorial.ipynb)\n",
    "* [Calculating Auxiliary Variables](Auxiliary_Variables_Tutorial.ipynb)"
   ]
  }
 ],
 "metadata": {
  "kernelspec": {
   "display_name": "Python 2",
   "language": "python",
   "name": "python2"
  },
  "language_info": {
   "codemirror_mode": {
    "name": "ipython",
    "version": 2
   },
   "file_extension": ".py",
   "mimetype": "text/x-python",
   "name": "python",
   "nbconvert_exporter": "python",
   "pygments_lexer": "ipython2",
   "version": "2.7.9"
  }
 },
 "nbformat": 4,
 "nbformat_minor": 0
}
