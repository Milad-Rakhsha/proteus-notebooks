{
 "cells": [
  {
   "cell_type": "markdown",
   "metadata": {},
   "source": [
    "Solve the Poisson equation on a square domain.  That is, find $u:\\Omega \\rightarrow \\Re$ such that\n",
    "$$\n",
    "\\mathbf{v} = - A \\nabla u\n",
    "$$\n",
    "$$\n",
    "\\nabla \\cdot \\mathbf{v}  = r(x) \n",
    "$$\n",
    "on \n",
    "$$\n",
    "\\Omega = [0,1]\n",
    "$$\n",
    "where $A$ is constant, and $r(x)$ is a function of space only."
   ]
  },
  {
   "cell_type": "code",
   "execution_count": 1,
   "metadata": {
    "collapsed": false
   },
   "outputs": [],
   "source": [
    "from proteus.iproteus import * #pull in what we need for using proteus interactively\n",
    "Profiling.logLevel=5\n",
    "Profiling.verbose = True"
   ]
  },
  {
   "cell_type": "markdown",
   "metadata": {},
   "source": [
    "Define the PDE by defining the coefficients"
   ]
  },
  {
   "cell_type": "code",
   "execution_count": 2,
   "metadata": {
    "collapsed": false
   },
   "outputs": [],
   "source": [
    "class MixedPoisson(TransportCoefficients.TC_base):\n",
    "    \"\"\"\n",
    "    The coefficients of the Poisson equation \n",
    "    \"\"\"\n",
    "    def __init__(self,A,rofx):\n",
    "        TransportCoefficients.TC_base.__init__(self, \n",
    "                         nc=2, #number of components\n",
    "                         variableNames=['u','v'],\n",
    "                         advection = {0:{0:'linear'},\n",
    "                                      1:{1:'linear'}},\n",
    "                         hamiltonian = {0:{0:'linear'},1:{0:'linear'}},\n",
    "                         diffusion = {0:{0:{0:'constant'}},\n",
    "                                      1:{1:{1:'constant'}}},#constant means not a function of the solution\n",
    "                         potential = {0:{0:'u'},\n",
    "                                      1:{1:'u'}}, #define the potential for the diffusion term to be the solution itself\n",
    "                         reaction  = {0:{1:'linear'},\n",
    "                                      1:{1:'constant'}})\n",
    "        self.A=A;\n",
    "        self.rofx=rofx\n",
    "        \n",
    "    def evaluate(self,t,c):\n",
    "        \"\"\"\n",
    "        evaluate quadrature point values held in the dictionary c\n",
    "        These are labelled according to the 'master equation.' For example,\n",
    "         \n",
    "        c[('a',0,0)] = diffusion coefficient for the 0th equation (first) with respect to the\n",
    "                       0th potential (the solution itself)\n",
    "                       The value at each quadrature point is a n_d x n_d tensor (n_d=number of space dimensions).\n",
    "                       Usually the tensor values are stored as a flat array in compressed sparse row format to save space. \n",
    "                       By default, we assume the tensor is full though.\n",
    "                       \n",
    "        c[('r',0)]   = reaction term for the 0th equation. This is where we will put the source term\n",
    "        \"\"\"\n",
    "        #diffusion coefficientphysics.fluxBoundaryConditions={0:'outflow',1:'outflow'}\n",
    "        c[('a',0,0)][...,0] = 0.0#self.A[0][0]\n",
    "        c[('da',0,0,0)][...,0] = 0.0#self.A[0][0]\n",
    "        c[('a',1,1)][...,0] = 1.0\n",
    "        c[('da',1,1,1)][...,0] = 0.0\n",
    "        c[('f',0)][...,0] = 0.0\n",
    "        c[('df',0,0)][...,0] = 0.0\n",
    "        #equation 0\n",
    "        c[('H',0)][:] = self.A[0][0]*c[('grad(u)',0)][...,0]\n",
    "        c[('dH',0,0)][...,0] = self.A[0][0]\n",
    "        c[('r',0)][:]     = c[('u',1)]\n",
    "        c[('dr',0,1)][:]  = 1.0\n",
    "        #equtaion 1\n",
    "        c[('f',1)][...,0] = c[('u',1)]\n",
    "        c[('df',1,1)][...,0] = 1.0        \n",
    "        c[('r',1)][:]     = -self.rofx(c['x'][:])\n",
    "        c[('dr',1,1)][:]   = 0.0"
   ]
  },
  {
   "cell_type": "markdown",
   "metadata": {},
   "source": [
    "Setup the problem to have a solution\n",
    "\n",
    "$$\n",
    "u(x_0) = 1 + \\sin(2\\pi x_0)\n",
    "$$\n",
    "\n",
    "or\n",
    "\n",
    "$$\n",
    "r(x_0) = 8 \\pi^2 \\sin(2\\pi x_0)\n",
    "$$\n",
    "\n",
    "For fun, we can take advantage of sage's symbolic calculus to calculate the correct expression for $r$."
   ]
  },
  {
   "cell_type": "markdown",
   "metadata": {},
   "source": [
    "Define the python functions for evaluating the terms. Note that the x array for the quadrature points will be a\n",
    "\n",
    "multidimensional array. The last dimension will be 3 always though."
   ]
  },
  {
   "cell_type": "code",
   "execution_count": 3,
   "metadata": {
    "collapsed": false
   },
   "outputs": [],
   "source": [
    "#use numpy for evaluations\n",
    "import numpy as np\n",
    "a0 = 2.0\n",
    "def uex0(x):\n",
    "    pi2=2.0*np.pi    \n",
    "    return 1.0 + np.sin(pi2*x[...,0])\n",
    "\n",
    "def vex0(x):\n",
    "    pi2=2.0*np.pi\n",
    "    return -a0*pi2*np.cos(pi2*x[...,0])\n",
    "\n",
    "def rofx0(x):\n",
    "    pi2=2.0*np.pi\n",
    "    return a0*pi2*pi2*np.sin(pi2*x[...,0])"
   ]
  },
  {
   "cell_type": "markdown",
   "metadata": {},
   "source": [
    "Define the physical input to the model"
   ]
  },
  {
   "cell_type": "code",
   "execution_count": 4,
   "metadata": {
    "collapsed": false
   },
   "outputs": [],
   "source": [
    "#use numpy for evaluations\n",
    "import numpy as np\n",
    "physics = default_p\n",
    "physics.name = \"poisson_1d\"\n",
    "physics.nd = 1; #One dimension\n",
    "#spatial domain\n",
    "physics.L=(1.0,1.0,1.0)\n",
    "\n",
    "#the object for evaluating the coefficients   \n",
    "A  =[[a0]]\n",
    "physics.coefficients=MixedPoisson(A,rofx0)\n",
    "\n",
    "#convenience functions for holding the boundary condition\n",
    "def constant_one(x,t):\n",
    "    return 1.0\n",
    "def constant_zero(x,t):\n",
    "    return 0.0\n",
    "#this functions job is to return another function holding the Dirichlet boundary conditions \n",
    "# wherever they are set\n",
    "    \n",
    "eps=1.0e-8\n",
    "def getDBC_u(x,flag):\n",
    "    if x[0] <= 0.0+eps:\n",
    "        return lambda x,t: uex0(x)\n",
    "    elif x[0] >= physics.L[0]-eps:\n",
    "        return lambda x,t: uex0(x)\n",
    "  \n",
    "def getDBC_v(x,flag):\n",
    "    if x[0] <= 0.0+eps:\n",
    "        return lambda x,t: vex0(x)\n",
    "    elif x[0] >= physics.L[0] - eps:\n",
    "        return lambda x,t: vex0(x)\n",
    "\n",
    "def getNone(x,flag):\n",
    "    return None\n",
    "\n",
    "def getZeroFlux(x,flag):\n",
    "    if x[0] <= 0.0+eps:\n",
    "        return lambda x,t: 0.0\n",
    "    elif x[0] >= physics.L[0]-eps:\n",
    "        return lambda x,t: 0.0\n",
    "    \n",
    "physics.dirichletConditions = {0:getDBC_u,#pressure Dirichlet\n",
    "                               1:getNone}\n",
    "\n",
    "physics.advectiveFluxBoundaryConditions = {0:getZeroFlux,\n",
    "                                           1:getNone}#outflow on velocity\n",
    "#there are no diffusion terms in this model, but I had to \n",
    "physics.diffusiveFluxBoundaryConditions = {0:{0:getZeroFlux},\n",
    "                                           1:{1:getZeroFlux}}\n",
    "physics.fluxBoundaryConditions = {0:'setFlow',1:'outFlow'}"
   ]
  },
  {
   "cell_type": "markdown",
   "metadata": {},
   "source": [
    "Define the numerics input for the problem"
   ]
  },
  {
   "cell_type": "code",
   "execution_count": 5,
   "metadata": {
    "collapsed": false
   },
   "outputs": [],
   "source": [
    "numerics=default_n\n",
    "#piecewise linears\n",
    "numerics.femSpaces = {0:FemTools.C0_AffineLinearOnSimplexWithNodalBasis,\n",
    "                      1:FemTools.C0_AffineQuadraticOnSimplexWithNodalBasis}\n",
    "#Quadrature rules for elements and element  boundaries\n",
    "numerics.elementQuadrature = Quadrature.SimplexGaussQuadrature(physics.nd,4)\n",
    "numerics.elementBoundaryQuadrature = Quadrature.SimplexGaussQuadrature(physics.nd-1,4)\n",
    "#number of nodes in the x and y direction\n",
    "numerics.nn = 41\n",
    "#numerics.nny= 41\n",
    "#matrix type\n",
    "numerics.numericalFluxType = NumericalFlux.StrongDirichletFactory(physics.fluxBoundaryConditions)\n",
    "#numerics.numericalFluxType = MixedDarcy_exterior\n",
    "#numerics.numericalFluxType = NumericalFlux.Advection_DiagonalUpwind_Diffusion_IIPG_exterior\n",
    "#numerics.numericalFluxType = NumericalFlux.Advection_Diagonal_average\n",
    "numerics.matrix = LinearAlgebraTools.SparseMatrix\n",
    "#use petsc solvers wrapped by petsc4py\n",
    "#numerics.multilevelLinearSolver = LinearSolvers.KSP_petsc4py\n",
    "#numerics.levelLinearSolver = LinearSolvers.KSP_petsc4py\n",
    "#using petsc4py requires weak boundary condition enforcement\n",
    "#can also use our internal wrapper for SuperLU\n",
    "numerics.multilevelLinearSolver = LinearSolvers.LU\n",
    "numerics.levelLinearSolver = LinearSolvers.LU\n",
    "\n",
    "#linear solve rtolerance\n",
    "numerics.l_atol_res = 1.0e-8\n",
    "numerics.nl_atol_res = 1.0e-4\n",
    "numerics.periodicDirichletConditions=None\n",
    "#\n",
    "# split operator options (trivial since we're not splitting)\n",
    "#\n",
    "so = default_so\n",
    "so.name = physics.name\n",
    "so.sList=[default_s]\n",
    "so.tnList = [0,1]"
   ]
  },
  {
   "cell_type": "markdown",
   "metadata": {},
   "source": [
    "Construct a NumericalSolution object and solve the problem"
   ]
  },
  {
   "cell_type": "code",
   "execution_count": null,
   "metadata": {
    "collapsed": false
   },
   "outputs": [],
   "source": [
    "ns = NumericalSolution.NS_base(so,[physics],[numerics],so.sList,opts)"
   ]
  },
  {
   "cell_type": "code",
   "execution_count": null,
   "metadata": {
    "collapsed": false
   },
   "outputs": [],
   "source": [
    "ns.calculateSolution('run1')\n",
    "#arrays for using matplotlib's unstructured plotting interface\n",
    "x = ns.modelList[0].levelModelList[-1].mesh.nodeArray[:,0]\n",
    "#y = ns.modelList[0].levelModelList[-1].mesh.nodeArray[:,1]\n",
    "#triangles = ns.modelList[0].levelModelList[-1].mesh.elementNodesArray\n",
    "u = ns.modelList[0].levelModelList[-1].u[0].dof\n",
    "v = ns.modelList[0].levelModelList[-1].u[1].dof"
   ]
  },
  {
   "cell_type": "markdown",
   "metadata": {},
   "source": [
    "Plot the solution with matplotlib. Only works for $C^0 P^1$ right now"
   ]
  },
  {
   "cell_type": "code",
   "execution_count": null,
   "metadata": {
    "collapsed": false,
    "scrolled": true
   },
   "outputs": [],
   "source": [
    "%pylab inline"
   ]
  },
  {
   "cell_type": "code",
   "execution_count": null,
   "metadata": {
    "collapsed": false
   },
   "outputs": [],
   "source": [
    "import matplotlib.pyplot as plt\n",
    "fig, (ax1,ax2) = plt.subplots(2,1)\n",
    "ax1.plot(x,u)\n",
    "useTH=True\n",
    "if not useTH:\n",
    "    ax2.plot(x,v[:numerics.nn])\n",
    "else:\n",
    "    xm = np.array(0.5*(x[:-1]+x[1:]))\n",
    "    xq=[];\n",
    "    vq=[];\n",
    "    uq=[];\n",
    "    for i in range(numerics.nn-1):\n",
    "        xq.append(x[i])\n",
    "        vq.append(v[i])\n",
    "#    uq.append(u[i])\n",
    "        xq.append(xm[i])\n",
    "        vq.append(v[numerics.nn+i])\n",
    "#    uq.append(u[numerics.nn+i])\n",
    "    xq.append(x[-1])\n",
    "    vq.append(v[-1])\n",
    "#uq.append(u[-1])\n",
    "#xq = np.concatenate([x,xm])\n",
    "#xq.append(x1[-1])\n",
    "#ax1.plot(xq,uq)\n",
    "    ax2.plot(xq,vq)"
   ]
  },
  {
   "cell_type": "code",
   "execution_count": null,
   "metadata": {
    "collapsed": false
   },
   "outputs": [],
   "source": [
    "fig,ax = subplots()\n",
    "pi2 = 2.0*np.pi\n",
    "ax.plot(x,8.*np.pi*np.pi*np.sin(pi2*x[...]))"
   ]
  },
  {
   "cell_type": "code",
   "execution_count": null,
   "metadata": {
    "collapsed": false
   },
   "outputs": [],
   "source": [
    "uex0(x) - u"
   ]
  },
  {
   "cell_type": "markdown",
   "metadata": {},
   "source": [
    "Compare to the exact solution, evaluated at the degrees of freedom. Again, only works for $C^0 P^1$ elements"
   ]
  },
  {
   "cell_type": "code",
   "execution_count": null,
   "metadata": {
    "collapsed": false
   },
   "outputs": [],
   "source": [
    "import numpy as np\n",
    "uex_vals = uex0(ns.modelList[0].levelModelList[-1].mesh.nodeArray)\n",
    "vex_vals = vex0(ns.modelList[0].levelModelList[-1].mesh.nodeArray)\n",
    "rex_vals = rofx0(ns.modelList[0].levelModelList[-1].mesh.nodeArray)"
   ]
  },
  {
   "cell_type": "code",
   "execution_count": 1,
   "metadata": {
    "collapsed": false
   },
   "outputs": [
    {
     "ename": "NameError",
     "evalue": "name 'plt' is not defined",
     "output_type": "error",
     "traceback": [
      "\u001b[1;31m---------------------------------------------------------------------------\u001b[0m",
      "\u001b[1;31mNameError\u001b[0m                                 Traceback (most recent call last)",
      "\u001b[1;32m<ipython-input-1-449e444ba90f>\u001b[0m in \u001b[0;36m<module>\u001b[1;34m()\u001b[0m\n\u001b[1;32m----> 1\u001b[1;33m \u001b[0mfig\u001b[0m\u001b[1;33m,\u001b[0m \u001b[1;33m(\u001b[0m\u001b[0max1\u001b[0m\u001b[1;33m,\u001b[0m\u001b[0max2\u001b[0m\u001b[1;33m,\u001b[0m\u001b[0max3\u001b[0m\u001b[1;33m)\u001b[0m \u001b[1;33m=\u001b[0m \u001b[0mplt\u001b[0m\u001b[1;33m.\u001b[0m\u001b[0msubplots\u001b[0m\u001b[1;33m(\u001b[0m\u001b[1;36m3\u001b[0m\u001b[1;33m,\u001b[0m\u001b[1;36m1\u001b[0m\u001b[1;33m)\u001b[0m\u001b[1;33m\u001b[0m\u001b[0m\n\u001b[0m\u001b[0;32m      2\u001b[0m \u001b[0max1\u001b[0m\u001b[1;33m.\u001b[0m\u001b[0mplot\u001b[0m\u001b[1;33m(\u001b[0m\u001b[0mx\u001b[0m\u001b[1;33m,\u001b[0m\u001b[0muex_vals\u001b[0m\u001b[1;33m)\u001b[0m\u001b[1;33m\u001b[0m\u001b[0m\n\u001b[0;32m      3\u001b[0m \u001b[0max1\u001b[0m\u001b[1;33m.\u001b[0m\u001b[0mset_xlabel\u001b[0m\u001b[1;33m(\u001b[0m\u001b[1;34m'x'\u001b[0m\u001b[1;33m)\u001b[0m\u001b[1;33m\u001b[0m\u001b[0m\n\u001b[0;32m      4\u001b[0m \u001b[0max1\u001b[0m\u001b[1;33m.\u001b[0m\u001b[0mset_ylabel\u001b[0m\u001b[1;33m(\u001b[0m\u001b[1;34m'u exact'\u001b[0m\u001b[1;33m)\u001b[0m\u001b[1;33m\u001b[0m\u001b[0m\n\u001b[0;32m      5\u001b[0m \u001b[0max2\u001b[0m\u001b[1;33m.\u001b[0m\u001b[0mplot\u001b[0m\u001b[1;33m(\u001b[0m\u001b[0mx\u001b[0m\u001b[1;33m,\u001b[0m\u001b[0mvex_vals\u001b[0m\u001b[1;33m)\u001b[0m\u001b[1;33m\u001b[0m\u001b[0m\n",
      "\u001b[1;31mNameError\u001b[0m: name 'plt' is not defined"
     ]
    }
   ],
   "source": [
    "fig, (ax1,ax2,ax3) = plt.subplots(3,1)\n",
    "ax1.plot(x,uex_vals)\n",
    "ax1.set_xlabel('x')\n",
    "ax1.set_ylabel('u exact') \n",
    "ax2.plot(x,vex_vals)\n",
    "ax2.set_xlabel('x')\n",
    "ax2.set_ylabel('v exact')\n",
    "ax3.plot(x,rex_vals)\n",
    "ax3.set_xlabel('x')\n",
    "ax3.set_ylabel('r exact')"
   ]
  },
  {
   "cell_type": "code",
   "execution_count": null,
   "metadata": {
    "collapsed": false
   },
   "outputs": [],
   "source": [
    "err_u = u-uex_vals\n",
    "err_u *= err_u\n",
    "err_u *= physics.L[0]*physics.L[1]/(numerics.nn)\n",
    "L2approx_u = np.sqrt(err_u.sum())\n",
    "print x.shape,xm.shape\n",
    "err_v = v-vex0(np.concatenate((x,xm)))\n",
    "plt.plot(err_v)\n",
    "err_v *= err_v\n",
    "err_v *= physics.L[0]*physics.L[1]/(numerics.nn)\n",
    "L2approx_v = np.sqrt(err_v.sum())\n",
    "print \"Trapezoidal rule approx for error at dofs for nx=%s ny=%s is %s \" % (numerics.nn,L2approx_u,L2approx_v)"
   ]
  },
  {
   "cell_type": "code",
   "execution_count": null,
   "metadata": {
    "collapsed": false
   },
   "outputs": [],
   "source": [
    "a = uex0(x)"
   ]
  },
  {
   "cell_type": "code",
   "execution_count": null,
   "metadata": {
    "collapsed": false
   },
   "outputs": [],
   "source": [
    "print a\n",
    "print x.shape"
   ]
  },
  {
   "cell_type": "code",
   "execution_count": null,
   "metadata": {
    "collapsed": false
   },
   "outputs": [],
   "source": [
    "!ls"
   ]
  },
  {
   "cell_type": "code",
   "execution_count": null,
   "metadata": {
    "collapsed": true
   },
   "outputs": [],
   "source": []
  }
 ],
 "metadata": {
  "kernelspec": {
   "display_name": "Python 2",
   "language": "python",
   "name": "python2"
  },
  "language_info": {
   "codemirror_mode": {
    "name": "ipython",
    "version": 2
   },
   "file_extension": ".py",
   "mimetype": "text/x-python",
   "name": "python",
   "nbconvert_exporter": "python",
   "pygments_lexer": "ipython2",
   "version": "2.7.8"
  }
 },
 "nbformat": 4,
 "nbformat_minor": 0
}
