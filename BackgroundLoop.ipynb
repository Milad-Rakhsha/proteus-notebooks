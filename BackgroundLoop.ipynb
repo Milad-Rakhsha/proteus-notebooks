{
 "cells": [
  {
   "cell_type": "code",
   "execution_count": 3,
   "metadata": {
    "collapsed": false
   },
   "outputs": [
    {
     "name": "stdout",
     "output_type": "stream",
     "text": [
      "Populating the interactive namespace from numpy and matplotlib\n"
     ]
    }
   ],
   "source": [
    "%pylab inline\n",
    "\n",
    "import sys, time\n",
    "import numpy as np\n"
   ]
  },
  {
   "cell_type": "markdown",
   "metadata": {},
   "source": [
    "Create the Client and View:"
   ]
  },
  {
   "cell_type": "code",
   "execution_count": 5,
   "metadata": {
    "collapsed": false
   },
   "outputs": [
    {
     "data": {
      "text/plain": [
       "<DirectView [0, 1, 2, 3]>"
      ]
     },
     "execution_count": 5,
     "metadata": {},
     "output_type": "execute_result"
    }
   ],
   "source": [
    "from IPython import parallel\n",
    "rc = parallel.Client(profile=\"mpi\")\n",
    "dv = rc[:]\n",
    "dv.block = True\n",
    "dv.activate()\n",
    "dv"
   ]
  },
  {
   "cell_type": "markdown",
   "metadata": {},
   "source": [
    "Check for MPI.  It's fine for this example if we don't have it, but it will technically be possible for\n",
    "simulation nodes to get slightly out of sync."
   ]
  },
  {
   "cell_type": "code",
   "execution_count": 6,
   "metadata": {
    "collapsed": false
   },
   "outputs": [
    {
     "name": "stdout",
     "output_type": "stream",
     "text": [
      "[stdout:0] MPI rank: 0/1\n",
      "[stdout:1] MPI rank: 0/1\n",
      "[stdout:2] MPI rank: 0/1\n",
      "[stdout:3] MPI rank: 0/1\n"
     ]
    }
   ],
   "source": [
    "%%px\n",
    "try:\n",
    "    from mpi4py import MPI\n",
    "except ImportError:\n",
    "    bcast = lambda buf: buf\n",
    "    barrier = lambda : None\n",
    "    rank = 0\n",
    "    print \"No MPI, dummy sims may get slightly out of sync\"\n",
    "else:\n",
    "    mpi = MPI.COMM_WORLD\n",
    "    bcast = mpi.bcast\n",
    "    barrier = mpi.barrier\n",
    "    rank = mpi.rank\n",
    "    print \"MPI rank: %i/%i\" % (mpi.rank,mpi.size)"
   ]
  },
  {
   "cell_type": "markdown",
   "metadata": {},
   "source": [
    "Quick test of the broadcast:"
   ]
  },
  {
   "cell_type": "code",
   "execution_count": 7,
   "metadata": {
    "collapsed": false
   },
   "outputs": [
    {
     "data": {
      "text/plain": [
       "\u001b[0;31mOut[0:2]: \u001b[0m0"
      ]
     },
     "metadata": {},
     "output_type": "display_data"
    },
    {
     "data": {
      "text/plain": [
       "\u001b[0;31mOut[1:2]: \u001b[0m0"
      ]
     },
     "metadata": {},
     "output_type": "display_data"
    },
    {
     "data": {
      "text/plain": [
       "\u001b[0;31mOut[2:2]: \u001b[0m0"
      ]
     },
     "metadata": {},
     "output_type": "display_data"
    },
    {
     "data": {
      "text/plain": [
       "\u001b[0;31mOut[3:2]: \u001b[0m0"
      ]
     },
     "metadata": {},
     "output_type": "display_data"
    }
   ],
   "source": [
    "%px bcast(rank)"
   ]
  },
  {
   "cell_type": "markdown",
   "metadata": {},
   "source": [
    "Define a function on the engines that holds the GIL for a period of time\n",
    "(like time.sleep, but holding the GIL to simulate blocking computation):"
   ]
  },
  {
   "cell_type": "code",
   "execution_count": 8,
   "metadata": {
    "collapsed": false
   },
   "outputs": [
    {
     "ename": "CompositeError",
     "evalue": "one or more exceptions from call to method: execute\n[0:execute]: CompilerCrash: \nError compiling Cython file:\n------------------------------------------------------------\n...\nfrom posix cimport unistd\n^\n------------------------------------------------------------\n\n(tree fragment):1:0: Compiler crash in AnalyseDeclarationsTransform\n\nFile 'ModuleNode.py', line 104, in analyse_declarations: ModuleNode((tree fragment):1:0,\n    full_module_name = '(tree fragment)')\nFile 'Nodes.py', line 415, in analyse_declarations: StatListNode((tree fragment):1:0)\nFile 'Nodes.py', line 7197, in analyse_declarations: FromCImportStatNode((tree fragment):1:0,\n    imported_names = [...]/1,\n    module_name = u'posix')\n\nCompiler crash traceback from this point on:\n  File \"/home/cekees/proteus/linux2/lib/python2.7/site-packages/Cython/Compiler/Nodes.py\", line 7197, in analyse_declarations\n    module_scope = env.find_module(self.module_name, self.pos, relative_level=self.relative_level)\n  File \"/home/cekees/proteus/linux2/lib/python2.7/site-packages/Cython/Compiler/Symtab.py\", line 1130, in find_module\n    module_name, relative_to=None if relative_level == 0 else self.parent_module, pos=pos)\n  File \"/home/cekees/proteus/linux2/lib/python2.7/site-packages/Cython/Compiler/TreeFragment.py\", line 37, in find_module\n    raise AssertionError(\"Not yet supporting any cimports/includes from string code snippets\")\nAssertionError: Not yet supporting any cimports/includes from string code snippets\n[1:execute]: CompilerCrash: \nError compiling Cython file:\n------------------------------------------------------------\n...\nfrom posix cimport unistd\n^\n------------------------------------------------------------\n\n(tree fragment):1:0: Compiler crash in AnalyseDeclarationsTransform\n\nFile 'ModuleNode.py', line 104, in analyse_declarations: ModuleNode((tree fragment):1:0,\n    full_module_name = '(tree fragment)')\nFile 'Nodes.py', line 415, in analyse_declarations: StatListNode((tree fragment):1:0)\nFile 'Nodes.py', line 7197, in analyse_declarations: FromCImportStatNode((tree fragment):1:0,\n    imported_names = [...]/1,\n    module_name = u'posix')\n\nCompiler crash traceback from this point on:\n  File \"/home/cekees/proteus/linux2/lib/python2.7/site-packages/Cython/Compiler/Nodes.py\", line 7197, in analyse_declarations\n    module_scope = env.find_module(self.module_name, self.pos, relative_level=self.relative_level)\n  File \"/home/cekees/proteus/linux2/lib/python2.7/site-packages/Cython/Compiler/Symtab.py\", line 1130, in find_module\n    module_name, relative_to=None if relative_level == 0 else self.parent_module, pos=pos)\n  File \"/home/cekees/proteus/linux2/lib/python2.7/site-packages/Cython/Compiler/TreeFragment.py\", line 37, in find_module\n    raise AssertionError(\"Not yet supporting any cimports/includes from string code snippets\")\nAssertionError: Not yet supporting any cimports/includes from string code snippets\n[2:execute]: CompilerCrash: \nError compiling Cython file:\n------------------------------------------------------------\n...\nfrom posix cimport unistd\n^\n------------------------------------------------------------\n\n(tree fragment):1:0: Compiler crash in AnalyseDeclarationsTransform\n\nFile 'ModuleNode.py', line 104, in analyse_declarations: ModuleNode((tree fragment):1:0,\n    full_module_name = '(tree fragment)')\nFile 'Nodes.py', line 415, in analyse_declarations: StatListNode((tree fragment):1:0)\nFile 'Nodes.py', line 7197, in analyse_declarations: FromCImportStatNode((tree fragment):1:0,\n    imported_names = [...]/1,\n    module_name = u'posix')\n\nCompiler crash traceback from this point on:\n  File \"/home/cekees/proteus/linux2/lib/python2.7/site-packages/Cython/Compiler/Nodes.py\", line 7197, in analyse_declarations\n    module_scope = env.find_module(self.module_name, self.pos, relative_level=self.relative_level)\n  File \"/home/cekees/proteus/linux2/lib/python2.7/site-packages/Cython/Compiler/Symtab.py\", line 1130, in find_module\n    module_name, relative_to=None if relative_level == 0 else self.parent_module, pos=pos)\n  File \"/home/cekees/proteus/linux2/lib/python2.7/site-packages/Cython/Compiler/TreeFragment.py\", line 37, in find_module\n    raise AssertionError(\"Not yet supporting any cimports/includes from string code snippets\")\nAssertionError: Not yet supporting any cimports/includes from string code snippets\n[3:execute]: CompilerCrash: \nError compiling Cython file:\n------------------------------------------------------------\n...\nfrom posix cimport unistd\n^\n------------------------------------------------------------\n\n(tree fragment):1:0: Compiler crash in AnalyseDeclarationsTransform\n\nFile 'ModuleNode.py', line 104, in analyse_declarations: ModuleNode((tree fragment):1:0,\n    full_module_name = '(tree fragment)')\nFile 'Nodes.py', line 415, in analyse_declarations: StatListNode((tree fragment):1:0)\nFile 'Nodes.py', line 7197, in analyse_declarations: FromCImportStatNode((tree fragment):1:0,\n    imported_names = [...]/1,\n    module_name = u'posix')\n\nCompiler crash traceback from this point on:\n  File \"/home/cekees/proteus/linux2/lib/python2.7/site-packages/Cython/Compiler/Nodes.py\", line 7197, in analyse_declarations\n    module_scope = env.find_module(self.module_name, self.pos, relative_level=self.relative_level)\n  File \"/home/cekees/proteus/linux2/lib/python2.7/site-packages/Cython/Compiler/Symtab.py\", line 1130, in find_module\n    module_name, relative_to=None if relative_level == 0 else self.parent_module, pos=pos)\n  File \"/home/cekees/proteus/linux2/lib/python2.7/site-packages/Cython/Compiler/TreeFragment.py\", line 37, in find_module\n    raise AssertionError(\"Not yet supporting any cimports/includes from string code snippets\")\nAssertionError: Not yet supporting any cimports/includes from string code snippets",
     "output_type": "error",
     "traceback": [
      "[0:execute]: ",
      "\u001b[1;31m---------------------------------------------------------------------------\u001b[0m\u001b[1;31mCompilerCrash\u001b[0m                             Traceback (most recent call last)\u001b[1;32m<ipython-input-3-c0554a64b7da>\u001b[0m in \u001b[0;36m<module>\u001b[1;34m()\u001b[0m",
      "\u001b[0;32m      9\u001b[0m     \u001b[0minline\u001b[0m\u001b[1;33m(\u001b[0m\u001b[0mcode\u001b[0m\u001b[1;33m,\u001b[0m \u001b[0mquiet\u001b[0m\u001b[1;33m=\u001b[0m\u001b[0mTrue\u001b[0m\u001b[1;33m,\u001b[0m \u001b[0mt\u001b[0m\u001b[1;33m=\u001b[0m\u001b[0mt\u001b[0m\u001b[1;33m)\u001b[0m\u001b[1;33m\u001b[0m\u001b[0m",
      "\u001b[0;32m     10\u001b[0m \u001b[1;33m\u001b[0m\u001b[0m",
      "\u001b[1;32m---> 11\u001b[1;33m \u001b[0mgilsleep\u001b[0m\u001b[1;33m(\u001b[0m\u001b[1;36m1\u001b[0m\u001b[1;33m)\u001b[0m\u001b[1;33m\u001b[0m\u001b[0m",
      "\u001b[0m\u001b[1;32m<ipython-input-3-c0554a64b7da>\u001b[0m in \u001b[0;36mgilsleep\u001b[1;34m(t)\u001b[0m",
      "\u001b[0;32m      7\u001b[0m         \u001b[1;34m'unistd.sleep(t)'\u001b[0m\u001b[1;33m,\u001b[0m\u001b[1;33m\u001b[0m\u001b[0m",
      "\u001b[0;32m      8\u001b[0m     ])",
      "\u001b[1;32m----> 9\u001b[1;33m     \u001b[0minline\u001b[0m\u001b[1;33m(\u001b[0m\u001b[0mcode\u001b[0m\u001b[1;33m,\u001b[0m \u001b[0mquiet\u001b[0m\u001b[1;33m=\u001b[0m\u001b[0mTrue\u001b[0m\u001b[1;33m,\u001b[0m \u001b[0mt\u001b[0m\u001b[1;33m=\u001b[0m\u001b[0mt\u001b[0m\u001b[1;33m)\u001b[0m\u001b[1;33m\u001b[0m\u001b[0m",
      "\u001b[0m\u001b[0;32m     10\u001b[0m \u001b[1;33m\u001b[0m\u001b[0m",
      "\u001b[0;32m     11\u001b[0m \u001b[0mgilsleep\u001b[0m\u001b[1;33m(\u001b[0m\u001b[1;36m1\u001b[0m\u001b[1;33m)\u001b[0m\u001b[1;33m\u001b[0m\u001b[0m",
      "\u001b[1;32m/home/cekees/proteus/linux2/lib/python2.7/site-packages/Cython/Shadow.pyc\u001b[0m in \u001b[0;36minline\u001b[1;34m(f, *args, **kwds)\u001b[0m",
      "\u001b[0;32m    105\u001b[0m   \u001b[1;32mif\u001b[0m \u001b[0misinstance\u001b[0m\u001b[1;33m(\u001b[0m\u001b[0mf\u001b[0m\u001b[1;33m,\u001b[0m \u001b[0mbasestring\u001b[0m\u001b[1;33m)\u001b[0m\u001b[1;33m:\u001b[0m\u001b[1;33m\u001b[0m\u001b[0m",
      "\u001b[0;32m    106\u001b[0m     \u001b[1;32mfrom\u001b[0m \u001b[0mCython\u001b[0m\u001b[1;33m.\u001b[0m\u001b[0mBuild\u001b[0m\u001b[1;33m.\u001b[0m\u001b[0mInline\u001b[0m \u001b[1;32mimport\u001b[0m \u001b[0mcython_inline\u001b[0m\u001b[1;33m\u001b[0m\u001b[0m",
      "\u001b[1;32m--> 107\u001b[1;33m     \u001b[1;32mreturn\u001b[0m \u001b[0mcython_inline\u001b[0m\u001b[1;33m(\u001b[0m\u001b[0mf\u001b[0m\u001b[1;33m,\u001b[0m \u001b[1;33m*\u001b[0m\u001b[0margs\u001b[0m\u001b[1;33m,\u001b[0m \u001b[1;33m**\u001b[0m\u001b[0mkwds\u001b[0m\u001b[1;33m)\u001b[0m\u001b[1;33m\u001b[0m\u001b[0m",
      "\u001b[0m\u001b[0;32m    108\u001b[0m   \u001b[1;32melse\u001b[0m\u001b[1;33m:\u001b[0m\u001b[1;33m\u001b[0m\u001b[0m",
      "\u001b[0;32m    109\u001b[0m     \u001b[1;32massert\u001b[0m \u001b[0mlen\u001b[0m\u001b[1;33m(\u001b[0m\u001b[0margs\u001b[0m\u001b[1;33m)\u001b[0m \u001b[1;33m==\u001b[0m \u001b[0mlen\u001b[0m\u001b[1;33m(\u001b[0m\u001b[0mkwds\u001b[0m\u001b[1;33m)\u001b[0m \u001b[1;33m==\u001b[0m \u001b[1;36m0\u001b[0m\u001b[1;33m\u001b[0m\u001b[0m",
      "\u001b[1;32m/home/cekees/proteus/linux2/lib/python2.7/site-packages/Cython/Build/Inline.pyc\u001b[0m in \u001b[0;36mcython_inline\u001b[1;34m(code, get_type, lib_dir, cython_include_dirs, force, quiet, locals, globals, **kwds)\u001b[0m",
      "\u001b[0;32m    130\u001b[0m         \u001b[0mglobals\u001b[0m \u001b[1;33m=\u001b[0m \u001b[0minspect\u001b[0m\u001b[1;33m.\u001b[0m\u001b[0mcurrentframe\u001b[0m\u001b[1;33m(\u001b[0m\u001b[1;33m)\u001b[0m\u001b[1;33m.\u001b[0m\u001b[0mf_back\u001b[0m\u001b[1;33m.\u001b[0m\u001b[0mf_back\u001b[0m\u001b[1;33m.\u001b[0m\u001b[0mf_globals\u001b[0m\u001b[1;33m\u001b[0m\u001b[0m",
      "\u001b[0;32m    131\u001b[0m     \u001b[1;32mtry\u001b[0m\u001b[1;33m:\u001b[0m\u001b[1;33m\u001b[0m\u001b[0m",
      "\u001b[1;32m--> 132\u001b[1;33m         \u001b[1;32mfor\u001b[0m \u001b[0msymbol\u001b[0m \u001b[1;32min\u001b[0m \u001b[0munbound_symbols\u001b[0m\u001b[1;33m(\u001b[0m\u001b[0mcode\u001b[0m\u001b[1;33m)\u001b[0m\u001b[1;33m:\u001b[0m\u001b[1;33m\u001b[0m\u001b[0m",
      "\u001b[0m\u001b[0;32m    133\u001b[0m             \u001b[1;32mif\u001b[0m \u001b[0msymbol\u001b[0m \u001b[1;32min\u001b[0m \u001b[0mkwds\u001b[0m\u001b[1;33m:\u001b[0m\u001b[1;33m\u001b[0m\u001b[0m",
      "\u001b[0;32m    134\u001b[0m                 \u001b[1;32mcontinue\u001b[0m\u001b[1;33m\u001b[0m\u001b[0m",
      "\u001b[1;32m/home/cekees/proteus/linux2/lib/python2.7/site-packages/Cython/Utils.pyc\u001b[0m in \u001b[0;36mwrapper\u001b[1;34m(*args)\u001b[0m",
      "\u001b[0;32m     20\u001b[0m         \u001b[0mres\u001b[0m \u001b[1;33m=\u001b[0m \u001b[0mcache\u001b[0m\u001b[1;33m.\u001b[0m\u001b[0mget\u001b[0m\u001b[1;33m(\u001b[0m\u001b[0margs\u001b[0m\u001b[1;33m,\u001b[0m \u001b[0muncomputed\u001b[0m\u001b[1;33m)\u001b[0m\u001b[1;33m\u001b[0m\u001b[0m",
      "\u001b[0;32m     21\u001b[0m         \u001b[1;32mif\u001b[0m \u001b[0mres\u001b[0m \u001b[1;32mis\u001b[0m \u001b[0muncomputed\u001b[0m\u001b[1;33m:\u001b[0m\u001b[1;33m\u001b[0m\u001b[0m",
      "\u001b[1;32m---> 22\u001b[1;33m             \u001b[0mres\u001b[0m \u001b[1;33m=\u001b[0m \u001b[0mcache\u001b[0m\u001b[1;33m[\u001b[0m\u001b[0margs\u001b[0m\u001b[1;33m]\u001b[0m \u001b[1;33m=\u001b[0m \u001b[0mf\u001b[0m\u001b[1;33m(\u001b[0m\u001b[1;33m*\u001b[0m\u001b[0margs\u001b[0m\u001b[1;33m)\u001b[0m\u001b[1;33m\u001b[0m\u001b[0m",
      "\u001b[0m\u001b[0;32m     23\u001b[0m         \u001b[1;32mreturn\u001b[0m \u001b[0mres\u001b[0m\u001b[1;33m\u001b[0m\u001b[0m",
      "\u001b[0;32m     24\u001b[0m     \u001b[1;32mreturn\u001b[0m \u001b[0mwrapper\u001b[0m\u001b[1;33m\u001b[0m\u001b[0m",
      "\u001b[1;32m/home/cekees/proteus/linux2/lib/python2.7/site-packages/Cython/Build/Inline.pyc\u001b[0m in \u001b[0;36munbound_symbols\u001b[1;34m(code, context)\u001b[0m",
      "\u001b[0;32m     56\u001b[0m         \u001b[1;32mif\u001b[0m \u001b[0mphase\u001b[0m \u001b[1;32mis\u001b[0m \u001b[0mNone\u001b[0m\u001b[1;33m:\u001b[0m\u001b[1;33m\u001b[0m\u001b[0m",
      "\u001b[0;32m     57\u001b[0m             \u001b[1;32mcontinue\u001b[0m\u001b[1;33m\u001b[0m\u001b[0m",
      "\u001b[1;32m---> 58\u001b[1;33m         \u001b[0mtree\u001b[0m \u001b[1;33m=\u001b[0m \u001b[0mphase\u001b[0m\u001b[1;33m(\u001b[0m\u001b[0mtree\u001b[0m\u001b[1;33m)\u001b[0m\u001b[1;33m\u001b[0m\u001b[0m",
      "\u001b[0m\u001b[0;32m     59\u001b[0m         \u001b[1;32mif\u001b[0m \u001b[0misinstance\u001b[0m\u001b[1;33m(\u001b[0m\u001b[0mphase\u001b[0m\u001b[1;33m,\u001b[0m \u001b[0mAnalyseDeclarationsTransform\u001b[0m\u001b[1;33m)\u001b[0m\u001b[1;33m:\u001b[0m\u001b[1;33m\u001b[0m\u001b[0m",
      "\u001b[0;32m     60\u001b[0m             \u001b[1;32mbreak\u001b[0m\u001b[1;33m\u001b[0m\u001b[0m",
      "\u001b[1;32m/home/cekees/proteus/linux2/lib/python2.7/site-packages/Cython/Compiler/ParseTreeTransforms.pyc\u001b[0m in \u001b[0;36m__call__\u001b[1;34m(self, root)\u001b[0m",
      "\u001b[0;32m   1454\u001b[0m         \u001b[0msuper_class\u001b[0m \u001b[1;33m=\u001b[0m \u001b[0msuper\u001b[0m\u001b[1;33m(\u001b[0m\u001b[0mAnalyseDeclarationsTransform\u001b[0m\u001b[1;33m,\u001b[0m \u001b[0mself\u001b[0m\u001b[1;33m)\u001b[0m\u001b[1;33m\u001b[0m\u001b[0m",
      "\u001b[0;32m   1455\u001b[0m         \u001b[0mself\u001b[0m\u001b[1;33m.\u001b[0m\u001b[0m_super_visit_FuncDefNode\u001b[0m \u001b[1;33m=\u001b[0m \u001b[0msuper_class\u001b[0m\u001b[1;33m.\u001b[0m\u001b[0mvisit_FuncDefNode\u001b[0m\u001b[1;33m\u001b[0m\u001b[0m",
      "\u001b[1;32m-> 1456\u001b[1;33m         \u001b[1;32mreturn\u001b[0m \u001b[0msuper_class\u001b[0m\u001b[1;33m.\u001b[0m\u001b[0m__call__\u001b[0m\u001b[1;33m(\u001b[0m\u001b[0mroot\u001b[0m\u001b[1;33m)\u001b[0m\u001b[1;33m\u001b[0m\u001b[0m",
      "\u001b[0m\u001b[0;32m   1457\u001b[0m \u001b[1;33m\u001b[0m\u001b[0m",
      "\u001b[0;32m   1458\u001b[0m     \u001b[1;32mdef\u001b[0m \u001b[0mvisit_NameNode\u001b[0m\u001b[1;33m(\u001b[0m\u001b[0mself\u001b[0m\u001b[1;33m,\u001b[0m \u001b[0mnode\u001b[0m\u001b[1;33m)\u001b[0m\u001b[1;33m:\u001b[0m\u001b[1;33m\u001b[0m\u001b[0m",
      "\u001b[1;32m/home/cekees/proteus/linux2/lib/python2.7/site-packages/Cython/Compiler/Visitor.so\u001b[0m in \u001b[0;36mCython.Compiler.Visitor.EnvTransform.__call__ (/home/cekees/.hashdist/tmp/cython-ipsf7pzmphil-1/Cython/Compiler/Visitor.c:7678)\u001b[1;34m()\u001b[0m",
      "\u001b[1;32m/home/cekees/proteus/linux2/lib/python2.7/site-packages/Cython/Compiler/Visitor.so\u001b[0m in \u001b[0;36mCython.Compiler.Visitor.CythonTransform.__call__ (/home/cekees/.hashdist/tmp/cython-ipsf7pzmphil-1/Cython/Compiler/Visitor.c:6410)\u001b[1;34m()\u001b[0m",
      "\u001b[1;32m/home/cekees/proteus/linux2/lib/python2.7/site-packages/Cython/Compiler/Visitor.so\u001b[0m in \u001b[0;36mCython.Compiler.Visitor.VisitorTransform.__call__ (/home/cekees/.hashdist/tmp/cython-ipsf7pzmphil-1/Cython/Compiler/Visitor.c:6076)\u001b[1;34m()\u001b[0m",
      "\u001b[1;32m/home/cekees/proteus/linux2/lib/python2.7/site-packages/Cython/Compiler/Visitor.so\u001b[0m in \u001b[0;36mCython.Compiler.Visitor.TreeVisitor._visit (/home/cekees/.hashdist/tmp/cython-ipsf7pzmphil-1/Cython/Compiler/Visitor.c:4624)\u001b[1;34m()\u001b[0m",
      "\u001b[1;32m/home/cekees/proteus/linux2/lib/python2.7/site-packages/Cython/Compiler/Visitor.so\u001b[0m in \u001b[0;36mCython.Compiler.Visitor.TreeVisitor._raise_compiler_error (/home/cekees/.hashdist/tmp/cython-ipsf7pzmphil-1/Cython/Compiler/Visitor.c:3768)\u001b[1;34m()\u001b[0m",
      "\u001b[1;31mCompilerCrash\u001b[0m: ",
      "Error compiling Cython file:",
      "------------------------------------------------------------",
      "...",
      "from posix cimport unistd",
      "^",
      "------------------------------------------------------------",
      "",
      "(tree fragment):1:0: Compiler crash in AnalyseDeclarationsTransform",
      "",
      "File 'ModuleNode.py', line 104, in analyse_declarations: ModuleNode((tree fragment):1:0,",
      "    full_module_name = '(tree fragment)')",
      "File 'Nodes.py', line 415, in analyse_declarations: StatListNode((tree fragment):1:0)",
      "File 'Nodes.py', line 7197, in analyse_declarations: FromCImportStatNode((tree fragment):1:0,",
      "    imported_names = [...]/1,",
      "    module_name = u'posix')",
      "",
      "Compiler crash traceback from this point on:",
      "  File \"/home/cekees/proteus/linux2/lib/python2.7/site-packages/Cython/Compiler/Nodes.py\", line 7197, in analyse_declarations",
      "    module_scope = env.find_module(self.module_name, self.pos, relative_level=self.relative_level)",
      "  File \"/home/cekees/proteus/linux2/lib/python2.7/site-packages/Cython/Compiler/Symtab.py\", line 1130, in find_module",
      "    module_name, relative_to=None if relative_level == 0 else self.parent_module, pos=pos)",
      "  File \"/home/cekees/proteus/linux2/lib/python2.7/site-packages/Cython/Compiler/TreeFragment.py\", line 37, in find_module",
      "    raise AssertionError(\"Not yet supporting any cimports/includes from string code snippets\")",
      "AssertionError: Not yet supporting any cimports/includes from string code snippets",
      "",
      "[1:execute]: ",
      "\u001b[1;31m---------------------------------------------------------------------------\u001b[0m\u001b[1;31mCompilerCrash\u001b[0m                             Traceback (most recent call last)\u001b[1;32m<ipython-input-3-c0554a64b7da>\u001b[0m in \u001b[0;36m<module>\u001b[1;34m()\u001b[0m",
      "\u001b[0;32m      9\u001b[0m     \u001b[0minline\u001b[0m\u001b[1;33m(\u001b[0m\u001b[0mcode\u001b[0m\u001b[1;33m,\u001b[0m \u001b[0mquiet\u001b[0m\u001b[1;33m=\u001b[0m\u001b[0mTrue\u001b[0m\u001b[1;33m,\u001b[0m \u001b[0mt\u001b[0m\u001b[1;33m=\u001b[0m\u001b[0mt\u001b[0m\u001b[1;33m)\u001b[0m\u001b[1;33m\u001b[0m\u001b[0m",
      "\u001b[0;32m     10\u001b[0m \u001b[1;33m\u001b[0m\u001b[0m",
      "\u001b[1;32m---> 11\u001b[1;33m \u001b[0mgilsleep\u001b[0m\u001b[1;33m(\u001b[0m\u001b[1;36m1\u001b[0m\u001b[1;33m)\u001b[0m\u001b[1;33m\u001b[0m\u001b[0m",
      "\u001b[0m\u001b[1;32m<ipython-input-3-c0554a64b7da>\u001b[0m in \u001b[0;36mgilsleep\u001b[1;34m(t)\u001b[0m",
      "\u001b[0;32m      7\u001b[0m         \u001b[1;34m'unistd.sleep(t)'\u001b[0m\u001b[1;33m,\u001b[0m\u001b[1;33m\u001b[0m\u001b[0m",
      "\u001b[0;32m      8\u001b[0m     ])",
      "\u001b[1;32m----> 9\u001b[1;33m     \u001b[0minline\u001b[0m\u001b[1;33m(\u001b[0m\u001b[0mcode\u001b[0m\u001b[1;33m,\u001b[0m \u001b[0mquiet\u001b[0m\u001b[1;33m=\u001b[0m\u001b[0mTrue\u001b[0m\u001b[1;33m,\u001b[0m \u001b[0mt\u001b[0m\u001b[1;33m=\u001b[0m\u001b[0mt\u001b[0m\u001b[1;33m)\u001b[0m\u001b[1;33m\u001b[0m\u001b[0m",
      "\u001b[0m\u001b[0;32m     10\u001b[0m \u001b[1;33m\u001b[0m\u001b[0m",
      "\u001b[0;32m     11\u001b[0m \u001b[0mgilsleep\u001b[0m\u001b[1;33m(\u001b[0m\u001b[1;36m1\u001b[0m\u001b[1;33m)\u001b[0m\u001b[1;33m\u001b[0m\u001b[0m",
      "\u001b[1;32m/home/cekees/proteus/linux2/lib/python2.7/site-packages/Cython/Shadow.pyc\u001b[0m in \u001b[0;36minline\u001b[1;34m(f, *args, **kwds)\u001b[0m",
      "\u001b[0;32m    105\u001b[0m   \u001b[1;32mif\u001b[0m \u001b[0misinstance\u001b[0m\u001b[1;33m(\u001b[0m\u001b[0mf\u001b[0m\u001b[1;33m,\u001b[0m \u001b[0mbasestring\u001b[0m\u001b[1;33m)\u001b[0m\u001b[1;33m:\u001b[0m\u001b[1;33m\u001b[0m\u001b[0m",
      "\u001b[0;32m    106\u001b[0m     \u001b[1;32mfrom\u001b[0m \u001b[0mCython\u001b[0m\u001b[1;33m.\u001b[0m\u001b[0mBuild\u001b[0m\u001b[1;33m.\u001b[0m\u001b[0mInline\u001b[0m \u001b[1;32mimport\u001b[0m \u001b[0mcython_inline\u001b[0m\u001b[1;33m\u001b[0m\u001b[0m",
      "\u001b[1;32m--> 107\u001b[1;33m     \u001b[1;32mreturn\u001b[0m \u001b[0mcython_inline\u001b[0m\u001b[1;33m(\u001b[0m\u001b[0mf\u001b[0m\u001b[1;33m,\u001b[0m \u001b[1;33m*\u001b[0m\u001b[0margs\u001b[0m\u001b[1;33m,\u001b[0m \u001b[1;33m**\u001b[0m\u001b[0mkwds\u001b[0m\u001b[1;33m)\u001b[0m\u001b[1;33m\u001b[0m\u001b[0m",
      "\u001b[0m\u001b[0;32m    108\u001b[0m   \u001b[1;32melse\u001b[0m\u001b[1;33m:\u001b[0m\u001b[1;33m\u001b[0m\u001b[0m",
      "\u001b[0;32m    109\u001b[0m     \u001b[1;32massert\u001b[0m \u001b[0mlen\u001b[0m\u001b[1;33m(\u001b[0m\u001b[0margs\u001b[0m\u001b[1;33m)\u001b[0m \u001b[1;33m==\u001b[0m \u001b[0mlen\u001b[0m\u001b[1;33m(\u001b[0m\u001b[0mkwds\u001b[0m\u001b[1;33m)\u001b[0m \u001b[1;33m==\u001b[0m \u001b[1;36m0\u001b[0m\u001b[1;33m\u001b[0m\u001b[0m",
      "\u001b[1;32m/home/cekees/proteus/linux2/lib/python2.7/site-packages/Cython/Build/Inline.pyc\u001b[0m in \u001b[0;36mcython_inline\u001b[1;34m(code, get_type, lib_dir, cython_include_dirs, force, quiet, locals, globals, **kwds)\u001b[0m",
      "\u001b[0;32m    130\u001b[0m         \u001b[0mglobals\u001b[0m \u001b[1;33m=\u001b[0m \u001b[0minspect\u001b[0m\u001b[1;33m.\u001b[0m\u001b[0mcurrentframe\u001b[0m\u001b[1;33m(\u001b[0m\u001b[1;33m)\u001b[0m\u001b[1;33m.\u001b[0m\u001b[0mf_back\u001b[0m\u001b[1;33m.\u001b[0m\u001b[0mf_back\u001b[0m\u001b[1;33m.\u001b[0m\u001b[0mf_globals\u001b[0m\u001b[1;33m\u001b[0m\u001b[0m",
      "\u001b[0;32m    131\u001b[0m     \u001b[1;32mtry\u001b[0m\u001b[1;33m:\u001b[0m\u001b[1;33m\u001b[0m\u001b[0m",
      "\u001b[1;32m--> 132\u001b[1;33m         \u001b[1;32mfor\u001b[0m \u001b[0msymbol\u001b[0m \u001b[1;32min\u001b[0m \u001b[0munbound_symbols\u001b[0m\u001b[1;33m(\u001b[0m\u001b[0mcode\u001b[0m\u001b[1;33m)\u001b[0m\u001b[1;33m:\u001b[0m\u001b[1;33m\u001b[0m\u001b[0m",
      "\u001b[0m\u001b[0;32m    133\u001b[0m             \u001b[1;32mif\u001b[0m \u001b[0msymbol\u001b[0m \u001b[1;32min\u001b[0m \u001b[0mkwds\u001b[0m\u001b[1;33m:\u001b[0m\u001b[1;33m\u001b[0m\u001b[0m",
      "\u001b[0;32m    134\u001b[0m                 \u001b[1;32mcontinue\u001b[0m\u001b[1;33m\u001b[0m\u001b[0m",
      "\u001b[1;32m/home/cekees/proteus/linux2/lib/python2.7/site-packages/Cython/Utils.pyc\u001b[0m in \u001b[0;36mwrapper\u001b[1;34m(*args)\u001b[0m",
      "\u001b[0;32m     20\u001b[0m         \u001b[0mres\u001b[0m \u001b[1;33m=\u001b[0m \u001b[0mcache\u001b[0m\u001b[1;33m.\u001b[0m\u001b[0mget\u001b[0m\u001b[1;33m(\u001b[0m\u001b[0margs\u001b[0m\u001b[1;33m,\u001b[0m \u001b[0muncomputed\u001b[0m\u001b[1;33m)\u001b[0m\u001b[1;33m\u001b[0m\u001b[0m",
      "\u001b[0;32m     21\u001b[0m         \u001b[1;32mif\u001b[0m \u001b[0mres\u001b[0m \u001b[1;32mis\u001b[0m \u001b[0muncomputed\u001b[0m\u001b[1;33m:\u001b[0m\u001b[1;33m\u001b[0m\u001b[0m",
      "\u001b[1;32m---> 22\u001b[1;33m             \u001b[0mres\u001b[0m \u001b[1;33m=\u001b[0m \u001b[0mcache\u001b[0m\u001b[1;33m[\u001b[0m\u001b[0margs\u001b[0m\u001b[1;33m]\u001b[0m \u001b[1;33m=\u001b[0m \u001b[0mf\u001b[0m\u001b[1;33m(\u001b[0m\u001b[1;33m*\u001b[0m\u001b[0margs\u001b[0m\u001b[1;33m)\u001b[0m\u001b[1;33m\u001b[0m\u001b[0m",
      "\u001b[0m\u001b[0;32m     23\u001b[0m         \u001b[1;32mreturn\u001b[0m \u001b[0mres\u001b[0m\u001b[1;33m\u001b[0m\u001b[0m",
      "\u001b[0;32m     24\u001b[0m     \u001b[1;32mreturn\u001b[0m \u001b[0mwrapper\u001b[0m\u001b[1;33m\u001b[0m\u001b[0m",
      "\u001b[1;32m/home/cekees/proteus/linux2/lib/python2.7/site-packages/Cython/Build/Inline.pyc\u001b[0m in \u001b[0;36munbound_symbols\u001b[1;34m(code, context)\u001b[0m",
      "\u001b[0;32m     56\u001b[0m         \u001b[1;32mif\u001b[0m \u001b[0mphase\u001b[0m \u001b[1;32mis\u001b[0m \u001b[0mNone\u001b[0m\u001b[1;33m:\u001b[0m\u001b[1;33m\u001b[0m\u001b[0m",
      "\u001b[0;32m     57\u001b[0m             \u001b[1;32mcontinue\u001b[0m\u001b[1;33m\u001b[0m\u001b[0m",
      "\u001b[1;32m---> 58\u001b[1;33m         \u001b[0mtree\u001b[0m \u001b[1;33m=\u001b[0m \u001b[0mphase\u001b[0m\u001b[1;33m(\u001b[0m\u001b[0mtree\u001b[0m\u001b[1;33m)\u001b[0m\u001b[1;33m\u001b[0m\u001b[0m",
      "\u001b[0m\u001b[0;32m     59\u001b[0m         \u001b[1;32mif\u001b[0m \u001b[0misinstance\u001b[0m\u001b[1;33m(\u001b[0m\u001b[0mphase\u001b[0m\u001b[1;33m,\u001b[0m \u001b[0mAnalyseDeclarationsTransform\u001b[0m\u001b[1;33m)\u001b[0m\u001b[1;33m:\u001b[0m\u001b[1;33m\u001b[0m\u001b[0m",
      "\u001b[0;32m     60\u001b[0m             \u001b[1;32mbreak\u001b[0m\u001b[1;33m\u001b[0m\u001b[0m",
      "\u001b[1;32m/home/cekees/proteus/linux2/lib/python2.7/site-packages/Cython/Compiler/ParseTreeTransforms.pyc\u001b[0m in \u001b[0;36m__call__\u001b[1;34m(self, root)\u001b[0m",
      "\u001b[0;32m   1454\u001b[0m         \u001b[0msuper_class\u001b[0m \u001b[1;33m=\u001b[0m \u001b[0msuper\u001b[0m\u001b[1;33m(\u001b[0m\u001b[0mAnalyseDeclarationsTransform\u001b[0m\u001b[1;33m,\u001b[0m \u001b[0mself\u001b[0m\u001b[1;33m)\u001b[0m\u001b[1;33m\u001b[0m\u001b[0m",
      "\u001b[0;32m   1455\u001b[0m         \u001b[0mself\u001b[0m\u001b[1;33m.\u001b[0m\u001b[0m_super_visit_FuncDefNode\u001b[0m \u001b[1;33m=\u001b[0m \u001b[0msuper_class\u001b[0m\u001b[1;33m.\u001b[0m\u001b[0mvisit_FuncDefNode\u001b[0m\u001b[1;33m\u001b[0m\u001b[0m",
      "\u001b[1;32m-> 1456\u001b[1;33m         \u001b[1;32mreturn\u001b[0m \u001b[0msuper_class\u001b[0m\u001b[1;33m.\u001b[0m\u001b[0m__call__\u001b[0m\u001b[1;33m(\u001b[0m\u001b[0mroot\u001b[0m\u001b[1;33m)\u001b[0m\u001b[1;33m\u001b[0m\u001b[0m",
      "\u001b[0m\u001b[0;32m   1457\u001b[0m \u001b[1;33m\u001b[0m\u001b[0m",
      "\u001b[0;32m   1458\u001b[0m     \u001b[1;32mdef\u001b[0m \u001b[0mvisit_NameNode\u001b[0m\u001b[1;33m(\u001b[0m\u001b[0mself\u001b[0m\u001b[1;33m,\u001b[0m \u001b[0mnode\u001b[0m\u001b[1;33m)\u001b[0m\u001b[1;33m:\u001b[0m\u001b[1;33m\u001b[0m\u001b[0m",
      "\u001b[1;32m/home/cekees/proteus/linux2/lib/python2.7/site-packages/Cython/Compiler/Visitor.so\u001b[0m in \u001b[0;36mCython.Compiler.Visitor.EnvTransform.__call__ (/home/cekees/.hashdist/tmp/cython-ipsf7pzmphil-1/Cython/Compiler/Visitor.c:7678)\u001b[1;34m()\u001b[0m",
      "\u001b[1;32m/home/cekees/proteus/linux2/lib/python2.7/site-packages/Cython/Compiler/Visitor.so\u001b[0m in \u001b[0;36mCython.Compiler.Visitor.CythonTransform.__call__ (/home/cekees/.hashdist/tmp/cython-ipsf7pzmphil-1/Cython/Compiler/Visitor.c:6410)\u001b[1;34m()\u001b[0m",
      "\u001b[1;32m/home/cekees/proteus/linux2/lib/python2.7/site-packages/Cython/Compiler/Visitor.so\u001b[0m in \u001b[0;36mCython.Compiler.Visitor.VisitorTransform.__call__ (/home/cekees/.hashdist/tmp/cython-ipsf7pzmphil-1/Cython/Compiler/Visitor.c:6076)\u001b[1;34m()\u001b[0m",
      "\u001b[1;32m/home/cekees/proteus/linux2/lib/python2.7/site-packages/Cython/Compiler/Visitor.so\u001b[0m in \u001b[0;36mCython.Compiler.Visitor.TreeVisitor._visit (/home/cekees/.hashdist/tmp/cython-ipsf7pzmphil-1/Cython/Compiler/Visitor.c:4624)\u001b[1;34m()\u001b[0m",
      "\u001b[1;32m/home/cekees/proteus/linux2/lib/python2.7/site-packages/Cython/Compiler/Visitor.so\u001b[0m in \u001b[0;36mCython.Compiler.Visitor.TreeVisitor._raise_compiler_error (/home/cekees/.hashdist/tmp/cython-ipsf7pzmphil-1/Cython/Compiler/Visitor.c:3768)\u001b[1;34m()\u001b[0m",
      "\u001b[1;31mCompilerCrash\u001b[0m: ",
      "Error compiling Cython file:",
      "------------------------------------------------------------",
      "...",
      "from posix cimport unistd",
      "^",
      "------------------------------------------------------------",
      "",
      "(tree fragment):1:0: Compiler crash in AnalyseDeclarationsTransform",
      "",
      "File 'ModuleNode.py', line 104, in analyse_declarations: ModuleNode((tree fragment):1:0,",
      "    full_module_name = '(tree fragment)')",
      "File 'Nodes.py', line 415, in analyse_declarations: StatListNode((tree fragment):1:0)",
      "File 'Nodes.py', line 7197, in analyse_declarations: FromCImportStatNode((tree fragment):1:0,",
      "    imported_names = [...]/1,",
      "    module_name = u'posix')",
      "",
      "Compiler crash traceback from this point on:",
      "  File \"/home/cekees/proteus/linux2/lib/python2.7/site-packages/Cython/Compiler/Nodes.py\", line 7197, in analyse_declarations",
      "    module_scope = env.find_module(self.module_name, self.pos, relative_level=self.relative_level)",
      "  File \"/home/cekees/proteus/linux2/lib/python2.7/site-packages/Cython/Compiler/Symtab.py\", line 1130, in find_module",
      "    module_name, relative_to=None if relative_level == 0 else self.parent_module, pos=pos)",
      "  File \"/home/cekees/proteus/linux2/lib/python2.7/site-packages/Cython/Compiler/TreeFragment.py\", line 37, in find_module",
      "    raise AssertionError(\"Not yet supporting any cimports/includes from string code snippets\")",
      "AssertionError: Not yet supporting any cimports/includes from string code snippets",
      "",
      "[2:execute]: ",
      "\u001b[1;31m---------------------------------------------------------------------------\u001b[0m\u001b[1;31mCompilerCrash\u001b[0m                             Traceback (most recent call last)\u001b[1;32m<ipython-input-3-c0554a64b7da>\u001b[0m in \u001b[0;36m<module>\u001b[1;34m()\u001b[0m",
      "\u001b[0;32m      9\u001b[0m     \u001b[0minline\u001b[0m\u001b[1;33m(\u001b[0m\u001b[0mcode\u001b[0m\u001b[1;33m,\u001b[0m \u001b[0mquiet\u001b[0m\u001b[1;33m=\u001b[0m\u001b[0mTrue\u001b[0m\u001b[1;33m,\u001b[0m \u001b[0mt\u001b[0m\u001b[1;33m=\u001b[0m\u001b[0mt\u001b[0m\u001b[1;33m)\u001b[0m\u001b[1;33m\u001b[0m\u001b[0m",
      "\u001b[0;32m     10\u001b[0m \u001b[1;33m\u001b[0m\u001b[0m",
      "\u001b[1;32m---> 11\u001b[1;33m \u001b[0mgilsleep\u001b[0m\u001b[1;33m(\u001b[0m\u001b[1;36m1\u001b[0m\u001b[1;33m)\u001b[0m\u001b[1;33m\u001b[0m\u001b[0m",
      "\u001b[0m\u001b[1;32m<ipython-input-3-c0554a64b7da>\u001b[0m in \u001b[0;36mgilsleep\u001b[1;34m(t)\u001b[0m",
      "\u001b[0;32m      7\u001b[0m         \u001b[1;34m'unistd.sleep(t)'\u001b[0m\u001b[1;33m,\u001b[0m\u001b[1;33m\u001b[0m\u001b[0m",
      "\u001b[0;32m      8\u001b[0m     ])",
      "\u001b[1;32m----> 9\u001b[1;33m     \u001b[0minline\u001b[0m\u001b[1;33m(\u001b[0m\u001b[0mcode\u001b[0m\u001b[1;33m,\u001b[0m \u001b[0mquiet\u001b[0m\u001b[1;33m=\u001b[0m\u001b[0mTrue\u001b[0m\u001b[1;33m,\u001b[0m \u001b[0mt\u001b[0m\u001b[1;33m=\u001b[0m\u001b[0mt\u001b[0m\u001b[1;33m)\u001b[0m\u001b[1;33m\u001b[0m\u001b[0m",
      "\u001b[0m\u001b[0;32m     10\u001b[0m \u001b[1;33m\u001b[0m\u001b[0m",
      "\u001b[0;32m     11\u001b[0m \u001b[0mgilsleep\u001b[0m\u001b[1;33m(\u001b[0m\u001b[1;36m1\u001b[0m\u001b[1;33m)\u001b[0m\u001b[1;33m\u001b[0m\u001b[0m",
      "\u001b[1;32m/home/cekees/proteus/linux2/lib/python2.7/site-packages/Cython/Shadow.pyc\u001b[0m in \u001b[0;36minline\u001b[1;34m(f, *args, **kwds)\u001b[0m",
      "\u001b[0;32m    105\u001b[0m   \u001b[1;32mif\u001b[0m \u001b[0misinstance\u001b[0m\u001b[1;33m(\u001b[0m\u001b[0mf\u001b[0m\u001b[1;33m,\u001b[0m \u001b[0mbasestring\u001b[0m\u001b[1;33m)\u001b[0m\u001b[1;33m:\u001b[0m\u001b[1;33m\u001b[0m\u001b[0m",
      "\u001b[0;32m    106\u001b[0m     \u001b[1;32mfrom\u001b[0m \u001b[0mCython\u001b[0m\u001b[1;33m.\u001b[0m\u001b[0mBuild\u001b[0m\u001b[1;33m.\u001b[0m\u001b[0mInline\u001b[0m \u001b[1;32mimport\u001b[0m \u001b[0mcython_inline\u001b[0m\u001b[1;33m\u001b[0m\u001b[0m",
      "\u001b[1;32m--> 107\u001b[1;33m     \u001b[1;32mreturn\u001b[0m \u001b[0mcython_inline\u001b[0m\u001b[1;33m(\u001b[0m\u001b[0mf\u001b[0m\u001b[1;33m,\u001b[0m \u001b[1;33m*\u001b[0m\u001b[0margs\u001b[0m\u001b[1;33m,\u001b[0m \u001b[1;33m**\u001b[0m\u001b[0mkwds\u001b[0m\u001b[1;33m)\u001b[0m\u001b[1;33m\u001b[0m\u001b[0m",
      "\u001b[0m\u001b[0;32m    108\u001b[0m   \u001b[1;32melse\u001b[0m\u001b[1;33m:\u001b[0m\u001b[1;33m\u001b[0m\u001b[0m",
      "\u001b[0;32m    109\u001b[0m     \u001b[1;32massert\u001b[0m \u001b[0mlen\u001b[0m\u001b[1;33m(\u001b[0m\u001b[0margs\u001b[0m\u001b[1;33m)\u001b[0m \u001b[1;33m==\u001b[0m \u001b[0mlen\u001b[0m\u001b[1;33m(\u001b[0m\u001b[0mkwds\u001b[0m\u001b[1;33m)\u001b[0m \u001b[1;33m==\u001b[0m \u001b[1;36m0\u001b[0m\u001b[1;33m\u001b[0m\u001b[0m",
      "\u001b[1;32m/home/cekees/proteus/linux2/lib/python2.7/site-packages/Cython/Build/Inline.pyc\u001b[0m in \u001b[0;36mcython_inline\u001b[1;34m(code, get_type, lib_dir, cython_include_dirs, force, quiet, locals, globals, **kwds)\u001b[0m",
      "\u001b[0;32m    130\u001b[0m         \u001b[0mglobals\u001b[0m \u001b[1;33m=\u001b[0m \u001b[0minspect\u001b[0m\u001b[1;33m.\u001b[0m\u001b[0mcurrentframe\u001b[0m\u001b[1;33m(\u001b[0m\u001b[1;33m)\u001b[0m\u001b[1;33m.\u001b[0m\u001b[0mf_back\u001b[0m\u001b[1;33m.\u001b[0m\u001b[0mf_back\u001b[0m\u001b[1;33m.\u001b[0m\u001b[0mf_globals\u001b[0m\u001b[1;33m\u001b[0m\u001b[0m",
      "\u001b[0;32m    131\u001b[0m     \u001b[1;32mtry\u001b[0m\u001b[1;33m:\u001b[0m\u001b[1;33m\u001b[0m\u001b[0m",
      "\u001b[1;32m--> 132\u001b[1;33m         \u001b[1;32mfor\u001b[0m \u001b[0msymbol\u001b[0m \u001b[1;32min\u001b[0m \u001b[0munbound_symbols\u001b[0m\u001b[1;33m(\u001b[0m\u001b[0mcode\u001b[0m\u001b[1;33m)\u001b[0m\u001b[1;33m:\u001b[0m\u001b[1;33m\u001b[0m\u001b[0m",
      "\u001b[0m\u001b[0;32m    133\u001b[0m             \u001b[1;32mif\u001b[0m \u001b[0msymbol\u001b[0m \u001b[1;32min\u001b[0m \u001b[0mkwds\u001b[0m\u001b[1;33m:\u001b[0m\u001b[1;33m\u001b[0m\u001b[0m",
      "\u001b[0;32m    134\u001b[0m                 \u001b[1;32mcontinue\u001b[0m\u001b[1;33m\u001b[0m\u001b[0m",
      "\u001b[1;32m/home/cekees/proteus/linux2/lib/python2.7/site-packages/Cython/Utils.pyc\u001b[0m in \u001b[0;36mwrapper\u001b[1;34m(*args)\u001b[0m",
      "\u001b[0;32m     20\u001b[0m         \u001b[0mres\u001b[0m \u001b[1;33m=\u001b[0m \u001b[0mcache\u001b[0m\u001b[1;33m.\u001b[0m\u001b[0mget\u001b[0m\u001b[1;33m(\u001b[0m\u001b[0margs\u001b[0m\u001b[1;33m,\u001b[0m \u001b[0muncomputed\u001b[0m\u001b[1;33m)\u001b[0m\u001b[1;33m\u001b[0m\u001b[0m",
      "\u001b[0;32m     21\u001b[0m         \u001b[1;32mif\u001b[0m \u001b[0mres\u001b[0m \u001b[1;32mis\u001b[0m \u001b[0muncomputed\u001b[0m\u001b[1;33m:\u001b[0m\u001b[1;33m\u001b[0m\u001b[0m",
      "\u001b[1;32m---> 22\u001b[1;33m             \u001b[0mres\u001b[0m \u001b[1;33m=\u001b[0m \u001b[0mcache\u001b[0m\u001b[1;33m[\u001b[0m\u001b[0margs\u001b[0m\u001b[1;33m]\u001b[0m \u001b[1;33m=\u001b[0m \u001b[0mf\u001b[0m\u001b[1;33m(\u001b[0m\u001b[1;33m*\u001b[0m\u001b[0margs\u001b[0m\u001b[1;33m)\u001b[0m\u001b[1;33m\u001b[0m\u001b[0m",
      "\u001b[0m\u001b[0;32m     23\u001b[0m         \u001b[1;32mreturn\u001b[0m \u001b[0mres\u001b[0m\u001b[1;33m\u001b[0m\u001b[0m",
      "\u001b[0;32m     24\u001b[0m     \u001b[1;32mreturn\u001b[0m \u001b[0mwrapper\u001b[0m\u001b[1;33m\u001b[0m\u001b[0m",
      "\u001b[1;32m/home/cekees/proteus/linux2/lib/python2.7/site-packages/Cython/Build/Inline.pyc\u001b[0m in \u001b[0;36munbound_symbols\u001b[1;34m(code, context)\u001b[0m",
      "\u001b[0;32m     56\u001b[0m         \u001b[1;32mif\u001b[0m \u001b[0mphase\u001b[0m \u001b[1;32mis\u001b[0m \u001b[0mNone\u001b[0m\u001b[1;33m:\u001b[0m\u001b[1;33m\u001b[0m\u001b[0m",
      "\u001b[0;32m     57\u001b[0m             \u001b[1;32mcontinue\u001b[0m\u001b[1;33m\u001b[0m\u001b[0m",
      "\u001b[1;32m---> 58\u001b[1;33m         \u001b[0mtree\u001b[0m \u001b[1;33m=\u001b[0m \u001b[0mphase\u001b[0m\u001b[1;33m(\u001b[0m\u001b[0mtree\u001b[0m\u001b[1;33m)\u001b[0m\u001b[1;33m\u001b[0m\u001b[0m",
      "\u001b[0m\u001b[0;32m     59\u001b[0m         \u001b[1;32mif\u001b[0m \u001b[0misinstance\u001b[0m\u001b[1;33m(\u001b[0m\u001b[0mphase\u001b[0m\u001b[1;33m,\u001b[0m \u001b[0mAnalyseDeclarationsTransform\u001b[0m\u001b[1;33m)\u001b[0m\u001b[1;33m:\u001b[0m\u001b[1;33m\u001b[0m\u001b[0m",
      "\u001b[0;32m     60\u001b[0m             \u001b[1;32mbreak\u001b[0m\u001b[1;33m\u001b[0m\u001b[0m",
      "\u001b[1;32m/home/cekees/proteus/linux2/lib/python2.7/site-packages/Cython/Compiler/ParseTreeTransforms.pyc\u001b[0m in \u001b[0;36m__call__\u001b[1;34m(self, root)\u001b[0m",
      "\u001b[0;32m   1454\u001b[0m         \u001b[0msuper_class\u001b[0m \u001b[1;33m=\u001b[0m \u001b[0msuper\u001b[0m\u001b[1;33m(\u001b[0m\u001b[0mAnalyseDeclarationsTransform\u001b[0m\u001b[1;33m,\u001b[0m \u001b[0mself\u001b[0m\u001b[1;33m)\u001b[0m\u001b[1;33m\u001b[0m\u001b[0m",
      "\u001b[0;32m   1455\u001b[0m         \u001b[0mself\u001b[0m\u001b[1;33m.\u001b[0m\u001b[0m_super_visit_FuncDefNode\u001b[0m \u001b[1;33m=\u001b[0m \u001b[0msuper_class\u001b[0m\u001b[1;33m.\u001b[0m\u001b[0mvisit_FuncDefNode\u001b[0m\u001b[1;33m\u001b[0m\u001b[0m",
      "\u001b[1;32m-> 1456\u001b[1;33m         \u001b[1;32mreturn\u001b[0m \u001b[0msuper_class\u001b[0m\u001b[1;33m.\u001b[0m\u001b[0m__call__\u001b[0m\u001b[1;33m(\u001b[0m\u001b[0mroot\u001b[0m\u001b[1;33m)\u001b[0m\u001b[1;33m\u001b[0m\u001b[0m",
      "\u001b[0m\u001b[0;32m   1457\u001b[0m \u001b[1;33m\u001b[0m\u001b[0m",
      "\u001b[0;32m   1458\u001b[0m     \u001b[1;32mdef\u001b[0m \u001b[0mvisit_NameNode\u001b[0m\u001b[1;33m(\u001b[0m\u001b[0mself\u001b[0m\u001b[1;33m,\u001b[0m \u001b[0mnode\u001b[0m\u001b[1;33m)\u001b[0m\u001b[1;33m:\u001b[0m\u001b[1;33m\u001b[0m\u001b[0m",
      "\u001b[1;32m/home/cekees/proteus/linux2/lib/python2.7/site-packages/Cython/Compiler/Visitor.so\u001b[0m in \u001b[0;36mCython.Compiler.Visitor.EnvTransform.__call__ (/home/cekees/.hashdist/tmp/cython-ipsf7pzmphil-1/Cython/Compiler/Visitor.c:7678)\u001b[1;34m()\u001b[0m",
      "\u001b[1;32m/home/cekees/proteus/linux2/lib/python2.7/site-packages/Cython/Compiler/Visitor.so\u001b[0m in \u001b[0;36mCython.Compiler.Visitor.CythonTransform.__call__ (/home/cekees/.hashdist/tmp/cython-ipsf7pzmphil-1/Cython/Compiler/Visitor.c:6410)\u001b[1;34m()\u001b[0m",
      "\u001b[1;32m/home/cekees/proteus/linux2/lib/python2.7/site-packages/Cython/Compiler/Visitor.so\u001b[0m in \u001b[0;36mCython.Compiler.Visitor.VisitorTransform.__call__ (/home/cekees/.hashdist/tmp/cython-ipsf7pzmphil-1/Cython/Compiler/Visitor.c:6076)\u001b[1;34m()\u001b[0m",
      "\u001b[1;32m/home/cekees/proteus/linux2/lib/python2.7/site-packages/Cython/Compiler/Visitor.so\u001b[0m in \u001b[0;36mCython.Compiler.Visitor.TreeVisitor._visit (/home/cekees/.hashdist/tmp/cython-ipsf7pzmphil-1/Cython/Compiler/Visitor.c:4624)\u001b[1;34m()\u001b[0m",
      "\u001b[1;32m/home/cekees/proteus/linux2/lib/python2.7/site-packages/Cython/Compiler/Visitor.so\u001b[0m in \u001b[0;36mCython.Compiler.Visitor.TreeVisitor._raise_compiler_error (/home/cekees/.hashdist/tmp/cython-ipsf7pzmphil-1/Cython/Compiler/Visitor.c:3768)\u001b[1;34m()\u001b[0m",
      "\u001b[1;31mCompilerCrash\u001b[0m: ",
      "Error compiling Cython file:",
      "------------------------------------------------------------",
      "...",
      "from posix cimport unistd",
      "^",
      "------------------------------------------------------------",
      "",
      "(tree fragment):1:0: Compiler crash in AnalyseDeclarationsTransform",
      "",
      "File 'ModuleNode.py', line 104, in analyse_declarations: ModuleNode((tree fragment):1:0,",
      "    full_module_name = '(tree fragment)')",
      "File 'Nodes.py', line 415, in analyse_declarations: StatListNode((tree fragment):1:0)",
      "File 'Nodes.py', line 7197, in analyse_declarations: FromCImportStatNode((tree fragment):1:0,",
      "    imported_names = [...]/1,",
      "    module_name = u'posix')",
      "",
      "Compiler crash traceback from this point on:",
      "  File \"/home/cekees/proteus/linux2/lib/python2.7/site-packages/Cython/Compiler/Nodes.py\", line 7197, in analyse_declarations",
      "    module_scope = env.find_module(self.module_name, self.pos, relative_level=self.relative_level)",
      "  File \"/home/cekees/proteus/linux2/lib/python2.7/site-packages/Cython/Compiler/Symtab.py\", line 1130, in find_module",
      "    module_name, relative_to=None if relative_level == 0 else self.parent_module, pos=pos)",
      "  File \"/home/cekees/proteus/linux2/lib/python2.7/site-packages/Cython/Compiler/TreeFragment.py\", line 37, in find_module",
      "    raise AssertionError(\"Not yet supporting any cimports/includes from string code snippets\")",
      "AssertionError: Not yet supporting any cimports/includes from string code snippets",
      "",
      "[3:execute]: ",
      "\u001b[1;31m---------------------------------------------------------------------------\u001b[0m\u001b[1;31mCompilerCrash\u001b[0m                             Traceback (most recent call last)\u001b[1;32m<ipython-input-3-c0554a64b7da>\u001b[0m in \u001b[0;36m<module>\u001b[1;34m()\u001b[0m",
      "\u001b[0;32m      9\u001b[0m     \u001b[0minline\u001b[0m\u001b[1;33m(\u001b[0m\u001b[0mcode\u001b[0m\u001b[1;33m,\u001b[0m \u001b[0mquiet\u001b[0m\u001b[1;33m=\u001b[0m\u001b[0mTrue\u001b[0m\u001b[1;33m,\u001b[0m \u001b[0mt\u001b[0m\u001b[1;33m=\u001b[0m\u001b[0mt\u001b[0m\u001b[1;33m)\u001b[0m\u001b[1;33m\u001b[0m\u001b[0m",
      "\u001b[0;32m     10\u001b[0m \u001b[1;33m\u001b[0m\u001b[0m",
      "\u001b[1;32m---> 11\u001b[1;33m \u001b[0mgilsleep\u001b[0m\u001b[1;33m(\u001b[0m\u001b[1;36m1\u001b[0m\u001b[1;33m)\u001b[0m\u001b[1;33m\u001b[0m\u001b[0m",
      "\u001b[0m\u001b[1;32m<ipython-input-3-c0554a64b7da>\u001b[0m in \u001b[0;36mgilsleep\u001b[1;34m(t)\u001b[0m",
      "\u001b[0;32m      7\u001b[0m         \u001b[1;34m'unistd.sleep(t)'\u001b[0m\u001b[1;33m,\u001b[0m\u001b[1;33m\u001b[0m\u001b[0m",
      "\u001b[0;32m      8\u001b[0m     ])",
      "\u001b[1;32m----> 9\u001b[1;33m     \u001b[0minline\u001b[0m\u001b[1;33m(\u001b[0m\u001b[0mcode\u001b[0m\u001b[1;33m,\u001b[0m \u001b[0mquiet\u001b[0m\u001b[1;33m=\u001b[0m\u001b[0mTrue\u001b[0m\u001b[1;33m,\u001b[0m \u001b[0mt\u001b[0m\u001b[1;33m=\u001b[0m\u001b[0mt\u001b[0m\u001b[1;33m)\u001b[0m\u001b[1;33m\u001b[0m\u001b[0m",
      "\u001b[0m\u001b[0;32m     10\u001b[0m \u001b[1;33m\u001b[0m\u001b[0m",
      "\u001b[0;32m     11\u001b[0m \u001b[0mgilsleep\u001b[0m\u001b[1;33m(\u001b[0m\u001b[1;36m1\u001b[0m\u001b[1;33m)\u001b[0m\u001b[1;33m\u001b[0m\u001b[0m",
      "\u001b[1;32m/home/cekees/proteus/linux2/lib/python2.7/site-packages/Cython/Shadow.pyc\u001b[0m in \u001b[0;36minline\u001b[1;34m(f, *args, **kwds)\u001b[0m",
      "\u001b[0;32m    105\u001b[0m   \u001b[1;32mif\u001b[0m \u001b[0misinstance\u001b[0m\u001b[1;33m(\u001b[0m\u001b[0mf\u001b[0m\u001b[1;33m,\u001b[0m \u001b[0mbasestring\u001b[0m\u001b[1;33m)\u001b[0m\u001b[1;33m:\u001b[0m\u001b[1;33m\u001b[0m\u001b[0m",
      "\u001b[0;32m    106\u001b[0m     \u001b[1;32mfrom\u001b[0m \u001b[0mCython\u001b[0m\u001b[1;33m.\u001b[0m\u001b[0mBuild\u001b[0m\u001b[1;33m.\u001b[0m\u001b[0mInline\u001b[0m \u001b[1;32mimport\u001b[0m \u001b[0mcython_inline\u001b[0m\u001b[1;33m\u001b[0m\u001b[0m",
      "\u001b[1;32m--> 107\u001b[1;33m     \u001b[1;32mreturn\u001b[0m \u001b[0mcython_inline\u001b[0m\u001b[1;33m(\u001b[0m\u001b[0mf\u001b[0m\u001b[1;33m,\u001b[0m \u001b[1;33m*\u001b[0m\u001b[0margs\u001b[0m\u001b[1;33m,\u001b[0m \u001b[1;33m**\u001b[0m\u001b[0mkwds\u001b[0m\u001b[1;33m)\u001b[0m\u001b[1;33m\u001b[0m\u001b[0m",
      "\u001b[0m\u001b[0;32m    108\u001b[0m   \u001b[1;32melse\u001b[0m\u001b[1;33m:\u001b[0m\u001b[1;33m\u001b[0m\u001b[0m",
      "\u001b[0;32m    109\u001b[0m     \u001b[1;32massert\u001b[0m \u001b[0mlen\u001b[0m\u001b[1;33m(\u001b[0m\u001b[0margs\u001b[0m\u001b[1;33m)\u001b[0m \u001b[1;33m==\u001b[0m \u001b[0mlen\u001b[0m\u001b[1;33m(\u001b[0m\u001b[0mkwds\u001b[0m\u001b[1;33m)\u001b[0m \u001b[1;33m==\u001b[0m \u001b[1;36m0\u001b[0m\u001b[1;33m\u001b[0m\u001b[0m",
      "\u001b[1;32m/home/cekees/proteus/linux2/lib/python2.7/site-packages/Cython/Build/Inline.pyc\u001b[0m in \u001b[0;36mcython_inline\u001b[1;34m(code, get_type, lib_dir, cython_include_dirs, force, quiet, locals, globals, **kwds)\u001b[0m",
      "\u001b[0;32m    130\u001b[0m         \u001b[0mglobals\u001b[0m \u001b[1;33m=\u001b[0m \u001b[0minspect\u001b[0m\u001b[1;33m.\u001b[0m\u001b[0mcurrentframe\u001b[0m\u001b[1;33m(\u001b[0m\u001b[1;33m)\u001b[0m\u001b[1;33m.\u001b[0m\u001b[0mf_back\u001b[0m\u001b[1;33m.\u001b[0m\u001b[0mf_back\u001b[0m\u001b[1;33m.\u001b[0m\u001b[0mf_globals\u001b[0m\u001b[1;33m\u001b[0m\u001b[0m",
      "\u001b[0;32m    131\u001b[0m     \u001b[1;32mtry\u001b[0m\u001b[1;33m:\u001b[0m\u001b[1;33m\u001b[0m\u001b[0m",
      "\u001b[1;32m--> 132\u001b[1;33m         \u001b[1;32mfor\u001b[0m \u001b[0msymbol\u001b[0m \u001b[1;32min\u001b[0m \u001b[0munbound_symbols\u001b[0m\u001b[1;33m(\u001b[0m\u001b[0mcode\u001b[0m\u001b[1;33m)\u001b[0m\u001b[1;33m:\u001b[0m\u001b[1;33m\u001b[0m\u001b[0m",
      "\u001b[0m\u001b[0;32m    133\u001b[0m             \u001b[1;32mif\u001b[0m \u001b[0msymbol\u001b[0m \u001b[1;32min\u001b[0m \u001b[0mkwds\u001b[0m\u001b[1;33m:\u001b[0m\u001b[1;33m\u001b[0m\u001b[0m",
      "\u001b[0;32m    134\u001b[0m                 \u001b[1;32mcontinue\u001b[0m\u001b[1;33m\u001b[0m\u001b[0m",
      "\u001b[1;32m/home/cekees/proteus/linux2/lib/python2.7/site-packages/Cython/Utils.pyc\u001b[0m in \u001b[0;36mwrapper\u001b[1;34m(*args)\u001b[0m",
      "\u001b[0;32m     20\u001b[0m         \u001b[0mres\u001b[0m \u001b[1;33m=\u001b[0m \u001b[0mcache\u001b[0m\u001b[1;33m.\u001b[0m\u001b[0mget\u001b[0m\u001b[1;33m(\u001b[0m\u001b[0margs\u001b[0m\u001b[1;33m,\u001b[0m \u001b[0muncomputed\u001b[0m\u001b[1;33m)\u001b[0m\u001b[1;33m\u001b[0m\u001b[0m",
      "\u001b[0;32m     21\u001b[0m         \u001b[1;32mif\u001b[0m \u001b[0mres\u001b[0m \u001b[1;32mis\u001b[0m \u001b[0muncomputed\u001b[0m\u001b[1;33m:\u001b[0m\u001b[1;33m\u001b[0m\u001b[0m",
      "\u001b[1;32m---> 22\u001b[1;33m             \u001b[0mres\u001b[0m \u001b[1;33m=\u001b[0m \u001b[0mcache\u001b[0m\u001b[1;33m[\u001b[0m\u001b[0margs\u001b[0m\u001b[1;33m]\u001b[0m \u001b[1;33m=\u001b[0m \u001b[0mf\u001b[0m\u001b[1;33m(\u001b[0m\u001b[1;33m*\u001b[0m\u001b[0margs\u001b[0m\u001b[1;33m)\u001b[0m\u001b[1;33m\u001b[0m\u001b[0m",
      "\u001b[0m\u001b[0;32m     23\u001b[0m         \u001b[1;32mreturn\u001b[0m \u001b[0mres\u001b[0m\u001b[1;33m\u001b[0m\u001b[0m",
      "\u001b[0;32m     24\u001b[0m     \u001b[1;32mreturn\u001b[0m \u001b[0mwrapper\u001b[0m\u001b[1;33m\u001b[0m\u001b[0m",
      "\u001b[1;32m/home/cekees/proteus/linux2/lib/python2.7/site-packages/Cython/Build/Inline.pyc\u001b[0m in \u001b[0;36munbound_symbols\u001b[1;34m(code, context)\u001b[0m",
      "\u001b[0;32m     56\u001b[0m         \u001b[1;32mif\u001b[0m \u001b[0mphase\u001b[0m \u001b[1;32mis\u001b[0m \u001b[0mNone\u001b[0m\u001b[1;33m:\u001b[0m\u001b[1;33m\u001b[0m\u001b[0m",
      "\u001b[0;32m     57\u001b[0m             \u001b[1;32mcontinue\u001b[0m\u001b[1;33m\u001b[0m\u001b[0m",
      "\u001b[1;32m---> 58\u001b[1;33m         \u001b[0mtree\u001b[0m \u001b[1;33m=\u001b[0m \u001b[0mphase\u001b[0m\u001b[1;33m(\u001b[0m\u001b[0mtree\u001b[0m\u001b[1;33m)\u001b[0m\u001b[1;33m\u001b[0m\u001b[0m",
      "\u001b[0m\u001b[0;32m     59\u001b[0m         \u001b[1;32mif\u001b[0m \u001b[0misinstance\u001b[0m\u001b[1;33m(\u001b[0m\u001b[0mphase\u001b[0m\u001b[1;33m,\u001b[0m \u001b[0mAnalyseDeclarationsTransform\u001b[0m\u001b[1;33m)\u001b[0m\u001b[1;33m:\u001b[0m\u001b[1;33m\u001b[0m\u001b[0m",
      "\u001b[0;32m     60\u001b[0m             \u001b[1;32mbreak\u001b[0m\u001b[1;33m\u001b[0m\u001b[0m",
      "\u001b[1;32m/home/cekees/proteus/linux2/lib/python2.7/site-packages/Cython/Compiler/ParseTreeTransforms.pyc\u001b[0m in \u001b[0;36m__call__\u001b[1;34m(self, root)\u001b[0m",
      "\u001b[0;32m   1454\u001b[0m         \u001b[0msuper_class\u001b[0m \u001b[1;33m=\u001b[0m \u001b[0msuper\u001b[0m\u001b[1;33m(\u001b[0m\u001b[0mAnalyseDeclarationsTransform\u001b[0m\u001b[1;33m,\u001b[0m \u001b[0mself\u001b[0m\u001b[1;33m)\u001b[0m\u001b[1;33m\u001b[0m\u001b[0m",
      "\u001b[0;32m   1455\u001b[0m         \u001b[0mself\u001b[0m\u001b[1;33m.\u001b[0m\u001b[0m_super_visit_FuncDefNode\u001b[0m \u001b[1;33m=\u001b[0m \u001b[0msuper_class\u001b[0m\u001b[1;33m.\u001b[0m\u001b[0mvisit_FuncDefNode\u001b[0m\u001b[1;33m\u001b[0m\u001b[0m",
      "\u001b[1;32m-> 1456\u001b[1;33m         \u001b[1;32mreturn\u001b[0m \u001b[0msuper_class\u001b[0m\u001b[1;33m.\u001b[0m\u001b[0m__call__\u001b[0m\u001b[1;33m(\u001b[0m\u001b[0mroot\u001b[0m\u001b[1;33m)\u001b[0m\u001b[1;33m\u001b[0m\u001b[0m",
      "\u001b[0m\u001b[0;32m   1457\u001b[0m \u001b[1;33m\u001b[0m\u001b[0m",
      "\u001b[0;32m   1458\u001b[0m     \u001b[1;32mdef\u001b[0m \u001b[0mvisit_NameNode\u001b[0m\u001b[1;33m(\u001b[0m\u001b[0mself\u001b[0m\u001b[1;33m,\u001b[0m \u001b[0mnode\u001b[0m\u001b[1;33m)\u001b[0m\u001b[1;33m:\u001b[0m\u001b[1;33m\u001b[0m\u001b[0m",
      "\u001b[1;32m/home/cekees/proteus/linux2/lib/python2.7/site-packages/Cython/Compiler/Visitor.so\u001b[0m in \u001b[0;36mCython.Compiler.Visitor.EnvTransform.__call__ (/home/cekees/.hashdist/tmp/cython-ipsf7pzmphil-1/Cython/Compiler/Visitor.c:7678)\u001b[1;34m()\u001b[0m",
      "\u001b[1;32m/home/cekees/proteus/linux2/lib/python2.7/site-packages/Cython/Compiler/Visitor.so\u001b[0m in \u001b[0;36mCython.Compiler.Visitor.CythonTransform.__call__ (/home/cekees/.hashdist/tmp/cython-ipsf7pzmphil-1/Cython/Compiler/Visitor.c:6410)\u001b[1;34m()\u001b[0m",
      "\u001b[1;32m/home/cekees/proteus/linux2/lib/python2.7/site-packages/Cython/Compiler/Visitor.so\u001b[0m in \u001b[0;36mCython.Compiler.Visitor.VisitorTransform.__call__ (/home/cekees/.hashdist/tmp/cython-ipsf7pzmphil-1/Cython/Compiler/Visitor.c:6076)\u001b[1;34m()\u001b[0m",
      "\u001b[1;32m/home/cekees/proteus/linux2/lib/python2.7/site-packages/Cython/Compiler/Visitor.so\u001b[0m in \u001b[0;36mCython.Compiler.Visitor.TreeVisitor._visit (/home/cekees/.hashdist/tmp/cython-ipsf7pzmphil-1/Cython/Compiler/Visitor.c:4624)\u001b[1;34m()\u001b[0m",
      "\u001b[1;32m/home/cekees/proteus/linux2/lib/python2.7/site-packages/Cython/Compiler/Visitor.so\u001b[0m in \u001b[0;36mCython.Compiler.Visitor.TreeVisitor._raise_compiler_error (/home/cekees/.hashdist/tmp/cython-ipsf7pzmphil-1/Cython/Compiler/Visitor.c:3768)\u001b[1;34m()\u001b[0m",
      "\u001b[1;31mCompilerCrash\u001b[0m: ",
      "Error compiling Cython file:",
      "------------------------------------------------------------",
      "...",
      "from posix cimport unistd",
      "^",
      "------------------------------------------------------------",
      "",
      "(tree fragment):1:0: Compiler crash in AnalyseDeclarationsTransform",
      "",
      "File 'ModuleNode.py', line 104, in analyse_declarations: ModuleNode((tree fragment):1:0,",
      "    full_module_name = '(tree fragment)')",
      "File 'Nodes.py', line 415, in analyse_declarations: StatListNode((tree fragment):1:0)",
      "File 'Nodes.py', line 7197, in analyse_declarations: FromCImportStatNode((tree fragment):1:0,",
      "    imported_names = [...]/1,",
      "    module_name = u'posix')",
      "",
      "Compiler crash traceback from this point on:",
      "  File \"/home/cekees/proteus/linux2/lib/python2.7/site-packages/Cython/Compiler/Nodes.py\", line 7197, in analyse_declarations",
      "    module_scope = env.find_module(self.module_name, self.pos, relative_level=self.relative_level)",
      "  File \"/home/cekees/proteus/linux2/lib/python2.7/site-packages/Cython/Compiler/Symtab.py\", line 1130, in find_module",
      "    module_name, relative_to=None if relative_level == 0 else self.parent_module, pos=pos)",
      "  File \"/home/cekees/proteus/linux2/lib/python2.7/site-packages/Cython/Compiler/TreeFragment.py\", line 37, in find_module",
      "    raise AssertionError(\"Not yet supporting any cimports/includes from string code snippets\")",
      "AssertionError: Not yet supporting any cimports/includes from string code snippets",
      ""
     ]
    }
   ],
   "source": [
    "%%px\n",
    "from cython import inline\n",
    "\n",
    "def gilsleep(t):\n",
    "    \"\"\"gil-holding sleep with cython.inline\"\"\"\n",
    "    code = '\\n'.join([\n",
    "        'from posix cimport unistd',\n",
    "        'unistd.sleep(t)',\n",
    "    ])\n",
    "    inline(code, quiet=True, t=t)\n",
    "\n",
    "gilsleep(1)"
   ]
  },
  {
   "cell_type": "markdown",
   "metadata": {},
   "source": [
    "And define our dummy simulation, which just refines the appropriate slice of sin(x),\n",
    "after grabbing the GIL for a period of time:"
   ]
  },
  {
   "cell_type": "code",
   "execution_count": null,
   "metadata": {
    "collapsed": false
   },
   "outputs": [],
   "source": [
    "%%px\n",
    "import numpy as np\n",
    "\n",
    "class DummySimulation(object):\n",
    "    def __init__(self, x1, x2, n, p, dt=1):\n",
    "        self.x1 = x1\n",
    "        self.x2 = x2\n",
    "        self.n = n\n",
    "        self.p = p\n",
    "        self.dt = dt\n",
    "        self.y = None\n",
    "        self.step = 0\n",
    "    \n",
    "    def advance(self):\n",
    "        # include mpi barrier, for good measure\n",
    "        barrier()\n",
    "        self.step += 1\n",
    "        n = self.n\n",
    "        p = self.p\n",
    "        gilsleep(self.dt)\n",
    "        npoints = p * self.step\n",
    "        X = np.linspace(x1, x2, npoints)\n",
    "        x = X[n * npoints / p : (n+1) * npoints / p]\n",
    "        self.y = np.sin(x)\n",
    "        return self.step\n"
   ]
  },
  {
   "cell_type": "markdown",
   "metadata": {},
   "source": [
    "Set up the global state (we are just sampling sin(x) on an interval), and instantiate the Simulation objects:"
   ]
  },
  {
   "cell_type": "code",
   "execution_count": null,
   "metadata": {
    "collapsed": false
   },
   "outputs": [],
   "source": [
    "x1 = 0\n",
    "x2 = 10*np.pi\n",
    "dv['x1'] = x1\n",
    "dv['x2'] = x2\n",
    "\n",
    "dv.scatter('n', range(len(dv)), flatten=True)\n",
    "dv['p'] = len(dv)\n",
    "dv['step'] = 0\n",
    "\n",
    "%px sim = DummySimulation(x1, x2, n, p, dt=1)"
   ]
  },
  {
   "cell_type": "markdown",
   "metadata": {},
   "source": [
    "Take the first step, to make sure everything is in working order:"
   ]
  },
  {
   "cell_type": "code",
   "execution_count": null,
   "metadata": {
    "collapsed": false
   },
   "outputs": [],
   "source": [
    "%px sim.advance()"
   ]
  },
  {
   "cell_type": "markdown",
   "metadata": {},
   "source": [
    "This is the function we are going to use to inspect our intermediate result.\n",
    "It fetches the current value of the simulation step, and the value of 'y',\n",
    "and makes a plot."
   ]
  },
  {
   "cell_type": "code",
   "execution_count": null,
   "metadata": {
    "collapsed": false
   },
   "outputs": [],
   "source": [
    "from IPython.core.display import display\n",
    "\n",
    "def check_y():\n",
    "    \"\"\"fetch and plot the current state of the simulation\"\"\"\n",
    "    states = dv.apply_sync(lambda : (sim.step, sim.y))\n",
    "    steps, ys = zip(*states)\n",
    "    Y = np.concatenate(ys)\n",
    "    X = linspace(0, 10*np.pi, len(Y))\n",
    "    fig = plt.figure()\n",
    "    plt.title(\"step %i (%i points)\" % (steps[0], len(X)))\n",
    "    plt.plot(X, Y, 'o-')\n",
    "    display(fig)\n",
    "    plt.close(fig)"
   ]
  },
  {
   "cell_type": "code",
   "execution_count": null,
   "metadata": {
    "collapsed": false
   },
   "outputs": [],
   "source": [
    "check_y()"
   ]
  },
  {
   "cell_type": "markdown",
   "metadata": {},
   "source": [
    "## Now the interesting part"
   ]
  },
  {
   "cell_type": "markdown",
   "metadata": {},
   "source": [
    "Here we start a Thread that advances the simulation *in the background*.\n",
    "\n",
    "The engines should be responsive on the timescale of the gilsleep threshold (**1 seconds**, here):"
   ]
  },
  {
   "cell_type": "code",
   "execution_count": null,
   "metadata": {
    "collapsed": false
   },
   "outputs": [],
   "source": [
    "%%px --block\n",
    "from threading import Thread\n",
    "\n",
    "class BackgroundAdvance(Thread):\n",
    "    \"\"\"Call a function periodically in a thread, until self.stop() is called\"\"\"\n",
    "    def __init__(self, advance):\n",
    "        Thread.__init__(self)\n",
    "        self._done = False\n",
    "        self._paused = False\n",
    "        self._advance = advance\n",
    "        \n",
    "    \n",
    "    def stop(self):\n",
    "        self._done = True\n",
    "    \n",
    "    def pause(self):\n",
    "        self._paused = True\n",
    "    \n",
    "    def resume(self):\n",
    "        self._paused = False\n",
    "    \n",
    "    def run(self):\n",
    "        while True:\n",
    "            # all stop together:\n",
    "            self._done = bcast(self._done)\n",
    "            if self._done:\n",
    "                return\n",
    "            if self._paused:\n",
    "                barrier()\n",
    "                time.sleep(1)\n",
    "            else:\n",
    "                self._advance()\n",
    "\n",
    "sim_thread = BackgroundAdvance(sim.advance)\n",
    "sim_thread.start()\n"
   ]
  },
  {
   "cell_type": "markdown",
   "metadata": {},
   "source": [
    "Note how that cell actually finished running.\n",
    "\n",
    "Now the simulation is running in a background thread, and we can check in on it with out check_y():"
   ]
  },
  {
   "cell_type": "code",
   "execution_count": null,
   "metadata": {
    "collapsed": false
   },
   "outputs": [],
   "source": [
    "for i in range(5):\n",
    "    check_y()\n",
    "    time.sleep(2)"
   ]
  },
  {
   "cell_type": "markdown",
   "metadata": {},
   "source": [
    "And we can stop the background thread with a simple call:"
   ]
  },
  {
   "cell_type": "code",
   "execution_count": null,
   "metadata": {
    "collapsed": false
   },
   "outputs": [],
   "source": [
    "%px sim_thread.stop()"
   ]
  },
  {
   "cell_type": "markdown",
   "metadata": {},
   "source": [
    "And hopefully all the engines are on the same step at the end:"
   ]
  },
  {
   "cell_type": "code",
   "execution_count": null,
   "metadata": {
    "collapsed": false
   },
   "outputs": [],
   "source": [
    "%px sim.step"
   ]
  },
  {
   "cell_type": "markdown",
   "metadata": {},
   "source": [
    "And hopefully they are all stopped, as well:"
   ]
  },
  {
   "cell_type": "code",
   "execution_count": null,
   "metadata": {
    "collapsed": false
   },
   "outputs": [],
   "source": [
    "%px sim_thread.is_alive()"
   ]
  },
  {
   "cell_type": "markdown",
   "metadata": {},
   "source": [
    "And we can continue to advance the sim manually, as well:"
   ]
  },
  {
   "cell_type": "code",
   "execution_count": null,
   "metadata": {
    "collapsed": false
   },
   "outputs": [],
   "source": [
    "for i in range(5):\n",
    "    %px sim.advance()\n",
    "    check_y()\n",
    "    sys.stdout.flush()\n"
   ]
  }
 ],
 "metadata": {
  "kernelspec": {
   "display_name": "Python 2",
   "language": "python",
   "name": "python2"
  },
  "language_info": {
   "codemirror_mode": {
    "name": "ipython",
    "version": 2
   },
   "file_extension": ".py",
   "mimetype": "text/x-python",
   "name": "python",
   "nbconvert_exporter": "python",
   "pygments_lexer": "ipython2",
   "version": "2.7.8"
  }
 },
 "nbformat": 4,
 "nbformat_minor": 0
}
