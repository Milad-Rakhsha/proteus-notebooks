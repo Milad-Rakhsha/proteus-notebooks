{
 "metadata": {
  "name": "adr-apply"
 },
 "nbformat": 3,
 "worksheets": [
  {
   "cells": [
    {
     "cell_type": "markdown",
     "source": [
      "#Interactive Proteus parallel example",
      "",
      "##Load IPython support for working with MPI tasks"
     ]
    },
    {
     "cell_type": "code",
     "collapsed": false,
     "input": [
      "from IPython.parallel import Client",
      "c = Client(profile=\"mpi\")",
      "view = c[:]",
      "view.activate()"
     ],
     "language": "python",
     "outputs": [],
     "prompt_number": 57
    },
    {
     "cell_type": "markdown",
     "source": [
      "##Load interactive Proteus module, physics, and numerics on the MPI tasks and solve problem"
     ]
    },
    {
     "cell_type": "code",
     "collapsed": false,
     "input": [
      "%%px --block",
      "# perform imports on engines",
      "from proteus.iproteus import *",
      "from proteus import default_n,default_s,default_so",
      "import ladr_2d_p,ladr_2d_n",
      "ladr_2d_n.nnx = 201",
      "ladr_2d_n.nny = 201",
      "nOutputSteps = 301",
      "ladr_2d_n.tnList = [0.25*float(i)/float(nOutputSteps-1) for i in range(nOutputSteps)]",
      "from proteus import Comm"
     ],
     "language": "python",
     "outputs": [
      {
       "output_type": "stream",
       "stream": "stdout",
       "text": [
        "Parallel execution on engine(s): [0, 1, 2, 3, 4, 5, 6, 7, 8, 9, 10, 11, 12, 13, 14, 15]",
        ""
       ]
      }
     ],
     "prompt_number": 58
    },
    {
     "cell_type": "code",
     "collapsed": true,
     "input": [
      "def compute_triangles():",
      "    # store x,y,u,triangles in global engine namespace",
      "    global x,y,u,triangles",
      "    comm = Comm.get()",
      "    pList = [ladr_2d_p]",
      "    nList = [ladr_2d_n]",
      "    so = default_so",
      "    so.name = pList[0].name = \"ladr_2d\"",
      "    so.sList=[default_s]",
      "    so.tnList = ladr_2d_n.tnList",
      "    print ladr_2d_n.tnList,ladr_2d_n.nnx,ladr_2d_n.nny",
      "    nList[0].multilevelLinearSolver=default_n.KSP_petsc4py",
      "    #opts.viewer='vtk'",
      "    #viewers = Viewers.viewerOn(so.name+`comm.rank()`,opts.viewer)",
      "    ns = NumericalSolution.NS_base(so,pList,nList,so.sList,opts)",
      "    ns.calculateSolution('run1')",
      "    x = ns.modelList[0].levelModelList[-1].mesh.nodeArray[:,0]",
      "    y = ns.modelList[0].levelModelList[-1].mesh.nodeArray[:,1]",
      "    triangles = ns.modelList[0].levelModelList[-1].mesh.elementNodesArray",
      "    u = ns.modelList[0].levelModelList[-1].u[0].dof",
      "",
      "    #if comm.isMaster():",
      "    #    imageList = [window.png for window in viewers.windowDict.values()]",
      "    #else:",
      "    #    imageList = []",
      "    ",
      "    # return the length of x",
      "    return len(x)"
     ],
     "language": "python",
     "outputs": [],
     "prompt_number": 59
    },
    {
     "cell_type": "markdown",
     "source": [
      "Sync with the engines, to make sure they are ready:"
     ]
    },
    {
     "cell_type": "code",
     "collapsed": false,
     "input": [
      "view.apply_sync(lambda : 'ready')"
     ],
     "language": "python",
     "outputs": [
      {
       "output_type": "pyout",
       "prompt_number": 60,
       "text": [
        "['ready',",
        " 'ready',",
        " 'ready',",
        " 'ready',",
        " 'ready',",
        " 'ready',",
        " 'ready',",
        " 'ready',",
        " 'ready',",
        " 'ready',",
        " 'ready',",
        " 'ready',",
        " 'ready',",
        " 'ready',",
        " 'ready',",
        " 'ready']"
       ]
      }
     ],
     "prompt_number": 60
    },
    {
     "cell_type": "markdown",
     "source": [
      "Submit the execution asynchronously"
     ]
    },
    {
     "cell_type": "code",
     "collapsed": false,
     "input": [
      "compute_ar = view.apply_async(compute_triangles)"
     ],
     "language": "python",
     "outputs": [],
     "prompt_number": 61
    },
    {
     "cell_type": "code",
     "collapsed": true,
     "input": [
      "x_ar = view.gather('x')",
      "y_ar = view.gather('y')",
      "u_ar = view.gather('u')",
      "tri_ar = view.pull('triangles')"
     ],
     "language": "python",
     "outputs": [],
     "prompt_number": 62
    },
    {
     "cell_type": "markdown",
     "source": [
      "now actually wait for the results:"
     ]
    },
    {
     "cell_type": "code",
     "collapsed": false,
     "input": [
      "ns,x,y,u,triangles = [ ar.get() for ar in (compute_ar, x_ar, y_ar, u_ar, tri_ar) ]"
     ],
     "language": "python",
     "outputs": [],
     "prompt_number": 63
    },
    {
     "cell_type": "markdown",
     "source": [
      "Compute the timings for execution and IPython overhead"
     ]
    },
    {
     "cell_type": "code",
     "collapsed": false,
     "input": [
      "compute_request = min(compute_ar.submitted) # exectution request sent",
      "compute_start = min(compute_ar.started) # first MPI execution started",
      "compute_complete = max(compute_ar.completed) # last MPI execution completed",
      "data_received = max(tri_ar.received) # last bit of results arrived back in the Client",
      "",
      "",
      "compute = (compute_complete-compute_start).total_seconds()",
      "with_request = (compute_complete-compute_request).total_seconds()",
      "roundtrip = (data_received - compute_request).total_seconds()",
      "print \"computation time: %.3f\" % compute",
      "print \"   from request : %.3f\" % with_request",
      "print \"total roundtrip : %.3f\" % roundtrip",
      "",
      "overhead_ms = 1000*(roundtrip-compute)",
      "compute_ms = 1000*(compute)",
      "print \"IPython overhead: %i/%i ms = %.2f%%\" % (overhead_ms, compute_ms, 100*(overhead_ms / compute_ms))"
     ],
     "language": "python",
     "outputs": [
      {
       "output_type": "stream",
       "stream": "stdout",
       "text": [
        "computation time: 272.272",
        "   from request : 272.274",
        "total roundtrip : 272.282",
        "IPython overhead: 10/272271 ms = 0.00%",
        ""
       ]
      }
     ],
     "prompt_number": 64
    },
    {
     "cell_type": "markdown",
     "source": [
      "##Combine subdomain solutions and plot"
     ]
    },
    {
     "cell_type": "code",
     "collapsed": false,
     "input": [
      "# shift triangles by preceding lens",
      "shifts = numpy.cumsum([0]+ns[:-1])",
      "flat_triangles = numpy.concatenate( [ tri + shift for tri,shift in zip(triangles,shifts) ] )",
      "",
      "tricontourf(x,y,flat_triangles,u)"
     ],
     "language": "python",
     "outputs": [
      {
       "output_type": "pyout",
       "prompt_number": 65,
       "text": [
        "<matplotlib.tri.tricontour.TriContourSet instance at 0x4f91a70>"
       ]
      },
      {
       "output_type": "display_data",
       "png": "[encoded data removed]"
      }
     ],
     "prompt_number": 65
    },
    {
     "cell_type": "code",
     "collapsed": false,
     "input": [
      "#print view['imageList']",
      "#png = view['imageList'][0][0]",
      "#print png"
     ],
     "language": "python",
     "outputs": [],
     "prompt_number": 66
    },
    {
     "cell_type": "code",
     "collapsed": false,
     "input": [
      "#from IPython.core.display import Image",
      "#Image(png,embed=True)"
     ],
     "language": "python",
     "outputs": [],
     "prompt_number": 67
    }
   ]
  }
 ]
}