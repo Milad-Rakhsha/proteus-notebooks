{
 "metadata": {
  "name": "",
  "signature": "sha256:bfe2539dc219b3f8062d51fd258502f8e980b7dc2a42765c937d824fb5717c4d"
 },
 "nbformat": 3,
 "nbformat_minor": 0,
 "worksheets": [
  {
   "cells": [
    {
     "cell_type": "markdown",
     "metadata": {},
     "source": [
      "#Discretization Tutorial\n",
      "\n",
      "To complete the definition of the numerical model, we add numerics to the physics described by the domain, equation, and initial/boundary conditions. There are many options for numerics including choices  such as the time discretization, spatial approximation space, quadrature rules, numerical stabilization schemes, numerical fluxes, and numerical linear algebra."
     ]
    },
    {
     "cell_type": "code",
     "collapsed": false,
     "input": [
      "from proteus import default_n as n\n",
      "import proteus as pr\n",
      "n.timeIntegration = pr.TimeIntegration.BackwardEuler_cfl\n",
      "n.stepController = pr.StepControl.Min_dt_cfl_controller\n",
      "n.runCFL=0.99\n",
      "n.femSpaces = {0:pr.FemTools.C0_AffineLinearOnSimplexWithNodalBasis}\n",
      "n.elementQuadrature = pr.Quadrature.SimplexGaussQuadrature(p.nd,3)\n",
      "n.elementBoundaryQuadrature = pr.Quadrature.SimplexGaussQuadrature(p.nd-1,3)\n",
      "n.subgridError = pr.SubgridError.AdvectionDiffusionReaction_ASGS(p.coefficients,\n",
      "                                                                 p.nd,lag=False)\n",
      "n.shockCapturing = pr.ShockCapturing.ResGradQuad_SC(p.coefficients,\n",
      "                                                            p.nd,\n",
      "                                                            shockCapturingFactor=0.75,\n",
      "                                                            lag=True)\n",
      "n.numericalFluxType = pr.NumericalFlux.Advection_DiagonalUpwind_Diffusion_SIPG_exterior\n",
      "n.nnx=41; n.nny=41\n",
      "n.tnList=[float(i)/40.0 for i in range(11)]\n",
      "n.parallelPartitioningType = pr.MeshTools.MeshParallelPartitioningTypes.element\n",
      "n.nLayersOfOverlapForParallel = 1"
     ],
     "language": "python",
     "metadata": {},
     "outputs": [
      {
       "ename": "ImportError",
       "evalue": "libdaetk.so: cannot open shared object file: No such file or directory",
       "output_type": "pyerr",
       "traceback": [
        "\u001b[1;31m---------------------------------------------------------------------------\u001b[0m\n\u001b[1;31mImportError\u001b[0m                               Traceback (most recent call last)",
        "\u001b[1;32m<ipython-input-1-30c03385adc4>\u001b[0m in \u001b[0;36m<module>\u001b[1;34m()\u001b[0m\n\u001b[1;32m----> 1\u001b[1;33m \u001b[1;32mfrom\u001b[0m \u001b[0mproteus\u001b[0m \u001b[1;32mimport\u001b[0m \u001b[0mdefault_n\u001b[0m \u001b[1;32mas\u001b[0m \u001b[0mn\u001b[0m\u001b[1;33m\u001b[0m\u001b[0m\n\u001b[0m\u001b[0;32m      2\u001b[0m \u001b[1;32mimport\u001b[0m \u001b[0mproteus\u001b[0m \u001b[1;32mas\u001b[0m \u001b[0mpr\u001b[0m\u001b[1;33m\u001b[0m\u001b[0m\n\u001b[0;32m      3\u001b[0m \u001b[0mn\u001b[0m\u001b[1;33m.\u001b[0m\u001b[0mtimeIntegration\u001b[0m \u001b[1;33m=\u001b[0m \u001b[0mpr\u001b[0m\u001b[1;33m.\u001b[0m\u001b[0mTimeIntegration\u001b[0m\u001b[1;33m.\u001b[0m\u001b[0mBackwardEuler_cfl\u001b[0m\u001b[1;33m\u001b[0m\u001b[0m\n\u001b[0;32m      4\u001b[0m \u001b[0mn\u001b[0m\u001b[1;33m.\u001b[0m\u001b[0mstepController\u001b[0m \u001b[1;33m=\u001b[0m \u001b[0mpr\u001b[0m\u001b[1;33m.\u001b[0m\u001b[0mStepControl\u001b[0m\u001b[1;33m.\u001b[0m\u001b[0mMin_dt_cfl_controller\u001b[0m\u001b[1;33m\u001b[0m\u001b[0m\n\u001b[0;32m      5\u001b[0m \u001b[0mn\u001b[0m\u001b[1;33m.\u001b[0m\u001b[0mrunCFL\u001b[0m\u001b[1;33m=\u001b[0m\u001b[1;36m0.99\u001b[0m\u001b[1;33m\u001b[0m\u001b[0m\n",
        "\u001b[1;32m/home/cekees/.hashdist/bld/profile/4hjx7bzumnlr/lib/python2.7/site-packages/proteus/default_n.py\u001b[0m in \u001b[0;36m<module>\u001b[1;34m()\u001b[0m\n\u001b[0;32m      6\u001b[0m   \u001b[0mClean\u001b[0m \u001b[0mup\u001b[0m \u001b[0mdefault_n\u001b[0m\u001b[1;33m.\u001b[0m\u001b[0mpy\u001b[0m\u001b[1;33m,\u001b[0m \u001b[0mfinish\u001b[0m \u001b[0mdocumenting\u001b[0m\u001b[1;33m,\u001b[0m \u001b[0mdecide\u001b[0m \u001b[0mon\u001b[0m \u001b[0mtolerance\u001b[0m \u001b[0mscheme\u001b[0m\u001b[1;33m\u001b[0m\u001b[0m\n\u001b[0;32m      7\u001b[0m \"\"\"\n\u001b[1;32m----> 8\u001b[1;33m \u001b[1;32mfrom\u001b[0m \u001b[0mTimeIntegration\u001b[0m \u001b[1;32mimport\u001b[0m \u001b[1;33m*\u001b[0m\u001b[1;33m\u001b[0m\u001b[0m\n\u001b[0m\u001b[0;32m      9\u001b[0m \u001b[1;32mfrom\u001b[0m \u001b[0mQuadrature\u001b[0m \u001b[1;32mimport\u001b[0m \u001b[1;33m*\u001b[0m\u001b[1;33m\u001b[0m\u001b[0m\n\u001b[0;32m     10\u001b[0m \u001b[1;32mfrom\u001b[0m \u001b[0mFemTools\u001b[0m \u001b[1;32mimport\u001b[0m \u001b[1;33m*\u001b[0m\u001b[1;33m\u001b[0m\u001b[0m\n",
        "\u001b[1;32m/home/cekees/.hashdist/bld/profile/4hjx7bzumnlr/lib/python2.7/site-packages/proteus/TimeIntegration.py\u001b[0m in \u001b[0;36m<module>\u001b[1;34m()\u001b[0m\n\u001b[0;32m      2\u001b[0m \u001b[0mA\u001b[0m \u001b[1;32mclass\u001b[0m \u001b[0mhierarchy\u001b[0m \u001b[0mof\u001b[0m \u001b[0mtime\u001b[0m \u001b[0mdiscretizations\u001b[0m\u001b[1;33m\u001b[0m\u001b[0m\n\u001b[0;32m      3\u001b[0m \"\"\"\n\u001b[1;32m----> 4\u001b[1;33m \u001b[1;32mfrom\u001b[0m \u001b[0mLinearAlgebraTools\u001b[0m \u001b[1;32mimport\u001b[0m \u001b[1;33m*\u001b[0m\u001b[1;33m\u001b[0m\u001b[0m\n\u001b[0m\u001b[0;32m      5\u001b[0m \u001b[1;32mimport\u001b[0m \u001b[0msys\u001b[0m\u001b[1;33m,\u001b[0m\u001b[0mmath\u001b[0m\u001b[1;33m\u001b[0m\u001b[0m\n\u001b[0;32m      6\u001b[0m \u001b[1;32mimport\u001b[0m \u001b[0mProfiling\u001b[0m\u001b[1;33m\u001b[0m\u001b[0m\n",
        "\u001b[1;32m/home/cekees/.hashdist/bld/profile/4hjx7bzumnlr/lib/python2.7/site-packages/proteus/LinearAlgebraTools.py\u001b[0m in \u001b[0;36m<module>\u001b[1;34m()\u001b[0m\n\u001b[0;32m     11\u001b[0m \u001b[1;32mimport\u001b[0m \u001b[0mmath\u001b[0m\u001b[1;33m\u001b[0m\u001b[0m\n\u001b[0;32m     12\u001b[0m \u001b[1;32mfrom\u001b[0m \u001b[1;33m.\u001b[0m\u001b[0msuperluWrappers\u001b[0m \u001b[1;32mimport\u001b[0m \u001b[1;33m*\u001b[0m\u001b[1;33m\u001b[0m\u001b[0m\n\u001b[1;32m---> 13\u001b[1;33m \u001b[1;32mfrom\u001b[0m \u001b[1;33m.\u001b[0m \u001b[1;32mimport\u001b[0m \u001b[0mflcbdfWrappers\u001b[0m\u001b[1;33m\u001b[0m\u001b[0m\n\u001b[0m\u001b[0;32m     14\u001b[0m \u001b[1;32mfrom\u001b[0m \u001b[0mProfiling\u001b[0m \u001b[1;32mimport\u001b[0m \u001b[0mlogEvent\u001b[0m\u001b[1;33m\u001b[0m\u001b[0m\n\u001b[0;32m     15\u001b[0m \u001b[1;31m#PETSc import, forces comm init if not already done\u001b[0m\u001b[1;33m\u001b[0m\u001b[1;33m\u001b[0m\u001b[0m\n",
        "\u001b[1;31mImportError\u001b[0m: libdaetk.so: cannot open shared object file: No such file or directory"
       ]
      }
     ],
     "prompt_number": 1
    },
    {
     "cell_type": "markdown",
     "metadata": {},
     "source": [
      "#Nonlinear Iteration"
     ]
    },
    {
     "cell_type": "code",
     "collapsed": false,
     "input": [
      "n.multilevelNonlinearSolver = pr.NonlinearSolvers.Newton\n",
      "n.maxLineSearches=0\n",
      "#convergence criteria\n",
      "n.maxNonlinearIts=50\n",
      "n.tolFac = 0.0\n",
      "n.nl_atol_res=1.0e-4\n"
     ],
     "language": "python",
     "metadata": {},
     "outputs": [
      {
       "ename": "NameError",
       "evalue": "name 'pr' is not defined",
       "output_type": "pyerr",
       "traceback": [
        "\u001b[1;31m---------------------------------------------------------------------------\u001b[0m\n\u001b[1;31mNameError\u001b[0m                                 Traceback (most recent call last)",
        "\u001b[1;32m<ipython-input-3-05d41df33c0d>\u001b[0m in \u001b[0;36m<module>\u001b[1;34m()\u001b[0m\n\u001b[1;32m----> 1\u001b[1;33m \u001b[0mn\u001b[0m\u001b[1;33m.\u001b[0m\u001b[0mmultilevelNonlinearSolver\u001b[0m \u001b[1;33m=\u001b[0m \u001b[0mpr\u001b[0m\u001b[1;33m.\u001b[0m\u001b[0mNonlinearSolvers\u001b[0m\u001b[1;33m.\u001b[0m\u001b[0mNewton\u001b[0m\u001b[1;33m\u001b[0m\u001b[0m\n\u001b[0m\u001b[0;32m      2\u001b[0m \u001b[0mn\u001b[0m\u001b[1;33m.\u001b[0m\u001b[0mmaxLineSearches\u001b[0m\u001b[1;33m=\u001b[0m\u001b[1;36m0\u001b[0m\u001b[1;33m\u001b[0m\u001b[0m\n\u001b[0;32m      3\u001b[0m \u001b[1;31m#convergence criteria\u001b[0m\u001b[1;33m\u001b[0m\u001b[1;33m\u001b[0m\u001b[0m\n\u001b[0;32m      4\u001b[0m \u001b[0mn\u001b[0m\u001b[1;33m.\u001b[0m\u001b[0mmaxNonlinearIts\u001b[0m\u001b[1;33m=\u001b[0m\u001b[1;36m50\u001b[0m\u001b[1;33m\u001b[0m\u001b[0m\n\u001b[0;32m      5\u001b[0m \u001b[0mn\u001b[0m\u001b[1;33m.\u001b[0m\u001b[0mtolFac\u001b[0m \u001b[1;33m=\u001b[0m \u001b[1;36m0.0\u001b[0m\u001b[1;33m\u001b[0m\u001b[0m\n",
        "\u001b[1;31mNameError\u001b[0m: name 'pr' is not defined"
       ]
      }
     ],
     "prompt_number": 3
    },
    {
     "cell_type": "markdown",
     "metadata": {},
     "source": [
      "# Linear Iteration"
     ]
    },
    {
     "cell_type": "code",
     "collapsed": false,
     "input": [
      "n.matrix = pr.LinearAlgebraTools.SparseMatrix\n",
      "n.multilevelLinearSolver = pr.LinearSolvers.KSP_petsc4py\n",
      "# PETSc solver configuration\n",
      "from petsc4py import PETSc\n",
      "OptDB = PETSc.Options()\n",
      "OptDB.setValue(\"ksp_type\", \"gmres\")\n",
      "OptDB.setValue(\"pc_type\", \"jacobi\")\n",
      "# convergence criteria\n",
      "n.linearSolverConvergenceTest = 'r-true'\n",
      "n.linTolFac = 0.001\n",
      "n.l_atol_res = 0.001*n.nl_atol_res"
     ],
     "language": "python",
     "metadata": {},
     "outputs": [
      {
       "ename": "NameError",
       "evalue": "name 'pr' is not defined",
       "output_type": "pyerr",
       "traceback": [
        "\u001b[1;31m---------------------------------------------------------------------------\u001b[0m\n\u001b[1;31mNameError\u001b[0m                                 Traceback (most recent call last)",
        "\u001b[1;32m<ipython-input-4-252fa4c62079>\u001b[0m in \u001b[0;36m<module>\u001b[1;34m()\u001b[0m\n\u001b[1;32m----> 1\u001b[1;33m \u001b[0mn\u001b[0m\u001b[1;33m.\u001b[0m\u001b[0mmatrix\u001b[0m \u001b[1;33m=\u001b[0m \u001b[0mpr\u001b[0m\u001b[1;33m.\u001b[0m\u001b[0mLinearAlgebraTools\u001b[0m\u001b[1;33m.\u001b[0m\u001b[0mSparseMatrix\u001b[0m\u001b[1;33m\u001b[0m\u001b[0m\n\u001b[0m\u001b[0;32m      2\u001b[0m \u001b[0mn\u001b[0m\u001b[1;33m.\u001b[0m\u001b[0mmultilevelLinearSolver\u001b[0m \u001b[1;33m=\u001b[0m \u001b[0mpr\u001b[0m\u001b[1;33m.\u001b[0m\u001b[0mLinearSolvers\u001b[0m\u001b[1;33m.\u001b[0m\u001b[0mKSP_petsc4py\u001b[0m\u001b[1;33m\u001b[0m\u001b[0m\n\u001b[0;32m      3\u001b[0m \u001b[1;31m# PETSc solver configuration\u001b[0m\u001b[1;33m\u001b[0m\u001b[1;33m\u001b[0m\u001b[0m\n\u001b[0;32m      4\u001b[0m \u001b[1;32mfrom\u001b[0m \u001b[0mpetsc4py\u001b[0m \u001b[1;32mimport\u001b[0m \u001b[0mPETSc\u001b[0m\u001b[1;33m\u001b[0m\u001b[0m\n\u001b[0;32m      5\u001b[0m \u001b[0mOptDB\u001b[0m \u001b[1;33m=\u001b[0m \u001b[0mPETSc\u001b[0m\u001b[1;33m.\u001b[0m\u001b[0mOptions\u001b[0m\u001b[1;33m(\u001b[0m\u001b[1;33m)\u001b[0m\u001b[1;33m\u001b[0m\u001b[0m\n",
        "\u001b[1;31mNameError\u001b[0m: name 'pr' is not defined"
       ]
      }
     ],
     "prompt_number": 4
    },
    {
     "cell_type": "code",
     "collapsed": false,
     "input": [],
     "language": "python",
     "metadata": {},
     "outputs": []
    }
   ],
   "metadata": {}
  }
 ]
}