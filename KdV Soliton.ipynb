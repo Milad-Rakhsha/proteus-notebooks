{
 "cells": [
  {
   "cell_type": "code",
   "execution_count": 1,
   "metadata": {
    "collapsed": false
   },
   "outputs": [
    {
     "name": "stdout",
     "output_type": "stream",
     "text": [
      "c 3.91311896062\n",
      "Delta 0.816496580928\n"
     ]
    },
    {
     "data": {
      "text/plain": [
       "[<matplotlib.lines.Line2D at 0x7fde844b7a50>]"
      ]
     },
     "execution_count": 1,
     "metadata": {},
     "output_type": "execute_result"
    },
    {
     "data": {
      "image/png": "[encoded data removed]",
      "text/plain": [
       "<matplotlib.figure.Figure at 0x7fde844b7ad0>"
      ]
     },
     "metadata": {},
     "output_type": "display_data"
    }
   ],
   "source": [
    "%matplotlib inline\n",
    "from matplotlib  import pyplot\n",
    "from math import sqrt,cosh\n",
    "g = 9.8\n",
    "h = 1.0\n",
    "H = 0.5*h\n",
    "c = sqrt(g*h)*(1.0+0.5*H/h)\n",
    "Delta = h*sqrt(4.0*h/3.0*H)\n",
    "def eta(x,t):\n",
    "    Delta = h*sqrt(4.0*h/3.0*H)\n",
    "    return H/cosh((x-c*t)/Delta)**2\n",
    "L = 6.0*h\n",
    "nx=101\n",
    "dx = L/float(nx-1)\n",
    "xl = [i*dx for i in range(nx)]\n",
    "hl = [h+eta(x,Delta/c) for x in xl]\n",
    "print \"c\",c\n",
    "print \"Delta\",Delta\n",
    "pyplot.axis('equal')\n",
    "pyplot.plot(xl,hl)"
   ]
  }
 ],
 "metadata": {
  "kernelspec": {
   "display_name": "Python 2",
   "language": "python",
   "name": "python2"
  },
  "language_info": {
   "codemirror_mode": {
    "name": "ipython",
    "version": 2
   },
   "file_extension": ".py",
   "mimetype": "text/x-python",
   "name": "python",
   "nbconvert_exporter": "python",
   "pygments_lexer": "ipython2",
   "version": "2.7.8"
  }
 },
 "nbformat": 4,
 "nbformat_minor": 0
}
