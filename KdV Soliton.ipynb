{
 "metadata": {
  "name": "KdV Soliton"
 },
 "nbformat": 3,
 "nbformat_minor": 0,
 "worksheets": [
  {
   "cells": [
    {
     "cell_type": "code",
     "collapsed": false,
     "input": [
      "g = 9.8\n",
      "h = 1.0\n",
      "H = 0.5*h\n",
      "c = sqrt(g*h)*(1.0+0.5*H/h)\n",
      "Delta = h*sqrt(4.0*h/3.0*H)\n",
      "def eta(x,t):\n",
      "    Delta = h*sqrt(4.0*h/3.0*H)\n",
      "    return H/cosh((x-c*t)/Delta)**2\n",
      "L = 6.0*h\n",
      "nx=101\n",
      "dx = L/float(nx-1)\n",
      "xl = [i*dx for i in range(nx)]\n",
      "hl = [h+eta(x,Delta/c) for x in xl]\n",
      "print \"c\",c\n",
      "print \"Delta\",Delta\n",
      "pyplot.axis('equal')\n",
      "pyplot.plot(xl,hl)"
     ],
     "language": "python",
     "metadata": {},
     "outputs": [
      {
       "output_type": "stream",
       "stream": "stdout",
       "text": [
        "c 3.91311896062\n",
        "Delta 0.816496580928\n"
       ]
      },
      {
       "output_type": "pyout",
       "prompt_number": 9,
       "text": [
        "[<matplotlib.lines.Line2D at 0x1130f8150>]"
       ]
      },
      {
       "output_type": "display_data",
       "png": "[encoded data removed]",
       "text": [
        "<matplotlib.figure.Figure at 0x1130f8290>"
       ]
      }
     ],
     "prompt_number": 9
    },
    {
     "cell_type": "code",
     "collapsed": false,
     "input": [],
     "language": "python",
     "metadata": {},
     "outputs": [],
     "prompt_number": 9
    },
    {
     "cell_type": "code",
     "collapsed": false,
     "input": [],
     "language": "python",
     "metadata": {},
     "outputs": []
    }
   ],
   "metadata": {}
  }
 ]
}