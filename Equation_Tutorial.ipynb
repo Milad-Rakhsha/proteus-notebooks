{
 "cells": [
  {
   "cell_type": "markdown",
   "metadata": {},
   "source": [
    "#Equation Tutorial\n",
    "Suppose we would like to solve this equation:\n",
    "\\\\[u_t + \\nabla \\cdot \\left( B u^2 - A \\nabla u \\right) + C u = 0\\\\]\n",
    "We need to tell Proteus something about the operators and how they are defined. We currently provide  this information as a class."
   ]
  },
  {
   "cell_type": "code",
   "execution_count": 1,
   "metadata": {
    "collapsed": false
   },
   "outputs": [],
   "source": [
    "from proteus.TransportCoefficients import TC_base\n",
    "\n",
    "class Burgers(TC_base):\n",
    "    def __init__(self):\n",
    "        mass = {0: {0: 'linear'}}\n",
    "        advection = {0: {0: 'nonlinear'}}\n",
    "        diffusion = {0: {0: {0: 'constant'}}}\n",
    "        potential = {0: {0: 'nonlinear'}}\n",
    "        reaction = {0: {0: 'linear'}}\n",
    "        hamiltonian = {}\n",
    "        variableNames=['u']\n",
    "        TC_base.__init__(self,\n",
    "                         nc=1,\n",
    "                         mass=mass,\n",
    "                         advection=advection,\n",
    "                         diffusion=diffusion,\n",
    "                         potential=potential,\n",
    "                         reaction=reaction,\n",
    "                         hamiltonian=hamiltonian,\n",
    "                         variableNames=variableNames)\n",
    "\n",
    "    def evaluate(self, t, c):\n",
    "        u = c[('u',0)]\n",
    "        c[('m', 0)][:] = u\n",
    "        c[('dm', 0, 0)][:] = 1\n",
    "        c[('f', 0)][..., 0] = u**2\n",
    "        c[('f', 0)][..., 1] = 2.0*u**2\n",
    "        c[('df', 0, 0)][...,0] = 2*u\n",
    "        c[('df', 0, 0)][...,1] = 2.0*2*u\n",
    "        c[('a', 0, 0)][..., 0, 0] = 0.001\n",
    "        c[('a', 0, 0)][..., 1, 1] = 0.001\n",
    "        c[('r', 0)][:] = 0.0001*u\n",
    "        c[('dr', 0, 0)][:] = 0.0001\n"
   ]
  }
 ],
 "metadata": {
  "kernelspec": {
   "display_name": "Python 2",
   "language": "python",
   "name": "python2"
  },
  "language_info": {
   "codemirror_mode": {
    "name": "ipython",
    "version": 2
   },
   "file_extension": ".py",
   "mimetype": "text/x-python",
   "name": "python",
   "nbconvert_exporter": "python",
   "pygments_lexer": "ipython2",
   "version": "2.7.9"
  }
 },
 "nbformat": 4,
 "nbformat_minor": 0
}
