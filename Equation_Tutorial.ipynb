{
 "metadata": {
  "name": "",
  "signature": "sha256:2d15ae2b5308fb6471e869cbf1dc066a1664cb5cd0b0fb064e9fd8b2b8761831"
 },
 "nbformat": 3,
 "nbformat_minor": 0,
 "worksheets": [
  {
   "cells": [
    {
     "cell_type": "markdown",
     "metadata": {},
     "source": [
      "#Equation Tutorial\n",
      "Suppose we would like to solve this equation:\n",
      "\\\\[u_t + \\nabla \\cdot \\left( B u^2 - A \\nabla u \\right) + C u = 0\\\\]\n",
      "We need to tell Proteus something about the operators and how they are defined. We currently provide  this information as a class."
     ]
    },
    {
     "cell_type": "code",
     "collapsed": false,
     "input": [
      "from proteus.TransportCoefficients import TC_base\n",
      "\n",
      "class Burgers(TC_base):\n",
      "    def __init__(self):\n",
      "        mass = {0: {0: 'linear'}}\n",
      "        advection = {0: {0: 'nonlinear'}}\n",
      "        diffusion = {0: {0: {0: 'constant'}}}\n",
      "        potential = {0: {0: 'nonlinear'}}\n",
      "        reaction = {0: {0: 'linear'}}\n",
      "        hamiltonian = {}\n",
      "        variableNames=['u']\n",
      "        TC_base.__init__(self,\n",
      "                         nc=1,\n",
      "                         mass=mass,\n",
      "                         advection=advection,\n",
      "                         diffusion=diffusion,\n",
      "                         potential=potential,\n",
      "                         reaction=reaction,\n",
      "                         hamiltonian=hamiltonian,\n",
      "                         variableNames=variableNames)\n",
      "\n",
      "    def evaluate(self, t, c):\n",
      "        u = c[('u',0)]\n",
      "        c[('m', 0)][:] = u\n",
      "        c[('dm', 0, 0)][:] = 1\n",
      "        c[('f', 0)][..., 0] = u**2\n",
      "        c[('f', 0)][..., 1] = 2.0*u**2\n",
      "        c[('df', 0, 0)][...,0] = 2*u\n",
      "        c[('df', 0, 0)][...,1] = 2.0*2*u\n",
      "        c[('a', 0, 0)][..., 0, 0] = 0.001\n",
      "        c[('a', 0, 0)][..., 1, 1] = 0.001\n",
      "        c[('r', 0)][:] = 0.0001*u\n",
      "        c[('dr', 0, 0)][:] = 0.0001\n"
     ],
     "language": "python",
     "metadata": {},
     "outputs": [
      {
       "ename": "ImportError",
       "evalue": "libdaetk.so: cannot open shared object file: No such file or directory",
       "output_type": "pyerr",
       "traceback": [
        "\u001b[1;31m---------------------------------------------------------------------------\u001b[0m\n\u001b[1;31mImportError\u001b[0m                               Traceback (most recent call last)",
        "\u001b[1;32m<ipython-input-1-6520dafe39dd>\u001b[0m in \u001b[0;36m<module>\u001b[1;34m()\u001b[0m\n\u001b[1;32m----> 1\u001b[1;33m \u001b[1;32mfrom\u001b[0m \u001b[0mproteus\u001b[0m\u001b[1;33m.\u001b[0m\u001b[0mTransportCoefficients\u001b[0m \u001b[1;32mimport\u001b[0m \u001b[0mTC_base\u001b[0m\u001b[1;33m\u001b[0m\u001b[0m\n\u001b[0m\u001b[0;32m      2\u001b[0m \u001b[1;33m\u001b[0m\u001b[0m\n\u001b[0;32m      3\u001b[0m \u001b[1;33m\u001b[0m\u001b[0m\n\u001b[0;32m      4\u001b[0m \u001b[1;32mclass\u001b[0m \u001b[0mBurgers\u001b[0m\u001b[1;33m(\u001b[0m\u001b[0mTC_base\u001b[0m\u001b[1;33m)\u001b[0m\u001b[1;33m:\u001b[0m\u001b[1;33m\u001b[0m\u001b[0m\n\u001b[0;32m      5\u001b[0m     \u001b[1;32mdef\u001b[0m \u001b[0m__init__\u001b[0m\u001b[1;33m(\u001b[0m\u001b[0mself\u001b[0m\u001b[1;33m)\u001b[0m\u001b[1;33m:\u001b[0m\u001b[1;33m\u001b[0m\u001b[0m\n",
        "\u001b[1;32m/home/cekees/.hashdist/bld/profile/4hjx7bzumnlr/lib/python2.7/site-packages/proteus/TransportCoefficients.py\u001b[0m in \u001b[0;36m<module>\u001b[1;34m()\u001b[0m\n\u001b[0;32m      7\u001b[0m \u001b[1;32mfrom\u001b[0m \u001b[0mmath\u001b[0m \u001b[1;32mimport\u001b[0m \u001b[1;33m*\u001b[0m\u001b[1;33m\u001b[0m\u001b[0m\n\u001b[0;32m      8\u001b[0m \u001b[1;32mimport\u001b[0m \u001b[0mnumpy\u001b[0m\u001b[1;33m\u001b[0m\u001b[0m\n\u001b[1;32m----> 9\u001b[1;33m \u001b[1;32mimport\u001b[0m \u001b[0mNorms\u001b[0m\u001b[1;33m\u001b[0m\u001b[0m\n\u001b[0m\u001b[0;32m     10\u001b[0m \u001b[1;32mimport\u001b[0m \u001b[0mProfiling\u001b[0m\u001b[1;33m\u001b[0m\u001b[0m\n\u001b[0;32m     11\u001b[0m \u001b[1;33m\u001b[0m\u001b[0m\n",
        "\u001b[1;32m/home/cekees/.hashdist/bld/profile/4hjx7bzumnlr/lib/python2.7/site-packages/proteus/Norms.py\u001b[0m in \u001b[0;36m<module>\u001b[1;34m()\u001b[0m\n\u001b[0;32m      2\u001b[0m \u001b[0mTools\u001b[0m \u001b[1;32mfor\u001b[0m \u001b[0mcalculating\u001b[0m \u001b[0mnorms\u001b[0m \u001b[0mon\u001b[0m \u001b[0mfunction\u001b[0m \u001b[0mspaces\u001b[0m\u001b[1;33m.\u001b[0m\u001b[1;33m\u001b[0m\u001b[0m\n\u001b[0;32m      3\u001b[0m \"\"\"\n\u001b[1;32m----> 4\u001b[1;33m \u001b[1;32mfrom\u001b[0m \u001b[0mFemTools\u001b[0m \u001b[1;32mimport\u001b[0m \u001b[1;33m*\u001b[0m\u001b[1;33m\u001b[0m\u001b[0m\n\u001b[0m\u001b[0;32m      5\u001b[0m \u001b[1;32mfrom\u001b[0m \u001b[0mQuadrature\u001b[0m \u001b[1;32mimport\u001b[0m \u001b[1;33m*\u001b[0m\u001b[1;33m\u001b[0m\u001b[0m\n\u001b[0;32m      6\u001b[0m \u001b[1;31m#from cmeshTools import globalSum,globalMax\u001b[0m\u001b[1;33m\u001b[0m\u001b[1;33m\u001b[0m\u001b[0m\n",
        "\u001b[1;32m/home/cekees/.hashdist/bld/profile/4hjx7bzumnlr/lib/python2.7/site-packages/proteus/FemTools.py\u001b[0m in \u001b[0;36m<module>\u001b[1;34m()\u001b[0m\n\u001b[0;32m      3\u001b[0m \"\"\"\n\u001b[0;32m      4\u001b[0m \u001b[1;32mfrom\u001b[0m \u001b[0mEGeometry\u001b[0m \u001b[1;32mimport\u001b[0m \u001b[1;33m*\u001b[0m\u001b[1;33m\u001b[0m\u001b[0m\n\u001b[1;32m----> 5\u001b[1;33m \u001b[1;32mfrom\u001b[0m \u001b[0mMeshTools\u001b[0m \u001b[1;32mimport\u001b[0m \u001b[1;33m*\u001b[0m\u001b[1;33m\u001b[0m\u001b[0m\n\u001b[0m\u001b[0;32m      6\u001b[0m \u001b[1;32mfrom\u001b[0m \u001b[0mLinearAlgebraTools\u001b[0m \u001b[1;32mimport\u001b[0m \u001b[1;33m*\u001b[0m\u001b[1;33m\u001b[0m\u001b[0m\n\u001b[0;32m      7\u001b[0m \u001b[1;32mfrom\u001b[0m \u001b[0mQuadrature\u001b[0m \u001b[1;32mimport\u001b[0m \u001b[1;33m*\u001b[0m\u001b[1;33m\u001b[0m\u001b[0m\n",
        "\u001b[1;32m/home/cekees/.hashdist/bld/profile/4hjx7bzumnlr/lib/python2.7/site-packages/proteus/MeshTools.py\u001b[0m in \u001b[0;36m<module>\u001b[1;34m()\u001b[0m\n\u001b[0;32m      5\u001b[0m \u001b[1;32mimport\u001b[0m \u001b[0mnumpy\u001b[0m\u001b[1;33m\u001b[0m\u001b[0m\n\u001b[0;32m      6\u001b[0m \u001b[1;32mimport\u001b[0m \u001b[0marray\u001b[0m\u001b[1;33m\u001b[0m\u001b[0m\n\u001b[1;32m----> 7\u001b[1;33m \u001b[1;32mfrom\u001b[0m \u001b[0mArchiver\u001b[0m \u001b[1;32mimport\u001b[0m \u001b[1;33m*\u001b[0m\u001b[1;33m\u001b[0m\u001b[0m\n\u001b[0m\u001b[0;32m      8\u001b[0m \u001b[1;32mfrom\u001b[0m \u001b[0mLinearAlgebraTools\u001b[0m \u001b[1;32mimport\u001b[0m \u001b[0mParVec_petsc4py\u001b[0m\u001b[1;33m\u001b[0m\u001b[0m\n\u001b[0;32m      9\u001b[0m \u001b[1;32mfrom\u001b[0m \u001b[0mProfiling\u001b[0m \u001b[1;32mimport\u001b[0m \u001b[0mlogEvent\u001b[0m\u001b[1;33m,\u001b[0m\u001b[0mmemory\u001b[0m\u001b[1;33m\u001b[0m\u001b[0m\n",
        "\u001b[1;32m/home/cekees/.hashdist/bld/profile/4hjx7bzumnlr/lib/python2.7/site-packages/proteus/Archiver.py\u001b[0m in \u001b[0;36m<module>\u001b[1;34m()\u001b[0m\n\u001b[0;32m      3\u001b[0m \"\"\"\n\u001b[0;32m      4\u001b[0m \u001b[1;32mimport\u001b[0m \u001b[0mProfiling\u001b[0m\u001b[1;33m\u001b[0m\u001b[0m\n\u001b[1;32m----> 5\u001b[1;33m \u001b[1;32mimport\u001b[0m \u001b[0mComm\u001b[0m\u001b[1;33m\u001b[0m\u001b[0m\n\u001b[0m\u001b[0;32m      6\u001b[0m \u001b[1;32mimport\u001b[0m \u001b[0mnumpy\u001b[0m\u001b[1;33m\u001b[0m\u001b[0m\n\u001b[0;32m      7\u001b[0m \u001b[1;32mimport\u001b[0m \u001b[0mos\u001b[0m\u001b[1;33m\u001b[0m\u001b[0m\n",
        "\u001b[1;32m/home/cekees/.hashdist/bld/profile/4hjx7bzumnlr/lib/python2.7/site-packages/proteus/Comm.py\u001b[0m in \u001b[0;36m<module>\u001b[1;34m()\u001b[0m\n\u001b[0;32m      3\u001b[0m \"\"\"\n\u001b[0;32m      4\u001b[0m \u001b[1;32mimport\u001b[0m \u001b[0msys\u001b[0m\u001b[1;33m\u001b[0m\u001b[0m\n\u001b[1;32m----> 5\u001b[1;33m \u001b[1;32mfrom\u001b[0m \u001b[0mproteus\u001b[0m \u001b[1;32mimport\u001b[0m \u001b[0mflcbdfWrappers\u001b[0m\u001b[1;33m\u001b[0m\u001b[0m\n\u001b[0m\u001b[0;32m      6\u001b[0m \u001b[1;32mimport\u001b[0m \u001b[0mpetsc4py\u001b[0m\u001b[1;33m\u001b[0m\u001b[0m\n\u001b[0;32m      7\u001b[0m \u001b[1;33m\u001b[0m\u001b[0m\n",
        "\u001b[1;31mImportError\u001b[0m: libdaetk.so: cannot open shared object file: No such file or directory"
       ]
      }
     ],
     "prompt_number": 1
    },
    {
     "cell_type": "code",
     "collapsed": false,
     "input": [],
     "language": "python",
     "metadata": {},
     "outputs": []
    }
   ],
   "metadata": {}
  }
 ]
}