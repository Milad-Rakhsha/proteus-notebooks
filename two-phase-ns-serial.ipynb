{
 "metadata": {
  "name": "two-phase-ns-serial"
 },
 "nbformat": 3,
 "nbformat_minor": 0,
 "worksheets": [
  {
   "cells": [
    {
     "cell_type": "markdown",
     "metadata": {},
     "source": [
      "#Interactive Proteus serial example"
     ]
    },
    {
     "cell_type": "markdown",
     "metadata": {},
     "source": [
      "##Load interactive Proteus module, physics, and numerics on the MPI tasks and solve problem"
     ]
    },
    {
     "cell_type": "code",
     "collapsed": false,
     "input": [
      "from proteus.iproteus import * \n",
      "from proteus import default_n,default_s,default_so\n",
      "import wavetank\n",
      "he = wavetank.L[2]/10.0\n",
      "wavetank.triangleOptions=\"VApq2q10ena%21.16e\" % ((he**3)/6.0,)"
     ],
     "language": "python",
     "metadata": {},
     "outputs": [],
     "prompt_number": 4
    },
    {
     "cell_type": "code",
     "collapsed": false,
     "input": [
      "from proteus import Comm\n",
      "comm = Comm.get()\n",
      "pList = []\n",
      "nList = []\n",
      "import wavetank_so\n",
      "so = wavetank_so\n",
      "so.sList=[]\n",
      "for p,n in wavetank_so.pnList:\n",
      "    pList.append(__import__(p))\n",
      "    nList.append(__import__(n))\n",
      "    pList[-1].name = p\n",
      "    so.sList.append(default_s)\n",
      "so.name='wavetank'\n",
      "#opts.viewer='vtk'\n",
      "#viewers = Viewers.viewerOn(so.name+`comm.rank()`,opts.viewer)\n",
      "print so\n",
      "print pList\n",
      "print nList\n",
      "print so.sList\n",
      "ns = NumericalSolution.NS_base(so,pList,nList,so.sList,opts)\n",
      "ns.calculateSolution('run1')\n",
      "x = ns.modelList[0].levelModelList[-1].mesh.nodeArray[:,0]\n",
      "y = ns.modelList[0].levelModelList[-1].mesh.nodeArray[:,1]\n",
      "z = ns.modelList[0].levelModelList[-1].mesh.nodeArray[:,2]\n",
      "triangles = ns.modelList[0].levelModelList[-1].mesh.elementNodesArray\n",
      "u = ns.modelList[0].levelModelList[-1].u[0].dof\n",
      "#if comm.isMaster():\n",
      "#    imageList = [window.png for window in viewers.windowDict.values()]\n",
      "#else:\n",
      "#    imageList = []\n",
      "##Combine subdomain solutions and plot"
     ],
     "language": "python",
     "metadata": {},
     "outputs": [
      {
       "output_type": "stream",
       "stream": "stdout",
       "text": [
        "<module 'wavetank_so' from './wavetank_so.pyc'>\n",
        "[<module 'twp_navier_stokes_p' from './twp_navier_stokes_p.pyc'>, <module 'ls_p' from './ls_p.pyc'>, <module 'vof_p' from './vof_p.pyc'>, <module 'redist_p' from './redist_p.pyc'>, <module 'ls_consrv_p' from './ls_consrv_p.pyc'>]\n",
        "[<module 'twp_navier_stokes_n' from './twp_navier_stokes_n.pyc'>, <module 'ls_n' from './ls_n.pyc'>, <module 'vof_n' from './vof_n.pyc'>, <module 'redist_n' from './redist_n.pyc'>, <module 'ls_consrv_n' from './ls_consrv_n.pyc'>]\n",
        "[<module 'proteus.default_s' from '/Users/cekees/proteus/darwinclang/Library/Frameworks/Python.framework/Versions/2.7/lib/python2.7/site-packages/proteus/default_s.pyc'>, <module 'proteus.default_s' from '/Users/cekees/proteus/darwinclang/Library/Frameworks/Python.framework/Versions/2.7/lib/python2.7/site-packages/proteus/default_s.pyc'>, <module 'proteus.default_s' from '/Users/cekees/proteus/darwinclang/Library/Frameworks/Python.framework/Versions/2.7/lib/python2.7/site-packages/proteus/default_s.pyc'>, <module 'proteus.default_s' from '/Users/cekees/proteus/darwinclang/Library/Frameworks/Python.framework/Versions/2.7/lib/python2.7/site-packages/proteus/default_s.pyc'>, <module 'proteus.default_s' from '/Users/cekees/proteus/darwinclang/Library/Frameworks/Python.framework/Versions/2.7/lib/python2.7/site-packages/proteus/default_s.pyc'>]\n",
        "twp_navier_stokes_p"
       ]
      },
      {
       "output_type": "stream",
       "stream": "stdout",
       "text": [
        "\n",
        "\n",
        "ls_p\n",
        "\n",
        "vof_p\n",
        "\n",
        "redist_p\n",
        "\n",
        "ls_consrv_p\n",
        "\n",
        "True"
       ]
      },
      {
       "output_type": "stream",
       "stream": "stdout",
       "text": [
        "\n",
        "RANS2P init "
       ]
      },
      {
       "output_type": "stream",
       "stream": "stdout",
       "text": [
        " 0 169\n",
        "RANS2P init "
       ]
      },
      {
       "output_type": "stream",
       "stream": "stdout",
       "text": [
        " 0 169\n",
        "RANS2P init "
       ]
      },
      {
       "output_type": "stream",
       "stream": "stdout",
       "text": [
        " 1 167\n",
        "RANS2P init "
       ]
      },
      {
       "output_type": "stream",
       "stream": "stdout",
       "text": [
        " 1 167\n",
        "RANS2P init "
       ]
      },
      {
       "output_type": "stream",
       "stream": "stdout",
       "text": [
        " 2 167\n",
        "RANS2P init "
       ]
      },
      {
       "output_type": "stream",
       "stream": "stdout",
       "text": [
        " 2 167\n",
        "RANS2P init "
       ]
      },
      {
       "output_type": "stream",
       "stream": "stdout",
       "text": [
        " 3 30\n",
        "RANS2P init "
       ]
      },
      {
       "output_type": "stream",
       "stream": "stdout",
       "text": [
        " 3 30\n",
        "1"
       ]
      },
      {
       "output_type": "stream",
       "stream": "stdout",
       "text": [
        " 0 1 "
       ]
      },
      {
       "output_type": "stream",
       "stream": "stdout",
       "text": [
        "1 0 1 "
       ]
      },
      {
       "output_type": "stream",
       "stream": "stdout",
       "text": [
        "1 0 1 "
       ]
      },
      {
       "output_type": "stream",
       "stream": "stdout",
       "text": [
        "1 0 1 "
       ]
      },
      {
       "output_type": "stream",
       "stream": "stdout",
       "text": [
        "1 0 1 "
       ]
      },
      {
       "output_type": "stream",
       "stream": "stdout",
       "text": [
        "1 0 1 "
       ]
      },
      {
       "output_type": "stream",
       "stream": "stdout",
       "text": [
        "1 0 1 "
       ]
      },
      {
       "output_type": "stream",
       "stream": "stdout",
       "text": [
        "1 0 1 "
       ]
      },
      {
       "output_type": "stream",
       "stream": "stdout",
       "text": [
        "1 0 1 "
       ]
      },
      {
       "output_type": "stream",
       "stream": "stdout",
       "text": [
        "1 0 1 "
       ]
      },
      {
       "output_type": "stream",
       "stream": "stdout",
       "text": [
        "1 0 1 "
       ]
      },
      {
       "output_type": "stream",
       "stream": "stdout",
       "text": [
        "1 0 1 "
       ]
      },
      {
       "output_type": "stream",
       "stream": "stdout",
       "text": [
        "1 0 1 "
       ]
      },
      {
       "output_type": "stream",
       "stream": "stdout",
       "text": [
        "1 0 1 "
       ]
      },
      {
       "output_type": "stream",
       "stream": "stdout",
       "text": [
        "1 0 1 "
       ]
      },
      {
       "output_type": "stream",
       "stream": "stdout",
       "text": [
        "1 0 1 "
       ]
      },
      {
       "output_type": "stream",
       "stream": "stdout",
       "text": [
        "True\n",
        "1"
       ]
      },
      {
       "output_type": "stream",
       "stream": "stdout",
       "text": [
        " 0 1 "
       ]
      },
      {
       "output_type": "stream",
       "stream": "stdout",
       "text": [
        "True\n",
        "1"
       ]
      },
      {
       "output_type": "stream",
       "stream": "stdout",
       "text": [
        " 0 1 "
       ]
      },
      {
       "output_type": "stream",
       "stream": "stdout",
       "text": [
        "True\n",
        "1"
       ]
      },
      {
       "output_type": "stream",
       "stream": "stdout",
       "text": [
        " 0 1 "
       ]
      },
      {
       "output_type": "stream",
       "stream": "stdout",
       "text": [
        "True\n",
        "1"
       ]
      },
      {
       "output_type": "stream",
       "stream": "stdout",
       "text": [
        " 0 1\n"
       ]
      }
     ],
     "prompt_number": 5
    },
    {
     "cell_type": "code",
     "collapsed": false,
     "input": [
      "print x.shape\n",
      "print z.shape\n",
      "print y.shape\n",
      "print triangles.shape\n",
      "scatter(x,z,c=u)\n",
      "vof = ns.modelList[2].levelModelList[-1].u[0].dof\n",
      "scatter(x,z,c=vof)\n",
      "triangles = ns.modelList[0].levelModelList[-1].mesh.elementBoundaryNodesArray\n",
      "clf()\n",
      "tricontourf(x,z,triangles,vof)"
     ],
     "language": "python",
     "metadata": {},
     "outputs": [
      {
       "output_type": "stream",
       "stream": "stdout",
       "text": [
        "(2118,)\n",
        "(2118,)\n",
        "(2118,)\n",
        "(14700, 3)\n"
       ]
      },
      {
       "output_type": "pyout",
       "prompt_number": 14,
       "text": [
        "<matplotlib.tri.tricontour.TriContourSet instance at 0x140bdc320>"
       ]
      },
      {
       "output_type": "display_data",
       "png": "[encoded data removed]"
      }
     ],
     "prompt_number": 14
    },
    {
     "cell_type": "code",
     "collapsed": false,
     "input": [
      "#png = view['imageList'][12][0]\n",
      "#print png"
     ],
     "language": "python",
     "metadata": {},
     "outputs": []
    },
    {
     "cell_type": "code",
     "collapsed": false,
     "input": [
      "#from IPython.core.display import Image\n",
      "#Image(png,embed=True)"
     ],
     "language": "python",
     "metadata": {},
     "outputs": []
    },
    {
     "cell_type": "code",
     "collapsed": true,
     "input": [],
     "language": "python",
     "metadata": {},
     "outputs": []
    }
   ],
   "metadata": {}
  }
 ]
}