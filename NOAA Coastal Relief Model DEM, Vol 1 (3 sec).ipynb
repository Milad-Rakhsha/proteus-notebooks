{
 "cells": [
  {
   "cell_type": "code",
   "execution_count": 1,
   "metadata": {
    "collapsed": false
   },
   "outputs": [
    {
     "name": "stdout",
     "output_type": "stream",
     "text": [
      "Populating the interactive namespace from numpy and matplotlib\n"
     ]
    }
   ],
   "source": [
    "%pylab inline"
   ]
  },
  {
   "cell_type": "code",
   "execution_count": 2,
   "metadata": {
    "collapsed": false
   },
   "outputs": [],
   "source": [
    "import numpy as np\n",
    "import matplotlib.pyplot as plt\n",
    "import netCDF4"
   ]
  },
  {
   "cell_type": "code",
   "execution_count": 4,
   "metadata": {
    "collapsed": false
   },
   "outputs": [
    {
     "ename": "RuntimeError",
     "evalue": "NetCDF: Unknown file format",
     "output_type": "error",
     "traceback": [
      "\u001b[1;31m---------------------------------------------------------------------------\u001b[0m",
      "\u001b[1;31mRuntimeError\u001b[0m                              Traceback (most recent call last)",
      "\u001b[1;32m<ipython-input-4-236cd93f22a3>\u001b[0m in \u001b[0;36m<module>\u001b[1;34m()\u001b[0m\n\u001b[0;32m     12\u001b[0m \u001b[0mbox\u001b[0m \u001b[1;33m=\u001b[0m \u001b[1;33m[\u001b[0m\u001b[1;33m-\u001b[0m\u001b[1;36m71.4\u001b[0m\u001b[1;33m,\u001b[0m\u001b[1;36m41\u001b[0m\u001b[1;33m,\u001b[0m\u001b[1;33m-\u001b[0m\u001b[1;36m70.2\u001b[0m\u001b[1;33m,\u001b[0m\u001b[1;36m42\u001b[0m\u001b[1;33m]\u001b[0m\u001b[1;33m\u001b[0m\u001b[0m\n\u001b[0;32m     13\u001b[0m \u001b[1;33m\u001b[0m\u001b[0m\n\u001b[1;32m---> 14\u001b[1;33m \u001b[0mnc\u001b[0m\u001b[1;33m=\u001b[0m\u001b[0mnetCDF4\u001b[0m\u001b[1;33m.\u001b[0m\u001b[0mDataset\u001b[0m\u001b[1;33m(\u001b[0m\u001b[0murl\u001b[0m\u001b[1;33m)\u001b[0m\u001b[1;33m\u001b[0m\u001b[0m\n\u001b[0m\u001b[0;32m     15\u001b[0m \u001b[1;32mprint\u001b[0m \u001b[1;34m\"Source name: %s\"\u001b[0m \u001b[1;33m%\u001b[0m \u001b[0mnc\u001b[0m\u001b[1;33m.\u001b[0m\u001b[0mtitle\u001b[0m\u001b[1;33m\u001b[0m\u001b[0m\n\u001b[0;32m     16\u001b[0m \u001b[0mlon\u001b[0m\u001b[1;33m=\u001b[0m\u001b[0mnc\u001b[0m\u001b[1;33m.\u001b[0m\u001b[0mvariables\u001b[0m\u001b[1;33m[\u001b[0m\u001b[1;34m'lon'\u001b[0m\u001b[1;33m]\u001b[0m\u001b[1;33m[\u001b[0m\u001b[1;33m:\u001b[0m\u001b[1;33m]\u001b[0m\u001b[1;33m\u001b[0m\u001b[0m\n",
      "\u001b[1;32mnetCDF4.pyx\u001b[0m in \u001b[0;36mnetCDF4.Dataset.__init__ (netCDF4.c:19148)\u001b[1;34m()\u001b[0m\n",
      "\u001b[1;31mRuntimeError\u001b[0m: NetCDF: Unknown file format"
     ]
    }
   ],
   "source": [
    "# Test extraction from local NetCDF file:\n",
    "# url='c:/rps/python/traster_RasterToNetCDF.nc'\n",
    "# Test extraction from OPeNDAP URL with Latitude coordinate increasing:\n",
    "#url='http://geoport.whoi.edu/thredds/dodsC/bathy/etopo1_bed_g2'\n",
    "# Test failure of arcpy.NumPyArrayToRaster when lat is not uniformly spaced:\n",
    "#url='http://geoport.whoi.edu/thredds/dodsC/bathy/smith_sandwell_v11'\n",
    "# Test Latitude coordinate decreasing:\n",
    "url='http://geoport.whoi.edu/thredds/dodsC/bathy/crm_vol1.nc'\n",
    "\n",
    "#desired lon/lat range to extract:\n",
    "#box=[-71.0,41.0,-67.0,46.0]\n",
    "box = [-71.4,41,-70.2,42]\n",
    "\n",
    "nc=netCDF4.Dataset(url)\n",
    "print \"Source name: %s\" % nc.title\n",
    "lon=nc.variables['lon'][:]\n",
    "lat=nc.variables['lat'][:]\n",
    "bi=(lon>=box[0])&(lon<=box[2])\n",
    "bj=(lat>=box[1])&(lat<=box[3])\n",
    "z=nc.variables['topo'][bj,bi]"
   ]
  },
  {
   "cell_type": "code",
   "execution_count": null,
   "metadata": {
    "collapsed": false
   },
   "outputs": [],
   "source": [
    "# plot it up\n",
    "pylab.clf()\n",
    "pylab.pcolormesh(lon[bi], lat[bj], z,\n",
    "                   vmin=np.min(z), vmax=0,\n",
    "                   cmap=plt.cm.RdBu_r)\n",
    "pylab.colorbar()\n",
    "pylab.axis('tight')"
   ]
  }
 ],
 "metadata": {
  "kernelspec": {
   "display_name": "Python 2",
   "language": "python",
   "name": "python2"
  },
  "language_info": {
   "codemirror_mode": {
    "name": "ipython",
    "version": 2
   },
   "file_extension": ".py",
   "mimetype": "text/x-python",
   "name": "python",
   "nbconvert_exporter": "python",
   "pygments_lexer": "ipython2",
   "version": "2.7.9"
  }
 },
 "nbformat": 4,
 "nbformat_minor": 0
}
