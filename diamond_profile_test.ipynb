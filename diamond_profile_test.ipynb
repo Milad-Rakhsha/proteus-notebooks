{
 "cells": [
  {
   "cell_type": "markdown",
   "metadata": {},
   "source": []
  },
  {
   "cell_type": "code",
   "execution_count": 1,
   "metadata": {
    "collapsed": true
   },
   "outputs": [],
   "source": [
    "from IPython.parallel import Client, error\n",
    "cluster = Client(profile=\"diamond\",sshserver=\"diamond03.erdc.hpc.mil\",password=\"\")\n",
    "view = cluster[:]\n",
    "view.block = True\n",
    "%load_ext parallelmagic\n",
    "view.activate()"
   ]
  },
  {
   "cell_type": "code",
   "execution_count": 2,
   "metadata": {
    "collapsed": false
   },
   "outputs": [
    {
     "data": {
      "text/plain": [
       "<DirectView [0, 1, 2, 3,...]>"
      ]
     },
     "execution_count": 2,
     "metadata": {},
     "output_type": "execute_result"
    }
   ],
   "source": [
    "view"
   ]
  },
  {
   "cell_type": "code",
   "execution_count": 2,
   "metadata": {
    "collapsed": true
   },
   "outputs": [],
   "source": []
  },
  {
   "cell_type": "code",
   "execution_count": 3,
   "metadata": {
    "collapsed": false
   },
   "outputs": [
    {
     "name": "stdout",
     "output_type": "stream",
     "text": [
      "Parallel execution on engine(s): [0, 1, 2, 3, 4, 5, 6, 7, 8, 9, 10, 11, 12, 13, 14, 15, 16, 17, 18, 19, 20, 21, 22, 23, 24, 25, 26, 27, 28, 29, 30, 31, 32, 33, 34, 35, 36, 37, 38, 39, 40, 41, 42, 43, 44, 45, 46, 47, 48, 49, 50, 51, 52, 53, 54, 55, 56, 57, 58, 59, 60, 61, 62, 63]\n",
      "[stdout:9] \n",
      "5\n",
      "64\n",
      "[stdout:10] \n",
      "28\n",
      "64\n",
      "[stdout:11] \n",
      "61\n",
      "64\n",
      "[stdout:12] \n",
      "32\n",
      "64\n",
      "[stdout:13] \n",
      "21\n",
      "64\n",
      "[stdout:14] \n",
      "58\n",
      "64\n",
      "[stdout:15] \n",
      "39\n",
      "64\n",
      "[stdout:16] \n",
      "55\n",
      "64\n",
      "[stdout:17] \n",
      "25\n",
      "64\n",
      "[stdout:18] \n",
      "43\n",
      "64\n",
      "[stdout:19] \n",
      "63\n",
      "64\n",
      "[stdout:20] \n",
      "11\n",
      "64\n",
      "[stdout:21] \n",
      "16\n",
      "64\n",
      "[stdout:22] \n",
      "26\n",
      "64\n",
      "[stdout:23] \n",
      "7\n",
      "64\n",
      "[stdout:24] \n",
      "37\n",
      "64\n",
      "[stdout:25] \n",
      "57\n",
      "64\n",
      "[stdout:26] \n",
      "13\n",
      "64\n",
      "[stdout:27] \n",
      "59\n",
      "64\n",
      "[stdout:28] \n",
      "47\n",
      "64\n"
     ]
    }
   ],
   "source": [
    "%%px\n",
    "from proteus import Comm\n",
    "comm = Comm.init()\n",
    "print comm.rank()\n",
    "print comm.size()"
   ]
  },
  {
   "cell_type": "code",
   "execution_count": 3,
   "metadata": {
    "collapsed": true
   },
   "outputs": [],
   "source": []
  }
 ],
 "metadata": {
  "kernelspec": {
   "display_name": "Python 2",
   "language": "python",
   "name": "python2"
  },
  "language_info": {
   "codemirror_mode": {
    "name": "ipython",
    "version": 2
   },
   "file_extension": ".py",
   "mimetype": "text/x-python",
   "name": "python",
   "nbconvert_exporter": "python",
   "pygments_lexer": "ipython2",
   "version": "2.7.8"
  }
 },
 "nbformat": 4,
 "nbformat_minor": 0
}
