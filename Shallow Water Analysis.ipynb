{
 "metadata": {
  "name": "",
  "signature": "sha256:54efa3741656ceaef4a2eaf0cdd19084eb049641b98161af9c00ab793f686c7b"
 },
 "nbformat": 3,
 "nbformat_minor": 0,
 "worksheets": [
  {
   "cells": [
    {
     "cell_type": "markdown",
     "metadata": {},
     "source": [
      "#Derivation of $\\mathbf{\\tau}$ for shallow water equations\n",
      "\n",
      " - State conservation variables formulation\n",
      "\\\\[U_t + \\nabla \\cdot F = 0 \\\\]\n",
      " - Derive quasilinear form\n",
      "\\\\[U_t + A_1 U_x + A_2 U_y = 0\\\\]\n",
      " - State entropy, $H$, derive entropy variables $V = H_U$, and quasi-linear entropy formulation \n",
      "\\\\[ \\tilde{A}_0 V_t + \\tilde{A}_1 V_x + \\tilde{A}_2 V_y=0 \\\\]\n",
      "$\\tilde{A}_0 = H_{U,U}^{-1}$, $\\tilde{A}_1 = A_1 \\tilde{A}_0$, and  $\\tilde{A}_2 = A_2 \\tilde{A}_0$.\n",
      " - Verify that these matrices are symmetric, etc. This is  the \"Symmetric form with Riemannian metric\".\n",
      " - Assuming linearity (freezing coefficients) change variables to get the \"Symmetric form with Euclidean metric\". Fist change from entropy variables to a new set of variables $X$ using the Cholesky factorization $\\tilde{A}_0=LL^t$ and the variables $X = L^t V$. This  yields\n",
      " \\\\[ L L^t V_t + \\tilde{A}_1 L^{-t} L^t V_x + \\tilde{A}_2 L^{-t} L^t V_y = 0 \\\\]\n",
      " \\\\[X_t + L^{-1} \\tilde{A}_1 L^{-t} X_x + L^{-1} \\tilde{A}_2 L^{-t} X_y = 0\\\\]\n",
      "\\\\[ X_t + \\hat{A}_1 X_x + \\hat{A}_2 X_y = 0 \\\\]\n",
      "where $\\hat{A}_1 = L^{-1} \\tilde{A}_1 L^{-t}$ and $\\hat{A}_2 = L^{-1} \\tilde{A}_2 L^{-t}$.\n",
      " - Diagonalize the the (now symmetric) flux Jacobians $\\hat{A}_1$ and $\\hat{A}_2$ as \n",
      "\\\\[ \\hat{A}_1 = Y_1 \\Lambda_1 Y_1^{-1} \\\\]\n",
      "\\\\[ \\hat{A}_2 = Y_2 \\Lambda_2 Y_2^{-1} \\\\]\n",
      " - Normalize  the rows of $Y_1$ and $Y_2$ so that $Y Y^t=Y^t Y = I$ (they are orthogonal by symmetry so this  makes them orthonormal).\n",
      " - Derive $\\hat{\\tau}_i$ for the diagonalized system in each direction (assuming 1D in $x$ or $y$)\n",
      " - Derive $\\tilde{\\tau}$ for entropy variables using the properly scaled eigenvectors\n",
      "\\\\[ \\Phi = L^{-t} Y \\\\]\n",
      "In other words, using the normalized $Y$ to build the correct scaling for $\\Phi$.\n",
      "\n",
      "- Since the  relationship between eigenvectors in conservation variables, entropy variables, and Euclidean variables is\n",
      "\n",
      "\\\\[ \\Psi = A_0 \\Phi = L Y \\\\]\n",
      "\n",
      "- NOTE: I actually compute a sets of eigenvectors using the flux Jacobians for conservation variables, then compute the normalized $Y$ from those sets using $L$, then transform back to the properly $\\Phi$.\n",
      "\n",
      "- Derive $\\tau$ for conservation variables (or any other set of variable) by doing\n",
      "\\\\[ \\tau = Y_v \\tilde{\\tau} \\\\]\n",
      "where $Y_v$ is the change of variables from given variables to entropy variables."
     ]
    },
    {
     "cell_type": "markdown",
     "metadata": {},
     "source": [
      "# Conservation laws in conservation variables\n",
      "\n",
      "\\\\[ U_t + \\nabla \\cdot F = 0 \\\\]\n",
      "\n",
      "Set up symbolic variables, define U, and F"
     ]
    },
    {
     "cell_type": "code",
     "collapsed": false,
     "input": [
      "from sympy import *\n",
      "init_printing()\n",
      "c,h,g,dt,s = symbols('c,h,g,dt,s',positive=true)\n",
      "u,v,hu,hv = symbols('u,v,hu,hv')"
     ],
     "language": "python",
     "metadata": {},
     "outputs": [],
     "prompt_number": 1
    },
    {
     "cell_type": "code",
     "collapsed": false,
     "input": [
      "U = Matrix([h,hu,hv])\n",
      "print \"U = \",U\n",
      "F = Matrix([[h*u            , h*v],\n",
      "            [h*u*u+h**2*g/2 , h*u*v],\n",
      "            [h*u*v          , h*v*v+h**2*g/2]])\n",
      "print \"F = \",F\n",
      "print \"F_1 = \",F[:,0]\n",
      "print \"F_2 = \",F[:,1]\n",
      "U,F"
     ],
     "language": "python",
     "metadata": {},
     "outputs": [
      {
       "output_type": "stream",
       "stream": "stdout",
       "text": [
        "U =  Matrix([[h], [hu], [hv]])\n",
        "F =  Matrix([[h*u, h*v], [g*h**2/2 + h*u**2, h*u*v], [h*u*v, g*h**2/2 + h*v**2]])\n",
        "F_1 =  Matrix([[h*u], [g*h**2/2 + h*u**2], [h*u*v]])\n",
        "F_2 =  Matrix([[h*v], [h*u*v], [g*h**2/2 + h*v**2]])\n"
       ]
      },
      {
       "latex": [
        "$$\\left ( \\left[\\begin{matrix}h\\\\hu\\\\hv\\end{matrix}\\right], \\quad \\left[\\begin{matrix}h u & h v\\\\\\frac{g h^{2}}{2} + h u^{2} & h u v\\\\h u v & \\frac{g h^{2}}{2} + h v^{2}\\end{matrix}\\right]\\right )$$"
       ],
       "metadata": {},
       "output_type": "pyout",
       "png": "[encoded data removed]",
       "prompt_number": 2,
       "text": [
        "\u239b\u23a1h \u23a4, \u23a1    h\u22c5u          h\u22c5v    \u23a4\u239e\n",
        "\u239c\u23a2  \u23a5  \u23a2                        \u23a5\u239f\n",
        "\u239c\u23a2hu\u23a5  \u23a2   2                    \u23a5\u239f\n",
        "\u239c\u23a2  \u23a5  \u23a2g\u22c5h       2             \u23a5\u239f\n",
        "\u239c\u23a3hv\u23a6  \u23a2\u2500\u2500\u2500\u2500 + h\u22c5u      h\u22c5u\u22c5v   \u23a5\u239f\n",
        "\u239c      \u23a2 2                      \u23a5\u239f\n",
        "\u239c      \u23a2                        \u23a5\u239f\n",
        "\u239c      \u23a2                2       \u23a5\u239f\n",
        "\u239c      \u23a2             g\u22c5h       2\u23a5\u239f\n",
        "\u239c      \u23a2   h\u22c5u\u22c5v     \u2500\u2500\u2500\u2500 + h\u22c5v \u23a5\u239f\n",
        "\u239d      \u23a3              2         \u23a6\u23a0"
       ]
      }
     ],
     "prompt_number": 2
    },
    {
     "cell_type": "code",
     "collapsed": false,
     "input": [
      "FC =  simplify(F.subs(h*u,hu).subs(h*v,hv).subs(u,hu/h).subs(v,hv/h))\n",
      "print \"FC = \",FC\n",
      "A0 = U.jacobian(U)\n",
      "print \"A0 = \",A0\n",
      "A1 = simplify(FC[:,0].jacobian(U).subs(hu,h*u).subs(hv,h*v))\n",
      "print \"A1 = \",A1\n",
      "A2 = simplify(FC[:,1].jacobian(U).subs(hu,h*u).subs(hv,h*v))\n",
      "print \"A2 = \",A2\n",
      "A0,A1,A2"
     ],
     "language": "python",
     "metadata": {},
     "outputs": [
      {
       "output_type": "stream",
       "stream": "stdout",
       "text": [
        "FC =  Matrix([\n",
        "[                  hu,                   hv],\n",
        "[(g*h**3/2 + hu**2)/h,              hu*hv/h],\n",
        "[             hu*hv/h, (g*h**3/2 + hv**2)/h]])\n",
        "A0 =  Matrix([[1, 0, 0], [0, 1, 0], [0, 0, 1]])\n",
        "A1 = "
       ]
      },
      {
       "output_type": "stream",
       "stream": "stdout",
       "text": [
        " Matrix([\n",
        "[         0,   1, 0],\n",
        "[g*h - u**2, 2*u, 0],\n",
        "[      -u*v,   v, u]])\n",
        "A2 = "
       ]
      },
      {
       "output_type": "stream",
       "stream": "stdout",
       "text": [
        " Matrix([\n",
        "[         0, 0,   1],\n",
        "[      -u*v, v,   u],\n",
        "[g*h - v**2, 0, 2*v]])\n"
       ]
      },
      {
       "latex": [
        "$$\\left ( \\left[\\begin{matrix}1 & 0 & 0\\\\0 & 1 & 0\\\\0 & 0 & 1\\end{matrix}\\right], \\quad \\left[\\begin{matrix}0 & 1 & 0\\\\g h - u^{2} & 2 u & 0\\\\- u v & v & u\\end{matrix}\\right], \\quad \\left[\\begin{matrix}0 & 0 & 1\\\\- u v & v & u\\\\g h - v^{2} & 0 & 2 v\\end{matrix}\\right]\\right )$$"
       ],
       "metadata": {},
       "output_type": "pyout",
       "png": "[encoded data removed]",
       "prompt_number": 3,
       "text": [
        "\u239b\u23a11  0  0\u23a4, \u23a1   0       1   0\u23a4, \u23a1   0      0   1 \u23a4\u239e\n",
        "\u239c\u23a2       \u23a5  \u23a2                \u23a5  \u23a2                \u23a5\u239f\n",
        "\u239c\u23a20  1  0\u23a5  \u23a2       2        \u23a5  \u23a2  -u\u22c5v    v   u \u23a5\u239f\n",
        "\u239c\u23a2       \u23a5  \u23a2g\u22c5h - u   2\u22c5u  0\u23a5  \u23a2                \u23a5\u239f\n",
        "\u239c\u23a30  0  1\u23a6  \u23a2                \u23a5  \u23a2       2        \u23a5\u239f\n",
        "\u239d           \u23a3  -u\u22c5v     v   u\u23a6  \u23a3g\u22c5h - v   0  2\u22c5v\u23a6\u23a0"
       ]
      }
     ],
     "prompt_number": 3
    },
    {
     "cell_type": "code",
     "collapsed": false,
     "input": [
      "#Psi1,lambda1 = A1.diagonalize()\n",
      "#Psi1 = simplify(Psi1.subs(sqrt(g)*sqrt(h),c))\n",
      "#lambda1 = simplify(lambda1.subs(sqrt(g)*sqrt(h),c))\n",
      "#print \"Psi1\",Psi1\n",
      "#print \"lambda1\",lambda1\n",
      "#Psi1,lambda1"
     ],
     "language": "python",
     "metadata": {},
     "outputs": [],
     "prompt_number": 4
    },
    {
     "cell_type": "code",
     "collapsed": false,
     "input": [
      "EA1 = A1.eigenvects(simplify=True)\n",
      "EA1"
     ],
     "language": "python",
     "metadata": {},
     "outputs": [
      {
       "latex": [
        "$$\\left [ \\left ( u, \\quad 1, \\quad \\left [ \\left[\\begin{matrix}0\\\\0\\\\1\\end{matrix}\\right]\\right ]\\right ), \\quad \\left ( - \\sqrt{g} \\sqrt{h} + u, \\quad 1, \\quad \\left [ \\left[\\begin{matrix}\\frac{1}{v}\\\\- \\frac{1}{v} \\left(\\sqrt{g} \\sqrt{h} - u\\right)\\\\1\\end{matrix}\\right]\\right ]\\right ), \\quad \\left ( \\sqrt{g} \\sqrt{h} + u, \\quad 1, \\quad \\left [ \\left[\\begin{matrix}- \\frac{\\sqrt{g} \\sqrt{h} + u}{v \\left(- \\sqrt{g} \\sqrt{h} - u\\right)}\\\\\\frac{1}{v} \\left(\\sqrt{g} \\sqrt{h} + u\\right)\\\\1\\end{matrix}\\right]\\right ]\\right )\\right ]$$"
       ],
       "metadata": {},
       "output_type": "pyout",
       "png": "[encoded data removed]",
       "prompt_number": 5,
       "text": [
        "\u23a1                                                                \u239b            \n",
        "\u23a2               \u239b    ___   ___         \u23a1\u23a1         1         \u23a4\u23a4\u239e  \u239c  ___   ___ \n",
        "\u23a2\u239bu, 1, \u23a1\u23a10\u23a4\u23a4\u239e, \u239c- \u2572\u2571 g \u22c5\u2572\u2571 h  + u, 1, \u23a2\u23a2         \u2500         \u23a5\u23a5\u239f, \u239c\u2572\u2571 g \u22c5\u2572\u2571 h  \n",
        "\u23a2\u239c      \u23a2\u23a2 \u23a5\u23a5\u239f  \u239c                      \u23a2\u23a2         v         \u23a5\u23a5\u239f  \u239c            \n",
        "\u23a2\u239c      \u23a2\u23a20\u23a5\u23a5\u239f  \u239c                      \u23a2\u23a2                   \u23a5\u23a5\u239f  \u239c            \n",
        "\u23a2\u239c      \u23a2\u23a2 \u23a5\u23a5\u239f  \u239c                      \u23a2\u23a2 \u239b  ___   ___    \u239e \u23a5\u23a5\u239f  \u239c            \n",
        "\u23a2\u239d      \u23a3\u23a31\u23a6\u23a6\u23a0  \u239c                      \u23a2\u23a2-\u239d\u2572\u2571 g \u22c5\u2572\u2571 h  - u\u23a0 \u23a5\u23a5\u239f  \u239c            \n",
        "\u23a2               \u239c                      \u23a2\u23a2\u2500\u2500\u2500\u2500\u2500\u2500\u2500\u2500\u2500\u2500\u2500\u2500\u2500\u2500\u2500\u2500\u2500\u2500\u2500\u23a5\u23a5\u239f  \u239c            \n",
        "\u23a2               \u239c                      \u23a2\u23a2         v         \u23a5\u23a5\u239f  \u239c            \n",
        "\u23a2               \u239c                      \u23a2\u23a2                   \u23a5\u23a5\u239f  \u239c            \n",
        "\u23a2               \u239d                      \u23a3\u23a3         1         \u23a6\u23a6\u23a0  \u239c            \n",
        "\u23a3                                                                \u239d            \n",
        "\n",
        "        \u23a1\u23a1  \u239b  ___   ___    \u239e  \u23a4\u23a4\u239e\u23a4\n",
        "        \u23a2\u23a2 -\u239d\u2572\u2571 g \u22c5\u2572\u2571 h  + u\u23a0  \u23a5\u23a5\u239f\u23a5\n",
        "+ u, 1, \u23a2\u23a2\u2500\u2500\u2500\u2500\u2500\u2500\u2500\u2500\u2500\u2500\u2500\u2500\u2500\u2500\u2500\u2500\u2500\u2500\u2500\u2500\u2500\u23a5\u23a5\u239f\u23a5\n",
        "        \u23a2\u23a2  \u239b    ___   ___    \u239e\u23a5\u23a5\u239f\u23a5\n",
        "        \u23a2\u23a2v\u22c5\u239d- \u2572\u2571 g \u22c5\u2572\u2571 h  - u\u23a0\u23a5\u23a5\u239f\u23a5\n",
        "        \u23a2\u23a2                     \u23a5\u23a5\u239f\u23a5\n",
        "        \u23a2\u23a2     ___   ___       \u23a5\u23a5\u239f\u23a5\n",
        "        \u23a2\u23a2   \u2572\u2571 g \u22c5\u2572\u2571 h  + u   \u23a5\u23a5\u239f\u23a5\n",
        "        \u23a2\u23a2   \u2500\u2500\u2500\u2500\u2500\u2500\u2500\u2500\u2500\u2500\u2500\u2500\u2500\u2500\u2500   \u23a5\u23a5\u239f\u23a5\n",
        "        \u23a2\u23a2          v          \u23a5\u23a5\u239f\u23a5\n",
        "        \u23a2\u23a2                     \u23a5\u23a5\u239f\u23a5\n",
        "        \u23a3\u23a3          1          \u23a6\u23a6\u23a0\u23a6"
       ]
      }
     ],
     "prompt_number": 5
    },
    {
     "cell_type": "code",
     "collapsed": false,
     "input": [
      "#lambda1 = [EA1[0][0],EA1[1][0],EA1[2][0]]\n",
      "#Psi1 = EA1[0][2][0].transpose()\n",
      "#Psi1 = Psi1.col_join(EA1[1][2][0].transpose())\n",
      "#Psi1 = Psi1.col_join(EA1[2][2][0].transpose())\n",
      "#Psi1 = simplify(Psi1.transpose())\n",
      "#Psi1"
     ],
     "language": "python",
     "metadata": {},
     "outputs": [],
     "prompt_number": 6
    },
    {
     "cell_type": "code",
     "collapsed": false,
     "input": [
      "lambda1 = [EA1[0][0],EA1[1][0],EA1[2][0]]\n",
      "Psi1 = EA1[0][2][0].row_join(EA1[1][2][0]).row_join(EA1[2][2][0])\n",
      "Psi1 = simplify(Psi1)\n",
      "Psi1"
     ],
     "language": "python",
     "metadata": {},
     "outputs": [
      {
       "latex": [
        "$$\\left[\\begin{matrix}0 & \\frac{1}{v} & \\frac{1}{v}\\\\0 & \\frac{1}{v} \\left(- \\sqrt{g} \\sqrt{h} + u\\right) & \\frac{1}{v} \\left(\\sqrt{g} \\sqrt{h} + u\\right)\\\\1 & 1 & 1\\end{matrix}\\right]$$"
       ],
       "metadata": {},
       "output_type": "pyout",
       "png": "[encoded data removed]",
       "prompt_number": 7,
       "text": [
        "\u23a1           1                 1       \u23a4\n",
        "\u23a20          \u2500                 \u2500       \u23a5\n",
        "\u23a2           v                 v       \u23a5\n",
        "\u23a2                                     \u23a5\n",
        "\u23a2       ___   ___        ___   ___    \u23a5\n",
        "\u23a2   - \u2572\u2571 g \u22c5\u2572\u2571 h  + u  \u2572\u2571 g \u22c5\u2572\u2571 h  + u\u23a5\n",
        "\u23a20  \u2500\u2500\u2500\u2500\u2500\u2500\u2500\u2500\u2500\u2500\u2500\u2500\u2500\u2500\u2500\u2500\u2500  \u2500\u2500\u2500\u2500\u2500\u2500\u2500\u2500\u2500\u2500\u2500\u2500\u2500\u2500\u2500\u23a5\n",
        "\u23a2           v                 v       \u23a5\n",
        "\u23a2                                     \u23a5\n",
        "\u23a31          1                 1       \u23a6"
       ]
      }
     ],
     "prompt_number": 7
    },
    {
     "cell_type": "markdown",
     "metadata": {},
     "source": [
      "Check that this is the solution to the eigenvalue problem"
     ]
    },
    {
     "cell_type": "code",
     "collapsed": false,
     "input": [
      "(A1-lambda1[0]*eye(3))*Psi1[:,0],simplify((A1-lambda1[1]*eye(3))*Psi1[:,1]),simplify((A1-lambda1[2]*eye(3))*Psi1[:,2])"
     ],
     "language": "python",
     "metadata": {},
     "outputs": [
      {
       "latex": [
        "$$\\left ( \\left[\\begin{matrix}0\\\\0\\\\0\\end{matrix}\\right], \\quad \\left[\\begin{matrix}0\\\\0\\\\0\\end{matrix}\\right], \\quad \\left[\\begin{matrix}0\\\\0\\\\0\\end{matrix}\\right]\\right )$$"
       ],
       "metadata": {},
       "output_type": "pyout",
       "png": "[encoded data removed]",
       "prompt_number": 8,
       "text": [
        "\u239b\u23a10\u23a4, \u23a10\u23a4, \u23a10\u23a4\u239e\n",
        "\u239c\u23a2 \u23a5  \u23a2 \u23a5  \u23a2 \u23a5\u239f\n",
        "\u239c\u23a20\u23a5  \u23a20\u23a5  \u23a20\u23a5\u239f\n",
        "\u239c\u23a2 \u23a5  \u23a2 \u23a5  \u23a2 \u23a5\u239f\n",
        "\u239d\u23a30\u23a6  \u23a30\u23a6  \u23a30\u23a6\u23a0"
       ]
      }
     ],
     "prompt_number": 8
    },
    {
     "cell_type": "code",
     "collapsed": false,
     "input": [
      "EA2 = A2.eigenvects(simplify=True)\n",
      "EA2"
     ],
     "language": "python",
     "metadata": {},
     "outputs": [
      {
       "latex": [
        "$$\\left [ \\left ( v, \\quad 1, \\quad \\left [ \\left[\\begin{matrix}0\\\\1\\\\0\\end{matrix}\\right]\\right ]\\right ), \\quad \\left ( - \\sqrt{g} \\sqrt{h} + v, \\quad 1, \\quad \\left [ \\left[\\begin{matrix}- \\frac{1}{\\sqrt{g} \\sqrt{h} - v}\\\\- \\frac{1}{\\sqrt{g} \\sqrt{h}} \\left(\\frac{u v}{\\sqrt{g} \\sqrt{h} - v} + u\\right)\\\\1\\end{matrix}\\right]\\right ]\\right ), \\quad \\left ( \\sqrt{g} \\sqrt{h} + v, \\quad 1, \\quad \\left [ \\left[\\begin{matrix}- \\frac{1}{- \\sqrt{g} \\sqrt{h} - v}\\\\\\frac{1}{\\sqrt{g} \\sqrt{h}} \\left(\\frac{u v}{- \\sqrt{g} \\sqrt{h} - v} + u\\right)\\\\1\\end{matrix}\\right]\\right ]\\right )\\right ]$$"
       ],
       "metadata": {},
       "output_type": "pyout",
       "png": "[encoded data removed]",
       "prompt_number": 9,
       "text": [
        "\u23a1               \u239b    ___   ___         \u23a1\u23a1          -1           \u23a4\u23a4\u239e  \u239b  ___   \n",
        "\u23a2\u239bv, 1, \u23a1\u23a10\u23a4\u23a4\u239e, \u239c- \u2572\u2571 g \u22c5\u2572\u2571 h  + v, 1, \u23a2\u23a2    \u2500\u2500\u2500\u2500\u2500\u2500\u2500\u2500\u2500\u2500\u2500\u2500\u2500\u2500\u2500    \u23a5\u23a5\u239f, \u239c\u2572\u2571 g \u22c5\u2572\u2571\n",
        "\u23a2\u239c      \u23a2\u23a2 \u23a5\u23a5\u239f  \u239c                      \u23a2\u23a2      ___   ___        \u23a5\u23a5\u239f  \u239c        \n",
        "\u23a2\u239c      \u23a2\u23a21\u23a5\u23a5\u239f  \u239c                      \u23a2\u23a2    \u2572\u2571 g \u22c5\u2572\u2571 h  - v    \u23a5\u23a5\u239f  \u239c        \n",
        "\u23a2\u239c      \u23a2\u23a2 \u23a5\u23a5\u239f  \u239c                      \u23a2\u23a2                       \u23a5\u23a5\u239f  \u239c        \n",
        "\u23a2\u239d      \u23a3\u23a30\u23a6\u23a6\u23a0  \u239c                      \u23a2\u23a2 \u239b      u\u22c5v          \u239e \u23a5\u23a5\u239f  \u239c        \n",
        "\u23a2               \u239c                      \u23a2\u23a2-\u239c\u2500\u2500\u2500\u2500\u2500\u2500\u2500\u2500\u2500\u2500\u2500\u2500\u2500\u2500\u2500 + u\u239f \u23a5\u23a5\u239f  \u239c        \n",
        "\u23a2               \u239c                      \u23a2\u23a2 \u239c  ___   ___        \u239f \u23a5\u23a5\u239f  \u239c        \n",
        "\u23a2               \u239c                      \u23a2\u23a2 \u239d\u2572\u2571 g \u22c5\u2572\u2571 h  - v    \u23a0 \u23a5\u23a5\u239f  \u239c        \n",
        "\u23a2               \u239c                      \u23a2\u23a2\u2500\u2500\u2500\u2500\u2500\u2500\u2500\u2500\u2500\u2500\u2500\u2500\u2500\u2500\u2500\u2500\u2500\u2500\u2500\u2500\u2500\u2500\u2500\u23a5\u23a5\u239f  \u239c        \n",
        "\u23a2               \u239c                      \u23a2\u23a2        ___   ___      \u23a5\u23a5\u239f  \u239c        \n",
        "\u23a2               \u239c                      \u23a2\u23a2      \u2572\u2571 g \u22c5\u2572\u2571 h       \u23a5\u23a5\u239f  \u239c        \n",
        "\u23a2               \u239c                      \u23a2\u23a2                       \u23a5\u23a5\u239f  \u239c        \n",
        "\u23a3               \u239d                      \u23a3\u23a3           1           \u23a6\u23a6\u23a0  \u239d        \n",
        "\n",
        "___         \u23a1\u23a1         -1          \u23a4\u23a4\u239e\u23a4\n",
        " h  + v, 1, \u23a2\u23a2  \u2500\u2500\u2500\u2500\u2500\u2500\u2500\u2500\u2500\u2500\u2500\u2500\u2500\u2500\u2500\u2500\u2500  \u23a5\u23a5\u239f\u23a5\n",
        "            \u23a2\u23a2      ___   ___      \u23a5\u23a5\u239f\u23a5\n",
        "            \u23a2\u23a2  - \u2572\u2571 g \u22c5\u2572\u2571 h  - v  \u23a5\u23a5\u239f\u23a5\n",
        "            \u23a2\u23a2                     \u23a5\u23a5\u239f\u23a5\n",
        "            \u23a2\u23a2       u\u22c5v           \u23a5\u23a5\u239f\u23a5\n",
        "            \u23a2\u23a2\u2500\u2500\u2500\u2500\u2500\u2500\u2500\u2500\u2500\u2500\u2500\u2500\u2500\u2500\u2500\u2500\u2500 + u\u23a5\u23a5\u239f\u23a5\n",
        "            \u23a2\u23a2    ___   ___        \u23a5\u23a5\u239f\u23a5\n",
        "            \u23a2\u23a2- \u2572\u2571 g \u22c5\u2572\u2571 h  - v    \u23a5\u23a5\u239f\u23a5\n",
        "            \u23a2\u23a2\u2500\u2500\u2500\u2500\u2500\u2500\u2500\u2500\u2500\u2500\u2500\u2500\u2500\u2500\u2500\u2500\u2500\u2500\u2500\u2500\u2500\u23a5\u23a5\u239f\u23a5\n",
        "            \u23a2\u23a2       ___   ___     \u23a5\u23a5\u239f\u23a5\n",
        "            \u23a2\u23a2     \u2572\u2571 g \u22c5\u2572\u2571 h      \u23a5\u23a5\u239f\u23a5\n",
        "            \u23a2\u23a2                     \u23a5\u23a5\u239f\u23a5\n",
        "            \u23a3\u23a3          1          \u23a6\u23a6\u23a0\u23a6"
       ]
      }
     ],
     "prompt_number": 9
    },
    {
     "cell_type": "code",
     "collapsed": false,
     "input": [
      "lambda2 = [EA2[0][0],EA2[1][0],EA2[2][0]]\n",
      "Psi2 = EA2[0][2][0].row_join(EA2[1][2][0]).row_join(EA2[2][2][0])\n",
      "Psi2 = simplify(Psi2)\n",
      "Psi2"
     ],
     "language": "python",
     "metadata": {},
     "outputs": [
      {
       "latex": [
        "$$\\left[\\begin{matrix}0 & \\frac{1}{- \\sqrt{g} \\sqrt{h} + v} & \\frac{1}{\\sqrt{g} \\sqrt{h} + v}\\\\1 & \\frac{u}{- \\sqrt{g} \\sqrt{h} + v} & \\frac{u}{\\sqrt{g} \\sqrt{h} + v}\\\\0 & 1 & 1\\end{matrix}\\right]$$"
       ],
       "metadata": {},
       "output_type": "pyout",
       "png": "[encoded data removed]",
       "prompt_number": 10,
       "text": [
        "\u23a1           1                 1       \u23a4\n",
        "\u23a20  \u2500\u2500\u2500\u2500\u2500\u2500\u2500\u2500\u2500\u2500\u2500\u2500\u2500\u2500\u2500\u2500\u2500  \u2500\u2500\u2500\u2500\u2500\u2500\u2500\u2500\u2500\u2500\u2500\u2500\u2500\u2500\u2500\u23a5\n",
        "\u23a2       ___   ___        ___   ___    \u23a5\n",
        "\u23a2   - \u2572\u2571 g \u22c5\u2572\u2571 h  + v  \u2572\u2571 g \u22c5\u2572\u2571 h  + v\u23a5\n",
        "\u23a2                                     \u23a5\n",
        "\u23a2           u                 u       \u23a5\n",
        "\u23a21  \u2500\u2500\u2500\u2500\u2500\u2500\u2500\u2500\u2500\u2500\u2500\u2500\u2500\u2500\u2500\u2500\u2500  \u2500\u2500\u2500\u2500\u2500\u2500\u2500\u2500\u2500\u2500\u2500\u2500\u2500\u2500\u2500\u23a5\n",
        "\u23a2       ___   ___        ___   ___    \u23a5\n",
        "\u23a2   - \u2572\u2571 g \u22c5\u2572\u2571 h  + v  \u2572\u2571 g \u22c5\u2572\u2571 h  + v\u23a5\n",
        "\u23a2                                     \u23a5\n",
        "\u23a30          1                 1       \u23a6"
       ]
      }
     ],
     "prompt_number": 10
    },
    {
     "cell_type": "markdown",
     "metadata": {},
     "source": [
      "Check that this is the solution to the eigenvalue problem"
     ]
    },
    {
     "cell_type": "code",
     "collapsed": false,
     "input": [
      "(A2-lambda2[0]*eye(3))*Psi2[:,0],simplify((A2-lambda2[1]*eye(3))*Psi2[:,1]),simplify((A2-lambda2[2]*eye(3))*Psi2[:,2])"
     ],
     "language": "python",
     "metadata": {},
     "outputs": [
      {
       "latex": [
        "$$\\left ( \\left[\\begin{matrix}0\\\\0\\\\0\\end{matrix}\\right], \\quad \\left[\\begin{matrix}0\\\\0\\\\0\\end{matrix}\\right], \\quad \\left[\\begin{matrix}0\\\\0\\\\0\\end{matrix}\\right]\\right )$$"
       ],
       "metadata": {},
       "output_type": "pyout",
       "png": "[encoded data removed]",
       "prompt_number": 11,
       "text": [
        "\u239b\u23a10\u23a4, \u23a10\u23a4, \u23a10\u23a4\u239e\n",
        "\u239c\u23a2 \u23a5  \u23a2 \u23a5  \u23a2 \u23a5\u239f\n",
        "\u239c\u23a20\u23a5  \u23a20\u23a5  \u23a20\u23a5\u239f\n",
        "\u239c\u23a2 \u23a5  \u23a2 \u23a5  \u23a2 \u23a5\u239f\n",
        "\u239d\u23a30\u23a6  \u23a30\u23a6  \u23a30\u23a6\u23a0"
       ]
      }
     ],
     "prompt_number": 11
    },
    {
     "cell_type": "markdown",
     "metadata": {},
     "source": [
      "Check that $A_1$ and $A_2$ are correct"
     ]
    },
    {
     "cell_type": "code",
     "collapsed": false,
     "input": [
      "A1_check = Matrix([[0,1,0],[-u**2+g*h,2*u,0],[-u*v,v,u]])\n",
      "A1 - A1_check"
     ],
     "language": "python",
     "metadata": {},
     "outputs": [
      {
       "latex": [
        "$$\\left[\\begin{matrix}0 & 0 & 0\\\\0 & 0 & 0\\\\0 & 0 & 0\\end{matrix}\\right]$$"
       ],
       "metadata": {},
       "output_type": "pyout",
       "png": "[encoded data removed]",
       "prompt_number": 12,
       "text": [
        "\u23a10  0  0\u23a4\n",
        "\u23a2       \u23a5\n",
        "\u23a20  0  0\u23a5\n",
        "\u23a2       \u23a5\n",
        "\u23a30  0  0\u23a6"
       ]
      }
     ],
     "prompt_number": 12
    },
    {
     "cell_type": "code",
     "collapsed": false,
     "input": [
      "A2_check = Matrix([[0,0,1],[-u*v,v,u],[-v**2+g*h,0,2*v]])\n",
      "A2 - A2_check"
     ],
     "language": "python",
     "metadata": {},
     "outputs": [
      {
       "latex": [
        "$$\\left[\\begin{matrix}0 & 0 & 0\\\\0 & 0 & 0\\\\0 & 0 & 0\\end{matrix}\\right]$$"
       ],
       "metadata": {},
       "output_type": "pyout",
       "png": "[encoded data removed]",
       "prompt_number": 13,
       "text": [
        "\u23a10  0  0\u23a4\n",
        "\u23a2       \u23a5\n",
        "\u23a20  0  0\u23a5\n",
        "\u23a2       \u23a5\n",
        "\u23a30  0  0\u23a6"
       ]
      }
     ],
     "prompt_number": 13
    },
    {
     "cell_type": "markdown",
     "metadata": {},
     "source": [
      "# Entropy variables (Symmetric formulation with Riemannian metric)\n",
      "\n",
      "- Define the entropy $H$\n",
      "- Derive quasilinear formulation in entropy variables"
     ]
    },
    {
     "cell_type": "code",
     "collapsed": false,
     "input": [
      "H = Matrix([[g*h**2/2 + h*(u**2 + v**2)/2]])\n",
      "print \"Entropy, H = \",H\n",
      "HC = simplify(H.subs(h*u,hu).subs(h*v,hv).subs(u,hu/h).subs(v,hv/h))\n",
      "print \"Entropy, H(U) = \",HC\n",
      "V = simplify(HC.jacobian(U))\n",
      "V_simp = simplify(V.subs(hu,h*u).subs(hv,h*v))\n",
      "print \"Entropy Variables, V = \",V_simp\n",
      "Atilde0_inv = simplify(V.jacobian(U).subs(hu,h*u).subs(hv,h*v))\n",
      "print \"Atilde0_inv = \",Atilde0_inv\n",
      "print \"Atilde0_info is symmetric is \",Atilde0_inv.is_symmetric()\n",
      "H[0],V_simp,Atilde0_inv"
     ],
     "language": "python",
     "metadata": {},
     "outputs": [
      {
       "output_type": "stream",
       "stream": "stdout",
       "text": [
        "Entropy, H =  Matrix([[g*h**2/2 + h*(u**2 + v**2)/2]])\n",
        "Entropy, H(U) = "
       ]
      },
      {
       "output_type": "stream",
       "stream": "stdout",
       "text": [
        " Matrix([[(g*h**3 + hu**2 + hv**2)/(2*h)]])\n",
        "Entropy Variables, V = "
       ]
      },
      {
       "output_type": "stream",
       "stream": "stdout",
       "text": [
        " Matrix([[g*h - u**2/2 - v**2/2, u, v]])\n",
        "Atilde0_inv = "
       ]
      },
      {
       "output_type": "stream",
       "stream": "stdout",
       "text": [
        " Matrix([\n",
        "[(g*h + u**2 + v**2)/h, -u/h, -v/h],\n",
        "[                 -u/h,  1/h,    0],\n",
        "[                 -v/h,    0,  1/h]])\n",
        "Atilde0_info is symmetric is  True\n"
       ]
      },
      {
       "latex": [
        "$$\\left ( \\frac{g h^{2}}{2} + \\frac{h}{2} \\left(u^{2} + v^{2}\\right), \\quad \\left[\\begin{matrix}g h - \\frac{u^{2}}{2} - \\frac{v^{2}}{2} & u & v\\end{matrix}\\right], \\quad \\left[\\begin{matrix}\\frac{1}{h} \\left(g h + u^{2} + v^{2}\\right) & - \\frac{u}{h} & - \\frac{v}{h}\\\\- \\frac{u}{h} & \\frac{1}{h} & 0\\\\- \\frac{v}{h} & 0 & \\frac{1}{h}\\end{matrix}\\right]\\right )$$"
       ],
       "metadata": {},
       "output_type": "pyout",
       "png": "[encoded data removed]",
       "prompt_number": 14,
       "text": [
        "\u239b   2     \u239b 2    2\u239e  \u23a1       2    2      \u23a4  \u23a1       2    2          \u23a4\u239e\n",
        "\u239cg\u22c5h    h\u22c5\u239du  + v \u23a0  \u23a2      u    v       \u23a5  \u23a2g\u22c5h + u  + v   -u   -v \u23a5\u239f\n",
        "\u239c\u2500\u2500\u2500\u2500 + \u2500\u2500\u2500\u2500\u2500\u2500\u2500\u2500\u2500\u2500\u2500, \u23a2g\u22c5h - \u2500\u2500 - \u2500\u2500  u  v\u23a5, \u23a2\u2500\u2500\u2500\u2500\u2500\u2500\u2500\u2500\u2500\u2500\u2500\u2500\u2500  \u2500\u2500\u2500  \u2500\u2500\u2500\u23a5\u239f\n",
        "\u239c 2          2       \u23a3      2    2       \u23a6  \u23a2      h         h    h \u23a5\u239f\n",
        "\u239c                                           \u23a2                       \u23a5\u239f\n",
        "\u239c                                           \u23a2     -u         1      \u23a5\u239f\n",
        "\u239c                                           \u23a2     \u2500\u2500\u2500        \u2500    0 \u23a5\u239f\n",
        "\u239c                                           \u23a2      h         h      \u23a5\u239f\n",
        "\u239c                                           \u23a2                       \u23a5\u239f\n",
        "\u239c                                           \u23a2     -v              1 \u23a5\u239f\n",
        "\u239c                                           \u23a2     \u2500\u2500\u2500        0    \u2500 \u23a5\u239f\n",
        "\u239d                                           \u23a3      h              h \u23a6\u23a0"
       ]
      }
     ],
     "prompt_number": 14
    },
    {
     "cell_type": "markdown",
     "metadata": {},
     "source": [
      "Compute matrices and check  symmetry"
     ]
    },
    {
     "cell_type": "code",
     "collapsed": false,
     "input": [
      "Atilde0 = simplify(Atilde0_inv.inverse())\n",
      "print \"Riemannian metric, Atilde0 = \",Atilde0\n",
      "print \"Atilde0 is symmetric is \",Atilde0.is_symmetric()\n",
      "Atilde1 = simplify(A1*Atilde0)\n",
      "print \"Atilde1 = \",Atilde1\n",
      "print \"Atilde1 is symmetric is \",Atilde1.is_symmetric()\n",
      "Atilde2 = simplify(A2*Atilde0)\n",
      "print \"Atilde2\",Atilde2\n",
      "print \"Atilde2 is symmetric is \",Atilde2.is_symmetric()\n",
      "Atilde0,Atilde1,Atilde2"
     ],
     "language": "python",
     "metadata": {},
     "outputs": [
      {
       "output_type": "stream",
       "stream": "stdout",
       "text": [
        "Riemannian metric, Atilde0 =  Matrix([\n",
        "[1/g,        u/g,        v/g],\n",
        "[u/g, h + u**2/g,      u*v/g],\n",
        "[v/g,      u*v/g, h + v**2/g]])\n",
        "Atilde0 is symmetric is  True\n",
        "Atilde1 = "
       ]
      },
      {
       "output_type": "stream",
       "stream": "stdout",
       "text": [
        " Matrix([\n",
        "[       u/g,       h + u**2/g,            u*v/g],\n",
        "[h + u**2/g,   3*h*u + u**3/g, v*(g*h + u**2)/g],\n",
        "[     u*v/g, v*(g*h + u**2)/g, u*(g*h + v**2)/g]])\n",
        "Atilde1 is symmetric is  True\n",
        "Atilde2"
       ]
      },
      {
       "output_type": "stream",
       "stream": "stdout",
       "text": [
        " Matrix([\n",
        "[       v/g,            u*v/g,       h + v**2/g],\n",
        "[     u*v/g, v*(g*h + u**2)/g, u*(g*h + v**2)/g],\n",
        "[h + v**2/g, u*(g*h + v**2)/g,   3*h*v + v**3/g]])\n",
        "Atilde2 is symmetric is  True\n"
       ]
      },
      {
       "latex": [
        "$$\\left ( \\left[\\begin{matrix}\\frac{1}{g} & \\frac{u}{g} & \\frac{v}{g}\\\\\\frac{u}{g} & h + \\frac{u^{2}}{g} & \\frac{u v}{g}\\\\\\frac{v}{g} & \\frac{u v}{g} & h + \\frac{v^{2}}{g}\\end{matrix}\\right], \\quad \\left[\\begin{matrix}\\frac{u}{g} & h + \\frac{u^{2}}{g} & \\frac{u v}{g}\\\\h + \\frac{u^{2}}{g} & 3 h u + \\frac{u^{3}}{g} & \\frac{v}{g} \\left(g h + u^{2}\\right)\\\\\\frac{u v}{g} & \\frac{v}{g} \\left(g h + u^{2}\\right) & \\frac{u}{g} \\left(g h + v^{2}\\right)\\end{matrix}\\right], \\quad \\left[\\begin{matrix}\\frac{v}{g} & \\frac{u v}{g} & h + \\frac{v^{2}}{g}\\\\\\frac{u v}{g} & \\frac{v}{g} \\left(g h + u^{2}\\right) & \\frac{u}{g} \\left(g h + v^{2}\\right)\\\\h + \\frac{v^{2}}{g} & \\frac{u}{g} \\left(g h + v^{2}\\right) & 3 h v + \\frac{v^{3}}{g}\\end{matrix}\\right]\\right )$$"
       ],
       "metadata": {},
       "output_type": "pyout",
       "png": "[encoded data removed]",
       "prompt_number": 15,
       "text": [
        "\u239b                     \u23a1                2                 \u23a4  \u23a1                 \n",
        "\u239c\u23a11    u       v   \u23a4  \u23a2  u            u          u\u22c5v     \u23a5  \u23a2  v         u\u22c5v  \n",
        "\u239c\u23a2\u2500    \u2500       \u2500   \u23a5, \u23a2  \u2500        h + \u2500\u2500         \u2500\u2500\u2500     \u23a5, \u23a2  \u2500         \u2500\u2500\u2500  \n",
        "\u239c\u23a2g    g       g   \u23a5  \u23a2  g            g           g      \u23a5  \u23a2  g          g   \n",
        "\u239c\u23a2                 \u23a5  \u23a2                                  \u23a5  \u23a2                 \n",
        "\u239c\u23a2        2        \u23a5  \u23a2     2            3     \u239b       2\u239e\u23a5  \u23a2          \u239b      \n",
        "\u239c\u23a2u      u    u\u22c5v  \u23a5  \u23a2    u            u    v\u22c5\u239dg\u22c5h + u \u23a0\u23a5  \u23a2 u\u22c5v    v\u22c5\u239dg\u22c5h + \n",
        "\u239c\u23a2\u2500  h + \u2500\u2500   \u2500\u2500\u2500  \u23a5  \u23a2h + \u2500\u2500   3\u22c5h\u22c5u + \u2500\u2500   \u2500\u2500\u2500\u2500\u2500\u2500\u2500\u2500\u2500\u2500\u2500\u2500\u23a5  \u23a2 \u2500\u2500\u2500    \u2500\u2500\u2500\u2500\u2500\u2500\u2500\u2500\u2500\n",
        "\u239c\u23a2g      g     g   \u23a5  \u23a2    g            g         g      \u23a5  \u23a2  g          g   \n",
        "\u239c\u23a2                 \u23a5  \u23a2                                  \u23a5  \u23a2                 \n",
        "\u239c\u23a2                2\u23a5  \u23a2          \u239b       2\u239e    \u239b       2\u239e\u23a5  \u23a2     2    \u239b      \n",
        "\u239c\u23a2v   u\u22c5v        v \u23a5  \u23a2 u\u22c5v    v\u22c5\u239dg\u22c5h + u \u23a0  u\u22c5\u239dg\u22c5h + v \u23a0\u23a5  \u23a2    v   u\u22c5\u239dg\u22c5h + \n",
        "\u239c\u23a2\u2500   \u2500\u2500\u2500    h + \u2500\u2500\u23a5  \u23a2 \u2500\u2500\u2500    \u2500\u2500\u2500\u2500\u2500\u2500\u2500\u2500\u2500\u2500\u2500\u2500  \u2500\u2500\u2500\u2500\u2500\u2500\u2500\u2500\u2500\u2500\u2500\u2500\u23a5  \u23a2h + \u2500\u2500  \u2500\u2500\u2500\u2500\u2500\u2500\u2500\u2500\u2500\n",
        "\u239d\u23a3g    g         g \u23a6  \u23a3  g          g             g      \u23a6  \u23a3    g        g   \n",
        "\n",
        "             2   \u23a4\u239e\n",
        "            v    \u23a5\u239f\n",
        "        h + \u2500\u2500   \u23a5\u239f\n",
        "            g    \u23a5\u239f\n",
        "                 \u23a5\u239f\n",
        " 2\u239e    \u239b       2\u239e\u23a5\u239f\n",
        "u \u23a0  u\u22c5\u239dg\u22c5h + v \u23a0\u23a5\u239f\n",
        "\u2500\u2500\u2500  \u2500\u2500\u2500\u2500\u2500\u2500\u2500\u2500\u2500\u2500\u2500\u2500\u23a5\u239f\n",
        "          g      \u23a5\u239f\n",
        "                 \u23a5\u239f\n",
        " 2\u239e            3 \u23a5\u239f\n",
        "v \u23a0           v  \u23a5\u239f\n",
        "\u2500\u2500\u2500   3\u22c5h\u22c5v + \u2500\u2500 \u23a5\u239f\n",
        "              g  \u23a6\u23a0"
       ]
      }
     ],
     "prompt_number": 15
    },
    {
     "cell_type": "markdown",
     "metadata": {},
     "source": [
      "#Symmetric formulation with Euclidean metric\n",
      "\n",
      "Compute Cholesky factorization of $\\tilde{A}_0$ and change varibles assuming constant coefficients"
     ]
    },
    {
     "cell_type": "code",
     "collapsed": false,
     "input": [
      "L = Atilde0.cholesky()\n",
      "L_inv = L.inverse()\n",
      "print \"L = \",L\n",
      "print \"LL^t - Atilde0 = \",L*L.transpose() - Atilde0\n",
      "L,L_inv"
     ],
     "language": "python",
     "metadata": {},
     "outputs": [
      {
       "output_type": "stream",
       "stream": "stdout",
       "text": [
        "L =  Matrix([\n",
        "[1/sqrt(g),       0,       0],\n",
        "[u/sqrt(g), sqrt(h),       0],\n",
        "[v/sqrt(g),       0, sqrt(h)]])\n",
        "LL^t - Atilde0 =  Matrix([\n",
        "[0, 0, 0],\n",
        "[0, 0, 0],\n",
        "[0, 0, 0]])\n"
       ]
      },
      {
       "latex": [
        "$$\\left ( \\left[\\begin{matrix}\\frac{1}{\\sqrt{g}} & 0 & 0\\\\\\frac{u}{\\sqrt{g}} & \\sqrt{h} & 0\\\\\\frac{v}{\\sqrt{g}} & 0 & \\sqrt{h}\\end{matrix}\\right], \\quad \\left[\\begin{matrix}\\sqrt{g} & 0 & 0\\\\- \\frac{u}{\\sqrt{h}} & \\frac{1}{\\sqrt{h}} & 0\\\\- \\frac{v}{\\sqrt{h}} & 0 & \\frac{1}{\\sqrt{h}}\\end{matrix}\\right]\\right )$$"
       ],
       "metadata": {},
       "output_type": "pyout",
       "png": "[encoded data removed]",
       "prompt_number": 16,
       "text": [
        "\u239b\u23a1  1                \u23a4  \u23a1  ___              \u23a4\u239e\n",
        "\u239c\u23a2\u2500\u2500\u2500\u2500\u2500    0      0  \u23a5, \u23a2\u2572\u2571 g     0      0  \u23a5\u239f\n",
        "\u239c\u23a2  ___              \u23a5  \u23a2                   \u23a5\u239f\n",
        "\u239c\u23a2\u2572\u2571 g               \u23a5  \u23a2 -u      1         \u23a5\u239f\n",
        "\u239c\u23a2                   \u23a5  \u23a2\u2500\u2500\u2500\u2500\u2500  \u2500\u2500\u2500\u2500\u2500    0  \u23a5\u239f\n",
        "\u239c\u23a2  u      ___       \u23a5  \u23a2  ___    ___       \u23a5\u239f\n",
        "\u239c\u23a2\u2500\u2500\u2500\u2500\u2500  \u2572\u2571 h     0  \u23a5  \u23a2\u2572\u2571 h   \u2572\u2571 h        \u23a5\u239f\n",
        "\u239c\u23a2  ___              \u23a5  \u23a2                   \u23a5\u239f\n",
        "\u239c\u23a2\u2572\u2571 g               \u23a5  \u23a2 -v             1  \u23a5\u239f\n",
        "\u239c\u23a2                   \u23a5  \u23a2\u2500\u2500\u2500\u2500\u2500    0    \u2500\u2500\u2500\u2500\u2500\u23a5\u239f\n",
        "\u239c\u23a2  v             ___\u23a5  \u23a2  ___           ___\u23a5\u239f\n",
        "\u239c\u23a2\u2500\u2500\u2500\u2500\u2500    0    \u2572\u2571 h \u23a5  \u23a3\u2572\u2571 h          \u2572\u2571 h \u23a6\u239f\n",
        "\u239c\u23a2  ___              \u23a5                       \u239f\n",
        "\u239d\u23a3\u2572\u2571 g               \u23a6                       \u23a0"
       ]
      }
     ],
     "prompt_number": 16
    },
    {
     "cell_type": "code",
     "collapsed": false,
     "input": [
      "Y1 = simplify(L_inv*Psi1)\n",
      "print \"Before normalization, Y1 = \",Y1\n",
      "D1 = simplify(Y1*Y1.T)\n",
      "print \"Y1^t Y1 = D1 = \",D1\n",
      "Y1,D1,simplify(Y1.T*Y1)"
     ],
     "language": "python",
     "metadata": {},
     "outputs": [
      {
       "output_type": "stream",
       "stream": "stdout",
       "text": [
        "Before normalization, Y1 =  Matrix([\n",
        "[        0,  sqrt(g)/v, sqrt(g)/v],\n",
        "[        0, -sqrt(g)/v, sqrt(g)/v],\n",
        "[1/sqrt(h),          0,         0]])\n",
        "Y1^t Y1 = D1 =  Matrix([\n",
        "[2*g/v**2,        0,   0],\n",
        "[       0, 2*g/v**2,   0],\n",
        "[       0,        0, 1/h]])\n"
       ]
      },
      {
       "latex": [
        "$$\\left ( \\left[\\begin{matrix}0 & \\frac{\\sqrt{g}}{v} & \\frac{\\sqrt{g}}{v}\\\\0 & - \\frac{\\sqrt{g}}{v} & \\frac{\\sqrt{g}}{v}\\\\\\frac{1}{\\sqrt{h}} & 0 & 0\\end{matrix}\\right], \\quad \\left[\\begin{matrix}\\frac{2 g}{v^{2}} & 0 & 0\\\\0 & \\frac{2 g}{v^{2}} & 0\\\\0 & 0 & \\frac{1}{h}\\end{matrix}\\right], \\quad \\left[\\begin{matrix}\\frac{1}{h} & 0 & 0\\\\0 & \\frac{2 g}{v^{2}} & 0\\\\0 & 0 & \\frac{2 g}{v^{2}}\\end{matrix}\\right]\\right )$$"
       ],
       "metadata": {},
       "output_type": "pyout",
       "png": "[encoded data removed]",
       "prompt_number": 17,
       "text": [
        "\u239b\u23a1          ___     ___\u23a4                              \u239e\n",
        "\u239c\u23a2        \u2572\u2571 g    \u2572\u2571 g \u23a5  \u23a12\u22c5g        \u23a4  \u23a11          \u23a4\u239f\n",
        "\u239c\u23a2  0     \u2500\u2500\u2500\u2500\u2500   \u2500\u2500\u2500\u2500\u2500\u23a5, \u23a2\u2500\u2500\u2500   0   0\u23a5, \u23a2\u2500   0    0 \u23a5\u239f\n",
        "\u239c\u23a2          v       v  \u23a5  \u23a2  2        \u23a5  \u23a2h          \u23a5\u239f\n",
        "\u239c\u23a2                     \u23a5  \u23a2 v         \u23a5  \u23a2           \u23a5\u239f\n",
        "\u239c\u23a2          ___     ___\u23a5  \u23a2           \u23a5  \u23a2   2\u22c5g     \u23a5\u239f\n",
        "\u239c\u23a2       -\u2572\u2571 g    \u2572\u2571 g \u23a5  \u23a2     2\u22c5g   \u23a5  \u23a20  \u2500\u2500\u2500   0 \u23a5\u239f\n",
        "\u239c\u23a2  0    \u2500\u2500\u2500\u2500\u2500\u2500\u2500  \u2500\u2500\u2500\u2500\u2500\u23a5  \u23a2 0   \u2500\u2500\u2500  0\u23a5  \u23a2     2     \u23a5\u239f\n",
        "\u239c\u23a2          v       v  \u23a5  \u23a2       2   \u23a5  \u23a2    v      \u23a5\u239f\n",
        "\u239c\u23a2                     \u23a5  \u23a2      v    \u23a5  \u23a2           \u23a5\u239f\n",
        "\u239c\u23a2  1                  \u23a5  \u23a2           \u23a5  \u23a2        2\u22c5g\u23a5\u239f\n",
        "\u239c\u23a2\u2500\u2500\u2500\u2500\u2500     0       0  \u23a5  \u23a2          1\u23a5  \u23a20   0   \u2500\u2500\u2500\u23a5\u239f\n",
        "\u239c\u23a2  ___                \u23a5  \u23a2 0    0   \u2500\u23a5  \u23a2          2\u23a5\u239f\n",
        "\u239d\u23a3\u2572\u2571 h                 \u23a6  \u23a3          h\u23a6  \u23a3         v \u23a6\u23a0"
       ]
      }
     ],
     "prompt_number": 17
    },
    {
     "cell_type": "code",
     "collapsed": false,
     "input": [
      "Y1N = Matrix(Y1.row(0)/sqrt(D1[0,0])).col_join(Y1.row(1)/sqrt(D1[1,1])).col_join(Y1.row(2)/sqrt(D1[2,2]))\n",
      "Y1N = simplify(Y1N)\n",
      "print \"After normalization, Y1 = \",Y1N\n",
      "print \"Y1Y1^t = I = \",simplify(Y1N*Y1.T)\n",
      "Y1N,simplify(Y1N.T*Y1N),simplify(Y1N*Y1N.T)"
     ],
     "language": "python",
     "metadata": {},
     "outputs": [
      {
       "output_type": "stream",
       "stream": "stdout",
       "text": [
        "After normalization, Y1 =  Matrix([\n",
        "[0,  sqrt(2)/(2*v*sqrt(v**(-2))), sqrt(2)/(2*v*sqrt(v**(-2)))],\n",
        "[0, -sqrt(2)/(2*v*sqrt(v**(-2))), sqrt(2)/(2*v*sqrt(v**(-2)))],\n",
        "[1,                            0,                           0]])\n",
        "Y1Y1^t = I =  "
       ]
      },
      {
       "output_type": "stream",
       "stream": "stdout",
       "text": [
        "Matrix([\n",
        "[sqrt(2)*sqrt(g)/(v**2*sqrt(v**(-2))),                                    0,         0],\n",
        "[                                   0, sqrt(2)*sqrt(g)/(v**2*sqrt(v**(-2))),         0],\n",
        "[                                   0,                                    0, 1/sqrt(h)]])\n"
       ]
      },
      {
       "latex": [
        "$$\\left ( \\left[\\begin{matrix}0 & \\frac{\\sqrt{2}}{2 v \\sqrt{\\frac{1}{v^{2}}}} & \\frac{\\sqrt{2}}{2 v \\sqrt{\\frac{1}{v^{2}}}}\\\\0 & - \\frac{\\sqrt{2}}{2 v \\sqrt{\\frac{1}{v^{2}}}} & \\frac{\\sqrt{2}}{2 v \\sqrt{\\frac{1}{v^{2}}}}\\\\1 & 0 & 0\\end{matrix}\\right], \\quad \\left[\\begin{matrix}1 & 0 & 0\\\\0 & 1 & 0\\\\0 & 0 & 1\\end{matrix}\\right], \\quad \\left[\\begin{matrix}1 & 0 & 0\\\\0 & 1 & 0\\\\0 & 0 & 1\\end{matrix}\\right]\\right )$$"
       ],
       "metadata": {},
       "output_type": "pyout",
       "png": "[encoded data removed]",
       "prompt_number": 18,
       "text": [
        "\u239b\u23a1         ___            ___    \u23a4                      \u239e\n",
        "\u239c\u23a2       \u2572\u2571 2           \u2572\u2571 2     \u23a5                      \u239f\n",
        "\u239c\u23a20  \u2500\u2500\u2500\u2500\u2500\u2500\u2500\u2500\u2500\u2500\u2500\u2500\u2500  \u2500\u2500\u2500\u2500\u2500\u2500\u2500\u2500\u2500\u2500\u2500\u2500\u2500\u23a5, \u23a11  0  0\u23a4, \u23a11  0  0\u23a4\u239f\n",
        "\u239c\u23a2            ____           ____\u23a5  \u23a2       \u23a5  \u23a2       \u23a5\u239f\n",
        "\u239c\u23a2           \u2571 1            \u2571 1  \u23a5  \u23a20  1  0\u23a5  \u23a20  1  0\u23a5\u239f\n",
        "\u239c\u23a2   2\u22c5v\u22c5   \u2571  \u2500\u2500   2\u22c5v\u22c5   \u2571  \u2500\u2500 \u23a5  \u23a2       \u23a5  \u23a2       \u23a5\u239f\n",
        "\u239c\u23a2         \u2571    2         \u2571    2 \u23a5  \u23a30  0  1\u23a6  \u23a30  0  1\u23a6\u239f\n",
        "\u239c\u23a2       \u2572\u2571    v        \u2572\u2571    v  \u23a5                      \u239f\n",
        "\u239c\u23a2                               \u23a5                      \u239f\n",
        "\u239c\u23a2         ___            ___    \u23a5                      \u239f\n",
        "\u239c\u23a2      -\u2572\u2571 2           \u2572\u2571 2     \u23a5                      \u239f\n",
        "\u239c\u23a20  \u2500\u2500\u2500\u2500\u2500\u2500\u2500\u2500\u2500\u2500\u2500\u2500\u2500  \u2500\u2500\u2500\u2500\u2500\u2500\u2500\u2500\u2500\u2500\u2500\u2500\u2500\u23a5                      \u239f\n",
        "\u239c\u23a2            ____           ____\u23a5                      \u239f\n",
        "\u239c\u23a2           \u2571 1            \u2571 1  \u23a5                      \u239f\n",
        "\u239c\u23a2   2\u22c5v\u22c5   \u2571  \u2500\u2500   2\u22c5v\u22c5   \u2571  \u2500\u2500 \u23a5                      \u239f\n",
        "\u239c\u23a2         \u2571    2         \u2571    2 \u23a5                      \u239f\n",
        "\u239c\u23a2       \u2572\u2571    v        \u2572\u2571    v  \u23a5                      \u239f\n",
        "\u239c\u23a2                               \u23a5                      \u239f\n",
        "\u239d\u23a31        0              0      \u23a6                      \u23a0"
       ]
      }
     ],
     "prompt_number": 18
    },
    {
     "cell_type": "code",
     "collapsed": false,
     "input": [
      "Y2 = simplify(L_inv*Psi2)\n",
      "D2 = simplify(Y2*Y2.T)\n",
      "D2t = simplify(Y2.T*Y2)\n",
      "Y2,D2,D2t"
     ],
     "language": "python",
     "metadata": {},
     "outputs": [
      {
       "latex": [
        "$$\\left ( \\left[\\begin{matrix}0 & \\frac{\\sqrt{g}}{- \\sqrt{g} \\sqrt{h} + v} & \\frac{\\sqrt{g}}{\\sqrt{g} \\sqrt{h} + v}\\\\\\frac{1}{\\sqrt{h}} & 0 & 0\\\\0 & \\frac{\\sqrt{g}}{\\sqrt{g} \\sqrt{h} - v} & \\frac{\\sqrt{g}}{\\sqrt{g} \\sqrt{h} + v}\\end{matrix}\\right], \\quad \\left[\\begin{matrix}\\frac{2 g \\left(g h + v^{2}\\right)}{g^{2} h^{2} - 2 g h v^{2} + v^{4}} & 0 & - \\frac{4 g^{\\frac{3}{2}} \\sqrt{h} v}{g^{2} h^{2} - 2 g h v^{2} + v^{4}}\\\\0 & \\frac{1}{h} & 0\\\\- \\frac{4 g^{\\frac{3}{2}} \\sqrt{h} v}{g^{2} h^{2} - 2 g h v^{2} + v^{4}} & 0 & \\frac{2 g \\left(g h + v^{2}\\right)}{g^{2} h^{2} - 2 g h v^{2} + v^{4}}\\end{matrix}\\right], \\quad \\left[\\begin{matrix}\\frac{1}{h} & 0 & 0\\\\0 & \\frac{2 g}{\\left(\\sqrt{g} \\sqrt{h} - v\\right)^{2}} & 0\\\\0 & 0 & \\frac{2 g}{\\left(\\sqrt{g} \\sqrt{h} + v\\right)^{2}}\\end{matrix}\\right]\\right )$$"
       ],
       "metadata": {},
       "output_type": "pyout",
       "png": "[encoded data removed]",
       "prompt_number": 19,
       "text": [
        "\u239b\u23a1               ___               ___     \u23a4  \u23a1        \u239b       2\u239e             \n",
        "\u239c\u23a2             \u2572\u2571 g              \u2572\u2571 g      \u23a5  \u23a2    2\u22c5g\u22c5\u239dg\u22c5h + v \u23a0           -4\n",
        "\u239c\u23a2  0    \u2500\u2500\u2500\u2500\u2500\u2500\u2500\u2500\u2500\u2500\u2500\u2500\u2500\u2500\u2500\u2500\u2500  \u2500\u2500\u2500\u2500\u2500\u2500\u2500\u2500\u2500\u2500\u2500\u2500\u2500\u2500\u2500\u23a5, \u23a2\u2500\u2500\u2500\u2500\u2500\u2500\u2500\u2500\u2500\u2500\u2500\u2500\u2500\u2500\u2500\u2500\u2500\u2500\u2500\u2500\u2500  0  \u2500\u2500\u2500\u2500\u2500\n",
        "\u239c\u23a2           ___   ___        ___   ___    \u23a5  \u23a2 2  2          2    4      2  2\n",
        "\u239c\u23a2       - \u2572\u2571 g \u22c5\u2572\u2571 h  + v  \u2572\u2571 g \u22c5\u2572\u2571 h  + v\u23a5  \u23a2g \u22c5h  - 2\u22c5g\u22c5h\u22c5v  + v      g \u22c5h \n",
        "\u239c\u23a2                                         \u23a5  \u23a2                               \n",
        "\u239c\u23a2  1                                      \u23a5  \u23a2                       1       \n",
        "\u239c\u23a2\u2500\u2500\u2500\u2500\u2500          0                 0       \u23a5  \u23a2          0            \u2500       \n",
        "\u239c\u23a2  ___                                    \u23a5  \u23a2                       h       \n",
        "\u239c\u23a2\u2572\u2571 h                                     \u23a5  \u23a2                               \n",
        "\u239c\u23a2                                         \u23a5  \u23a2       3/2   ___               \n",
        "\u239c\u23a2               ___               ___     \u23a5  \u23a2   -4\u22c5g   \u22c5\u2572\u2571 h \u22c5v            2\n",
        "\u239c\u23a2             \u2572\u2571 g              \u2572\u2571 g      \u23a5  \u23a2\u2500\u2500\u2500\u2500\u2500\u2500\u2500\u2500\u2500\u2500\u2500\u2500\u2500\u2500\u2500\u2500\u2500\u2500\u2500\u2500\u2500  0  \u2500\u2500\u2500\u2500\u2500\n",
        "\u239c\u23a2  0     \u2500\u2500\u2500\u2500\u2500\u2500\u2500\u2500\u2500\u2500\u2500\u2500\u2500\u2500\u2500   \u2500\u2500\u2500\u2500\u2500\u2500\u2500\u2500\u2500\u2500\u2500\u2500\u2500\u2500\u2500\u23a5  \u23a2 2  2          2    4      2  2\n",
        "\u239c\u23a2          ___   ___         ___   ___    \u23a5  \u23a3g \u22c5h  - 2\u22c5g\u22c5h\u22c5v  + v      g \u22c5h \n",
        "\u239d\u23a3        \u2572\u2571 g \u22c5\u2572\u2571 h  - v   \u2572\u2571 g \u22c5\u2572\u2571 h  + v\u23a6                                  \n",
        "\n",
        "  3/2   ___     \u23a4                                             \u239e\n",
        "\u22c5g   \u22c5\u2572\u2571 h \u22c5v   \u23a5  \u23a11                                        \u23a4\u239f\n",
        "\u2500\u2500\u2500\u2500\u2500\u2500\u2500\u2500\u2500\u2500\u2500\u2500\u2500\u2500\u2500\u2500\u23a5, \u23a2\u2500          0                   0         \u23a5\u239f\n",
        "          2    4\u23a5  \u23a2h                                        \u23a5\u239f\n",
        " - 2\u22c5g\u22c5h\u22c5v  + v \u23a5  \u23a2                                         \u23a5\u239f\n",
        "                \u23a5  \u23a2          2\u22c5g                            \u23a5\u239f\n",
        "                \u23a5  \u23a20  \u2500\u2500\u2500\u2500\u2500\u2500\u2500\u2500\u2500\u2500\u2500\u2500\u2500\u2500\u2500\u2500\u2500\u2500          0         \u23a5\u239f\n",
        "     0          \u23a5  \u23a2                    2                    \u23a5\u239f\n",
        "                \u23a5  \u23a2   \u239b  ___   ___    \u239e                     \u23a5\u239f\n",
        "                \u23a5  \u23a2   \u239d\u2572\u2571 g \u22c5\u2572\u2571 h  - v\u23a0                     \u23a5\u239f\n",
        "   \u239b       2\u239e   \u23a5  \u23a2                                         \u23a5\u239f\n",
        "\u22c5g\u22c5\u239dg\u22c5h + v \u23a0   \u23a5  \u23a2                              2\u22c5g        \u23a5\u239f\n",
        "\u2500\u2500\u2500\u2500\u2500\u2500\u2500\u2500\u2500\u2500\u2500\u2500\u2500\u2500\u2500\u2500\u23a5  \u23a20          0           \u2500\u2500\u2500\u2500\u2500\u2500\u2500\u2500\u2500\u2500\u2500\u2500\u2500\u2500\u2500\u2500\u2500\u2500\u23a5\u239f\n",
        "          2    4\u23a5  \u23a2                                        2\u23a5\u239f\n",
        " - 2\u22c5g\u22c5h\u22c5v  + v \u23a6  \u23a2                       \u239b  ___   ___    \u239e \u23a5\u239f\n",
        "                   \u23a3                       \u239d\u2572\u2571 g \u22c5\u2572\u2571 h  + v\u23a0 \u23a6\u23a0"
       ]
      }
     ],
     "prompt_number": 19
    },
    {
     "cell_type": "markdown",
     "metadata": {},
     "source": [
      "Something tricky is going on since $Y_2 Y_2^t$ should be diagonal but only $Y_2^t Y_2$ is coming out diagonal. "
     ]
    },
    {
     "cell_type": "code",
     "collapsed": false,
     "input": [
      "Y2N = Matrix(Y2.row(0)/sqrt(D2[0,0])).col_join(Y2.row(1)/sqrt(D2[1,1])).col_join(Y2.row(2)/sqrt(D2[2,2]))\n",
      "Y2N = simplify(Y2N)\n",
      "print \"After normalization, Y2 = \",Y2N\n",
      "print \"Y2Y2^t = I = \",simplify(Y2N*Y2N.T)\n",
      "Y2N,simplify(Y2N*Y2N.T),simplify(Y2N.T*Y2N)"
     ],
     "language": "python",
     "metadata": {},
     "outputs": [
      {
       "output_type": "stream",
       "stream": "stdout",
       "text": [
        "After normalization, Y2 =  Matrix([\n",
        "[0, sqrt(2)/(2*sqrt((g*h + v**2)/(g**2*h**2 - 2*g*h*v**2 + v**4))*(-sqrt(g)*sqrt(h) + v)), sqrt(2)/(2*sqrt((g*h + v**2)/(g**2*h**2 - 2*g*h*v**2 + v**4))*(sqrt(g)*sqrt(h) + v))],\n",
        "[1,                                                                                     0,                                                                                    0],\n",
        "[0,  sqrt(2)/(2*sqrt((g*h + v**2)/(g**2*h**2 - 2*g*h*v**2 + v**4))*(sqrt(g)*sqrt(h) - v)), sqrt(2)/(2*sqrt((g*h + v**2)/(g**2*h**2 - 2*g*h*v**2 + v**4))*(sqrt(g)*sqrt(h) + v))]])\n",
        "Y2Y2^t = I =  "
       ]
      },
      {
       "output_type": "stream",
       "stream": "stdout",
       "text": [
        "Matrix([\n",
        "[                                                                                                  1, 0, -2*sqrt(g)*sqrt(h)*v*(g**2*h**2 - 2*g*h*v**2 + v**4)/(g**3*h**3 - g**2*h**2*v**2 - g*h*v**4 + v**6)],\n",
        "[                                                                                                  0, 1,                                                                                                   0],\n",
        "[-2*sqrt(g)*sqrt(h)*v*(g**2*h**2 - 2*g*h*v**2 + v**4)/(g**3*h**3 - g**2*h**2*v**2 - g*h*v**4 + v**6), 0,                                                                                                   1]])\n"
       ]
      },
      {
       "latex": [
        "$$\\left ( \\left[\\begin{matrix}0 & \\frac{\\sqrt{2}}{2 \\sqrt{\\frac{g h + v^{2}}{g^{2} h^{2} - 2 g h v^{2} + v^{4}}} \\left(- \\sqrt{g} \\sqrt{h} + v\\right)} & \\frac{\\sqrt{2}}{2 \\sqrt{\\frac{g h + v^{2}}{g^{2} h^{2} - 2 g h v^{2} + v^{4}}} \\left(\\sqrt{g} \\sqrt{h} + v\\right)}\\\\1 & 0 & 0\\\\0 & \\frac{\\sqrt{2}}{2 \\sqrt{\\frac{g h + v^{2}}{g^{2} h^{2} - 2 g h v^{2} + v^{4}}} \\left(\\sqrt{g} \\sqrt{h} - v\\right)} & \\frac{\\sqrt{2}}{2 \\sqrt{\\frac{g h + v^{2}}{g^{2} h^{2} - 2 g h v^{2} + v^{4}}} \\left(\\sqrt{g} \\sqrt{h} + v\\right)}\\end{matrix}\\right], \\quad \\left[\\begin{matrix}1 & 0 & - \\frac{2 \\sqrt{g} \\sqrt{h} v \\left(g^{2} h^{2} - 2 g h v^{2} + v^{4}\\right)}{g^{3} h^{3} - g^{2} h^{2} v^{2} - g h v^{4} + v^{6}}\\\\0 & 1 & 0\\\\- \\frac{2 \\sqrt{g} \\sqrt{h} v \\left(g^{2} h^{2} - 2 g h v^{2} + v^{4}\\right)}{g^{3} h^{3} - g^{2} h^{2} v^{2} - g h v^{4} + v^{6}} & 0 & 1\\end{matrix}\\right], \\quad \\left[\\begin{matrix}1 & 0 & 0\\\\0 & \\frac{g^{2} h^{2} - 2 g h v^{2} + v^{4}}{\\left(\\sqrt{g} \\sqrt{h} - v\\right)^{2} \\left(g h + v^{2}\\right)} & 0\\\\0 & 0 & \\frac{g^{2} h^{2} - 2 g h v^{2} + v^{4}}{\\left(\\sqrt{g} \\sqrt{h} + v\\right)^{2} \\left(g h + v^{2}\\right)}\\end{matrix}\\right]\\right )$$"
       ],
       "metadata": {},
       "output_type": "pyout",
       "png": "[encoded data removed]",
       "prompt_number": 20,
       "text": [
        "\u239b\u23a1                            ___                                             \n",
        "\u239c\u23a2                          \u2572\u2571 2                                              \n",
        "\u239c\u23a20  \u2500\u2500\u2500\u2500\u2500\u2500\u2500\u2500\u2500\u2500\u2500\u2500\u2500\u2500\u2500\u2500\u2500\u2500\u2500\u2500\u2500\u2500\u2500\u2500\u2500\u2500\u2500\u2500\u2500\u2500\u2500\u2500\u2500\u2500\u2500\u2500\u2500\u2500\u2500\u2500\u2500\u2500\u2500\u2500\u2500\u2500\u2500\u2500\u2500\u2500\u2500  \u2500\u2500\u2500\u2500\u2500\u2500\u2500\u2500\u2500\u2500\u2500\u2500\u2500\u2500\u2500\u2500\u2500\u2500\u2500\u2500\n",
        "\u239c\u23a2           _______________________                              ____________\n",
        "\u239c\u23a2          \u2571               2                                    \u2571            \n",
        "\u239c\u23a2         \u2571         g\u22c5h + v         \u239b    ___   ___    \u239e        \u2571         g\u22c5h \n",
        "\u239c\u23a2   2\u22c5   \u2571   \u2500\u2500\u2500\u2500\u2500\u2500\u2500\u2500\u2500\u2500\u2500\u2500\u2500\u2500\u2500\u2500\u2500\u2500\u2500\u2500\u2500 \u22c5\u239d- \u2572\u2571 g \u22c5\u2572\u2571 h  + v\u23a0  2\u22c5   \u2571   \u2500\u2500\u2500\u2500\u2500\u2500\u2500\u2500\u2500\u2500\u2500\n",
        "\u239c\u23a2       \u2571     2  2          2    4                           \u2571     2  2      \n",
        "\u239c\u23a2     \u2572\u2571     g \u22c5h  - 2\u22c5g\u22c5h\u22c5v  + v                          \u2572\u2571     g \u22c5h  - 2\u22c5g\n",
        "\u239c\u23a2                                                                            \n",
        "\u239c\u23a21                           0                                               \n",
        "\u239c\u23a2                                                                            \n",
        "\u239c\u23a2                            ___                                             \n",
        "\u239c\u23a2                          \u2572\u2571 2                                              \n",
        "\u239c\u23a20   \u2500\u2500\u2500\u2500\u2500\u2500\u2500\u2500\u2500\u2500\u2500\u2500\u2500\u2500\u2500\u2500\u2500\u2500\u2500\u2500\u2500\u2500\u2500\u2500\u2500\u2500\u2500\u2500\u2500\u2500\u2500\u2500\u2500\u2500\u2500\u2500\u2500\u2500\u2500\u2500\u2500\u2500\u2500\u2500\u2500\u2500\u2500\u2500\u2500   \u2500\u2500\u2500\u2500\u2500\u2500\u2500\u2500\u2500\u2500\u2500\u2500\u2500\u2500\u2500\u2500\u2500\u2500\u2500\u2500\n",
        "\u239c\u23a2            _______________________                             ____________\n",
        "\u239c\u23a2           \u2571               2                                   \u2571            \n",
        "\u239c\u23a2          \u2571         g\u22c5h + v         \u239b  ___   ___    \u239e         \u2571         g\u22c5h \n",
        "\u239c\u23a2    2\u22c5   \u2571   \u2500\u2500\u2500\u2500\u2500\u2500\u2500\u2500\u2500\u2500\u2500\u2500\u2500\u2500\u2500\u2500\u2500\u2500\u2500\u2500\u2500 \u22c5\u239d\u2572\u2571 g \u22c5\u2572\u2571 h  - v\u23a0   2\u22c5   \u2571   \u2500\u2500\u2500\u2500\u2500\u2500\u2500\u2500\u2500\u2500\u2500\n",
        "\u239c\u23a2        \u2571     2  2          2    4                          \u2571     2  2      \n",
        "\u239d\u23a3      \u2572\u2571     g \u22c5h  - 2\u22c5g\u22c5h\u22c5v  + v                         \u2572\u2571     g \u22c5h  - 2\u22c5g\n",
        "\n",
        "    ___                      \u23a4  \u23a1                                             \n",
        "  \u2572\u2571 2                       \u23a5  \u23a2                                             \n",
        "\u2500\u2500\u2500\u2500\u2500\u2500\u2500\u2500\u2500\u2500\u2500\u2500\u2500\u2500\u2500\u2500\u2500\u2500\u2500\u2500\u2500\u2500\u2500\u2500\u2500\u2500\u2500\u2500\u2500\u23a5, \u23a2                    1                      0 \n",
        "___________                  \u23a5  \u23a2                                             \n",
        "   2                         \u23a5  \u23a2                                             \n",
        "+ v         \u239b  ___   ___    \u239e\u23a5  \u23a2                                             \n",
        "\u2500\u2500\u2500\u2500\u2500\u2500\u2500\u2500\u2500\u2500 \u22c5\u239d\u2572\u2571 g \u22c5\u2572\u2571 h  + v\u23a0\u23a5  \u23a2                    0                      1 \n",
        "    2    4                   \u23a5  \u23a2                                             \n",
        "\u22c5h\u22c5v  + v                    \u23a5  \u23a2     ___   ___   \u239b 2  2          2    4\u239e     \n",
        "                             \u23a5  \u23a2-2\u22c5\u2572\u2571 g \u22c5\u2572\u2571 h \u22c5v\u22c5\u239dg \u22c5h  - 2\u22c5g\u22c5h\u22c5v  + v \u23a0     \n",
        "    0                        \u23a5  \u23a2\u2500\u2500\u2500\u2500\u2500\u2500\u2500\u2500\u2500\u2500\u2500\u2500\u2500\u2500\u2500\u2500\u2500\u2500\u2500\u2500\u2500\u2500\u2500\u2500\u2500\u2500\u2500\u2500\u2500\u2500\u2500\u2500\u2500\u2500\u2500\u2500\u2500\u2500\u2500\u2500\u2500  0 \n",
        "                             \u23a5  \u23a2       3  3    2  2  2        4    6         \n",
        "    ___                      \u23a5  \u23a3      g \u22c5h  - g \u22c5h \u22c5v  - g\u22c5h\u22c5v  + v          \n",
        "  \u2572\u2571 2                       \u23a5                                                \n",
        "\u2500\u2500\u2500\u2500\u2500\u2500\u2500\u2500\u2500\u2500\u2500\u2500\u2500\u2500\u2500\u2500\u2500\u2500\u2500\u2500\u2500\u2500\u2500\u2500\u2500\u2500\u2500\u2500\u2500\u23a5                                                \n",
        "___________                  \u23a5                                                \n",
        "   2                         \u23a5                                                \n",
        "+ v         \u239b  ___   ___    \u239e\u23a5                                                \n",
        "\u2500\u2500\u2500\u2500\u2500\u2500\u2500\u2500\u2500\u2500 \u22c5\u239d\u2572\u2571 g \u22c5\u2572\u2571 h  + v\u23a0\u23a5                                                \n",
        "    2    4                   \u23a5                                                \n",
        "\u22c5h\u22c5v  + v                    \u23a6                                                \n",
        "\n",
        "      ___   ___   \u239b 2  2          2    4\u239e \u23a4                                   \n",
        " -2\u22c5\u2572\u2571 g \u22c5\u2572\u2571 h \u22c5v\u22c5\u239dg \u22c5h  - 2\u22c5g\u22c5h\u22c5v  + v \u23a0 \u23a5                                   \n",
        " \u2500\u2500\u2500\u2500\u2500\u2500\u2500\u2500\u2500\u2500\u2500\u2500\u2500\u2500\u2500\u2500\u2500\u2500\u2500\u2500\u2500\u2500\u2500\u2500\u2500\u2500\u2500\u2500\u2500\u2500\u2500\u2500\u2500\u2500\u2500\u2500\u2500\u2500\u2500\u2500\u2500\u23a5, \u23a11                0              \n",
        "        3  3    2  2  2        4    6     \u23a5  \u23a2                                \n",
        "       g \u22c5h  - g \u22c5h \u22c5v  - g\u22c5h\u22c5v  + v      \u23a5  \u23a2        2  2          2    4    \n",
        "                                          \u23a5  \u23a2       g \u22c5h  - 2\u22c5g\u22c5h\u22c5v  + v     \n",
        "                     0                    \u23a5  \u23a20  \u2500\u2500\u2500\u2500\u2500\u2500\u2500\u2500\u2500\u2500\u2500\u2500\u2500\u2500\u2500\u2500\u2500\u2500\u2500\u2500\u2500\u2500\u2500\u2500\u2500\u2500\u2500\u2500\u2500\n",
        "                                          \u23a5  \u23a2                    2           \n",
        "                                          \u23a5  \u23a2   \u239b  ___   ___    \u239e  \u239b       2\u239e\n",
        "                                          \u23a5  \u23a2   \u239d\u2572\u2571 g \u22c5\u2572\u2571 h  - v\u23a0 \u22c5\u239dg\u22c5h + v \u23a0\n",
        "                     1                    \u23a5  \u23a2                                \n",
        "                                          \u23a5  \u23a2                                \n",
        "                                          \u23a6  \u23a2                                \n",
        "                                             \u23a20                0              \n",
        "                                             \u23a2                                \n",
        "                                             \u23a2                                \n",
        "                                             \u23a3                                \n",
        "                                                                              \n",
        "                                                                              \n",
        "                                                                              \n",
        "                                                                              \n",
        "\n",
        "                                \u239e\n",
        "                                \u239f\n",
        "                0              \u23a4\u239f\n",
        "                               \u23a5\u239f\n",
        "                               \u23a5\u239f\n",
        "                               \u23a5\u239f\n",
        "                0              \u23a5\u239f\n",
        "                               \u23a5\u239f\n",
        "                               \u23a5\u239f\n",
        "                               \u23a5\u239f\n",
        "                               \u23a5\u239f\n",
        "       2  2          2    4    \u23a5\u239f\n",
        "      g \u22c5h  - 2\u22c5g\u22c5h\u22c5v  + v     \u23a5\u239f\n",
        "  \u2500\u2500\u2500\u2500\u2500\u2500\u2500\u2500\u2500\u2500\u2500\u2500\u2500\u2500\u2500\u2500\u2500\u2500\u2500\u2500\u2500\u2500\u2500\u2500\u2500\u2500\u2500\u2500\u2500\u23a5\u239f\n",
        "                   2           \u23a5\u239f\n",
        "  \u239b  ___   ___    \u239e  \u239b       2\u239e\u23a5\u239f\n",
        "  \u239d\u2572\u2571 g \u22c5\u2572\u2571 h  + v\u23a0 \u22c5\u239dg\u22c5h + v \u23a0\u23a6\u239f\n",
        "                                \u239f\n",
        "                                \u239f\n",
        "                                \u239f\n",
        "                                \u23a0"
       ]
      }
     ],
     "prompt_number": 20
    },
    {
     "cell_type": "code",
     "collapsed": false,
     "input": [
      "Y2N = Matrix(Y2.T.row(0)/sqrt(D2t[0,0])).col_join(Y2.T.row(1)/sqrt(D2t[1,1])).col_join(Y2.T.row(2)/sqrt(D2t[2,2])).T\n",
      "Y2N = simplify(Y2N)\n",
      "print \"After normalization, Y2 = \",Y2N\n",
      "print \"Y2Y2^t = I = \",simplify(Y2N*Y2N.T)\n",
      "Y2N,simplify(Y2N*Y2N.T),simplify(Y2N.T*Y2N)"
     ],
     "language": "python",
     "metadata": {},
     "outputs": [
      {
       "output_type": "stream",
       "stream": "stdout",
       "text": [
        "After normalization, Y2 =  Matrix([\n",
        "[0, -sqrt(2)/(2*(sqrt(g)*sqrt(h) - v)*sqrt((sqrt(g)*sqrt(h) - v)**(-2))), sqrt(2)/(2*(sqrt(g)*sqrt(h) + v)*sqrt((sqrt(g)*sqrt(h) + v)**(-2)))],\n",
        "[1,                                                                    0,                                                                   0],\n",
        "[0,  sqrt(2)/(2*(sqrt(g)*sqrt(h) - v)*sqrt((sqrt(g)*sqrt(h) - v)**(-2))), sqrt(2)/(2*(sqrt(g)*sqrt(h) + v)*sqrt((sqrt(g)*sqrt(h) + v)**(-2)))]])\n",
        "Y2Y2^t = I =  Matrix([\n",
        "[1, 0, 0],\n",
        "[0, 1, 0],\n",
        "[0, 0, 1]])\n"
       ]
      },
      {
       "latex": [
        "$$\\left ( \\left[\\begin{matrix}0 & - \\frac{\\sqrt{2}}{2 \\left(\\sqrt{g} \\sqrt{h} - v\\right) \\sqrt{\\frac{1}{\\left(\\sqrt{g} \\sqrt{h} - v\\right)^{2}}}} & \\frac{\\sqrt{2}}{2 \\left(\\sqrt{g} \\sqrt{h} + v\\right) \\sqrt{\\frac{1}{\\left(\\sqrt{g} \\sqrt{h} + v\\right)^{2}}}}\\\\1 & 0 & 0\\\\0 & \\frac{\\sqrt{2}}{2 \\left(\\sqrt{g} \\sqrt{h} - v\\right) \\sqrt{\\frac{1}{\\left(\\sqrt{g} \\sqrt{h} - v\\right)^{2}}}} & \\frac{\\sqrt{2}}{2 \\left(\\sqrt{g} \\sqrt{h} + v\\right) \\sqrt{\\frac{1}{\\left(\\sqrt{g} \\sqrt{h} + v\\right)^{2}}}}\\end{matrix}\\right], \\quad \\left[\\begin{matrix}1 & 0 & 0\\\\0 & 1 & 0\\\\0 & 0 & 1\\end{matrix}\\right], \\quad \\left[\\begin{matrix}1 & 0 & 0\\\\0 & 1 & 0\\\\0 & 0 & 1\\end{matrix}\\right]\\right )$$"
       ],
       "metadata": {},
       "output_type": "pyout",
       "png": "[encoded data removed]",
       "prompt_number": 21,
       "text": [
        "\u239b\u23a1                         ___                                             ___\n",
        "\u239c\u23a2                      -\u2572\u2571 2                                            \u2572\u2571 2 \n",
        "\u239c\u23a20  \u2500\u2500\u2500\u2500\u2500\u2500\u2500\u2500\u2500\u2500\u2500\u2500\u2500\u2500\u2500\u2500\u2500\u2500\u2500\u2500\u2500\u2500\u2500\u2500\u2500\u2500\u2500\u2500\u2500\u2500\u2500\u2500\u2500\u2500\u2500\u2500\u2500\u2500\u2500\u2500\u2500\u2500\u2500\u2500\u2500\u2500  \u2500\u2500\u2500\u2500\u2500\u2500\u2500\u2500\u2500\u2500\u2500\u2500\u2500\u2500\u2500\u2500\u2500\u2500\u2500\u2500\u2500\u2500\u2500\u2500\u2500\n",
        "\u239c\u23a2                             ____________________                           \n",
        "\u239c\u23a2     \u239b  ___   ___    \u239e      \u2571         1              \u239b  ___   ___    \u239e      \n",
        "\u239c\u23a2   2\u22c5\u239d\u2572\u2571 g \u22c5\u2572\u2571 h  - v\u23a0\u22c5    \u2571  \u2500\u2500\u2500\u2500\u2500\u2500\u2500\u2500\u2500\u2500\u2500\u2500\u2500\u2500\u2500\u2500\u2500\u2500   2\u22c5\u239d\u2572\u2571 g \u22c5\u2572\u2571 h  + v\u23a0\u22c5    \u2571\n",
        "\u239c\u23a2                          \u2571                    2                          \u2571 \n",
        "\u239c\u23a2                         \u2571    \u239b  ___   ___    \u239e                          \u2571  \n",
        "\u239c\u23a2                       \u2572\u2571     \u239d\u2572\u2571 g \u22c5\u2572\u2571 h  - v\u23a0                        \u2572\u2571   \n",
        "\u239c\u23a2                                                                            \n",
        "\u239c\u23a21                        0                                               0  \n",
        "\u239c\u23a2                                                                            \n",
        "\u239c\u23a2                         ___                                             ___\n",
        "\u239c\u23a2                       \u2572\u2571 2                                            \u2572\u2571 2 \n",
        "\u239c\u23a20  \u2500\u2500\u2500\u2500\u2500\u2500\u2500\u2500\u2500\u2500\u2500\u2500\u2500\u2500\u2500\u2500\u2500\u2500\u2500\u2500\u2500\u2500\u2500\u2500\u2500\u2500\u2500\u2500\u2500\u2500\u2500\u2500\u2500\u2500\u2500\u2500\u2500\u2500\u2500\u2500\u2500\u2500\u2500\u2500\u2500\u2500  \u2500\u2500\u2500\u2500\u2500\u2500\u2500\u2500\u2500\u2500\u2500\u2500\u2500\u2500\u2500\u2500\u2500\u2500\u2500\u2500\u2500\u2500\u2500\u2500\u2500\n",
        "\u239c\u23a2                             ____________________                           \n",
        "\u239c\u23a2     \u239b  ___   ___    \u239e      \u2571         1              \u239b  ___   ___    \u239e      \n",
        "\u239c\u23a2   2\u22c5\u239d\u2572\u2571 g \u22c5\u2572\u2571 h  - v\u23a0\u22c5    \u2571  \u2500\u2500\u2500\u2500\u2500\u2500\u2500\u2500\u2500\u2500\u2500\u2500\u2500\u2500\u2500\u2500\u2500\u2500   2\u22c5\u239d\u2572\u2571 g \u22c5\u2572\u2571 h  + v\u23a0\u22c5    \u2571\n",
        "\u239c\u23a2                          \u2571                    2                          \u2571 \n",
        "\u239c\u23a2                         \u2571    \u239b  ___   ___    \u239e                          \u2571  \n",
        "\u239d\u23a3                       \u2572\u2571     \u239d\u2572\u2571 g \u22c5\u2572\u2571 h  - v\u23a0                        \u2572\u2571   \n",
        "\n",
        "                     \u23a4                      \u239e\n",
        "                     \u23a5                      \u239f\n",
        "\u2500\u2500\u2500\u2500\u2500\u2500\u2500\u2500\u2500\u2500\u2500\u2500\u2500\u2500\u2500\u2500\u2500\u2500\u2500\u2500\u2500\u23a5, \u23a11  0  0\u23a4, \u23a11  0  0\u23a4\u239f\n",
        " ____________________\u23a5  \u23a2       \u23a5  \u23a2       \u23a5\u239f\n",
        "\u2571         1          \u23a5  \u23a20  1  0\u23a5  \u23a20  1  0\u23a5\u239f\n",
        "  \u2500\u2500\u2500\u2500\u2500\u2500\u2500\u2500\u2500\u2500\u2500\u2500\u2500\u2500\u2500\u2500\u2500\u2500 \u23a5  \u23a2       \u23a5  \u23a2       \u23a5\u239f\n",
        "                   2 \u23a5  \u23a30  0  1\u23a6  \u23a30  0  1\u23a6\u239f\n",
        "  \u239b  ___   ___    \u239e  \u23a5                      \u239f\n",
        "  \u239d\u2572\u2571 g \u22c5\u2572\u2571 h  + v\u23a0  \u23a5                      \u239f\n",
        "                     \u23a5                      \u239f\n",
        "                     \u23a5                      \u239f\n",
        "                     \u23a5                      \u239f\n",
        "                     \u23a5                      \u239f\n",
        "                     \u23a5                      \u239f\n",
        "\u2500\u2500\u2500\u2500\u2500\u2500\u2500\u2500\u2500\u2500\u2500\u2500\u2500\u2500\u2500\u2500\u2500\u2500\u2500\u2500\u2500\u23a5                      \u239f\n",
        " ____________________\u23a5                      \u239f\n",
        "\u2571         1          \u23a5                      \u239f\n",
        "  \u2500\u2500\u2500\u2500\u2500\u2500\u2500\u2500\u2500\u2500\u2500\u2500\u2500\u2500\u2500\u2500\u2500\u2500 \u23a5                      \u239f\n",
        "                   2 \u23a5                      \u239f\n",
        "  \u239b  ___   ___    \u239e  \u23a5                      \u239f\n",
        "  \u239d\u2572\u2571 g \u22c5\u2572\u2571 h  + v\u23a0  \u23a6                      \u23a0"
       ]
      }
     ],
     "prompt_number": 21
    },
    {
     "cell_type": "code",
     "collapsed": false,
     "input": [
      "Lambda1 = eye(3)\n",
      "Lambda1[0,0] = lambda1[0]\n",
      "Lambda1[1,1] = lambda1[1]\n",
      "Lambda1[2,2] = lambda1[2]\n",
      "simplify(Y1N*Lambda1*Y1N.T - L_inv*Atilde1*L_inv.T)"
     ],
     "language": "python",
     "metadata": {},
     "outputs": [
      {
       "latex": [
        "$$\\left[\\begin{matrix}0 & 0 & 0\\\\0 & 0 & 0\\\\0 & 0 & 0\\end{matrix}\\right]$$"
       ],
       "metadata": {},
       "output_type": "pyout",
       "png": "[encoded data removed]",
       "prompt_number": 22,
       "text": [
        "\u23a10  0  0\u23a4\n",
        "\u23a2       \u23a5\n",
        "\u23a20  0  0\u23a5\n",
        "\u23a2       \u23a5\n",
        "\u23a30  0  0\u23a6"
       ]
      }
     ],
     "prompt_number": 22
    },
    {
     "cell_type": "code",
     "collapsed": false,
     "input": [
      "Lambda2 = eye(3)\n",
      "Lambda2[0,0] = lambda2[0]\n",
      "Lambda2[1,1] = lambda2[1]\n",
      "Lambda2[2,2] = lambda2[2]\n",
      "simplify(Y2N*Lambda2*Y2N.T - L_inv*Atilde2*L_inv.T)"
     ],
     "language": "python",
     "metadata": {},
     "outputs": [
      {
       "latex": [
        "$$\\left[\\begin{matrix}0 & 0 & 0\\\\0 & 0 & 0\\\\0 & 0 & 0\\end{matrix}\\right]$$"
       ],
       "metadata": {},
       "output_type": "pyout",
       "png": "[encoded data removed]",
       "prompt_number": 23,
       "text": [
        "\u23a10  0  0\u23a4\n",
        "\u23a2       \u23a5\n",
        "\u23a20  0  0\u23a5\n",
        "\u23a2       \u23a5\n",
        "\u23a30  0  0\u23a6"
       ]
      }
     ],
     "prompt_number": 23
    },
    {
     "cell_type": "markdown",
     "metadata": {},
     "source": [
      "Checkt that $Y_1$ diagonalizes $\\hat{A}_1$"
     ]
    },
    {
     "cell_type": "code",
     "collapsed": false,
     "input": [
      "simplify(Y1N.T*L_inv*Atilde1*L_inv.T*Y1N)"
     ],
     "language": "python",
     "metadata": {},
     "outputs": [
      {
       "latex": [
        "$$\\left[\\begin{matrix}u & 0 & 0\\\\0 & - \\sqrt{g} \\sqrt{h} + u & 0\\\\0 & 0 & \\sqrt{g} \\sqrt{h} + u\\end{matrix}\\right]$$"
       ],
       "metadata": {},
       "output_type": "pyout",
       "png": "[encoded data removed]",
       "prompt_number": 24,
       "text": [
        "\u23a1u          0                 0       \u23a4\n",
        "\u23a2                                     \u23a5\n",
        "\u23a2       ___   ___                     \u23a5\n",
        "\u23a20  - \u2572\u2571 g \u22c5\u2572\u2571 h  + u         0       \u23a5\n",
        "\u23a2                                     \u23a5\n",
        "\u23a2                        ___   ___    \u23a5\n",
        "\u23a30          0          \u2572\u2571 g \u22c5\u2572\u2571 h  + u\u23a6"
       ]
      }
     ],
     "prompt_number": 24
    },
    {
     "cell_type": "code",
     "collapsed": false,
     "input": [
      "Ahat1 = simplify(L_inv*Atilde1*L_inv.T)\n",
      "Ahat1,simplify(Y1N.T*Ahat1*Y1N)"
     ],
     "language": "python",
     "metadata": {},
     "outputs": [
      {
       "latex": [
        "$$\\left ( \\left[\\begin{matrix}u & \\sqrt{g} \\sqrt{h} & 0\\\\\\sqrt{g} \\sqrt{h} & u & 0\\\\0 & 0 & u\\end{matrix}\\right], \\quad \\left[\\begin{matrix}u & 0 & 0\\\\0 & - \\sqrt{g} \\sqrt{h} + u & 0\\\\0 & 0 & \\sqrt{g} \\sqrt{h} + u\\end{matrix}\\right]\\right )$$"
       ],
       "metadata": {},
       "output_type": "pyout",
       "png": "[encoded data removed]",
       "prompt_number": 25,
       "text": [
        "\u239b\u23a1               ___   ___   \u23a4                                         \u239e\n",
        "\u239c\u23a2     u       \u2572\u2571 g \u22c5\u2572\u2571 h   0\u23a5, \u23a1u          0                 0       \u23a4\u239f\n",
        "\u239c\u23a2                           \u23a5  \u23a2                                     \u23a5\u239f\n",
        "\u239c\u23a2  ___   ___                \u23a5  \u23a2       ___   ___                     \u23a5\u239f\n",
        "\u239c\u23a2\u2572\u2571 g \u22c5\u2572\u2571 h        u       0\u23a5  \u23a20  - \u2572\u2571 g \u22c5\u2572\u2571 h  + u         0       \u23a5\u239f\n",
        "\u239c\u23a2                           \u23a5  \u23a2                                     \u23a5\u239f\n",
        "\u239c\u23a3     0            0       u\u23a6  \u23a2                        ___   ___    \u23a5\u239f\n",
        "\u239d                               \u23a30          0          \u2572\u2571 g \u22c5\u2572\u2571 h  + u\u23a6\u23a0"
       ]
      }
     ],
     "prompt_number": 25
    },
    {
     "cell_type": "code",
     "collapsed": false,
     "input": [
      "Ehat1 = Ahat1.eigenvects()\n",
      "Ehat1"
     ],
     "language": "python",
     "metadata": {},
     "outputs": [
      {
       "latex": [
        "$$\\left [ \\left ( u, \\quad 1, \\quad \\left [ \\left[\\begin{matrix}0\\\\0\\\\1\\end{matrix}\\right]\\right ]\\right ), \\quad \\left ( - \\sqrt{g} \\sqrt{h} + u, \\quad 1, \\quad \\left [ \\left[\\begin{matrix}-1\\\\1\\\\0\\end{matrix}\\right]\\right ]\\right ), \\quad \\left ( \\sqrt{g} \\sqrt{h} + u, \\quad 1, \\quad \\left [ \\left[\\begin{matrix}1\\\\1\\\\0\\end{matrix}\\right]\\right ]\\right )\\right ]$$"
       ],
       "metadata": {},
       "output_type": "pyout",
       "png": "[encoded data removed]",
       "prompt_number": 26,
       "text": [
        "\u23a1               \u239b    ___   ___               \u239e  \u239b  ___   ___              \u239e\u23a4\n",
        "\u23a2\u239bu, 1, \u23a1\u23a10\u23a4\u23a4\u239e, \u239c- \u2572\u2571 g \u22c5\u2572\u2571 h  + u, 1, \u23a1\u23a1-1\u23a4\u23a4\u239f, \u239c\u2572\u2571 g \u22c5\u2572\u2571 h  + u, 1, \u23a1\u23a11\u23a4\u23a4\u239f\u23a5\n",
        "\u23a2\u239c      \u23a2\u23a2 \u23a5\u23a5\u239f  \u239c                      \u23a2\u23a2  \u23a5\u23a5\u239f  \u239c                    \u23a2\u23a2 \u23a5\u23a5\u239f\u23a5\n",
        "\u23a2\u239c      \u23a2\u23a20\u23a5\u23a5\u239f  \u239c                      \u23a2\u23a21 \u23a5\u23a5\u239f  \u239c                    \u23a2\u23a21\u23a5\u23a5\u239f\u23a5\n",
        "\u23a2\u239c      \u23a2\u23a2 \u23a5\u23a5\u239f  \u239c                      \u23a2\u23a2  \u23a5\u23a5\u239f  \u239c                    \u23a2\u23a2 \u23a5\u23a5\u239f\u23a5\n",
        "\u23a3\u239d      \u23a3\u23a31\u23a6\u23a6\u23a0  \u239d                      \u23a3\u23a30 \u23a6\u23a6\u23a0  \u239d                    \u23a3\u23a30\u23a6\u23a6\u23a0\u23a6"
       ]
      }
     ],
     "prompt_number": 26
    },
    {
     "cell_type": "code",
     "collapsed": false,
     "input": [
      "Y1_tmp = Ehat1[0][2][0].row_join(Ehat1[1][2][0]/sqrt(2)).row_join(Ehat1[2][2][0]/sqrt(2))\n",
      "Psi1_tmp = simplify(L*Y1_tmp)\n",
      "Y1_tmp*Y1_tmp.T,Y1_tmp.T*Y1_tmp,Psi1_tmp"
     ],
     "language": "python",
     "metadata": {},
     "outputs": [
      {
       "latex": [
        "$$\\left ( \\left[\\begin{matrix}1 & 0 & 0\\\\0 & 1 & 0\\\\0 & 0 & 1\\end{matrix}\\right], \\quad \\left[\\begin{matrix}1 & 0 & 0\\\\0 & 1 & 0\\\\0 & 0 & 1\\end{matrix}\\right], \\quad \\left[\\begin{matrix}0 & - \\frac{\\sqrt{2}}{2 \\sqrt{g}} & \\frac{\\sqrt{2}}{2 \\sqrt{g}}\\\\0 & \\frac{\\sqrt{2}}{2 \\sqrt{g}} \\left(\\sqrt{g} \\sqrt{h} - u\\right) & \\frac{\\sqrt{2}}{2 \\sqrt{g}} \\left(\\sqrt{g} \\sqrt{h} + u\\right)\\\\\\sqrt{h} & - \\frac{\\sqrt{2} v}{2 \\sqrt{g}} & \\frac{\\sqrt{2} v}{2 \\sqrt{g}}\\end{matrix}\\right]\\right )$$"
       ],
       "metadata": {},
       "output_type": "pyout",
       "png": "[encoded data removed]",
       "prompt_number": 27,
       "text": [
        "\u239b                      \u23a1                  ___                      ___        \n",
        "\u239c                      \u23a2               -\u2572\u2571 2                     \u2572\u2571 2         \n",
        "\u239c\u23a11  0  0\u23a4, \u23a11  0  0\u23a4, \u23a2  0            \u2500\u2500\u2500\u2500\u2500\u2500\u2500                  \u2500\u2500\u2500\u2500\u2500\u2500\u2500       \n",
        "\u239c\u23a2       \u23a5  \u23a2       \u23a5  \u23a2                   ___                      ___       \n",
        "\u239c\u23a20  1  0\u23a5  \u23a20  1  0\u23a5  \u23a2               2\u22c5\u2572\u2571 g                   2\u22c5\u2572\u2571 g        \n",
        "\u239c\u23a2       \u23a5  \u23a2       \u23a5  \u23a2                                                      \n",
        "\u239c\u23a30  0  1\u23a6  \u23a30  0  1\u23a6  \u23a2         ___ \u239b  ___   ___    \u239e    ___ \u239b  ___   ___    \n",
        "\u239c                      \u23a2       \u2572\u2571 2 \u22c5\u239d\u2572\u2571 g \u22c5\u2572\u2571 h  - u\u23a0  \u2572\u2571 2 \u22c5\u239d\u2572\u2571 g \u22c5\u2572\u2571 h  + u\n",
        "\u239c                      \u23a2  0    \u2500\u2500\u2500\u2500\u2500\u2500\u2500\u2500\u2500\u2500\u2500\u2500\u2500\u2500\u2500\u2500\u2500\u2500\u2500\u2500\u2500\u2500\u2500  \u2500\u2500\u2500\u2500\u2500\u2500\u2500\u2500\u2500\u2500\u2500\u2500\u2500\u2500\u2500\u2500\u2500\u2500\u2500\u2500\u2500\u2500\n",
        "\u239c                      \u23a2                   ___                      ___       \n",
        "\u239c                      \u23a2               2\u22c5\u2572\u2571 g                   2\u22c5\u2572\u2571 g        \n",
        "\u239c                      \u23a2                                                      \n",
        "\u239c                      \u23a2                 ___                      ___         \n",
        "\u239c                      \u23a2  ___         -\u2572\u2571 2 \u22c5v                  \u2572\u2571 2 \u22c5v       \n",
        "\u239c                      \u23a2\u2572\u2571 h          \u2500\u2500\u2500\u2500\u2500\u2500\u2500\u2500\u2500                 \u2500\u2500\u2500\u2500\u2500\u2500\u2500       \n",
        "\u239c                      \u23a2                   ___                      ___       \n",
        "\u239d                      \u23a3               2\u22c5\u2572\u2571 g                   2\u22c5\u2572\u2571 g        \n",
        "\n",
        " \u23a4\u239e\n",
        " \u23a5\u239f\n",
        " \u23a5\u239f\n",
        " \u23a5\u239f\n",
        " \u23a5\u239f\n",
        " \u23a5\u239f\n",
        "\u239e\u23a5\u239f\n",
        "\u23a0\u23a5\u239f\n",
        "\u2500\u23a5\u239f\n",
        " \u23a5\u239f\n",
        " \u23a5\u239f\n",
        " \u23a5\u239f\n",
        " \u23a5\u239f\n",
        " \u23a5\u239f\n",
        " \u23a5\u239f\n",
        " \u23a5\u239f\n",
        " \u23a6\u23a0"
       ]
      }
     ],
     "prompt_number": 27
    },
    {
     "cell_type": "code",
     "collapsed": false,
     "input": [
      "(A1-lambda1[0]*eye(3))*Psi1_tmp[:,0],simplify((A1-lambda1[1]*eye(3))*Psi1_tmp[:,1]),simplify((A1-lambda1[2]*eye(3))*Psi1_tmp[:,2])"
     ],
     "language": "python",
     "metadata": {},
     "outputs": [
      {
       "latex": [
        "$$\\left ( \\left[\\begin{matrix}0\\\\0\\\\0\\end{matrix}\\right], \\quad \\left[\\begin{matrix}0\\\\0\\\\0\\end{matrix}\\right], \\quad \\left[\\begin{matrix}0\\\\0\\\\0\\end{matrix}\\right]\\right )$$"
       ],
       "metadata": {},
       "output_type": "pyout",
       "png": "[encoded data removed]",
       "prompt_number": 28,
       "text": [
        "\u239b\u23a10\u23a4, \u23a10\u23a4, \u23a10\u23a4\u239e\n",
        "\u239c\u23a2 \u23a5  \u23a2 \u23a5  \u23a2 \u23a5\u239f\n",
        "\u239c\u23a20\u23a5  \u23a20\u23a5  \u23a20\u23a5\u239f\n",
        "\u239c\u23a2 \u23a5  \u23a2 \u23a5  \u23a2 \u23a5\u239f\n",
        "\u239d\u23a30\u23a6  \u23a30\u23a6  \u23a30\u23a6\u23a0"
       ]
      }
     ],
     "prompt_number": 28
    },
    {
     "cell_type": "code",
     "collapsed": false,
     "input": [
      "lambda2 = [EA2[0][0],EA2[1][0],EA2[2][0]]\n",
      "Psi2 = EA2[0][2][0].row_join(EA2[1][2][0]).row_join(EA2[2][2][0])\n",
      "Psi2 = simplify(Psi2)\n",
      "Psi2"
     ],
     "language": "python",
     "metadata": {},
     "outputs": [
      {
       "latex": [
        "$$\\left[\\begin{matrix}0 & \\frac{1}{- \\sqrt{g} \\sqrt{h} + v} & \\frac{1}{\\sqrt{g} \\sqrt{h} + v}\\\\1 & \\frac{u}{- \\sqrt{g} \\sqrt{h} + v} & \\frac{u}{\\sqrt{g} \\sqrt{h} + v}\\\\0 & 1 & 1\\end{matrix}\\right]$$"
       ],
       "metadata": {},
       "output_type": "pyout",
       "png": "[encoded data removed]",
       "prompt_number": 29,
       "text": [
        "\u23a1           1                 1       \u23a4\n",
        "\u23a20  \u2500\u2500\u2500\u2500\u2500\u2500\u2500\u2500\u2500\u2500\u2500\u2500\u2500\u2500\u2500\u2500\u2500  \u2500\u2500\u2500\u2500\u2500\u2500\u2500\u2500\u2500\u2500\u2500\u2500\u2500\u2500\u2500\u23a5\n",
        "\u23a2       ___   ___        ___   ___    \u23a5\n",
        "\u23a2   - \u2572\u2571 g \u22c5\u2572\u2571 h  + v  \u2572\u2571 g \u22c5\u2572\u2571 h  + v\u23a5\n",
        "\u23a2                                     \u23a5\n",
        "\u23a2           u                 u       \u23a5\n",
        "\u23a21  \u2500\u2500\u2500\u2500\u2500\u2500\u2500\u2500\u2500\u2500\u2500\u2500\u2500\u2500\u2500\u2500\u2500  \u2500\u2500\u2500\u2500\u2500\u2500\u2500\u2500\u2500\u2500\u2500\u2500\u2500\u2500\u2500\u23a5\n",
        "\u23a2       ___   ___        ___   ___    \u23a5\n",
        "\u23a2   - \u2572\u2571 g \u22c5\u2572\u2571 h  + v  \u2572\u2571 g \u22c5\u2572\u2571 h  + v\u23a5\n",
        "\u23a2                                     \u23a5\n",
        "\u23a30          1                 1       \u23a6"
       ]
      }
     ],
     "prompt_number": 29
    },
    {
     "cell_type": "code",
     "collapsed": false,
     "input": [
      "Lambda2 = eye(3)\n",
      "Lambda2[0,0] = lambda2[0]\n",
      "Lambda2[1,1] = lambda2[1]\n",
      "Lambda2[2,2] = lambda2[2]\n",
      "simplify(Y2N*Lambda2*Y2N.T - L_inv*Atilde2*L_inv.T)"
     ],
     "language": "python",
     "metadata": {},
     "outputs": [
      {
       "latex": [
        "$$\\left[\\begin{matrix}0 & 0 & 0\\\\0 & 0 & 0\\\\0 & 0 & 0\\end{matrix}\\right]$$"
       ],
       "metadata": {},
       "output_type": "pyout",
       "png": "[encoded data removed]",
       "prompt_number": 30,
       "text": [
        "\u23a10  0  0\u23a4\n",
        "\u23a2       \u23a5\n",
        "\u23a20  0  0\u23a5\n",
        "\u23a2       \u23a5\n",
        "\u23a30  0  0\u23a6"
       ]
      }
     ],
     "prompt_number": 30
    },
    {
     "cell_type": "markdown",
     "metadata": {},
     "source": [
      "Check that $Y_2$ diagonalizes $\\hat{A}_2$"
     ]
    },
    {
     "cell_type": "code",
     "collapsed": false,
     "input": [
      "simplify(Y2N.T*L_inv*Atilde2*L_inv.T*Y2N)"
     ],
     "language": "python",
     "metadata": {},
     "outputs": [
      {
       "latex": [
        "$$\\left[\\begin{matrix}v & 0 & 0\\\\0 & - \\sqrt{g} \\sqrt{h} + v & 0\\\\0 & 0 & \\sqrt{g} \\sqrt{h} + v\\end{matrix}\\right]$$"
       ],
       "metadata": {},
       "output_type": "pyout",
       "png": "[encoded data removed]",
       "prompt_number": 31,
       "text": [
        "\u23a1v          0                 0       \u23a4\n",
        "\u23a2                                     \u23a5\n",
        "\u23a2       ___   ___                     \u23a5\n",
        "\u23a20  - \u2572\u2571 g \u22c5\u2572\u2571 h  + v         0       \u23a5\n",
        "\u23a2                                     \u23a5\n",
        "\u23a2                        ___   ___    \u23a5\n",
        "\u23a30          0          \u2572\u2571 g \u22c5\u2572\u2571 h  + v\u23a6"
       ]
      }
     ],
     "prompt_number": 31
    },
    {
     "cell_type": "code",
     "collapsed": false,
     "input": [
      "Ahat2 = simplify(L_inv*Atilde2*L_inv.T)\n",
      "Ahat2,simplify(Y2N.T*Ahat2*Y2N)"
     ],
     "language": "python",
     "metadata": {},
     "outputs": [
      {
       "latex": [
        "$$\\left ( \\left[\\begin{matrix}v & 0 & \\sqrt{g} \\sqrt{h}\\\\0 & v & 0\\\\\\sqrt{g} \\sqrt{h} & 0 & v\\end{matrix}\\right], \\quad \\left[\\begin{matrix}v & 0 & 0\\\\0 & - \\sqrt{g} \\sqrt{h} + v & 0\\\\0 & 0 & \\sqrt{g} \\sqrt{h} + v\\end{matrix}\\right]\\right )$$"
       ],
       "metadata": {},
       "output_type": "pyout",
       "png": "[encoded data removed]",
       "prompt_number": 32,
       "text": [
        "\u239b\u23a1                  ___   ___\u23a4                                         \u239e\n",
        "\u239c\u23a2     v       0  \u2572\u2571 g \u22c5\u2572\u2571 h \u23a5, \u23a1v          0                 0       \u23a4\u239f\n",
        "\u239c\u23a2                           \u23a5  \u23a2                                     \u23a5\u239f\n",
        "\u239c\u23a2     0       v       0     \u23a5  \u23a2       ___   ___                     \u23a5\u239f\n",
        "\u239c\u23a2                           \u23a5  \u23a20  - \u2572\u2571 g \u22c5\u2572\u2571 h  + v         0       \u23a5\u239f\n",
        "\u239c\u23a2  ___   ___                \u23a5  \u23a2                                     \u23a5\u239f\n",
        "\u239c\u23a3\u2572\u2571 g \u22c5\u2572\u2571 h   0       v     \u23a6  \u23a2                        ___   ___    \u23a5\u239f\n",
        "\u239d                               \u23a30          0          \u2572\u2571 g \u22c5\u2572\u2571 h  + v\u23a6\u23a0"
       ]
      }
     ],
     "prompt_number": 32
    },
    {
     "cell_type": "code",
     "collapsed": false,
     "input": [
      "Ehat2 = Ahat2.eigenvects()\n",
      "Ehat2"
     ],
     "language": "python",
     "metadata": {},
     "outputs": [
      {
       "latex": [
        "$$\\left [ \\left ( v, \\quad 1, \\quad \\left [ \\left[\\begin{matrix}0\\\\1\\\\0\\end{matrix}\\right]\\right ]\\right ), \\quad \\left ( - \\sqrt{g} \\sqrt{h} + v, \\quad 1, \\quad \\left [ \\left[\\begin{matrix}-1\\\\0\\\\1\\end{matrix}\\right]\\right ]\\right ), \\quad \\left ( \\sqrt{g} \\sqrt{h} + v, \\quad 1, \\quad \\left [ \\left[\\begin{matrix}1\\\\0\\\\1\\end{matrix}\\right]\\right ]\\right )\\right ]$$"
       ],
       "metadata": {},
       "output_type": "pyout",
       "png": "[encoded data removed]",
       "prompt_number": 33,
       "text": [
        "\u23a1               \u239b    ___   ___               \u239e  \u239b  ___   ___              \u239e\u23a4\n",
        "\u23a2\u239bv, 1, \u23a1\u23a10\u23a4\u23a4\u239e, \u239c- \u2572\u2571 g \u22c5\u2572\u2571 h  + v, 1, \u23a1\u23a1-1\u23a4\u23a4\u239f, \u239c\u2572\u2571 g \u22c5\u2572\u2571 h  + v, 1, \u23a1\u23a11\u23a4\u23a4\u239f\u23a5\n",
        "\u23a2\u239c      \u23a2\u23a2 \u23a5\u23a5\u239f  \u239c                      \u23a2\u23a2  \u23a5\u23a5\u239f  \u239c                    \u23a2\u23a2 \u23a5\u23a5\u239f\u23a5\n",
        "\u23a2\u239c      \u23a2\u23a21\u23a5\u23a5\u239f  \u239c                      \u23a2\u23a20 \u23a5\u23a5\u239f  \u239c                    \u23a2\u23a20\u23a5\u23a5\u239f\u23a5\n",
        "\u23a2\u239c      \u23a2\u23a2 \u23a5\u23a5\u239f  \u239c                      \u23a2\u23a2  \u23a5\u23a5\u239f  \u239c                    \u23a2\u23a2 \u23a5\u23a5\u239f\u23a5\n",
        "\u23a3\u239d      \u23a3\u23a30\u23a6\u23a6\u23a0  \u239d                      \u23a3\u23a31 \u23a6\u23a6\u23a0  \u239d                    \u23a3\u23a31\u23a6\u23a6\u23a0\u23a6"
       ]
      }
     ],
     "prompt_number": 33
    },
    {
     "cell_type": "code",
     "collapsed": false,
     "input": [
      "Y2_tmp = Ehat2[0][2][0].row_join(Ehat2[1][2][0]/sqrt(2)).row_join(Ehat2[2][2][0]/sqrt(2))\n",
      "Psi2_tmp = L*Y2_tmp\n",
      "Y2_tmp*Y2_tmp.T,Y2_tmp.T*Y2_tmp,simplify(L*Y2_tmp)"
     ],
     "language": "python",
     "metadata": {},
     "outputs": [
      {
       "latex": [
        "$$\\left ( \\left[\\begin{matrix}1 & 0 & 0\\\\0 & 1 & 0\\\\0 & 0 & 1\\end{matrix}\\right], \\quad \\left[\\begin{matrix}1 & 0 & 0\\\\0 & 1 & 0\\\\0 & 0 & 1\\end{matrix}\\right], \\quad \\left[\\begin{matrix}0 & - \\frac{\\sqrt{2}}{2 \\sqrt{g}} & \\frac{\\sqrt{2}}{2 \\sqrt{g}}\\\\\\sqrt{h} & - \\frac{\\sqrt{2} u}{2 \\sqrt{g}} & \\frac{\\sqrt{2} u}{2 \\sqrt{g}}\\\\0 & \\frac{\\sqrt{2}}{2 \\sqrt{g}} \\left(\\sqrt{g} \\sqrt{h} - v\\right) & \\frac{\\sqrt{2}}{2 \\sqrt{g}} \\left(\\sqrt{g} \\sqrt{h} + v\\right)\\end{matrix}\\right]\\right )$$"
       ],
       "metadata": {},
       "output_type": "pyout",
       "png": "[encoded data removed]",
       "prompt_number": 34,
       "text": [
        "\u239b                      \u23a1                  ___                      ___        \n",
        "\u239c                      \u23a2               -\u2572\u2571 2                     \u2572\u2571 2         \n",
        "\u239c\u23a11  0  0\u23a4, \u23a11  0  0\u23a4, \u23a2  0            \u2500\u2500\u2500\u2500\u2500\u2500\u2500                  \u2500\u2500\u2500\u2500\u2500\u2500\u2500       \n",
        "\u239c\u23a2       \u23a5  \u23a2       \u23a5  \u23a2                   ___                      ___       \n",
        "\u239c\u23a20  1  0\u23a5  \u23a20  1  0\u23a5  \u23a2               2\u22c5\u2572\u2571 g                   2\u22c5\u2572\u2571 g        \n",
        "\u239c\u23a2       \u23a5  \u23a2       \u23a5  \u23a2                                                      \n",
        "\u239c\u23a30  0  1\u23a6  \u23a30  0  1\u23a6  \u23a2                 ___                      ___         \n",
        "\u239c                      \u23a2  ___         -\u2572\u2571 2 \u22c5u                  \u2572\u2571 2 \u22c5u       \n",
        "\u239c                      \u23a2\u2572\u2571 h          \u2500\u2500\u2500\u2500\u2500\u2500\u2500\u2500\u2500                 \u2500\u2500\u2500\u2500\u2500\u2500\u2500       \n",
        "\u239c                      \u23a2                   ___                      ___       \n",
        "\u239c                      \u23a2               2\u22c5\u2572\u2571 g                   2\u22c5\u2572\u2571 g        \n",
        "\u239c                      \u23a2                                                      \n",
        "\u239c                      \u23a2         ___ \u239b  ___   ___    \u239e    ___ \u239b  ___   ___    \n",
        "\u239c                      \u23a2       \u2572\u2571 2 \u22c5\u239d\u2572\u2571 g \u22c5\u2572\u2571 h  - v\u23a0  \u2572\u2571 2 \u22c5\u239d\u2572\u2571 g \u22c5\u2572\u2571 h  + v\n",
        "\u239c                      \u23a2  0    \u2500\u2500\u2500\u2500\u2500\u2500\u2500\u2500\u2500\u2500\u2500\u2500\u2500\u2500\u2500\u2500\u2500\u2500\u2500\u2500\u2500\u2500\u2500  \u2500\u2500\u2500\u2500\u2500\u2500\u2500\u2500\u2500\u2500\u2500\u2500\u2500\u2500\u2500\u2500\u2500\u2500\u2500\u2500\u2500\u2500\n",
        "\u239c                      \u23a2                   ___                      ___       \n",
        "\u239d                      \u23a3               2\u22c5\u2572\u2571 g                   2\u22c5\u2572\u2571 g        \n",
        "\n",
        " \u23a4\u239e\n",
        " \u23a5\u239f\n",
        " \u23a5\u239f\n",
        " \u23a5\u239f\n",
        " \u23a5\u239f\n",
        " \u23a5\u239f\n",
        " \u23a5\u239f\n",
        " \u23a5\u239f\n",
        " \u23a5\u239f\n",
        " \u23a5\u239f\n",
        " \u23a5\u239f\n",
        " \u23a5\u239f\n",
        "\u239e\u23a5\u239f\n",
        "\u23a0\u23a5\u239f\n",
        "\u2500\u23a5\u239f\n",
        " \u23a5\u239f\n",
        " \u23a6\u23a0"
       ]
      }
     ],
     "prompt_number": 34
    },
    {
     "cell_type": "code",
     "collapsed": false,
     "input": [
      "(A2-lambda2[0]*eye(3))*Psi2_tmp[:,0],simplify((A2-lambda2[1]*eye(3))*Psi2_tmp[:,1]),simplify((A2-lambda2[2]*eye(3))*Psi2_tmp[:,2])"
     ],
     "language": "python",
     "metadata": {},
     "outputs": [
      {
       "latex": [
        "$$\\left ( \\left[\\begin{matrix}0\\\\0\\\\0\\end{matrix}\\right], \\quad \\left[\\begin{matrix}0\\\\0\\\\0\\end{matrix}\\right], \\quad \\left[\\begin{matrix}0\\\\0\\\\0\\end{matrix}\\right]\\right )$$"
       ],
       "metadata": {},
       "output_type": "pyout",
       "png": "[encoded data removed]",
       "prompt_number": 35,
       "text": [
        "\u239b\u23a10\u23a4, \u23a10\u23a4, \u23a10\u23a4\u239e\n",
        "\u239c\u23a2 \u23a5  \u23a2 \u23a5  \u23a2 \u23a5\u239f\n",
        "\u239c\u23a20\u23a5  \u23a20\u23a5  \u23a20\u23a5\u239f\n",
        "\u239c\u23a2 \u23a5  \u23a2 \u23a5  \u23a2 \u23a5\u239f\n",
        "\u239d\u23a30\u23a6  \u23a30\u23a6  \u23a30\u23a6\u23a0"
       ]
      }
     ],
     "prompt_number": 35
    },
    {
     "cell_type": "markdown",
     "metadata": {},
     "source": [
      "#$\\tau$ calculations"
     ]
    },
    {
     "cell_type": "code",
     "collapsed": false,
     "input": [
      "dxi1_dx1,dxi1_dx2,dxi2_dx1,dxi2_dx2 = symbols('dxi1_dx1,dxi1_dx2,dxi2_dx1,dxi2_dx2')"
     ],
     "language": "python",
     "metadata": {},
     "outputs": [],
     "prompt_number": 18
    },
    {
     "cell_type": "code",
     "collapsed": false,
     "input": [
      "B = simplify(4*I/dt**2 + \n",
      "dxi1_dx1*dxi1_dx1*A1*A1+\n",
      "dxi1_dx1*dxi1_dx2*A1*A2+\n",
      "dxi1_dx2*dxi1_dx2*A2*A2+\n",
      "dxi2_dx1*dxi2_dx1*A1*A1+\n",
      "dxi2_dx1*dxi2_dx2*A1*A2+\n",
      "dxi2_dx2*dxi2_dx2*A2*A2)\n",
      "B"
     ],
     "language": "python",
     "metadata": {},
     "outputs": [
      {
       "metadata": {},
       "output_type": "pyout",
       "prompt_number": 35,
       "text": [
        "Matrix([\n",
        "[                                                                                                               (dt**2*(dxi1_dx1**2*(g*h - u**2) - dxi1_dx1*dxi1_dx2*u*v + dxi1_dx2**2*(g*h - v**2) + dxi2_dx1**2*(g*h - u**2) - dxi2_dx1*dxi2_dx2*u*v + dxi2_dx2**2*(g*h - v**2)) + 4)/dt**2,                                                                                                   2*dxi1_dx1**2*u + dxi1_dx1*dxi1_dx2*v + 2*dxi2_dx1**2*u + dxi2_dx1*dxi2_dx2*v,                                                                                                   dxi1_dx1*dxi1_dx2*u + 2*dxi1_dx2**2*v + dxi2_dx1*dxi2_dx2*u + 2*dxi2_dx2**2*v],\n",
        "[                                                                                 u*(2*dxi1_dx1**2*(g*h - u**2) - 2*dxi1_dx1*dxi1_dx2*u*v - dxi1_dx2**2*v**2 + dxi1_dx2**2*(g*h - v**2) + 2*dxi2_dx1**2*(g*h - u**2) - 2*dxi2_dx1*dxi2_dx2*u*v - dxi2_dx2**2*v**2 + dxi2_dx2**2*(g*h - v**2)), dxi1_dx1**2*g*h + 3*dxi1_dx1**2*u**2 + 2*dxi1_dx1*dxi1_dx2*u*v + dxi1_dx2**2*v**2 + dxi2_dx1**2*g*h + 3*dxi2_dx1**2*u**2 + 2*dxi2_dx1*dxi2_dx2*u*v + dxi2_dx2**2*v**2 + 4/dt**2,                                         dxi1_dx1*dxi1_dx2*g*h + dxi1_dx1*dxi1_dx2*u**2 + 2*dxi1_dx2**2*u*v + dxi2_dx1*dxi2_dx2*g*h + dxi2_dx1*dxi2_dx2*u**2 + 2*dxi2_dx2**2*u*v],\n",
        "[-dxi1_dx1**2*u**2*v + dxi1_dx1**2*v*(g*h - u**2) - dxi1_dx1*dxi1_dx2*u*v**2 + dxi1_dx1*dxi1_dx2*u*(g*h - v**2) + 2*dxi1_dx2**2*v*(g*h - v**2) - dxi2_dx1**2*u**2*v + dxi2_dx1**2*v*(g*h - u**2) - dxi2_dx1*dxi2_dx2*u*v**2 + dxi2_dx1*dxi2_dx2*u*(g*h - v**2) + 2*dxi2_dx2**2*v*(g*h - v**2),                                                                                               v*(2*dxi1_dx1**2*u + dxi1_dx1*dxi1_dx2*v + 2*dxi2_dx1**2*u + dxi2_dx1*dxi2_dx2*v), dxi1_dx1**2*u**2 + 2*dxi1_dx1*dxi1_dx2*u*v + dxi1_dx2**2*g*h + 3*dxi1_dx2**2*v**2 + dxi2_dx1**2*u**2 + 2*dxi2_dx1*dxi2_dx2*u*v + dxi2_dx2**2*g*h + 3*dxi2_dx2**2*v**2 + 4/dt**2]])"
       ]
      }
     ],
     "prompt_number": 35
    },
    {
     "cell_type": "code",
     "collapsed": false,
     "input": [
      "s = symbols('s',positive=true)\n",
      "B = B.subs(u**2+v**2,s)\n",
      "B = B.subs(sqrt(g*h),c)\n",
      "B = B.subs(g*h,c**2)\n",
      "B"
     ],
     "language": "python",
     "metadata": {},
     "outputs": [
      {
       "metadata": {},
       "output_type": "pyout",
       "prompt_number": 36,
       "text": [
        "Matrix([\n",
        "[                                                                                                                 (dt**2*(dxi1_dx1**2*(c**2 - u**2) - dxi1_dx1*dxi1_dx2*u*v + dxi1_dx2**2*(c**2 - v**2) + dxi2_dx1**2*(c**2 - u**2) - dxi2_dx1*dxi2_dx2*u*v + dxi2_dx2**2*(c**2 - v**2)) + 4)/dt**2,                                                                                                     2*dxi1_dx1**2*u + dxi1_dx1*dxi1_dx2*v + 2*dxi2_dx1**2*u + dxi2_dx1*dxi2_dx2*v,                                                                                                     dxi1_dx1*dxi1_dx2*u + 2*dxi1_dx2**2*v + dxi2_dx1*dxi2_dx2*u + 2*dxi2_dx2**2*v],\n",
        "[                                                                                   u*(2*dxi1_dx1**2*(c**2 - u**2) - 2*dxi1_dx1*dxi1_dx2*u*v - dxi1_dx2**2*v**2 + dxi1_dx2**2*(c**2 - v**2) + 2*dxi2_dx1**2*(c**2 - u**2) - 2*dxi2_dx1*dxi2_dx2*u*v - dxi2_dx2**2*v**2 + dxi2_dx2**2*(c**2 - v**2)), c**2*dxi1_dx1**2 + c**2*dxi2_dx1**2 + 3*dxi1_dx1**2*u**2 + 2*dxi1_dx1*dxi1_dx2*u*v + dxi1_dx2**2*v**2 + 3*dxi2_dx1**2*u**2 + 2*dxi2_dx1*dxi2_dx2*u*v + dxi2_dx2**2*v**2 + 4/dt**2,                                         c**2*dxi1_dx1*dxi1_dx2 + c**2*dxi2_dx1*dxi2_dx2 + dxi1_dx1*dxi1_dx2*u**2 + 2*dxi1_dx2**2*u*v + dxi2_dx1*dxi2_dx2*u**2 + 2*dxi2_dx2**2*u*v],\n",
        "[-dxi1_dx1**2*u**2*v + dxi1_dx1**2*v*(c**2 - u**2) - dxi1_dx1*dxi1_dx2*u*v**2 + dxi1_dx1*dxi1_dx2*u*(c**2 - v**2) + 2*dxi1_dx2**2*v*(c**2 - v**2) - dxi2_dx1**2*u**2*v + dxi2_dx1**2*v*(c**2 - u**2) - dxi2_dx1*dxi2_dx2*u*v**2 + dxi2_dx1*dxi2_dx2*u*(c**2 - v**2) + 2*dxi2_dx2**2*v*(c**2 - v**2),                                                                                                 v*(2*dxi1_dx1**2*u + dxi1_dx1*dxi1_dx2*v + 2*dxi2_dx1**2*u + dxi2_dx1*dxi2_dx2*v), c**2*dxi1_dx2**2 + c**2*dxi2_dx2**2 + dxi1_dx1**2*u**2 + 2*dxi1_dx1*dxi1_dx2*u*v + 3*dxi1_dx2**2*v**2 + dxi2_dx1**2*u**2 + 2*dxi2_dx1*dxi2_dx2*u*v + 3*dxi2_dx2**2*v**2 + 4/dt**2]])"
       ]
      }
     ],
     "prompt_number": 36
    }
   ],
   "metadata": {}
  }
 ]
}