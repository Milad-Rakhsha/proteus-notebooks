{
 "cells": [
  {
   "cell_type": "markdown",
   "metadata": {},
   "source": [
    "#Derivation of $\\mathbf{\\tau}$ for shallow water equations\n",
    "\n",
    " - State conservation variables formulation\n",
    "\\\\[U_t + \\nabla \\cdot F = 0 \\\\]\n",
    " - Derive quasilinear form\n",
    "\\\\[U_t + A_1 U_x + A_2 U_y = 0\\\\]\n",
    " - State entropy, $H$, derive entropy variables $V = H_U$, and quasi-linear entropy formulation \n",
    "\\\\[ \\tilde{A}_0 V_t + \\tilde{A}_1 V_x + \\tilde{A}_2 V_y=0 \\\\]\n",
    "$\\tilde{A}_0 = H_{U,U}^{-1}$, $\\tilde{A}_1 = A_1 \\tilde{A}_0$, and  $\\tilde{A}_2 = A_2 \\tilde{A}_0$.\n",
    " - Verify that these matrices are symmetric, etc. This is  the \"Symmetric form with Riemannian metric\".\n",
    " - Assuming linearity (freezing coefficients) change variables to get the \"Symmetric form with Euclidean metric\". Fist change from entropy variables to a new set of variables $X$ using the Cholesky factorization $\\tilde{A}_0=LL^t$ and the variables $X = L^t V$. This  yields\n",
    " \\\\[ L L^t V_t + \\tilde{A}_1 L^{-t} L^t V_x + \\tilde{A}_2 L^{-t} L^t V_y = 0 \\\\]\n",
    " \\\\[X_t + L^{-1} \\tilde{A}_1 L^{-t} X_x + L^{-1} \\tilde{A}_2 L^{-t} X_y = 0\\\\]\n",
    "\\\\[ X_t + \\hat{A}_1 X_x + \\hat{A}_2 X_y = 0 \\\\]\n",
    "where $\\hat{A}_1 = L^{-1} \\tilde{A}_1 L^{-t}$ and $\\hat{A}_2 = L^{-1} \\tilde{A}_2 L^{-t}$.\n",
    " - Diagonalize the the (now symmetric) flux Jacobians $\\hat{A}_1$ and $\\hat{A}_2$ as \n",
    "\\\\[ \\hat{A}_1 = Y_1 \\Lambda_1 Y_1^{-1} \\\\]\n",
    "\\\\[ \\hat{A}_2 = Y_2 \\Lambda_2 Y_2^{-1} \\\\]\n",
    " - Normalize  the rows of $Y_1$ and $Y_2$ so that $Y Y^t=Y^t Y = I$ (they are orthogonal by symmetry so this  makes them orthonormal).\n",
    " - Derive $\\hat{\\tau}_i$ for the diagonalized system in each direction (assuming 1D in $x$ or $y$)\n",
    " - Derive $\\tilde{\\tau}$ for entropy variables using the properly scaled eigenvectors\n",
    "\\\\[ \\Phi = L^{-t} Y \\\\]\n",
    "In other words, using the normalized $Y$ to build the correct scaling for $\\Phi$.\n",
    "\n",
    "- Since the  relationship between eigenvectors in conservation variables, entropy variables, and Euclidean variables is\n",
    "\n",
    "\\\\[ \\Psi = A_0 \\Phi = L Y \\\\]\n",
    "\n",
    "- NOTE: I actually compute a sets of eigenvectors using the flux Jacobians for conservation variables, then compute the normalized $Y$ from those sets using $L$, then transform back to the properly $\\Phi$.\n",
    "\n",
    "- Derive $\\tau$ for conservation variables (or any other set of variable) by doing\n",
    "\\\\[ \\tau = Y_v \\tilde{\\tau} \\\\]\n",
    "where $Y_v$ is the change of variables from given variables to entropy variables."
   ]
  },
  {
   "cell_type": "markdown",
   "metadata": {},
   "source": [
    "# Conservation laws in conservation variables\n",
    "\n",
    "\\\\[ U_t + \\nabla \\cdot F = 0 \\\\]\n",
    "\n",
    "Set up symbolic variables, define U, and F"
   ]
  },
  {
   "cell_type": "code",
   "execution_count": 1,
   "metadata": {
    "collapsed": false
   },
   "outputs": [],
   "source": [
    "from sympy import *\n",
    "init_printing()\n",
    "c,h,g,dt,s = symbols('c,h,g,dt,s',positive=true)\n",
    "u,v,hu,hv = symbols('u,v,hu,hv')"
   ]
  },
  {
   "cell_type": "code",
   "execution_count": 2,
   "metadata": {
    "collapsed": false
   },
   "outputs": [
    {
     "name": "stdout",
     "output_type": "stream",
     "text": [
      "U =  Matrix([[h], [hu], [hv]])\n",
      "F =  Matrix([[h*u, h*v], [g*h**2/2 + h*u**2, h*u*v], [h*u*v, g*h**2/2 + h*v**2]])\n",
      "F_1 =  Matrix([[h*u], [g*h**2/2 + h*u**2], [h*u*v]])\n",
      "F_2 =  Matrix([[h*v], [h*u*v], [g*h**2/2 + h*v**2]])\n"
     ]
    },
    {
     "data": {
      "image/png": "[encoded data removed]",
      "text/latex": [
       "$$\\begin{pmatrix}\\left[\\begin{matrix}h\\\\hu\\\\hv\\end{matrix}\\right], & \\left[\\begin{matrix}h u & h v\\\\\\frac{g h^{2}}{2} + h u^{2} & h u v\\\\h u v & \\frac{g h^{2}}{2} + h v^{2}\\end{matrix}\\right]\\end{pmatrix}$$"
      ],
      "text/plain": [
       "⎛⎡h ⎤, ⎡    h⋅u          h⋅v    ⎤⎞\n",
       "⎜⎢  ⎥  ⎢                        ⎥⎟\n",
       "⎜⎢hu⎥  ⎢   2                    ⎥⎟\n",
       "⎜⎢  ⎥  ⎢g⋅h       2             ⎥⎟\n",
       "⎜⎣hv⎦  ⎢──── + h⋅u      h⋅u⋅v   ⎥⎟\n",
       "⎜      ⎢ 2                      ⎥⎟\n",
       "⎜      ⎢                        ⎥⎟\n",
       "⎜      ⎢                2       ⎥⎟\n",
       "⎜      ⎢             g⋅h       2⎥⎟\n",
       "⎜      ⎢   h⋅u⋅v     ──── + h⋅v ⎥⎟\n",
       "⎝      ⎣              2         ⎦⎠"
      ]
     },
     "execution_count": 2,
     "metadata": {},
     "output_type": "execute_result"
    }
   ],
   "source": [
    "U = Matrix([h,hu,hv])\n",
    "print \"U = \",U\n",
    "F = Matrix([[h*u            , h*v],\n",
    "            [h*u*u+h**2*g/2 , h*u*v],\n",
    "            [h*u*v          , h*v*v+h**2*g/2]])\n",
    "print \"F = \",F\n",
    "print \"F_1 = \",F[:,0]\n",
    "print \"F_2 = \",F[:,1]\n",
    "U,F"
   ]
  },
  {
   "cell_type": "code",
   "execution_count": 3,
   "metadata": {
    "collapsed": false
   },
   "outputs": [
    {
     "name": "stdout",
     "output_type": "stream",
     "text": [
      "FC =  Matrix([\n",
      "[                  hu,                   hv],\n",
      "[(g*h**3/2 + hu**2)/h,              hu*hv/h],\n",
      "[             hu*hv/h, (g*h**3/2 + hv**2)/h]])\n",
      "A0 =  Matrix([[1, 0, 0], [0, 1, 0], [0, 0, 1]])\n",
      "A1 =  Matrix([\n",
      "[         0,   1, 0],\n",
      "[g*h - u**2, 2*u, 0],\n",
      "[      -u*v,   v, u]])\n",
      "A2 =  Matrix([\n",
      "[         0, 0,   1],\n",
      "[      -u*v, v,   u],\n",
      "[g*h - v**2, 0, 2*v]])\n"
     ]
    },
    {
     "data": {
      "image/png": "[encoded data removed]",
      "text/latex": [
       "$$\\begin{pmatrix}\\left[\\begin{matrix}1 & 0 & 0\\\\0 & 1 & 0\\\\0 & 0 & 1\\end{matrix}\\right], & \\left[\\begin{matrix}0 & 1 & 0\\\\g h - u^{2} & 2 u & 0\\\\- u v & v & u\\end{matrix}\\right], & \\left[\\begin{matrix}0 & 0 & 1\\\\- u v & v & u\\\\g h - v^{2} & 0 & 2 v\\end{matrix}\\right]\\end{pmatrix}$$"
      ],
      "text/plain": [
       "⎛⎡1  0  0⎤, ⎡   0       1   0⎤, ⎡   0      0   1 ⎤⎞\n",
       "⎜⎢       ⎥  ⎢                ⎥  ⎢                ⎥⎟\n",
       "⎜⎢0  1  0⎥  ⎢       2        ⎥  ⎢  -u⋅v    v   u ⎥⎟\n",
       "⎜⎢       ⎥  ⎢g⋅h - u   2⋅u  0⎥  ⎢                ⎥⎟\n",
       "⎜⎣0  0  1⎦  ⎢                ⎥  ⎢       2        ⎥⎟\n",
       "⎝           ⎣  -u⋅v     v   u⎦  ⎣g⋅h - v   0  2⋅v⎦⎠"
      ]
     },
     "execution_count": 3,
     "metadata": {},
     "output_type": "execute_result"
    }
   ],
   "source": [
    "FC =  simplify(F.subs(h*u,hu).subs(h*v,hv).subs(u,hu/h).subs(v,hv/h))\n",
    "print \"FC = \",FC\n",
    "A0 = U.jacobian(U)\n",
    "print \"A0 = \",A0\n",
    "A1 = simplify(FC[:,0].jacobian(U).subs(hu,h*u).subs(hv,h*v))\n",
    "print \"A1 = \",A1\n",
    "A2 = simplify(FC[:,1].jacobian(U).subs(hu,h*u).subs(hv,h*v))\n",
    "print \"A2 = \",A2\n",
    "A0,A1,A2"
   ]
  },
  {
   "cell_type": "code",
   "execution_count": 4,
   "metadata": {
    "collapsed": false
   },
   "outputs": [],
   "source": [
    "#Psi1,lambda1 = A1.diagonalize()\n",
    "#Psi1 = simplify(Psi1.subs(sqrt(g)*sqrt(h),c))\n",
    "#lambda1 = simplify(lambda1.subs(sqrt(g)*sqrt(h),c))\n",
    "#print \"Psi1\",Psi1\n",
    "#print \"lambda1\",lambda1\n",
    "#Psi1,lambda1"
   ]
  },
  {
   "cell_type": "code",
   "execution_count": 5,
   "metadata": {
    "collapsed": false
   },
   "outputs": [
    {
     "data": {
      "image/png": "[encoded data removed]",
      "text/latex": [
       "$$\\begin{bmatrix}\\begin{pmatrix}u, & 1, & \\begin{bmatrix}\\left[\\begin{matrix}0\\\\0\\\\1\\end{matrix}\\right]\\end{bmatrix}\\end{pmatrix}, & \\begin{pmatrix}- \\sqrt{g} \\sqrt{h} + u, & 1, & \\begin{bmatrix}\\left[\\begin{matrix}\\frac{1}{v}\\\\- \\frac{1}{v} \\left(\\sqrt{g} \\sqrt{h} - u\\right)\\\\1\\end{matrix}\\right]\\end{bmatrix}\\end{pmatrix}, & \\begin{pmatrix}\\sqrt{g} \\sqrt{h} + u, & 1, & \\begin{bmatrix}\\left[\\begin{matrix}- \\frac{\\sqrt{g} \\sqrt{h} + u}{v \\left(- \\sqrt{g} \\sqrt{h} - u\\right)}\\\\\\frac{1}{v} \\left(\\sqrt{g} \\sqrt{h} + u\\right)\\\\1\\end{matrix}\\right]\\end{bmatrix}\\end{pmatrix}\\end{bmatrix}$$"
      ],
      "text/plain": [
       "⎡                                                                ⎛            \n",
       "⎢               ⎛    ___   ___         ⎡⎡         1         ⎤⎤⎞  ⎜  ___   ___ \n",
       "⎢⎛u, 1, ⎡⎡0⎤⎤⎞, ⎜- ╲╱ g ⋅╲╱ h  + u, 1, ⎢⎢         ─         ⎥⎥⎟, ⎜╲╱ g ⋅╲╱ h  \n",
       "⎢⎜      ⎢⎢ ⎥⎥⎟  ⎜                      ⎢⎢         v         ⎥⎥⎟  ⎜            \n",
       "⎢⎜      ⎢⎢0⎥⎥⎟  ⎜                      ⎢⎢                   ⎥⎥⎟  ⎜            \n",
       "⎢⎜      ⎢⎢ ⎥⎥⎟  ⎜                      ⎢⎢ ⎛  ___   ___    ⎞ ⎥⎥⎟  ⎜            \n",
       "⎢⎝      ⎣⎣1⎦⎦⎠  ⎜                      ⎢⎢-⎝╲╱ g ⋅╲╱ h  - u⎠ ⎥⎥⎟  ⎜            \n",
       "⎢               ⎜                      ⎢⎢───────────────────⎥⎥⎟  ⎜            \n",
       "⎢               ⎜                      ⎢⎢         v         ⎥⎥⎟  ⎜            \n",
       "⎢               ⎜                      ⎢⎢                   ⎥⎥⎟  ⎜            \n",
       "⎢               ⎝                      ⎣⎣         1         ⎦⎦⎠  ⎜            \n",
       "⎣                                                                ⎝            \n",
       "\n",
       "        ⎡⎡  ⎛  ___   ___    ⎞  ⎤⎤⎞⎤\n",
       "        ⎢⎢ -⎝╲╱ g ⋅╲╱ h  + u⎠  ⎥⎥⎟⎥\n",
       "+ u, 1, ⎢⎢─────────────────────⎥⎥⎟⎥\n",
       "        ⎢⎢  ⎛    ___   ___    ⎞⎥⎥⎟⎥\n",
       "        ⎢⎢v⋅⎝- ╲╱ g ⋅╲╱ h  - u⎠⎥⎥⎟⎥\n",
       "        ⎢⎢                     ⎥⎥⎟⎥\n",
       "        ⎢⎢     ___   ___       ⎥⎥⎟⎥\n",
       "        ⎢⎢   ╲╱ g ⋅╲╱ h  + u   ⎥⎥⎟⎥\n",
       "        ⎢⎢   ───────────────   ⎥⎥⎟⎥\n",
       "        ⎢⎢          v          ⎥⎥⎟⎥\n",
       "        ⎢⎢                     ⎥⎥⎟⎥\n",
       "        ⎣⎣          1          ⎦⎦⎠⎦"
      ]
     },
     "execution_count": 5,
     "metadata": {},
     "output_type": "execute_result"
    }
   ],
   "source": [
    "EA1 = A1.eigenvects(simplify=True)\n",
    "EA1"
   ]
  },
  {
   "cell_type": "code",
   "execution_count": 6,
   "metadata": {
    "collapsed": false
   },
   "outputs": [],
   "source": [
    "#lambda1 = [EA1[0][0],EA1[1][0],EA1[2][0]]\n",
    "#Psi1 = EA1[0][2][0].transpose()\n",
    "#Psi1 = Psi1.col_join(EA1[1][2][0].transpose())\n",
    "#Psi1 = Psi1.col_join(EA1[2][2][0].transpose())\n",
    "#Psi1 = simplify(Psi1.transpose())\n",
    "#Psi1"
   ]
  },
  {
   "cell_type": "code",
   "execution_count": 7,
   "metadata": {
    "collapsed": false
   },
   "outputs": [
    {
     "data": {
      "image/png": "[encoded data removed]",
      "text/latex": [
       "$$\\left[\\begin{matrix}0 & \\frac{1}{v} & \\frac{1}{v}\\\\0 & \\frac{1}{v} \\left(- \\sqrt{g} \\sqrt{h} + u\\right) & \\frac{1}{v} \\left(\\sqrt{g} \\sqrt{h} + u\\right)\\\\1 & 1 & 1\\end{matrix}\\right]$$"
      ],
      "text/plain": [
       "⎡           1                 1       ⎤\n",
       "⎢0          ─                 ─       ⎥\n",
       "⎢           v                 v       ⎥\n",
       "⎢                                     ⎥\n",
       "⎢       ___   ___        ___   ___    ⎥\n",
       "⎢   - ╲╱ g ⋅╲╱ h  + u  ╲╱ g ⋅╲╱ h  + u⎥\n",
       "⎢0  ─────────────────  ───────────────⎥\n",
       "⎢           v                 v       ⎥\n",
       "⎢                                     ⎥\n",
       "⎣1          1                 1       ⎦"
      ]
     },
     "execution_count": 7,
     "metadata": {},
     "output_type": "execute_result"
    }
   ],
   "source": [
    "lambda1 = [EA1[0][0],EA1[1][0],EA1[2][0]]\n",
    "Psi1 = EA1[0][2][0].row_join(EA1[1][2][0]).row_join(EA1[2][2][0])\n",
    "Psi1 = simplify(Psi1)\n",
    "Psi1"
   ]
  },
  {
   "cell_type": "markdown",
   "metadata": {},
   "source": [
    "Check that this is the solution to the eigenvalue problem"
   ]
  },
  {
   "cell_type": "code",
   "execution_count": 8,
   "metadata": {
    "collapsed": false
   },
   "outputs": [
    {
     "data": {
      "image/png": "[encoded data removed]",
      "text/latex": [
       "$$\\begin{pmatrix}\\left[\\begin{matrix}0\\\\0\\\\0\\end{matrix}\\right], & \\left[\\begin{matrix}0\\\\0\\\\0\\end{matrix}\\right], & \\left[\\begin{matrix}0\\\\0\\\\0\\end{matrix}\\right]\\end{pmatrix}$$"
      ],
      "text/plain": [
       "⎛⎡0⎤, ⎡0⎤, ⎡0⎤⎞\n",
       "⎜⎢ ⎥  ⎢ ⎥  ⎢ ⎥⎟\n",
       "⎜⎢0⎥  ⎢0⎥  ⎢0⎥⎟\n",
       "⎜⎢ ⎥  ⎢ ⎥  ⎢ ⎥⎟\n",
       "⎝⎣0⎦  ⎣0⎦  ⎣0⎦⎠"
      ]
     },
     "execution_count": 8,
     "metadata": {},
     "output_type": "execute_result"
    }
   ],
   "source": [
    "(A1-lambda1[0]*eye(3))*Psi1[:,0],simplify((A1-lambda1[1]*eye(3))*Psi1[:,1]),simplify((A1-lambda1[2]*eye(3))*Psi1[:,2])"
   ]
  },
  {
   "cell_type": "code",
   "execution_count": 9,
   "metadata": {
    "collapsed": false
   },
   "outputs": [
    {
     "data": {
      "image/png": "[encoded data removed]",
      "text/latex": [
       "$$\\begin{bmatrix}\\begin{pmatrix}v, & 1, & \\begin{bmatrix}\\left[\\begin{matrix}0\\\\1\\\\0\\end{matrix}\\right]\\end{bmatrix}\\end{pmatrix}, & \\begin{pmatrix}- \\sqrt{g} \\sqrt{h} + v, & 1, & \\begin{bmatrix}\\left[\\begin{matrix}- \\frac{1}{\\sqrt{g} \\sqrt{h} - v}\\\\- \\frac{1}{\\sqrt{g} \\sqrt{h}} \\left(\\frac{u v}{\\sqrt{g} \\sqrt{h} - v} + u\\right)\\\\1\\end{matrix}\\right]\\end{bmatrix}\\end{pmatrix}, & \\begin{pmatrix}\\sqrt{g} \\sqrt{h} + v, & 1, & \\begin{bmatrix}\\left[\\begin{matrix}- \\frac{1}{- \\sqrt{g} \\sqrt{h} - v}\\\\\\frac{1}{\\sqrt{g} \\sqrt{h}} \\left(\\frac{u v}{- \\sqrt{g} \\sqrt{h} - v} + u\\right)\\\\1\\end{matrix}\\right]\\end{bmatrix}\\end{pmatrix}\\end{bmatrix}$$"
      ],
      "text/plain": [
       "⎡               ⎛    ___   ___         ⎡⎡          -1           ⎤⎤⎞  ⎛  ___   \n",
       "⎢⎛v, 1, ⎡⎡0⎤⎤⎞, ⎜- ╲╱ g ⋅╲╱ h  + v, 1, ⎢⎢    ───────────────    ⎥⎥⎟, ⎜╲╱ g ⋅╲╱\n",
       "⎢⎜      ⎢⎢ ⎥⎥⎟  ⎜                      ⎢⎢      ___   ___        ⎥⎥⎟  ⎜        \n",
       "⎢⎜      ⎢⎢1⎥⎥⎟  ⎜                      ⎢⎢    ╲╱ g ⋅╲╱ h  - v    ⎥⎥⎟  ⎜        \n",
       "⎢⎜      ⎢⎢ ⎥⎥⎟  ⎜                      ⎢⎢                       ⎥⎥⎟  ⎜        \n",
       "⎢⎝      ⎣⎣0⎦⎦⎠  ⎜                      ⎢⎢ ⎛      u⋅v          ⎞ ⎥⎥⎟  ⎜        \n",
       "⎢               ⎜                      ⎢⎢-⎜─────────────── + u⎟ ⎥⎥⎟  ⎜        \n",
       "⎢               ⎜                      ⎢⎢ ⎜  ___   ___        ⎟ ⎥⎥⎟  ⎜        \n",
       "⎢               ⎜                      ⎢⎢ ⎝╲╱ g ⋅╲╱ h  - v    ⎠ ⎥⎥⎟  ⎜        \n",
       "⎢               ⎜                      ⎢⎢───────────────────────⎥⎥⎟  ⎜        \n",
       "⎢               ⎜                      ⎢⎢        ___   ___      ⎥⎥⎟  ⎜        \n",
       "⎢               ⎜                      ⎢⎢      ╲╱ g ⋅╲╱ h       ⎥⎥⎟  ⎜        \n",
       "⎢               ⎜                      ⎢⎢                       ⎥⎥⎟  ⎜        \n",
       "⎣               ⎝                      ⎣⎣           1           ⎦⎦⎠  ⎝        \n",
       "\n",
       "___         ⎡⎡         -1          ⎤⎤⎞⎤\n",
       " h  + v, 1, ⎢⎢  ─────────────────  ⎥⎥⎟⎥\n",
       "            ⎢⎢      ___   ___      ⎥⎥⎟⎥\n",
       "            ⎢⎢  - ╲╱ g ⋅╲╱ h  - v  ⎥⎥⎟⎥\n",
       "            ⎢⎢                     ⎥⎥⎟⎥\n",
       "            ⎢⎢       u⋅v           ⎥⎥⎟⎥\n",
       "            ⎢⎢───────────────── + u⎥⎥⎟⎥\n",
       "            ⎢⎢    ___   ___        ⎥⎥⎟⎥\n",
       "            ⎢⎢- ╲╱ g ⋅╲╱ h  - v    ⎥⎥⎟⎥\n",
       "            ⎢⎢─────────────────────⎥⎥⎟⎥\n",
       "            ⎢⎢       ___   ___     ⎥⎥⎟⎥\n",
       "            ⎢⎢     ╲╱ g ⋅╲╱ h      ⎥⎥⎟⎥\n",
       "            ⎢⎢                     ⎥⎥⎟⎥\n",
       "            ⎣⎣          1          ⎦⎦⎠⎦"
      ]
     },
     "execution_count": 9,
     "metadata": {},
     "output_type": "execute_result"
    }
   ],
   "source": [
    "EA2 = A2.eigenvects(simplify=True)\n",
    "EA2"
   ]
  },
  {
   "cell_type": "code",
   "execution_count": 10,
   "metadata": {
    "collapsed": false
   },
   "outputs": [
    {
     "data": {
      "image/png": "[encoded data removed]",
      "text/latex": [
       "$$\\left[\\begin{matrix}0 & \\frac{1}{- \\sqrt{g} \\sqrt{h} + v} & \\frac{1}{\\sqrt{g} \\sqrt{h} + v}\\\\1 & \\frac{u}{- \\sqrt{g} \\sqrt{h} + v} & \\frac{u}{\\sqrt{g} \\sqrt{h} + v}\\\\0 & 1 & 1\\end{matrix}\\right]$$"
      ],
      "text/plain": [
       "⎡           1                 1       ⎤\n",
       "⎢0  ─────────────────  ───────────────⎥\n",
       "⎢       ___   ___        ___   ___    ⎥\n",
       "⎢   - ╲╱ g ⋅╲╱ h  + v  ╲╱ g ⋅╲╱ h  + v⎥\n",
       "⎢                                     ⎥\n",
       "⎢           u                 u       ⎥\n",
       "⎢1  ─────────────────  ───────────────⎥\n",
       "⎢       ___   ___        ___   ___    ⎥\n",
       "⎢   - ╲╱ g ⋅╲╱ h  + v  ╲╱ g ⋅╲╱ h  + v⎥\n",
       "⎢                                     ⎥\n",
       "⎣0          1                 1       ⎦"
      ]
     },
     "execution_count": 10,
     "metadata": {},
     "output_type": "execute_result"
    }
   ],
   "source": [
    "lambda2 = [EA2[0][0],EA2[1][0],EA2[2][0]]\n",
    "Psi2 = EA2[0][2][0].row_join(EA2[1][2][0]).row_join(EA2[2][2][0])\n",
    "Psi2 = simplify(Psi2)\n",
    "Psi2"
   ]
  },
  {
   "cell_type": "markdown",
   "metadata": {},
   "source": [
    "Check that this is the solution to the eigenvalue problem"
   ]
  },
  {
   "cell_type": "code",
   "execution_count": 11,
   "metadata": {
    "collapsed": false
   },
   "outputs": [
    {
     "data": {
      "image/png": "[encoded data removed]",
      "text/latex": [
       "$$\\begin{pmatrix}\\left[\\begin{matrix}0\\\\0\\\\0\\end{matrix}\\right], & \\left[\\begin{matrix}0\\\\0\\\\0\\end{matrix}\\right], & \\left[\\begin{matrix}0\\\\0\\\\0\\end{matrix}\\right]\\end{pmatrix}$$"
      ],
      "text/plain": [
       "⎛⎡0⎤, ⎡0⎤, ⎡0⎤⎞\n",
       "⎜⎢ ⎥  ⎢ ⎥  ⎢ ⎥⎟\n",
       "⎜⎢0⎥  ⎢0⎥  ⎢0⎥⎟\n",
       "⎜⎢ ⎥  ⎢ ⎥  ⎢ ⎥⎟\n",
       "⎝⎣0⎦  ⎣0⎦  ⎣0⎦⎠"
      ]
     },
     "execution_count": 11,
     "metadata": {},
     "output_type": "execute_result"
    }
   ],
   "source": [
    "(A2-lambda2[0]*eye(3))*Psi2[:,0],simplify((A2-lambda2[1]*eye(3))*Psi2[:,1]),simplify((A2-lambda2[2]*eye(3))*Psi2[:,2])"
   ]
  },
  {
   "cell_type": "markdown",
   "metadata": {},
   "source": [
    "Check that $A_1$ and $A_2$ are correct"
   ]
  },
  {
   "cell_type": "code",
   "execution_count": 12,
   "metadata": {
    "collapsed": false
   },
   "outputs": [
    {
     "data": {
      "image/png": "[encoded data removed]",
      "text/latex": [
       "$$\\left[\\begin{matrix}0 & 0 & 0\\\\0 & 0 & 0\\\\0 & 0 & 0\\end{matrix}\\right]$$"
      ],
      "text/plain": [
       "⎡0  0  0⎤\n",
       "⎢       ⎥\n",
       "⎢0  0  0⎥\n",
       "⎢       ⎥\n",
       "⎣0  0  0⎦"
      ]
     },
     "execution_count": 12,
     "metadata": {},
     "output_type": "execute_result"
    }
   ],
   "source": [
    "A1_check = Matrix([[0,1,0],[-u**2+g*h,2*u,0],[-u*v,v,u]])\n",
    "A1 - A1_check"
   ]
  },
  {
   "cell_type": "code",
   "execution_count": 13,
   "metadata": {
    "collapsed": false
   },
   "outputs": [
    {
     "data": {
      "image/png": "[encoded data removed]",
      "text/latex": [
       "$$\\left[\\begin{matrix}0 & 0 & 0\\\\0 & 0 & 0\\\\0 & 0 & 0\\end{matrix}\\right]$$"
      ],
      "text/plain": [
       "⎡0  0  0⎤\n",
       "⎢       ⎥\n",
       "⎢0  0  0⎥\n",
       "⎢       ⎥\n",
       "⎣0  0  0⎦"
      ]
     },
     "execution_count": 13,
     "metadata": {},
     "output_type": "execute_result"
    }
   ],
   "source": [
    "A2_check = Matrix([[0,0,1],[-u*v,v,u],[-v**2+g*h,0,2*v]])\n",
    "A2 - A2_check"
   ]
  },
  {
   "cell_type": "markdown",
   "metadata": {},
   "source": [
    "# Entropy variables (Symmetric formulation with Riemannian metric)\n",
    "\n",
    "- Define the entropy $H$\n",
    "- Derive quasilinear formulation in entropy variables"
   ]
  },
  {
   "cell_type": "code",
   "execution_count": 14,
   "metadata": {
    "collapsed": false
   },
   "outputs": [
    {
     "name": "stdout",
     "output_type": "stream",
     "text": [
      "Entropy, H =  Matrix([[g*h**2/2 + h*(u**2 + v**2)/2]])\n",
      "Entropy, H(U) =  Matrix([[(g*h**3 + hu**2 + hv**2)/(2*h)]])\n",
      "Entropy Variables, V =  Matrix([[g*h - u**2/2 - v**2/2, u, v]])\n",
      "Atilde0_inv =  Matrix([\n",
      "[(g*h + u**2 + v**2)/h, -u/h, -v/h],\n",
      "[                 -u/h,  1/h,    0],\n",
      "[                 -v/h,    0,  1/h]])\n",
      "Atilde0_info is symmetric is  True\n"
     ]
    },
    {
     "data": {
      "image/png": "[encoded data removed]",
      "text/latex": [
       "$$\\begin{pmatrix}\\frac{g h^{2}}{2} + \\frac{h}{2} \\left(u^{2} + v^{2}\\right), & \\left[\\begin{matrix}g h - \\frac{u^{2}}{2} - \\frac{v^{2}}{2} & u & v\\end{matrix}\\right], & \\left[\\begin{matrix}\\frac{1}{h} \\left(g h + u^{2} + v^{2}\\right) & - \\frac{u}{h} & - \\frac{v}{h}\\\\- \\frac{u}{h} & \\frac{1}{h} & 0\\\\- \\frac{v}{h} & 0 & \\frac{1}{h}\\end{matrix}\\right]\\end{pmatrix}$$"
      ],
      "text/plain": [
       "⎛   2     ⎛ 2    2⎞  ⎡       2    2      ⎤  ⎡       2    2          ⎤⎞\n",
       "⎜g⋅h    h⋅⎝u  + v ⎠  ⎢      u    v       ⎥  ⎢g⋅h + u  + v   -u   -v ⎥⎟\n",
       "⎜──── + ───────────, ⎢g⋅h - ── - ──  u  v⎥, ⎢─────────────  ───  ───⎥⎟\n",
       "⎜ 2          2       ⎣      2    2       ⎦  ⎢      h         h    h ⎥⎟\n",
       "⎜                                           ⎢                       ⎥⎟\n",
       "⎜                                           ⎢     -u         1      ⎥⎟\n",
       "⎜                                           ⎢     ───        ─    0 ⎥⎟\n",
       "⎜                                           ⎢      h         h      ⎥⎟\n",
       "⎜                                           ⎢                       ⎥⎟\n",
       "⎜                                           ⎢     -v              1 ⎥⎟\n",
       "⎜                                           ⎢     ───        0    ─ ⎥⎟\n",
       "⎝                                           ⎣      h              h ⎦⎠"
      ]
     },
     "execution_count": 14,
     "metadata": {},
     "output_type": "execute_result"
    }
   ],
   "source": [
    "H = Matrix([[g*h**2/2 + h*(u**2 + v**2)/2]])\n",
    "print \"Entropy, H = \",H\n",
    "HC = simplify(H.subs(h*u,hu).subs(h*v,hv).subs(u,hu/h).subs(v,hv/h))\n",
    "print \"Entropy, H(U) = \",HC\n",
    "V = simplify(HC.jacobian(U))\n",
    "V_simp = simplify(V.subs(hu,h*u).subs(hv,h*v))\n",
    "print \"Entropy Variables, V = \",V_simp\n",
    "Atilde0_inv = simplify(V.jacobian(U).subs(hu,h*u).subs(hv,h*v))\n",
    "print \"Atilde0_inv = \",Atilde0_inv\n",
    "print \"Atilde0_info is symmetric is \",Atilde0_inv.is_symmetric()\n",
    "H[0],V_simp,Atilde0_inv"
   ]
  },
  {
   "cell_type": "markdown",
   "metadata": {},
   "source": [
    "Compute matrices and check  symmetry"
   ]
  },
  {
   "cell_type": "code",
   "execution_count": 15,
   "metadata": {
    "collapsed": false
   },
   "outputs": [
    {
     "name": "stdout",
     "output_type": "stream",
     "text": [
      "Riemannian metric, Atilde0 =  Matrix([\n",
      "[1/g,        u/g,        v/g],\n",
      "[u/g, h + u**2/g,      u*v/g],\n",
      "[v/g,      u*v/g, h + v**2/g]])\n",
      "Atilde0 is symmetric is  True\n",
      "Atilde1 =  Matrix([\n",
      "[       u/g,       h + u**2/g,            u*v/g],\n",
      "[h + u**2/g,   3*h*u + u**3/g, v*(g*h + u**2)/g],\n",
      "[     u*v/g, v*(g*h + u**2)/g, u*(g*h + v**2)/g]])\n",
      "Atilde1 is symmetric is  True\n",
      "Atilde2 Matrix([\n",
      "[       v/g,            u*v/g,       h + v**2/g],\n",
      "[     u*v/g, v*(g*h + u**2)/g, u*(g*h + v**2)/g],\n",
      "[h + v**2/g, u*(g*h + v**2)/g,   3*h*v + v**3/g]])\n",
      "Atilde2 is symmetric is  True\n"
     ]
    },
    {
     "data": {
      "image/png": "[encoded data removed]",
      "text/latex": [
       "$$\\begin{pmatrix}\\left[\\begin{matrix}\\frac{1}{g} & \\frac{u}{g} & \\frac{v}{g}\\\\\\frac{u}{g} & h + \\frac{u^{2}}{g} & \\frac{u v}{g}\\\\\\frac{v}{g} & \\frac{u v}{g} & h + \\frac{v^{2}}{g}\\end{matrix}\\right], & \\left[\\begin{matrix}\\frac{u}{g} & h + \\frac{u^{2}}{g} & \\frac{u v}{g}\\\\h + \\frac{u^{2}}{g} & 3 h u + \\frac{u^{3}}{g} & \\frac{v}{g} \\left(g h + u^{2}\\right)\\\\\\frac{u v}{g} & \\frac{v}{g} \\left(g h + u^{2}\\right) & \\frac{u}{g} \\left(g h + v^{2}\\right)\\end{matrix}\\right], & \\left[\\begin{matrix}\\frac{v}{g} & \\frac{u v}{g} & h + \\frac{v^{2}}{g}\\\\\\frac{u v}{g} & \\frac{v}{g} \\left(g h + u^{2}\\right) & \\frac{u}{g} \\left(g h + v^{2}\\right)\\\\h + \\frac{v^{2}}{g} & \\frac{u}{g} \\left(g h + v^{2}\\right) & 3 h v + \\frac{v^{3}}{g}\\end{matrix}\\right]\\end{pmatrix}$$"
      ],
      "text/plain": [
       "⎛                     ⎡                2                 ⎤  ⎡                 \n",
       "⎜⎡1    u       v   ⎤  ⎢  u            u          u⋅v     ⎥  ⎢  v         u⋅v  \n",
       "⎜⎢─    ─       ─   ⎥, ⎢  ─        h + ──         ───     ⎥, ⎢  ─         ───  \n",
       "⎜⎢g    g       g   ⎥  ⎢  g            g           g      ⎥  ⎢  g          g   \n",
       "⎜⎢                 ⎥  ⎢                                  ⎥  ⎢                 \n",
       "⎜⎢        2        ⎥  ⎢     2            3     ⎛       2⎞⎥  ⎢          ⎛      \n",
       "⎜⎢u      u    u⋅v  ⎥  ⎢    u            u    v⋅⎝g⋅h + u ⎠⎥  ⎢ u⋅v    v⋅⎝g⋅h + \n",
       "⎜⎢─  h + ──   ───  ⎥  ⎢h + ──   3⋅h⋅u + ──   ────────────⎥  ⎢ ───    ─────────\n",
       "⎜⎢g      g     g   ⎥  ⎢    g            g         g      ⎥  ⎢  g          g   \n",
       "⎜⎢                 ⎥  ⎢                                  ⎥  ⎢                 \n",
       "⎜⎢                2⎥  ⎢          ⎛       2⎞    ⎛       2⎞⎥  ⎢     2    ⎛      \n",
       "⎜⎢v   u⋅v        v ⎥  ⎢ u⋅v    v⋅⎝g⋅h + u ⎠  u⋅⎝g⋅h + v ⎠⎥  ⎢    v   u⋅⎝g⋅h + \n",
       "⎜⎢─   ───    h + ──⎥  ⎢ ───    ────────────  ────────────⎥  ⎢h + ──  ─────────\n",
       "⎝⎣g    g         g ⎦  ⎣  g          g             g      ⎦  ⎣    g        g   \n",
       "\n",
       "             2   ⎤⎞\n",
       "            v    ⎥⎟\n",
       "        h + ──   ⎥⎟\n",
       "            g    ⎥⎟\n",
       "                 ⎥⎟\n",
       " 2⎞    ⎛       2⎞⎥⎟\n",
       "u ⎠  u⋅⎝g⋅h + v ⎠⎥⎟\n",
       "───  ────────────⎥⎟\n",
       "          g      ⎥⎟\n",
       "                 ⎥⎟\n",
       " 2⎞            3 ⎥⎟\n",
       "v ⎠           v  ⎥⎟\n",
       "───   3⋅h⋅v + ── ⎥⎟\n",
       "              g  ⎦⎠"
      ]
     },
     "execution_count": 15,
     "metadata": {},
     "output_type": "execute_result"
    }
   ],
   "source": [
    "Atilde0 = simplify(Atilde0_inv.inverse())\n",
    "print \"Riemannian metric, Atilde0 = \",Atilde0\n",
    "print \"Atilde0 is symmetric is \",Atilde0.is_symmetric()\n",
    "Atilde1 = simplify(A1*Atilde0)\n",
    "print \"Atilde1 = \",Atilde1\n",
    "print \"Atilde1 is symmetric is \",Atilde1.is_symmetric()\n",
    "Atilde2 = simplify(A2*Atilde0)\n",
    "print \"Atilde2\",Atilde2\n",
    "print \"Atilde2 is symmetric is \",Atilde2.is_symmetric()\n",
    "Atilde0,Atilde1,Atilde2"
   ]
  },
  {
   "cell_type": "markdown",
   "metadata": {},
   "source": [
    "#Symmetric formulation with Euclidean metric\n",
    "\n",
    "Compute Cholesky factorization of $\\tilde{A}_0$ and change varibles assuming constant coefficients"
   ]
  },
  {
   "cell_type": "code",
   "execution_count": 16,
   "metadata": {
    "collapsed": false
   },
   "outputs": [
    {
     "name": "stdout",
     "output_type": "stream",
     "text": [
      "L =  Matrix([\n",
      "[1/sqrt(g),       0,       0],\n",
      "[u/sqrt(g), sqrt(h),       0],\n",
      "[v/sqrt(g),       0, sqrt(h)]])\n",
      "LL^t - Atilde0 =  Matrix([\n",
      "[0, 0, 0],\n",
      "[0, 0, 0],\n",
      "[0, 0, 0]])\n"
     ]
    },
    {
     "data": {
      "image/png": "[encoded data removed]",
      "text/latex": [
       "$$\\begin{pmatrix}\\left[\\begin{matrix}\\frac{1}{\\sqrt{g}} & 0 & 0\\\\\\frac{u}{\\sqrt{g}} & \\sqrt{h} & 0\\\\\\frac{v}{\\sqrt{g}} & 0 & \\sqrt{h}\\end{matrix}\\right], & \\left[\\begin{matrix}\\sqrt{g} & 0 & 0\\\\- \\frac{u}{\\sqrt{h}} & \\frac{1}{\\sqrt{h}} & 0\\\\- \\frac{v}{\\sqrt{h}} & 0 & \\frac{1}{\\sqrt{h}}\\end{matrix}\\right]\\end{pmatrix}$$"
      ],
      "text/plain": [
       "⎛⎡  1                ⎤  ⎡  ___              ⎤⎞\n",
       "⎜⎢─────    0      0  ⎥, ⎢╲╱ g     0      0  ⎥⎟\n",
       "⎜⎢  ___              ⎥  ⎢                   ⎥⎟\n",
       "⎜⎢╲╱ g               ⎥  ⎢ -u      1         ⎥⎟\n",
       "⎜⎢                   ⎥  ⎢─────  ─────    0  ⎥⎟\n",
       "⎜⎢  u      ___       ⎥  ⎢  ___    ___       ⎥⎟\n",
       "⎜⎢─────  ╲╱ h     0  ⎥  ⎢╲╱ h   ╲╱ h        ⎥⎟\n",
       "⎜⎢  ___              ⎥  ⎢                   ⎥⎟\n",
       "⎜⎢╲╱ g               ⎥  ⎢ -v             1  ⎥⎟\n",
       "⎜⎢                   ⎥  ⎢─────    0    ─────⎥⎟\n",
       "⎜⎢  v             ___⎥  ⎢  ___           ___⎥⎟\n",
       "⎜⎢─────    0    ╲╱ h ⎥  ⎣╲╱ h          ╲╱ h ⎦⎟\n",
       "⎜⎢  ___              ⎥                       ⎟\n",
       "⎝⎣╲╱ g               ⎦                       ⎠"
      ]
     },
     "execution_count": 16,
     "metadata": {},
     "output_type": "execute_result"
    }
   ],
   "source": [
    "L = Atilde0.cholesky()\n",
    "L_inv = L.inverse()\n",
    "print \"L = \",L\n",
    "print \"LL^t - Atilde0 = \",L*L.transpose() - Atilde0\n",
    "L,L_inv"
   ]
  },
  {
   "cell_type": "code",
   "execution_count": 17,
   "metadata": {
    "collapsed": false
   },
   "outputs": [
    {
     "name": "stdout",
     "output_type": "stream",
     "text": [
      "Before normalization, Y1 =  Matrix([\n",
      "[        0,  sqrt(g)/v, sqrt(g)/v],\n",
      "[        0, -sqrt(g)/v, sqrt(g)/v],\n",
      "[1/sqrt(h),          0,         0]])\n",
      "Y1^t Y1 = D1 =  Matrix([\n",
      "[2*g/v**2,        0,   0],\n",
      "[       0, 2*g/v**2,   0],\n",
      "[       0,        0, 1/h]])\n"
     ]
    },
    {
     "data": {
      "image/png": "[encoded data removed]",
      "text/latex": [
       "$$\\begin{pmatrix}\\left[\\begin{matrix}0 & \\frac{\\sqrt{g}}{v} & \\frac{\\sqrt{g}}{v}\\\\0 & - \\frac{\\sqrt{g}}{v} & \\frac{\\sqrt{g}}{v}\\\\\\frac{1}{\\sqrt{h}} & 0 & 0\\end{matrix}\\right], & \\left[\\begin{matrix}\\frac{2 g}{v^{2}} & 0 & 0\\\\0 & \\frac{2 g}{v^{2}} & 0\\\\0 & 0 & \\frac{1}{h}\\end{matrix}\\right], & \\left[\\begin{matrix}\\frac{1}{h} & 0 & 0\\\\0 & \\frac{2 g}{v^{2}} & 0\\\\0 & 0 & \\frac{2 g}{v^{2}}\\end{matrix}\\right]\\end{pmatrix}$$"
      ],
      "text/plain": [
       "⎛⎡          ___     ___⎤                              ⎞\n",
       "⎜⎢        ╲╱ g    ╲╱ g ⎥  ⎡2⋅g        ⎤  ⎡1          ⎤⎟\n",
       "⎜⎢  0     ─────   ─────⎥, ⎢───   0   0⎥, ⎢─   0    0 ⎥⎟\n",
       "⎜⎢          v       v  ⎥  ⎢  2        ⎥  ⎢h          ⎥⎟\n",
       "⎜⎢                     ⎥  ⎢ v         ⎥  ⎢           ⎥⎟\n",
       "⎜⎢          ___     ___⎥  ⎢           ⎥  ⎢   2⋅g     ⎥⎟\n",
       "⎜⎢       -╲╱ g    ╲╱ g ⎥  ⎢     2⋅g   ⎥  ⎢0  ───   0 ⎥⎟\n",
       "⎜⎢  0    ───────  ─────⎥  ⎢ 0   ───  0⎥  ⎢     2     ⎥⎟\n",
       "⎜⎢          v       v  ⎥  ⎢       2   ⎥  ⎢    v      ⎥⎟\n",
       "⎜⎢                     ⎥  ⎢      v    ⎥  ⎢           ⎥⎟\n",
       "⎜⎢  1                  ⎥  ⎢           ⎥  ⎢        2⋅g⎥⎟\n",
       "⎜⎢─────     0       0  ⎥  ⎢          1⎥  ⎢0   0   ───⎥⎟\n",
       "⎜⎢  ___                ⎥  ⎢ 0    0   ─⎥  ⎢          2⎥⎟\n",
       "⎝⎣╲╱ h                 ⎦  ⎣          h⎦  ⎣         v ⎦⎠"
      ]
     },
     "execution_count": 17,
     "metadata": {},
     "output_type": "execute_result"
    }
   ],
   "source": [
    "Y1 = simplify(L_inv*Psi1)\n",
    "print \"Before normalization, Y1 = \",Y1\n",
    "D1 = simplify(Y1*Y1.T)\n",
    "print \"Y1^t Y1 = D1 = \",D1\n",
    "Y1,D1,simplify(Y1.T*Y1)"
   ]
  },
  {
   "cell_type": "code",
   "execution_count": 18,
   "metadata": {
    "collapsed": false
   },
   "outputs": [
    {
     "name": "stdout",
     "output_type": "stream",
     "text": [
      "After normalization, Y1 =  Matrix([\n",
      "[0,  sqrt(2)/(2*v*sqrt(v**(-2))), sqrt(2)/(2*v*sqrt(v**(-2)))],\n",
      "[0, -sqrt(2)/(2*v*sqrt(v**(-2))), sqrt(2)/(2*v*sqrt(v**(-2)))],\n",
      "[1,                            0,                           0]])\n",
      "Y1Y1^t = I =  Matrix([\n",
      "[sqrt(2)*sqrt(g)/(v**2*sqrt(v**(-2))),                                    0,         0],\n",
      "[                                   0, sqrt(2)*sqrt(g)/(v**2*sqrt(v**(-2))),         0],\n",
      "[                                   0,                                    0, 1/sqrt(h)]])\n"
     ]
    },
    {
     "data": {
      "image/png": "[encoded data removed]",
      "text/latex": [
       "$$\\begin{pmatrix}\\left[\\begin{matrix}0 & \\frac{\\sqrt{2}}{2 v \\sqrt{\\frac{1}{v^{2}}}} & \\frac{\\sqrt{2}}{2 v \\sqrt{\\frac{1}{v^{2}}}}\\\\0 & - \\frac{\\sqrt{2}}{2 v \\sqrt{\\frac{1}{v^{2}}}} & \\frac{\\sqrt{2}}{2 v \\sqrt{\\frac{1}{v^{2}}}}\\\\1 & 0 & 0\\end{matrix}\\right], & \\left[\\begin{matrix}1 & 0 & 0\\\\0 & 1 & 0\\\\0 & 0 & 1\\end{matrix}\\right], & \\left[\\begin{matrix}1 & 0 & 0\\\\0 & 1 & 0\\\\0 & 0 & 1\\end{matrix}\\right]\\end{pmatrix}$$"
      ],
      "text/plain": [
       "⎛⎡         ___            ___    ⎤                      ⎞\n",
       "⎜⎢       ╲╱ 2           ╲╱ 2     ⎥                      ⎟\n",
       "⎜⎢0  ─────────────  ─────────────⎥, ⎡1  0  0⎤, ⎡1  0  0⎤⎟\n",
       "⎜⎢            ____           ____⎥  ⎢       ⎥  ⎢       ⎥⎟\n",
       "⎜⎢           ╱ 1            ╱ 1  ⎥  ⎢0  1  0⎥  ⎢0  1  0⎥⎟\n",
       "⎜⎢   2⋅v⋅   ╱  ──   2⋅v⋅   ╱  ── ⎥  ⎢       ⎥  ⎢       ⎥⎟\n",
       "⎜⎢         ╱    2         ╱    2 ⎥  ⎣0  0  1⎦  ⎣0  0  1⎦⎟\n",
       "⎜⎢       ╲╱    v        ╲╱    v  ⎥                      ⎟\n",
       "⎜⎢                               ⎥                      ⎟\n",
       "⎜⎢         ___            ___    ⎥                      ⎟\n",
       "⎜⎢      -╲╱ 2           ╲╱ 2     ⎥                      ⎟\n",
       "⎜⎢0  ─────────────  ─────────────⎥                      ⎟\n",
       "⎜⎢            ____           ____⎥                      ⎟\n",
       "⎜⎢           ╱ 1            ╱ 1  ⎥                      ⎟\n",
       "⎜⎢   2⋅v⋅   ╱  ──   2⋅v⋅   ╱  ── ⎥                      ⎟\n",
       "⎜⎢         ╱    2         ╱    2 ⎥                      ⎟\n",
       "⎜⎢       ╲╱    v        ╲╱    v  ⎥                      ⎟\n",
       "⎜⎢                               ⎥                      ⎟\n",
       "⎝⎣1        0              0      ⎦                      ⎠"
      ]
     },
     "execution_count": 18,
     "metadata": {},
     "output_type": "execute_result"
    }
   ],
   "source": [
    "Y1N = Matrix(Y1.row(0)/sqrt(D1[0,0])).col_join(Y1.row(1)/sqrt(D1[1,1])).col_join(Y1.row(2)/sqrt(D1[2,2]))\n",
    "Y1N = simplify(Y1N)\n",
    "print \"After normalization, Y1 = \",Y1N\n",
    "print \"Y1Y1^t = I = \",simplify(Y1N*Y1.T)\n",
    "Y1N,simplify(Y1N.T*Y1N),simplify(Y1N*Y1N.T)"
   ]
  },
  {
   "cell_type": "code",
   "execution_count": 19,
   "metadata": {
    "collapsed": false
   },
   "outputs": [
    {
     "data": {
      "image/png": "[encoded data removed]",
      "text/latex": [
       "$$\\begin{pmatrix}\\left[\\begin{matrix}0 & \\frac{\\sqrt{g}}{- \\sqrt{g} \\sqrt{h} + v} & \\frac{\\sqrt{g}}{\\sqrt{g} \\sqrt{h} + v}\\\\\\frac{1}{\\sqrt{h}} & 0 & 0\\\\0 & \\frac{\\sqrt{g}}{\\sqrt{g} \\sqrt{h} - v} & \\frac{\\sqrt{g}}{\\sqrt{g} \\sqrt{h} + v}\\end{matrix}\\right], & \\left[\\begin{matrix}\\frac{2 g \\left(g h + v^{2}\\right)}{g^{2} h^{2} - 2 g h v^{2} + v^{4}} & 0 & - \\frac{4 g^{\\frac{3}{2}} \\sqrt{h} v}{g^{2} h^{2} - 2 g h v^{2} + v^{4}}\\\\0 & \\frac{1}{h} & 0\\\\- \\frac{4 g^{\\frac{3}{2}} \\sqrt{h} v}{g^{2} h^{2} - 2 g h v^{2} + v^{4}} & 0 & \\frac{2 g \\left(g h + v^{2}\\right)}{g^{2} h^{2} - 2 g h v^{2} + v^{4}}\\end{matrix}\\right], & \\left[\\begin{matrix}\\frac{1}{h} & 0 & 0\\\\0 & \\frac{2 g}{\\left(\\sqrt{g} \\sqrt{h} - v\\right)^{2}} & 0\\\\0 & 0 & \\frac{2 g}{\\left(\\sqrt{g} \\sqrt{h} + v\\right)^{2}}\\end{matrix}\\right]\\end{pmatrix}$$"
      ],
      "text/plain": [
       "⎛⎡               ___               ___     ⎤  ⎡        ⎛       2⎞             \n",
       "⎜⎢             ╲╱ g              ╲╱ g      ⎥  ⎢    2⋅g⋅⎝g⋅h + v ⎠           -4\n",
       "⎜⎢  0    ─────────────────  ───────────────⎥, ⎢─────────────────────  0  ─────\n",
       "⎜⎢           ___   ___        ___   ___    ⎥  ⎢ 2  2          2    4      2  2\n",
       "⎜⎢       - ╲╱ g ⋅╲╱ h  + v  ╲╱ g ⋅╲╱ h  + v⎥  ⎢g ⋅h  - 2⋅g⋅h⋅v  + v      g ⋅h \n",
       "⎜⎢                                         ⎥  ⎢                               \n",
       "⎜⎢  1                                      ⎥  ⎢                       1       \n",
       "⎜⎢─────          0                 0       ⎥  ⎢          0            ─       \n",
       "⎜⎢  ___                                    ⎥  ⎢                       h       \n",
       "⎜⎢╲╱ h                                     ⎥  ⎢                               \n",
       "⎜⎢                                         ⎥  ⎢       3/2   ___               \n",
       "⎜⎢               ___               ___     ⎥  ⎢   -4⋅g   ⋅╲╱ h ⋅v            2\n",
       "⎜⎢             ╲╱ g              ╲╱ g      ⎥  ⎢─────────────────────  0  ─────\n",
       "⎜⎢  0     ───────────────   ───────────────⎥  ⎢ 2  2          2    4      2  2\n",
       "⎜⎢          ___   ___         ___   ___    ⎥  ⎣g ⋅h  - 2⋅g⋅h⋅v  + v      g ⋅h \n",
       "⎝⎣        ╲╱ g ⋅╲╱ h  - v   ╲╱ g ⋅╲╱ h  + v⎦                                  \n",
       "\n",
       "  3/2   ___     ⎤                                             ⎞\n",
       "⋅g   ⋅╲╱ h ⋅v   ⎥  ⎡1                                        ⎤⎟\n",
       "────────────────⎥, ⎢─          0                   0         ⎥⎟\n",
       "          2    4⎥  ⎢h                                        ⎥⎟\n",
       " - 2⋅g⋅h⋅v  + v ⎥  ⎢                                         ⎥⎟\n",
       "                ⎥  ⎢          2⋅g                            ⎥⎟\n",
       "                ⎥  ⎢0  ──────────────────          0         ⎥⎟\n",
       "     0          ⎥  ⎢                    2                    ⎥⎟\n",
       "                ⎥  ⎢   ⎛  ___   ___    ⎞                     ⎥⎟\n",
       "                ⎥  ⎢   ⎝╲╱ g ⋅╲╱ h  - v⎠                     ⎥⎟\n",
       "   ⎛       2⎞   ⎥  ⎢                                         ⎥⎟\n",
       "⋅g⋅⎝g⋅h + v ⎠   ⎥  ⎢                              2⋅g        ⎥⎟\n",
       "────────────────⎥  ⎢0          0           ──────────────────⎥⎟\n",
       "          2    4⎥  ⎢                                        2⎥⎟\n",
       " - 2⋅g⋅h⋅v  + v ⎦  ⎢                       ⎛  ___   ___    ⎞ ⎥⎟\n",
       "                   ⎣                       ⎝╲╱ g ⋅╲╱ h  + v⎠ ⎦⎠"
      ]
     },
     "execution_count": 19,
     "metadata": {},
     "output_type": "execute_result"
    }
   ],
   "source": [
    "Y2 = simplify(L_inv*Psi2)\n",
    "D2 = simplify(Y2*Y2.T)\n",
    "D2t = simplify(Y2.T*Y2)\n",
    "Y2,D2,D2t"
   ]
  },
  {
   "cell_type": "markdown",
   "metadata": {},
   "source": [
    "Something tricky is going on since $Y_2 Y_2^t$ should be diagonal but only $Y_2^t Y_2$ is coming out diagonal. "
   ]
  },
  {
   "cell_type": "code",
   "execution_count": 20,
   "metadata": {
    "collapsed": false
   },
   "outputs": [
    {
     "name": "stdout",
     "output_type": "stream",
     "text": [
      "After normalization, Y2 =  Matrix([\n",
      "[0, sqrt(2)/(2*sqrt((g*h + v**2)/(g**2*h**2 - 2*g*h*v**2 + v**4))*(-sqrt(g)*sqrt(h) + v)), sqrt(2)/(2*sqrt((g*h + v**2)/(g**2*h**2 - 2*g*h*v**2 + v**4))*(sqrt(g)*sqrt(h) + v))],\n",
      "[1,                                                                                     0,                                                                                    0],\n",
      "[0,  sqrt(2)/(2*sqrt((g*h + v**2)/(g**2*h**2 - 2*g*h*v**2 + v**4))*(sqrt(g)*sqrt(h) - v)), sqrt(2)/(2*sqrt((g*h + v**2)/(g**2*h**2 - 2*g*h*v**2 + v**4))*(sqrt(g)*sqrt(h) + v))]])\n",
      "Y2Y2^t = I =  Matrix([\n",
      "[                                                                                                  1, 0, -2*sqrt(g)*sqrt(h)*v*(g**2*h**2 - 2*g*h*v**2 + v**4)/(g**3*h**3 - g**2*h**2*v**2 - g*h*v**4 + v**6)],\n",
      "[                                                                                                  0, 1,                                                                                                   0],\n",
      "[-2*sqrt(g)*sqrt(h)*v*(g**2*h**2 - 2*g*h*v**2 + v**4)/(g**3*h**3 - g**2*h**2*v**2 - g*h*v**4 + v**6), 0,                                                                                                   1]])\n"
     ]
    },
    {
     "data": {
      "image/png": "[encoded data removed]",
      "text/latex": [
       "$$\\begin{pmatrix}\\left[\\begin{matrix}0 & \\frac{\\sqrt{2}}{2 \\sqrt{\\frac{g h + v^{2}}{g^{2} h^{2} - 2 g h v^{2} + v^{4}}} \\left(- \\sqrt{g} \\sqrt{h} + v\\right)} & \\frac{\\sqrt{2}}{2 \\sqrt{\\frac{g h + v^{2}}{g^{2} h^{2} - 2 g h v^{2} + v^{4}}} \\left(\\sqrt{g} \\sqrt{h} + v\\right)}\\\\1 & 0 & 0\\\\0 & \\frac{\\sqrt{2}}{2 \\sqrt{\\frac{g h + v^{2}}{g^{2} h^{2} - 2 g h v^{2} + v^{4}}} \\left(\\sqrt{g} \\sqrt{h} - v\\right)} & \\frac{\\sqrt{2}}{2 \\sqrt{\\frac{g h + v^{2}}{g^{2} h^{2} - 2 g h v^{2} + v^{4}}} \\left(\\sqrt{g} \\sqrt{h} + v\\right)}\\end{matrix}\\right], & \\left[\\begin{matrix}1 & 0 & - \\frac{2 \\sqrt{g} \\sqrt{h} v \\left(g^{2} h^{2} - 2 g h v^{2} + v^{4}\\right)}{g^{3} h^{3} - g^{2} h^{2} v^{2} - g h v^{4} + v^{6}}\\\\0 & 1 & 0\\\\- \\frac{2 \\sqrt{g} \\sqrt{h} v \\left(g^{2} h^{2} - 2 g h v^{2} + v^{4}\\right)}{g^{3} h^{3} - g^{2} h^{2} v^{2} - g h v^{4} + v^{6}} & 0 & 1\\end{matrix}\\right], & \\left[\\begin{matrix}1 & 0 & 0\\\\0 & \\frac{g^{2} h^{2} - 2 g h v^{2} + v^{4}}{\\left(\\sqrt{g} \\sqrt{h} - v\\right)^{2} \\left(g h + v^{2}\\right)} & 0\\\\0 & 0 & \\frac{g^{2} h^{2} - 2 g h v^{2} + v^{4}}{\\left(\\sqrt{g} \\sqrt{h} + v\\right)^{2} \\left(g h + v^{2}\\right)}\\end{matrix}\\right]\\end{pmatrix}$$"
      ],
      "text/plain": [
       "⎛⎡                            ___                                             \n",
       "⎜⎢                          ╲╱ 2                                              \n",
       "⎜⎢0  ───────────────────────────────────────────────────  ────────────────────\n",
       "⎜⎢           _______________________                              ____________\n",
       "⎜⎢          ╱               2                                    ╱            \n",
       "⎜⎢         ╱         g⋅h + v         ⎛    ___   ___    ⎞        ╱         g⋅h \n",
       "⎜⎢   2⋅   ╱   ───────────────────── ⋅⎝- ╲╱ g ⋅╲╱ h  + v⎠  2⋅   ╱   ───────────\n",
       "⎜⎢       ╱     2  2          2    4                           ╱     2  2      \n",
       "⎜⎢     ╲╱     g ⋅h  - 2⋅g⋅h⋅v  + v                          ╲╱     g ⋅h  - 2⋅g\n",
       "⎜⎢                                                                            \n",
       "⎜⎢1                           0                                               \n",
       "⎜⎢                                                                            \n",
       "⎜⎢                            ___                                             \n",
       "⎜⎢                          ╲╱ 2                                              \n",
       "⎜⎢0   ─────────────────────────────────────────────────   ────────────────────\n",
       "⎜⎢            _______________________                             ____________\n",
       "⎜⎢           ╱               2                                   ╱            \n",
       "⎜⎢          ╱         g⋅h + v         ⎛  ___   ___    ⎞         ╱         g⋅h \n",
       "⎜⎢    2⋅   ╱   ───────────────────── ⋅⎝╲╱ g ⋅╲╱ h  - v⎠   2⋅   ╱   ───────────\n",
       "⎜⎢        ╱     2  2          2    4                          ╱     2  2      \n",
       "⎝⎣      ╲╱     g ⋅h  - 2⋅g⋅h⋅v  + v                         ╲╱     g ⋅h  - 2⋅g\n",
       "\n",
       "    ___                      ⎤  ⎡                                             \n",
       "  ╲╱ 2                       ⎥  ⎢                                             \n",
       "─────────────────────────────⎥, ⎢                    1                      0 \n",
       "___________                  ⎥  ⎢                                             \n",
       "   2                         ⎥  ⎢                                             \n",
       "+ v         ⎛  ___   ___    ⎞⎥  ⎢                                             \n",
       "────────── ⋅⎝╲╱ g ⋅╲╱ h  + v⎠⎥  ⎢                    0                      1 \n",
       "    2    4                   ⎥  ⎢                                             \n",
       "⋅h⋅v  + v                    ⎥  ⎢     ___   ___   ⎛ 2  2          2    4⎞     \n",
       "                             ⎥  ⎢-2⋅╲╱ g ⋅╲╱ h ⋅v⋅⎝g ⋅h  - 2⋅g⋅h⋅v  + v ⎠     \n",
       "    0                        ⎥  ⎢─────────────────────────────────────────  0 \n",
       "                             ⎥  ⎢       3  3    2  2  2        4    6         \n",
       "    ___                      ⎥  ⎣      g ⋅h  - g ⋅h ⋅v  - g⋅h⋅v  + v          \n",
       "  ╲╱ 2                       ⎥                                                \n",
       "─────────────────────────────⎥                                                \n",
       "___________                  ⎥                                                \n",
       "   2                         ⎥                                                \n",
       "+ v         ⎛  ___   ___    ⎞⎥                                                \n",
       "────────── ⋅⎝╲╱ g ⋅╲╱ h  + v⎠⎥                                                \n",
       "    2    4                   ⎥                                                \n",
       "⋅h⋅v  + v                    ⎦                                                \n",
       "\n",
       "      ___   ___   ⎛ 2  2          2    4⎞ ⎤                                   \n",
       " -2⋅╲╱ g ⋅╲╱ h ⋅v⋅⎝g ⋅h  - 2⋅g⋅h⋅v  + v ⎠ ⎥                                   \n",
       " ─────────────────────────────────────────⎥, ⎡1                0              \n",
       "        3  3    2  2  2        4    6     ⎥  ⎢                                \n",
       "       g ⋅h  - g ⋅h ⋅v  - g⋅h⋅v  + v      ⎥  ⎢        2  2          2    4    \n",
       "                                          ⎥  ⎢       g ⋅h  - 2⋅g⋅h⋅v  + v     \n",
       "                     0                    ⎥  ⎢0  ─────────────────────────────\n",
       "                                          ⎥  ⎢                    2           \n",
       "                                          ⎥  ⎢   ⎛  ___   ___    ⎞  ⎛       2⎞\n",
       "                                          ⎥  ⎢   ⎝╲╱ g ⋅╲╱ h  - v⎠ ⋅⎝g⋅h + v ⎠\n",
       "                     1                    ⎥  ⎢                                \n",
       "                                          ⎥  ⎢                                \n",
       "                                          ⎦  ⎢                                \n",
       "                                             ⎢0                0              \n",
       "                                             ⎢                                \n",
       "                                             ⎢                                \n",
       "                                             ⎣                                \n",
       "                                                                              \n",
       "                                                                              \n",
       "                                                                              \n",
       "                                                                              \n",
       "\n",
       "                                ⎞\n",
       "                                ⎟\n",
       "                0              ⎤⎟\n",
       "                               ⎥⎟\n",
       "                               ⎥⎟\n",
       "                               ⎥⎟\n",
       "                0              ⎥⎟\n",
       "                               ⎥⎟\n",
       "                               ⎥⎟\n",
       "                               ⎥⎟\n",
       "                               ⎥⎟\n",
       "       2  2          2    4    ⎥⎟\n",
       "      g ⋅h  - 2⋅g⋅h⋅v  + v     ⎥⎟\n",
       "  ─────────────────────────────⎥⎟\n",
       "                   2           ⎥⎟\n",
       "  ⎛  ___   ___    ⎞  ⎛       2⎞⎥⎟\n",
       "  ⎝╲╱ g ⋅╲╱ h  + v⎠ ⋅⎝g⋅h + v ⎠⎦⎟\n",
       "                                ⎟\n",
       "                                ⎟\n",
       "                                ⎟\n",
       "                                ⎠"
      ]
     },
     "execution_count": 20,
     "metadata": {},
     "output_type": "execute_result"
    }
   ],
   "source": [
    "Y2N = Matrix(Y2.row(0)/sqrt(D2[0,0])).col_join(Y2.row(1)/sqrt(D2[1,1])).col_join(Y2.row(2)/sqrt(D2[2,2]))\n",
    "Y2N = simplify(Y2N)\n",
    "print \"After normalization, Y2 = \",Y2N\n",
    "print \"Y2Y2^t = I = \",simplify(Y2N*Y2N.T)\n",
    "Y2N,simplify(Y2N*Y2N.T),simplify(Y2N.T*Y2N)"
   ]
  },
  {
   "cell_type": "code",
   "execution_count": 21,
   "metadata": {
    "collapsed": false
   },
   "outputs": [
    {
     "name": "stdout",
     "output_type": "stream",
     "text": [
      "After normalization, Y2 =  Matrix([\n",
      "[0, -sqrt(2)/(2*(sqrt(g)*sqrt(h) - v)*sqrt((sqrt(g)*sqrt(h) - v)**(-2))), sqrt(2)/(2*(sqrt(g)*sqrt(h) + v)*sqrt((sqrt(g)*sqrt(h) + v)**(-2)))],\n",
      "[1,                                                                    0,                                                                   0],\n",
      "[0,  sqrt(2)/(2*(sqrt(g)*sqrt(h) - v)*sqrt((sqrt(g)*sqrt(h) - v)**(-2))), sqrt(2)/(2*(sqrt(g)*sqrt(h) + v)*sqrt((sqrt(g)*sqrt(h) + v)**(-2)))]])\n",
      "Y2Y2^t = I =  Matrix([\n",
      "[1, 0, 0],\n",
      "[0, 1, 0],\n",
      "[0, 0, 1]])\n"
     ]
    },
    {
     "data": {
      "image/png": "[encoded data removed]",
      "text/latex": [
       "$$\\begin{pmatrix}\\left[\\begin{matrix}0 & - \\frac{\\sqrt{2}}{2 \\left(\\sqrt{g} \\sqrt{h} - v\\right) \\sqrt{\\frac{1}{\\left(\\sqrt{g} \\sqrt{h} - v\\right)^{2}}}} & \\frac{\\sqrt{2}}{2 \\left(\\sqrt{g} \\sqrt{h} + v\\right) \\sqrt{\\frac{1}{\\left(\\sqrt{g} \\sqrt{h} + v\\right)^{2}}}}\\\\1 & 0 & 0\\\\0 & \\frac{\\sqrt{2}}{2 \\left(\\sqrt{g} \\sqrt{h} - v\\right) \\sqrt{\\frac{1}{\\left(\\sqrt{g} \\sqrt{h} - v\\right)^{2}}}} & \\frac{\\sqrt{2}}{2 \\left(\\sqrt{g} \\sqrt{h} + v\\right) \\sqrt{\\frac{1}{\\left(\\sqrt{g} \\sqrt{h} + v\\right)^{2}}}}\\end{matrix}\\right], & \\left[\\begin{matrix}1 & 0 & 0\\\\0 & 1 & 0\\\\0 & 0 & 1\\end{matrix}\\right], & \\left[\\begin{matrix}1 & 0 & 0\\\\0 & 1 & 0\\\\0 & 0 & 1\\end{matrix}\\right]\\end{pmatrix}$$"
      ],
      "text/plain": [
       "⎛⎡                         ___                                             ___\n",
       "⎜⎢                      -╲╱ 2                                            ╲╱ 2 \n",
       "⎜⎢0  ──────────────────────────────────────────────  ─────────────────────────\n",
       "⎜⎢                             ____________________                           \n",
       "⎜⎢     ⎛  ___   ___    ⎞      ╱         1              ⎛  ___   ___    ⎞      \n",
       "⎜⎢   2⋅⎝╲╱ g ⋅╲╱ h  - v⎠⋅    ╱  ──────────────────   2⋅⎝╲╱ g ⋅╲╱ h  + v⎠⋅    ╱\n",
       "⎜⎢                          ╱                    2                          ╱ \n",
       "⎜⎢                         ╱    ⎛  ___   ___    ⎞                          ╱  \n",
       "⎜⎢                       ╲╱     ⎝╲╱ g ⋅╲╱ h  - v⎠                        ╲╱   \n",
       "⎜⎢                                                                            \n",
       "⎜⎢1                        0                                               0  \n",
       "⎜⎢                                                                            \n",
       "⎜⎢                         ___                                             ___\n",
       "⎜⎢                       ╲╱ 2                                            ╲╱ 2 \n",
       "⎜⎢0  ──────────────────────────────────────────────  ─────────────────────────\n",
       "⎜⎢                             ____________________                           \n",
       "⎜⎢     ⎛  ___   ___    ⎞      ╱         1              ⎛  ___   ___    ⎞      \n",
       "⎜⎢   2⋅⎝╲╱ g ⋅╲╱ h  - v⎠⋅    ╱  ──────────────────   2⋅⎝╲╱ g ⋅╲╱ h  + v⎠⋅    ╱\n",
       "⎜⎢                          ╱                    2                          ╱ \n",
       "⎜⎢                         ╱    ⎛  ___   ___    ⎞                          ╱  \n",
       "⎝⎣                       ╲╱     ⎝╲╱ g ⋅╲╱ h  - v⎠                        ╲╱   \n",
       "\n",
       "                     ⎤                      ⎞\n",
       "                     ⎥                      ⎟\n",
       "─────────────────────⎥, ⎡1  0  0⎤, ⎡1  0  0⎤⎟\n",
       " ____________________⎥  ⎢       ⎥  ⎢       ⎥⎟\n",
       "╱         1          ⎥  ⎢0  1  0⎥  ⎢0  1  0⎥⎟\n",
       "  ────────────────── ⎥  ⎢       ⎥  ⎢       ⎥⎟\n",
       "                   2 ⎥  ⎣0  0  1⎦  ⎣0  0  1⎦⎟\n",
       "  ⎛  ___   ___    ⎞  ⎥                      ⎟\n",
       "  ⎝╲╱ g ⋅╲╱ h  + v⎠  ⎥                      ⎟\n",
       "                     ⎥                      ⎟\n",
       "                     ⎥                      ⎟\n",
       "                     ⎥                      ⎟\n",
       "                     ⎥                      ⎟\n",
       "                     ⎥                      ⎟\n",
       "─────────────────────⎥                      ⎟\n",
       " ____________________⎥                      ⎟\n",
       "╱         1          ⎥                      ⎟\n",
       "  ────────────────── ⎥                      ⎟\n",
       "                   2 ⎥                      ⎟\n",
       "  ⎛  ___   ___    ⎞  ⎥                      ⎟\n",
       "  ⎝╲╱ g ⋅╲╱ h  + v⎠  ⎦                      ⎠"
      ]
     },
     "execution_count": 21,
     "metadata": {},
     "output_type": "execute_result"
    }
   ],
   "source": [
    "Y2N = Matrix(Y2.T.row(0)/sqrt(D2t[0,0])).col_join(Y2.T.row(1)/sqrt(D2t[1,1])).col_join(Y2.T.row(2)/sqrt(D2t[2,2])).T\n",
    "Y2N = simplify(Y2N)\n",
    "print \"After normalization, Y2 = \",Y2N\n",
    "print \"Y2Y2^t = I = \",simplify(Y2N*Y2N.T)\n",
    "Y2N,simplify(Y2N*Y2N.T),simplify(Y2N.T*Y2N)"
   ]
  },
  {
   "cell_type": "code",
   "execution_count": 22,
   "metadata": {
    "collapsed": false
   },
   "outputs": [
    {
     "data": {
      "image/png": "[encoded data removed]",
      "text/latex": [
       "$$\\left[\\begin{matrix}0 & 0 & 0\\\\0 & 0 & 0\\\\0 & 0 & 0\\end{matrix}\\right]$$"
      ],
      "text/plain": [
       "⎡0  0  0⎤\n",
       "⎢       ⎥\n",
       "⎢0  0  0⎥\n",
       "⎢       ⎥\n",
       "⎣0  0  0⎦"
      ]
     },
     "execution_count": 22,
     "metadata": {},
     "output_type": "execute_result"
    }
   ],
   "source": [
    "Lambda1 = eye(3)\n",
    "Lambda1[0,0] = lambda1[0]\n",
    "Lambda1[1,1] = lambda1[1]\n",
    "Lambda1[2,2] = lambda1[2]\n",
    "simplify(Y1N*Lambda1*Y1N.T - L_inv*Atilde1*L_inv.T)"
   ]
  },
  {
   "cell_type": "code",
   "execution_count": 23,
   "metadata": {
    "collapsed": false
   },
   "outputs": [
    {
     "data": {
      "image/png": "[encoded data removed]",
      "text/latex": [
       "$$\\left[\\begin{matrix}0 & 0 & 0\\\\0 & 0 & 0\\\\0 & 0 & 0\\end{matrix}\\right]$$"
      ],
      "text/plain": [
       "⎡0  0  0⎤\n",
       "⎢       ⎥\n",
       "⎢0  0  0⎥\n",
       "⎢       ⎥\n",
       "⎣0  0  0⎦"
      ]
     },
     "execution_count": 23,
     "metadata": {},
     "output_type": "execute_result"
    }
   ],
   "source": [
    "Lambda2 = eye(3)\n",
    "Lambda2[0,0] = lambda2[0]\n",
    "Lambda2[1,1] = lambda2[1]\n",
    "Lambda2[2,2] = lambda2[2]\n",
    "simplify(Y2N*Lambda2*Y2N.T - L_inv*Atilde2*L_inv.T)"
   ]
  },
  {
   "cell_type": "markdown",
   "metadata": {},
   "source": [
    "Checkt that $Y_1$ diagonalizes $\\hat{A}_1$"
   ]
  },
  {
   "cell_type": "code",
   "execution_count": 24,
   "metadata": {
    "collapsed": false
   },
   "outputs": [
    {
     "data": {
      "image/png": "[encoded data removed]",
      "text/latex": [
       "$$\\left[\\begin{matrix}u & 0 & 0\\\\0 & - \\sqrt{g} \\sqrt{h} + u & 0\\\\0 & 0 & \\sqrt{g} \\sqrt{h} + u\\end{matrix}\\right]$$"
      ],
      "text/plain": [
       "⎡u          0                 0       ⎤\n",
       "⎢                                     ⎥\n",
       "⎢       ___   ___                     ⎥\n",
       "⎢0  - ╲╱ g ⋅╲╱ h  + u         0       ⎥\n",
       "⎢                                     ⎥\n",
       "⎢                        ___   ___    ⎥\n",
       "⎣0          0          ╲╱ g ⋅╲╱ h  + u⎦"
      ]
     },
     "execution_count": 24,
     "metadata": {},
     "output_type": "execute_result"
    }
   ],
   "source": [
    "simplify(Y1N.T*L_inv*Atilde1*L_inv.T*Y1N)"
   ]
  },
  {
   "cell_type": "code",
   "execution_count": 25,
   "metadata": {
    "collapsed": false
   },
   "outputs": [
    {
     "data": {
      "image/png": "[encoded data removed]",
      "text/latex": [
       "$$\\begin{pmatrix}\\left[\\begin{matrix}u & \\sqrt{g} \\sqrt{h} & 0\\\\\\sqrt{g} \\sqrt{h} & u & 0\\\\0 & 0 & u\\end{matrix}\\right], & \\left[\\begin{matrix}u & 0 & 0\\\\0 & - \\sqrt{g} \\sqrt{h} + u & 0\\\\0 & 0 & \\sqrt{g} \\sqrt{h} + u\\end{matrix}\\right]\\end{pmatrix}$$"
      ],
      "text/plain": [
       "⎛⎡               ___   ___   ⎤                                         ⎞\n",
       "⎜⎢     u       ╲╱ g ⋅╲╱ h   0⎥, ⎡u          0                 0       ⎤⎟\n",
       "⎜⎢                           ⎥  ⎢                                     ⎥⎟\n",
       "⎜⎢  ___   ___                ⎥  ⎢       ___   ___                     ⎥⎟\n",
       "⎜⎢╲╱ g ⋅╲╱ h        u       0⎥  ⎢0  - ╲╱ g ⋅╲╱ h  + u         0       ⎥⎟\n",
       "⎜⎢                           ⎥  ⎢                                     ⎥⎟\n",
       "⎜⎣     0            0       u⎦  ⎢                        ___   ___    ⎥⎟\n",
       "⎝                               ⎣0          0          ╲╱ g ⋅╲╱ h  + u⎦⎠"
      ]
     },
     "execution_count": 25,
     "metadata": {},
     "output_type": "execute_result"
    }
   ],
   "source": [
    "Ahat1 = simplify(L_inv*Atilde1*L_inv.T)\n",
    "Ahat1,simplify(Y1N.T*Ahat1*Y1N)"
   ]
  },
  {
   "cell_type": "code",
   "execution_count": 26,
   "metadata": {
    "collapsed": false
   },
   "outputs": [
    {
     "data": {
      "image/png": "[encoded data removed]",
      "text/latex": [
       "$$\\begin{bmatrix}\\begin{pmatrix}u, & 1, & \\begin{bmatrix}\\left[\\begin{matrix}0\\\\0\\\\1\\end{matrix}\\right]\\end{bmatrix}\\end{pmatrix}, & \\begin{pmatrix}- \\sqrt{g} \\sqrt{h} + u, & 1, & \\begin{bmatrix}\\left[\\begin{matrix}-1\\\\1\\\\0\\end{matrix}\\right]\\end{bmatrix}\\end{pmatrix}, & \\begin{pmatrix}\\sqrt{g} \\sqrt{h} + u, & 1, & \\begin{bmatrix}\\left[\\begin{matrix}1\\\\1\\\\0\\end{matrix}\\right]\\end{bmatrix}\\end{pmatrix}\\end{bmatrix}$$"
      ],
      "text/plain": [
       "⎡               ⎛    ___   ___               ⎞  ⎛  ___   ___              ⎞⎤\n",
       "⎢⎛u, 1, ⎡⎡0⎤⎤⎞, ⎜- ╲╱ g ⋅╲╱ h  + u, 1, ⎡⎡-1⎤⎤⎟, ⎜╲╱ g ⋅╲╱ h  + u, 1, ⎡⎡1⎤⎤⎟⎥\n",
       "⎢⎜      ⎢⎢ ⎥⎥⎟  ⎜                      ⎢⎢  ⎥⎥⎟  ⎜                    ⎢⎢ ⎥⎥⎟⎥\n",
       "⎢⎜      ⎢⎢0⎥⎥⎟  ⎜                      ⎢⎢1 ⎥⎥⎟  ⎜                    ⎢⎢1⎥⎥⎟⎥\n",
       "⎢⎜      ⎢⎢ ⎥⎥⎟  ⎜                      ⎢⎢  ⎥⎥⎟  ⎜                    ⎢⎢ ⎥⎥⎟⎥\n",
       "⎣⎝      ⎣⎣1⎦⎦⎠  ⎝                      ⎣⎣0 ⎦⎦⎠  ⎝                    ⎣⎣0⎦⎦⎠⎦"
      ]
     },
     "execution_count": 26,
     "metadata": {},
     "output_type": "execute_result"
    }
   ],
   "source": [
    "Ehat1 = Ahat1.eigenvects()\n",
    "Ehat1"
   ]
  },
  {
   "cell_type": "code",
   "execution_count": 27,
   "metadata": {
    "collapsed": false
   },
   "outputs": [
    {
     "data": {
      "image/png": "[encoded data removed]",
      "text/latex": [
       "$$\\begin{pmatrix}\\left[\\begin{matrix}1 & 0 & 0\\\\0 & 1 & 0\\\\0 & 0 & 1\\end{matrix}\\right], & \\left[\\begin{matrix}1 & 0 & 0\\\\0 & 1 & 0\\\\0 & 0 & 1\\end{matrix}\\right], & \\left[\\begin{matrix}0 & - \\frac{\\sqrt{2}}{2 \\sqrt{g}} & \\frac{\\sqrt{2}}{2 \\sqrt{g}}\\\\0 & \\frac{\\sqrt{2}}{2 \\sqrt{g}} \\left(\\sqrt{g} \\sqrt{h} - u\\right) & \\frac{\\sqrt{2}}{2 \\sqrt{g}} \\left(\\sqrt{g} \\sqrt{h} + u\\right)\\\\\\sqrt{h} & - \\frac{\\sqrt{2} v}{2 \\sqrt{g}} & \\frac{\\sqrt{2} v}{2 \\sqrt{g}}\\end{matrix}\\right]\\end{pmatrix}$$"
      ],
      "text/plain": [
       "⎛                      ⎡                  ___                      ___        \n",
       "⎜                      ⎢               -╲╱ 2                     ╲╱ 2         \n",
       "⎜⎡1  0  0⎤, ⎡1  0  0⎤, ⎢  0            ───────                  ───────       \n",
       "⎜⎢       ⎥  ⎢       ⎥  ⎢                   ___                      ___       \n",
       "⎜⎢0  1  0⎥  ⎢0  1  0⎥  ⎢               2⋅╲╱ g                   2⋅╲╱ g        \n",
       "⎜⎢       ⎥  ⎢       ⎥  ⎢                                                      \n",
       "⎜⎣0  0  1⎦  ⎣0  0  1⎦  ⎢         ___ ⎛  ___   ___    ⎞    ___ ⎛  ___   ___    \n",
       "⎜                      ⎢       ╲╱ 2 ⋅⎝╲╱ g ⋅╲╱ h  - u⎠  ╲╱ 2 ⋅⎝╲╱ g ⋅╲╱ h  + u\n",
       "⎜                      ⎢  0    ───────────────────────  ──────────────────────\n",
       "⎜                      ⎢                   ___                      ___       \n",
       "⎜                      ⎢               2⋅╲╱ g                   2⋅╲╱ g        \n",
       "⎜                      ⎢                                                      \n",
       "⎜                      ⎢                 ___                      ___         \n",
       "⎜                      ⎢  ___         -╲╱ 2 ⋅v                  ╲╱ 2 ⋅v       \n",
       "⎜                      ⎢╲╱ h          ─────────                 ───────       \n",
       "⎜                      ⎢                   ___                      ___       \n",
       "⎝                      ⎣               2⋅╲╱ g                   2⋅╲╱ g        \n",
       "\n",
       " ⎤⎞\n",
       " ⎥⎟\n",
       " ⎥⎟\n",
       " ⎥⎟\n",
       " ⎥⎟\n",
       " ⎥⎟\n",
       "⎞⎥⎟\n",
       "⎠⎥⎟\n",
       "─⎥⎟\n",
       " ⎥⎟\n",
       " ⎥⎟\n",
       " ⎥⎟\n",
       " ⎥⎟\n",
       " ⎥⎟\n",
       " ⎥⎟\n",
       " ⎥⎟\n",
       " ⎦⎠"
      ]
     },
     "execution_count": 27,
     "metadata": {},
     "output_type": "execute_result"
    }
   ],
   "source": [
    "Y1_tmp = Ehat1[0][2][0].row_join(Ehat1[1][2][0]/sqrt(2)).row_join(Ehat1[2][2][0]/sqrt(2))\n",
    "Psi1_tmp = simplify(L*Y1_tmp)\n",
    "Y1_tmp*Y1_tmp.T,Y1_tmp.T*Y1_tmp,Psi1_tmp"
   ]
  },
  {
   "cell_type": "code",
   "execution_count": 28,
   "metadata": {
    "collapsed": false
   },
   "outputs": [
    {
     "data": {
      "image/png": "[encoded data removed]",
      "text/latex": [
       "$$\\begin{pmatrix}\\left[\\begin{matrix}0\\\\0\\\\0\\end{matrix}\\right], & \\left[\\begin{matrix}0\\\\0\\\\0\\end{matrix}\\right], & \\left[\\begin{matrix}0\\\\0\\\\0\\end{matrix}\\right]\\end{pmatrix}$$"
      ],
      "text/plain": [
       "⎛⎡0⎤, ⎡0⎤, ⎡0⎤⎞\n",
       "⎜⎢ ⎥  ⎢ ⎥  ⎢ ⎥⎟\n",
       "⎜⎢0⎥  ⎢0⎥  ⎢0⎥⎟\n",
       "⎜⎢ ⎥  ⎢ ⎥  ⎢ ⎥⎟\n",
       "⎝⎣0⎦  ⎣0⎦  ⎣0⎦⎠"
      ]
     },
     "execution_count": 28,
     "metadata": {},
     "output_type": "execute_result"
    }
   ],
   "source": [
    "(A1-lambda1[0]*eye(3))*Psi1_tmp[:,0],simplify((A1-lambda1[1]*eye(3))*Psi1_tmp[:,1]),simplify((A1-lambda1[2]*eye(3))*Psi1_tmp[:,2])"
   ]
  },
  {
   "cell_type": "code",
   "execution_count": 29,
   "metadata": {
    "collapsed": false
   },
   "outputs": [
    {
     "data": {
      "image/png": "[encoded data removed]",
      "text/latex": [
       "$$\\left[\\begin{matrix}0 & \\frac{1}{- \\sqrt{g} \\sqrt{h} + v} & \\frac{1}{\\sqrt{g} \\sqrt{h} + v}\\\\1 & \\frac{u}{- \\sqrt{g} \\sqrt{h} + v} & \\frac{u}{\\sqrt{g} \\sqrt{h} + v}\\\\0 & 1 & 1\\end{matrix}\\right]$$"
      ],
      "text/plain": [
       "⎡           1                 1       ⎤\n",
       "⎢0  ─────────────────  ───────────────⎥\n",
       "⎢       ___   ___        ___   ___    ⎥\n",
       "⎢   - ╲╱ g ⋅╲╱ h  + v  ╲╱ g ⋅╲╱ h  + v⎥\n",
       "⎢                                     ⎥\n",
       "⎢           u                 u       ⎥\n",
       "⎢1  ─────────────────  ───────────────⎥\n",
       "⎢       ___   ___        ___   ___    ⎥\n",
       "⎢   - ╲╱ g ⋅╲╱ h  + v  ╲╱ g ⋅╲╱ h  + v⎥\n",
       "⎢                                     ⎥\n",
       "⎣0          1                 1       ⎦"
      ]
     },
     "execution_count": 29,
     "metadata": {},
     "output_type": "execute_result"
    }
   ],
   "source": [
    "lambda2 = [EA2[0][0],EA2[1][0],EA2[2][0]]\n",
    "Psi2 = EA2[0][2][0].row_join(EA2[1][2][0]).row_join(EA2[2][2][0])\n",
    "Psi2 = simplify(Psi2)\n",
    "Psi2"
   ]
  },
  {
   "cell_type": "code",
   "execution_count": 30,
   "metadata": {
    "collapsed": false
   },
   "outputs": [
    {
     "data": {
      "image/png": "[encoded data removed]",
      "text/latex": [
       "$$\\left[\\begin{matrix}0 & 0 & 0\\\\0 & 0 & 0\\\\0 & 0 & 0\\end{matrix}\\right]$$"
      ],
      "text/plain": [
       "⎡0  0  0⎤\n",
       "⎢       ⎥\n",
       "⎢0  0  0⎥\n",
       "⎢       ⎥\n",
       "⎣0  0  0⎦"
      ]
     },
     "execution_count": 30,
     "metadata": {},
     "output_type": "execute_result"
    }
   ],
   "source": [
    "Lambda2 = eye(3)\n",
    "Lambda2[0,0] = lambda2[0]\n",
    "Lambda2[1,1] = lambda2[1]\n",
    "Lambda2[2,2] = lambda2[2]\n",
    "simplify(Y2N*Lambda2*Y2N.T - L_inv*Atilde2*L_inv.T)"
   ]
  },
  {
   "cell_type": "markdown",
   "metadata": {},
   "source": [
    "Check that $Y_2$ diagonalizes $\\hat{A}_2$"
   ]
  },
  {
   "cell_type": "code",
   "execution_count": 31,
   "metadata": {
    "collapsed": false
   },
   "outputs": [
    {
     "data": {
      "image/png": "[encoded data removed]",
      "text/latex": [
       "$$\\left[\\begin{matrix}v & 0 & 0\\\\0 & - \\sqrt{g} \\sqrt{h} + v & 0\\\\0 & 0 & \\sqrt{g} \\sqrt{h} + v\\end{matrix}\\right]$$"
      ],
      "text/plain": [
       "⎡v          0                 0       ⎤\n",
       "⎢                                     ⎥\n",
       "⎢       ___   ___                     ⎥\n",
       "⎢0  - ╲╱ g ⋅╲╱ h  + v         0       ⎥\n",
       "⎢                                     ⎥\n",
       "⎢                        ___   ___    ⎥\n",
       "⎣0          0          ╲╱ g ⋅╲╱ h  + v⎦"
      ]
     },
     "execution_count": 31,
     "metadata": {},
     "output_type": "execute_result"
    }
   ],
   "source": [
    "simplify(Y2N.T*L_inv*Atilde2*L_inv.T*Y2N)"
   ]
  },
  {
   "cell_type": "code",
   "execution_count": 32,
   "metadata": {
    "collapsed": false
   },
   "outputs": [
    {
     "data": {
      "image/png": "[encoded data removed]",
      "text/latex": [
       "$$\\begin{pmatrix}\\left[\\begin{matrix}v & 0 & \\sqrt{g} \\sqrt{h}\\\\0 & v & 0\\\\\\sqrt{g} \\sqrt{h} & 0 & v\\end{matrix}\\right], & \\left[\\begin{matrix}v & 0 & 0\\\\0 & - \\sqrt{g} \\sqrt{h} + v & 0\\\\0 & 0 & \\sqrt{g} \\sqrt{h} + v\\end{matrix}\\right]\\end{pmatrix}$$"
      ],
      "text/plain": [
       "⎛⎡                  ___   ___⎤                                         ⎞\n",
       "⎜⎢     v       0  ╲╱ g ⋅╲╱ h ⎥, ⎡v          0                 0       ⎤⎟\n",
       "⎜⎢                           ⎥  ⎢                                     ⎥⎟\n",
       "⎜⎢     0       v       0     ⎥  ⎢       ___   ___                     ⎥⎟\n",
       "⎜⎢                           ⎥  ⎢0  - ╲╱ g ⋅╲╱ h  + v         0       ⎥⎟\n",
       "⎜⎢  ___   ___                ⎥  ⎢                                     ⎥⎟\n",
       "⎜⎣╲╱ g ⋅╲╱ h   0       v     ⎦  ⎢                        ___   ___    ⎥⎟\n",
       "⎝                               ⎣0          0          ╲╱ g ⋅╲╱ h  + v⎦⎠"
      ]
     },
     "execution_count": 32,
     "metadata": {},
     "output_type": "execute_result"
    }
   ],
   "source": [
    "Ahat2 = simplify(L_inv*Atilde2*L_inv.T)\n",
    "Ahat2,simplify(Y2N.T*Ahat2*Y2N)"
   ]
  },
  {
   "cell_type": "code",
   "execution_count": 33,
   "metadata": {
    "collapsed": false
   },
   "outputs": [
    {
     "data": {
      "image/png": "[encoded data removed]",
      "text/latex": [
       "$$\\begin{bmatrix}\\begin{pmatrix}v, & 1, & \\begin{bmatrix}\\left[\\begin{matrix}0\\\\1\\\\0\\end{matrix}\\right]\\end{bmatrix}\\end{pmatrix}, & \\begin{pmatrix}- \\sqrt{g} \\sqrt{h} + v, & 1, & \\begin{bmatrix}\\left[\\begin{matrix}-1\\\\0\\\\1\\end{matrix}\\right]\\end{bmatrix}\\end{pmatrix}, & \\begin{pmatrix}\\sqrt{g} \\sqrt{h} + v, & 1, & \\begin{bmatrix}\\left[\\begin{matrix}1\\\\0\\\\1\\end{matrix}\\right]\\end{bmatrix}\\end{pmatrix}\\end{bmatrix}$$"
      ],
      "text/plain": [
       "⎡               ⎛    ___   ___               ⎞  ⎛  ___   ___              ⎞⎤\n",
       "⎢⎛v, 1, ⎡⎡0⎤⎤⎞, ⎜- ╲╱ g ⋅╲╱ h  + v, 1, ⎡⎡-1⎤⎤⎟, ⎜╲╱ g ⋅╲╱ h  + v, 1, ⎡⎡1⎤⎤⎟⎥\n",
       "⎢⎜      ⎢⎢ ⎥⎥⎟  ⎜                      ⎢⎢  ⎥⎥⎟  ⎜                    ⎢⎢ ⎥⎥⎟⎥\n",
       "⎢⎜      ⎢⎢1⎥⎥⎟  ⎜                      ⎢⎢0 ⎥⎥⎟  ⎜                    ⎢⎢0⎥⎥⎟⎥\n",
       "⎢⎜      ⎢⎢ ⎥⎥⎟  ⎜                      ⎢⎢  ⎥⎥⎟  ⎜                    ⎢⎢ ⎥⎥⎟⎥\n",
       "⎣⎝      ⎣⎣0⎦⎦⎠  ⎝                      ⎣⎣1 ⎦⎦⎠  ⎝                    ⎣⎣1⎦⎦⎠⎦"
      ]
     },
     "execution_count": 33,
     "metadata": {},
     "output_type": "execute_result"
    }
   ],
   "source": [
    "Ehat2 = Ahat2.eigenvects()\n",
    "Ehat2"
   ]
  },
  {
   "cell_type": "code",
   "execution_count": 34,
   "metadata": {
    "collapsed": false
   },
   "outputs": [
    {
     "data": {
      "image/png": "[encoded data removed]",
      "text/latex": [
       "$$\\begin{pmatrix}\\left[\\begin{matrix}1 & 0 & 0\\\\0 & 1 & 0\\\\0 & 0 & 1\\end{matrix}\\right], & \\left[\\begin{matrix}1 & 0 & 0\\\\0 & 1 & 0\\\\0 & 0 & 1\\end{matrix}\\right], & \\left[\\begin{matrix}0 & - \\frac{\\sqrt{2}}{2 \\sqrt{g}} & \\frac{\\sqrt{2}}{2 \\sqrt{g}}\\\\\\sqrt{h} & - \\frac{\\sqrt{2} u}{2 \\sqrt{g}} & \\frac{\\sqrt{2} u}{2 \\sqrt{g}}\\\\0 & \\frac{\\sqrt{2}}{2 \\sqrt{g}} \\left(\\sqrt{g} \\sqrt{h} - v\\right) & \\frac{\\sqrt{2}}{2 \\sqrt{g}} \\left(\\sqrt{g} \\sqrt{h} + v\\right)\\end{matrix}\\right]\\end{pmatrix}$$"
      ],
      "text/plain": [
       "⎛                      ⎡                  ___                      ___        \n",
       "⎜                      ⎢               -╲╱ 2                     ╲╱ 2         \n",
       "⎜⎡1  0  0⎤, ⎡1  0  0⎤, ⎢  0            ───────                  ───────       \n",
       "⎜⎢       ⎥  ⎢       ⎥  ⎢                   ___                      ___       \n",
       "⎜⎢0  1  0⎥  ⎢0  1  0⎥  ⎢               2⋅╲╱ g                   2⋅╲╱ g        \n",
       "⎜⎢       ⎥  ⎢       ⎥  ⎢                                                      \n",
       "⎜⎣0  0  1⎦  ⎣0  0  1⎦  ⎢                 ___                      ___         \n",
       "⎜                      ⎢  ___         -╲╱ 2 ⋅u                  ╲╱ 2 ⋅u       \n",
       "⎜                      ⎢╲╱ h          ─────────                 ───────       \n",
       "⎜                      ⎢                   ___                      ___       \n",
       "⎜                      ⎢               2⋅╲╱ g                   2⋅╲╱ g        \n",
       "⎜                      ⎢                                                      \n",
       "⎜                      ⎢         ___ ⎛  ___   ___    ⎞    ___ ⎛  ___   ___    \n",
       "⎜                      ⎢       ╲╱ 2 ⋅⎝╲╱ g ⋅╲╱ h  - v⎠  ╲╱ 2 ⋅⎝╲╱ g ⋅╲╱ h  + v\n",
       "⎜                      ⎢  0    ───────────────────────  ──────────────────────\n",
       "⎜                      ⎢                   ___                      ___       \n",
       "⎝                      ⎣               2⋅╲╱ g                   2⋅╲╱ g        \n",
       "\n",
       " ⎤⎞\n",
       " ⎥⎟\n",
       " ⎥⎟\n",
       " ⎥⎟\n",
       " ⎥⎟\n",
       " ⎥⎟\n",
       " ⎥⎟\n",
       " ⎥⎟\n",
       " ⎥⎟\n",
       " ⎥⎟\n",
       " ⎥⎟\n",
       " ⎥⎟\n",
       "⎞⎥⎟\n",
       "⎠⎥⎟\n",
       "─⎥⎟\n",
       " ⎥⎟\n",
       " ⎦⎠"
      ]
     },
     "execution_count": 34,
     "metadata": {},
     "output_type": "execute_result"
    }
   ],
   "source": [
    "Y2_tmp = Ehat2[0][2][0].row_join(Ehat2[1][2][0]/sqrt(2)).row_join(Ehat2[2][2][0]/sqrt(2))\n",
    "Psi2_tmp = L*Y2_tmp\n",
    "Y2_tmp*Y2_tmp.T,Y2_tmp.T*Y2_tmp,simplify(L*Y2_tmp)"
   ]
  },
  {
   "cell_type": "code",
   "execution_count": 35,
   "metadata": {
    "collapsed": false
   },
   "outputs": [
    {
     "data": {
      "image/png": "[encoded data removed]",
      "text/latex": [
       "$$\\begin{pmatrix}\\left[\\begin{matrix}0\\\\0\\\\0\\end{matrix}\\right], & \\left[\\begin{matrix}0\\\\0\\\\0\\end{matrix}\\right], & \\left[\\begin{matrix}0\\\\0\\\\0\\end{matrix}\\right]\\end{pmatrix}$$"
      ],
      "text/plain": [
       "⎛⎡0⎤, ⎡0⎤, ⎡0⎤⎞\n",
       "⎜⎢ ⎥  ⎢ ⎥  ⎢ ⎥⎟\n",
       "⎜⎢0⎥  ⎢0⎥  ⎢0⎥⎟\n",
       "⎜⎢ ⎥  ⎢ ⎥  ⎢ ⎥⎟\n",
       "⎝⎣0⎦  ⎣0⎦  ⎣0⎦⎠"
      ]
     },
     "execution_count": 35,
     "metadata": {},
     "output_type": "execute_result"
    }
   ],
   "source": [
    "(A2-lambda2[0]*eye(3))*Psi2_tmp[:,0],simplify((A2-lambda2[1]*eye(3))*Psi2_tmp[:,1]),simplify((A2-lambda2[2]*eye(3))*Psi2_tmp[:,2])"
   ]
  },
  {
   "cell_type": "markdown",
   "metadata": {},
   "source": [
    "#$\\tau$ calculations"
   ]
  },
  {
   "cell_type": "code",
   "execution_count": 36,
   "metadata": {
    "collapsed": false
   },
   "outputs": [],
   "source": [
    "dxi1_dx1,dxi1_dx2,dxi2_dx1,dxi2_dx2 = symbols('dxi1_dx1,dxi1_dx2,dxi2_dx1,dxi2_dx2')"
   ]
  },
  {
   "cell_type": "code",
   "execution_count": 38,
   "metadata": {
    "collapsed": false
   },
   "outputs": [],
   "source": [
    "#B = simplify(4*I/dt**2 + \n",
    "#dxi1_dx1*dxi1_dx1*A1*A1+\n",
    "#dxi1_dx1*dxi1_dx2*A1*A2+\n",
    "#dxi1_dx2*dxi1_dx2*A2*A2+\n",
    "#dxi2_dx1*dxi2_dx1*A1*A1+\n",
    "#dxi2_dx1*dxi2_dx2*A1*A2+\n",
    "#dxi2_dx2*dxi2_dx2*A2*A2)\n",
    "#B"
   ]
  },
  {
   "cell_type": "code",
   "execution_count": 39,
   "metadata": {
    "collapsed": false
   },
   "outputs": [],
   "source": [
    "#s = symbols('s',positive=true)\n",
    "#B = B.subs(u**2+v**2,s)\n",
    "#B = B.subs(sqrt(g*h),c)\n",
    "#B = B.subs(g*h,c**2)\n",
    "#B"
   ]
  }
 ],
 "metadata": {
  "kernelspec": {
   "display_name": "Python 2",
   "language": "python",
   "name": "python2"
  },
  "language_info": {
   "codemirror_mode": {
    "name": "ipython",
    "version": 2
   },
   "file_extension": ".py",
   "mimetype": "text/x-python",
   "name": "python",
   "nbconvert_exporter": "python",
   "pygments_lexer": "ipython2",
   "version": "2.7.8"
  }
 },
 "nbformat": 4,
 "nbformat_minor": 0
}
