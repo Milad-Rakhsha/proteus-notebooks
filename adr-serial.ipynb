{
 "metadata": {
  "name": "adr-serial"
 },
 "nbformat": 3,
 "worksheets": [
  {
   "cells": [
    {
     "cell_type": "markdown",
     "source": [
      "#Interactive Proteus serial example"
     ]
    },
    {
     "cell_type": "markdown",
     "source": [
      "##Load interactive Proteus module, physics, and numerics on the MPI tasks and solve problem"
     ]
    },
    {
     "cell_type": "code",
     "collapsed": false,
     "input": [
      "from proteus.iproteus import * ",
      "from proteus import default_n,default_s,default_so",
      "import ladr_2d_p,ladr_2d_n",
      "from proteus import Comm",
      "comm = Comm.get()",
      "pList = [ladr_2d_p]",
      "nList = [ladr_2d_n]",
      "so = default_so",
      "so.name = pList[0].name = \"ladr_2d\"",
      "so.sList=[default_s]",
      "so.tnList = ladr_2d_n.tnList",
      "nList[0].multilevelLinearSolver=default_n.KSP_petsc4py",
      "#opts.viewer='vtk'",
      "#viewers = Viewers.viewerOn(so.name+`comm.rank()`,opts.viewer)",
      "ns = NumericalSolution.NS_base(so,pList,nList,so.sList,opts)",
      "ns.calculateSolution('run1')",
      "x = ns.modelList[0].levelModelList[-1].mesh.nodeArray[:,0]",
      "y = ns.modelList[0].levelModelList[-1].mesh.nodeArray[:,1]",
      "triangles = ns.modelList[0].levelModelList[-1].mesh.elementNodesArray",
      "u = ns.modelList[0].levelModelList[-1].u[0].dof",
      "#if comm.isMaster():",
      "#    imageList = [window.png for window in viewers.windowDict.values()]",
      "#else:",
      "#    imageList = []"
     ],
     "language": "python",
     "outputs": [
      {
       "output_type": "stream",
       "stream": "stdout",
       "text": [
        "ladr_2d",
        "",
        "True",
        "1"
       ]
      },
      {
       "output_type": "stream",
       "stream": "stdout",
       "text": [
        " 0 1 "
       ]
      },
      {
       "output_type": "stream",
       "stream": "stdout",
       "text": [
        "ParMat_petsc4py comm.rank= 0 blockSize = 1 par_n= 1681 par_N=1681 par_nghost=0 par_jacobian.getSizes()= ((1681, 1681), (1681, 1681)) ",
        "getResidual max,index r[1640]= 3.33358940197 min,index= r[452] r= -0.0654794690695 "
       ]
      },
      {
       "output_type": "stream",
       "stream": "stdout",
       "text": [
        "",
        "getResidual max,index r[1640]= 3.3510902948 min,index= r[42] r= -0.107732071959 ",
        "getResidual max,index r[1640]= 3.35041641814 min,index= r[42] r= -0.0835764323047 "
       ]
      },
      {
       "output_type": "stream",
       "stream": "stdout",
       "text": [
        "",
        "getResidual max,index r[1640]= 3.34758452793 min,index= r[42] r= -0.0926220304993 "
       ]
      },
      {
       "output_type": "stream",
       "stream": "stdout",
       "text": [
        "",
        "getResidual max,index r[1558]= 0.0031531650138 min,index= r[1599] r= -0.00352405483163 "
       ]
      },
      {
       "output_type": "stream",
       "stream": "stdout",
       "text": [
        "",
        "getResidual max,index r[40]= 0.00606195926692 min,index= r[84] r= -0.0314021517755 ",
        "getResidual max,index r[1312]= 1.13934010105e-05 min,index= r[297] r= -2.04338725353e-05 "
       ]
      },
      {
       "output_type": "stream",
       "stream": "stdout",
       "text": [
        "",
        "getResidual max,index r[80]= 0.00133277104435 min,index= r[166] r= -0.0151892315691 "
       ]
      },
      {
       "output_type": "stream",
       "stream": "stdout",
       "text": [
        "",
        "getResidual max,index r[337]= 1.12856114104e-05 min,index= r[1610] r= -1.18045937489e-05 "
       ]
      },
      {
       "output_type": "stream",
       "stream": "stdout",
       "text": [
        "",
        "getResidual max,index r[1600]= 0.00103532505012 min,index= r[167] r= -0.0121968783361 ",
        "getResidual max,index r[1568]= 8.50495114895e-06 min,index= r[1611] r= -9.54967506557e-06 "
       ]
      },
      {
       "output_type": "stream",
       "stream": "stdout",
       "text": [
        "",
        "getResidual max,index r[37]= 0.00074954588914 min,index= r[1480] r= -0.0104076648303 "
       ]
      },
      {
       "output_type": "stream",
       "stream": "stdout",
       "text": [
        "",
        "getResidual max,index r[1568]= 1.41594570841e-05 min,index= r[1611] r= -1.89858362833e-05 "
       ]
      },
      {
       "output_type": "stream",
       "stream": "stdout",
       "text": [
        "",
        "getResidual max,index r[1518]= 0.000217442606667 min,index= r[251] r= -0.00906980979072 ",
        "getResidual max,index r[1569]= 1.20514554383e-05 min,index= r[1612] r= -1.61336058841e-05 "
       ]
      },
      {
       "output_type": "stream",
       "stream": "stdout",
       "text": [
        "",
        "getResidual max,index r[78]= 0.000105229195809 min,index= r[1523] r= -0.00822942556021 "
       ]
      },
      {
       "output_type": "stream",
       "stream": "stdout",
       "text": [
        "",
        "getResidual max,index r[1570]= 1.11779556443e-05 min,index= r[121] r= -2.34005404275e-05 "
       ]
      },
      {
       "output_type": "stream",
       "stream": "stdout",
       "text": [
        "",
        "getResidual max,index r[78]= 8.70176090983e-05 min,index= r[1524] r= -0.00758406768955 ",
        "getResidual max,index r[1571]= 1.02854080379e-05 min,index= r[121] r= -2.85252861993e-05 "
       ]
      },
      {
       "output_type": "stream",
       "stream": "stdout",
       "text": [
        "",
        "getResidual max,index r[77]= 7.35361583204e-05 min,index= r[1525] r= -0.00710941385531 "
       ]
      },
      {
       "output_type": "stream",
       "stream": "stdout",
       "text": [
        "",
        "getResidual max,index r[1572]= 9.70204832923e-06 min,index= r[162] r= -2.79597688672e-05 "
       ]
      },
      {
       "output_type": "stream",
       "stream": "stdout",
       "text": [
        "",
        "getResidual max,index r[35]= 1.0212800552e-05 min,index= r[1526] r= -0.00676154947029 ",
        "getResidual max,index r[1573]= 9.19309102913e-06 min,index= r[162] r= -3.19096248822e-05 "
       ]
      },
      {
       "output_type": "stream",
       "stream": "stdout",
       "text": [
        "",
        "getResidual max,index r[35]= 3.54806107196e-05 min,index= r[1527] r= -0.00643005939004 "
       ]
      },
      {
       "output_type": "stream",
       "stream": "stdout",
       "text": [
        "",
        "getResidual max,index r[1574]= 8.51141223673e-06 min,index= r[203] r= -2.77792222173e-05 "
       ]
      },
      {
       "output_type": "stream",
       "stream": "stdout",
       "text": [
        "",
        "getResidual max,index r[34]= 5.85413945446e-06 min,index= r[1528] r= -0.00609343908157 ",
        "getResidual max,index r[1575]= 8.09312414185e-06 min,index= r[203] r= -3.10628459304e-05 "
       ]
      },
      {
       "output_type": "stream",
       "stream": "stdout",
       "text": [
        "",
        "getResidual max,index r[75]= 1.03326793994e-05 min,index= r[1529] r= -0.00581142421403 "
       ]
      },
      {
       "output_type": "stream",
       "stream": "stdout",
       "text": [
        "",
        "getResidual max,index r[1576]= 7.65013661604e-06 min,index= r[203] r= -2.72262694217e-05 "
       ]
      },
      {
       "output_type": "stream",
       "stream": "stdout",
       "text": [
        "",
        "getResidual max,index r[75]= 1.5300188734e-05 min,index= r[1530] r= -0.0055657257281 ",
        "getResidual max,index r[1577]= 7.08393931683e-06 min,index= r[202] r= -2.93470638009e-05 "
       ]
      },
      {
       "output_type": "stream",
       "stream": "stdout",
       "text": [
        "",
        "getResidual max,index r[1476]= 1.09606311499e-06 min,index= r[1490] r= -0.00536174788161 "
       ]
      },
      {
       "output_type": "stream",
       "stream": "stdout",
       "text": [
        "",
        "getResidual max,index r[1578]= 6.51997224546e-06 min,index= r[202] r= -2.63430889201e-05 "
       ]
      },
      {
       "output_type": "stream",
       "stream": "stdout",
       "text": [
        "",
        "getResidual max,index r[116]= 7.83456891912e-06 min,index= r[1491] r= -0.00517354467298 ",
        "getResidual max,index r[1579]= 5.97970272984e-06 min,index= r[243] r= -2.80609511474e-05 "
       ]
      },
      {
       "output_type": "stream",
       "stream": "stdout",
       "text": [
        "",
        "getResidual max,index r[31]= 1.59111275011e-06 min,index= r[1492] r= -0.00499440655356 "
       ]
      },
      {
       "output_type": "stream",
       "stream": "stdout",
       "text": [
        "",
        "getResidual max,index r[1657]= 5.85189276684e-06 min,index= r[243] r= -2.63095305594e-05 "
       ]
      },
      {
       "output_type": "stream",
       "stream": "stdout",
       "text": [
        "",
        "getResidual max,index r[73]= 8.92535873653e-07 min,index= r[1493] r= -0.00483168625633 ",
        "getResidual max,index r[1658]= 5.27258500826e-06 min,index= r[284] r= -2.68347987398e-05 "
       ]
      },
      {
       "output_type": "stream",
       "stream": "stdout",
       "text": [
        "",
        "getResidual max,index r[73]= 1.47690339966e-06 min,index= r[1494] r= -0.00467133902165 "
       ]
      },
      {
       "output_type": "stream",
       "stream": "stdout",
       "text": [
        "",
        "getResidual max,index r[531]= 5.53829106226e-06 min,index= r[284] r= -2.57236382125e-05 "
       ]
      },
      {
       "output_type": "stream",
       "stream": "stdout",
       "text": [
        "",
        "getResidual max,index r[72]= 7.39141706669e-07 min,index= r[1495] r= -0.00452895991068 ",
        "getResidual max,index r[531]= 1.01187890866e-05 min,index= r[326] r= -4.6320603401e-05 "
       ]
      },
      {
       "output_type": "stream",
       "stream": "stdout",
       "text": [
        ""
       ]
      }
     ],
     "prompt_number": 5
    },
    {
     "cell_type": "markdown",
     "source": [
      "##Combine subdomain solutions and plot"
     ]
    },
    {
     "cell_type": "code",
     "collapsed": false,
     "input": [
      "tricontourf(x,y,triangles,u)"
     ],
     "language": "python",
     "outputs": [
      {
       "output_type": "pyout",
       "prompt_number": 6,
       "text": [
        "<matplotlib.tri.tricontour.TriContourSet instance at 0x54b2b48>"
       ]
      },
      {
       "output_type": "display_data",
       "png": "[encoded data removed]"
      }
     ],
     "prompt_number": 6
    },
    {
     "cell_type": "code",
     "collapsed": false,
     "input": [
      "#png = view['imageList'][12][0]",
      "#print png"
     ],
     "language": "python",
     "outputs": [],
     "prompt_number": 7
    },
    {
     "cell_type": "code",
     "collapsed": false,
     "input": [
      "#from IPython.core.display import Image",
      "#Image(png,embed=True)"
     ],
     "language": "python",
     "outputs": [],
     "prompt_number": 8
    },
    {
     "cell_type": "code",
     "collapsed": true,
     "input": [],
     "language": "python",
     "outputs": [],
     "prompt_number": 8
    }
   ]
  }
 ]
}