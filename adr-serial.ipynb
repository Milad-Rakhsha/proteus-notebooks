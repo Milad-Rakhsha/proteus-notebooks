{
 "metadata": {
  "name": "adr-serial"
 },
 "nbformat": 3,
 "worksheets": [
  {
   "cells": [
    {
     "cell_type": "markdown",
     "source": [
      "#Interactive Proteus serial example"
     ]
    },
    {
     "cell_type": "markdown",
     "source": [
      "##Load interactive Proteus module, physics, and numerics on the MPI tasks and solve problem"
     ]
    },
    {
     "cell_type": "code",
     "collapsed": false,
     "input": [
      "from proteus.iproteus import * ",
      "from proteus import default_n,default_s,default_so",
      "import ladr_2d_p,ladr_2d_n",
      "from proteus import Comm",
      "comm = Comm.get()",
      "pList = [ladr_2d_p]",
      "nList = [ladr_2d_n]",
      "so = default_so",
      "so.name = pList[0].name = \"ladr_2d\"",
      "so.sList=[default_s]",
      "so.tnList = ladr_2d_n.tnList",
      "nList[0].multilevelLinearSolver=default_n.KSP_petsc4py",
      "#opts.viewer='vtk'",
      "#viewers = Viewers.viewerOn(so.name+`comm.rank()`,opts.viewer)",
      "ns = NumericalSolution.NS_base(so,pList,nList,so.sList,opts)",
      "ns.calculateSolution('run1')",
      "x = ns.modelList[0].levelModelList[-1].mesh.nodeArray[:,0]",
      "y = ns.modelList[0].levelModelList[-1].mesh.nodeArray[:,1]",
      "triangles = ns.modelList[0].levelModelList[-1].mesh.elementNodesArray",
      "u = ns.modelList[0].levelModelList[-1].u[0].dof",
      "#if comm.isMaster():",
      "#    imageList = [window.png for window in viewers.windowDict.values()]",
      "#else:",
      "#    imageList = []"
     ],
     "language": "python",
     "outputs": [
      {
       "output_type": "stream",
       "stream": "stdout",
       "text": [
        "ladr_2d",
        "",
        "True",
        "1"
       ]
      },
      {
       "output_type": "stream",
       "stream": "stdout",
       "text": [
        " 0 1",
        ""
       ]
      }
     ],
     "prompt_number": 22
    },
    {
     "cell_type": "markdown",
     "source": [
      "##Combine subdomain solutions and plot"
     ]
    },
    {
     "cell_type": "code",
     "collapsed": false,
     "input": [
      "tricontourf(x,y,triangles,u)"
     ],
     "language": "python",
     "outputs": [
      {
       "output_type": "pyout",
       "prompt_number": 23,
       "text": [
        "<matplotlib.tri.tricontour.TriContourSet instance at 0x4b520e0>"
       ]
      },
      {
       "output_type": "display_data",
       "png": "[encoded data removed]"
      }
     ],
     "prompt_number": 23
    },
    {
     "cell_type": "code",
     "collapsed": false,
     "input": [
      "#png = view['imageList'][12][0]",
      "#print png"
     ],
     "language": "python",
     "outputs": [],
     "prompt_number": 24
    },
    {
     "cell_type": "code",
     "collapsed": false,
     "input": [
      "#from IPython.core.display import Image",
      "#Image(png,embed=True)"
     ],
     "language": "python",
     "outputs": [],
     "prompt_number": 25
    },
    {
     "cell_type": "code",
     "collapsed": true,
     "input": [
      ""
     ],
     "language": "python",
     "outputs": [],
     "prompt_number": 25
    }
   ]
  }
 ]
}