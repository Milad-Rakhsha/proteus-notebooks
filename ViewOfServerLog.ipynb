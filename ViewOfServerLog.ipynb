{
 "cells": [
  {
   "cell_type": "code",
   "execution_count": 1,
   "metadata": {
    "collapsed": false
   },
   "outputs": [
    {
     "data": {
      "text/plain": [
       "['nohup: ignoring input\\n',\n",
       " \"[NotebookApp] Using existing profile dir: u'/home/sageserver/.ipython/profile_nbserver'\\n\",\n",
       " '[NotebookApp] Using MathJax from CDN\\n',\n",
       " '[NotebookApp] Using MathJax: https://d3eoax9i5htok0.cloudfront.net/mathjax/latest/MathJax.js?config=TeX-AMS-MML_HTMLorMML\\n',\n",
       " '[NotebookApp] The IPython Notebook is running at: https://[all ip addresses on your system]:8000/\\n',\n",
       " '[NotebookApp] Use Control-C to stop this server and shut down all kernels.\\n',\n",
       " \"WARNING:root:Invalid cookie signature 'MTliZGQyZWYtYjQ5NC00YTFlLThmYzItNTg5ODBhMzRhODZh|1330702293|b7719fab926651f4c5d9328ed1bcd4216a8f0af8'\\n\",\n",
       " '[NotebookApp] Kernel started: 6b1e5235-ebca-451e-8804-943e6bfd82a6\\n',\n",
       " '[IPKernelApp] To connect another client to this kernel, use:\\n',\n",
       " '[IPKernelApp] --existing kernel-6b1e5235-ebca-451e-8804-943e6bfd82a6.json --profile nbserver\\n',\n",
       " '[NotebookApp] Connecting to: tcp://127.0.0.1:60302\\n',\n",
       " '[NotebookApp] Connecting to: tcp://127.0.0.1:46457\\n',\n",
       " '[NotebookApp] Connecting to: tcp://127.0.0.1:41032\\n']"
      ]
     },
     "execution_count": 1,
     "metadata": {},
     "output_type": "execute_result"
    }
   ],
   "source": [
    "log = open(\"ipynb.out\",\"r\").readlines()\n",
    "log[-100:]"
   ]
  },
  {
   "cell_type": "code",
   "execution_count": null,
   "metadata": {
    "collapsed": true
   },
   "outputs": [],
   "source": []
  }
 ],
 "metadata": {
  "kernelspec": {
   "display_name": "Python 2",
   "language": "python",
   "name": "python2"
  },
  "language_info": {
   "codemirror_mode": {
    "name": "ipython",
    "version": 2
   },
   "file_extension": ".py",
   "mimetype": "text/x-python",
   "name": "python",
   "nbconvert_exporter": "python",
   "pygments_lexer": "ipython2",
   "version": "2.7.9"
  }
 },
 "nbformat": 4,
 "nbformat_minor": 0
}
