{
 "metadata": {
  "name": "ViewOfServerLog"
 },
 "nbformat": 3,
 "worksheets": [
  {
   "cells": [
    {
     "cell_type": "code",
     "collapsed": false,
     "input": [
      "log = open(\"ipynb.out\",\"r\").readlines()",
      "log[-100:]"
     ],
     "language": "python",
     "outputs": [
      {
       "output_type": "pyout",
       "prompt_number": 1,
       "text": [
        "['nohup: ignoring input\\n',",
        " \"[NotebookApp] Using existing profile dir: u'/home/sageserver/.ipython/profile_nbserver'\\n\",",
        " '[NotebookApp] Using MathJax from CDN\\n',",
        " '[NotebookApp] Using MathJax: https://d3eoax9i5htok0.cloudfront.net/mathjax/latest/MathJax.js?config=TeX-AMS-MML_HTMLorMML\\n',",
        " '[NotebookApp] The IPython Notebook is running at: https://[all ip addresses on your system]:8000/\\n',",
        " '[NotebookApp] Use Control-C to stop this server and shut down all kernels.\\n',",
        " \"WARNING:root:Invalid cookie signature 'MTliZGQyZWYtYjQ5NC00YTFlLThmYzItNTg5ODBhMzRhODZh|1330702293|b7719fab926651f4c5d9328ed1bcd4216a8f0af8'\\n\",",
        " '[NotebookApp] Kernel started: 6b1e5235-ebca-451e-8804-943e6bfd82a6\\n',",
        " '[IPKernelApp] To connect another client to this kernel, use:\\n',",
        " '[IPKernelApp] --existing kernel-6b1e5235-ebca-451e-8804-943e6bfd82a6.json --profile nbserver\\n',",
        " '[NotebookApp] Connecting to: tcp://127.0.0.1:60302\\n',",
        " '[NotebookApp] Connecting to: tcp://127.0.0.1:46457\\n',",
        " '[NotebookApp] Connecting to: tcp://127.0.0.1:41032\\n']"
       ]
      }
     ],
     "prompt_number": 1
    },
    {
     "cell_type": "code",
     "collapsed": true,
     "input": [],
     "language": "python",
     "outputs": []
    }
   ]
  }
 ]
}