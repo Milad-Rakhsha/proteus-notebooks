{
 "metadata": {
  "name": "",
  "signature": "sha256:52be3af48689efd947c5d1780e9de0912f75849fd435b5049a15437e1954a7d4"
 },
 "nbformat": 3,
 "nbformat_minor": 0,
 "worksheets": [
  {
   "cells": [
    {
     "cell_type": "markdown",
     "metadata": {
      "slideshow": {
       "slide_type": "slide"
      }
     },
     "source": [
      "# Setting tolerances\n",
      "The purpose of this notebook is to highlight some of the input variables that affect the algebraic solvers. \n",
      "\n",
      "The notebook covers the following\n",
      "- Defining a nonlinear PDE\n",
      "- Defining the initial-boundary value problem\n",
      "- How to choose a particular set of numerics\n",
      "- How to set the solver tolerances\n",
      "- How to post-process the solution\n",
      "- Three example runs\n",
      "  - tight tolerances that achieve quadratic  convergence in the Newton iteration\n",
      "  - looselinear tolerances that reduce Newton convergnce to linear\n",
      "  - very tight linear tolerances  that result in too many  linear iterations"
     ]
    },
    {
     "cell_type": "code",
     "collapsed": true,
     "input": [
      "%matplotlib inline\n",
      "from proteus.iproteus import * \n",
      "Profiling.logLevel=7\n",
      "Profiling.verbose=True"
     ],
     "language": "python",
     "metadata": {
      "slideshow": {
       "slide_type": "subslide"
      }
     },
     "outputs": []
    },
    {
     "cell_type": "markdown",
     "metadata": {
      "slideshow": {
       "slide_type": "slide"
      }
     },
     "source": [
      "# Defining an equation\n",
      "The equation we want to solve is\n",
      "\\begin{equation*}\n",
      "m_t + \\nabla \\cdot \\left(\\mathbf{f} - \\mathbf{a} \\nabla u \\right) = 0\n",
      "\\end{equation*}\n",
      "where $u$ is the unknown solution and the coefficients have the specific  forms\n",
      "\\begin{align}\n",
      "m(u) &= M u^p \\\\\n",
      "f(u) &= \\mathbf{B} u^q \\\\\n",
      "a(u) &= \\mathbf{A} \\\\\n",
      "\\phi(u) &= u^r \\\\\n",
      "r(u) & = C u \\\\\n",
      "\\end{align}"
     ]
    },
    {
     "cell_type": "markdown",
     "metadata": {
      "slideshow": {
       "slide_type": "fragment"
      }
     },
     "source": [
      "# Proteus template equation\n",
      "\\begin{equation}\n",
      "\\mathbf{u} = \\left[ u^0,u^1,\\ldots,u^{nc-1} \\right]\n",
      "\\end{equation}\n",
      "\\begin{equation*}\n",
      "m^i_t + \\nabla \\cdot \\left(\\mathbf{f}^i - \\sum_k^{nc-1} \\mathbf{a}^{i,k} \\nabla \\phi^k(\\mathbf{u}) \\right) + r^i + H^i(\\nabla u^i)= 0 \\qquad \\mbox{for } i=0,\\ldots,nc-1\n",
      "\\end{equation*}\n",
      "\n",
      "- $m$ is \"mass\"\n",
      "- $\\mathbf{f}$ is advection\n",
      "- $\\mathbf{a}$ is diffution\n",
      "- $\\phi$ is potential\n",
      "- $H$ is Hamiltonian\n",
      "- $r$ is reaction\n",
      "\n",
      "Example: non-conservative advection\n",
      "\\begin{equation}\n",
      "u_t + \\mathbf{v} \\cdot \\nabla u = 0\n",
      "\\end{equation}\n",
      "\n",
      "What is $m$?\n",
      "What is $f$?\n",
      "What is $H$?"
     ]
    },
    {
     "cell_type": "code",
     "collapsed": false,
     "input": [
      "class NLADR(TransportCoefficients.TC_base):\n",
      "    \"\"\"\n",
      "    The coefficients of the linear advection-diffusion equation\n",
      "    \"\"\"\n",
      "    def __init__(self,M,A,B,C,p,q,r):\n",
      "        TransportCoefficients.TC_base.__init__(self,\n",
      "                                               nc=1, #number of components\n",
      "                                               variableNames=['u'],\n",
      "                                               mass      = {0:{0:'nonlinear'}},\n",
      "                                               advection = {0:{0:'nonlinear'}},\n",
      "                                               diffusion = {0:{0:{0:'constant'}}},\n",
      "                                               potential = {0:{0:'nonlinear'}},\n",
      "                                               reaction  = {0:{0:'linear'}})\n",
      "                                            \n",
      "        self.M=M\n",
      "        self.A=A\n",
      "        self.B=B\n",
      "        self.C=C\n",
      "        self.p=p\n",
      "        self.q=q\n",
      "        self.r=r\n",
      "    def evaluate(self,t,c):\n",
      "        c[('m',0)][:]         = self.M*c[('u',0)]**self.p  \n",
      "        c[('dm',0,0)][:]      = self.M*self.p*c[('u',0)]**(self.p-1)\n",
      "        c[('f',0)][...,0]     = self.B[0]*c[('u',0)]**self.q\n",
      "        c[('f',0)][...,1]     = self.B[1]*c[('u',0)]**self.q\n",
      "        c[('df',0,0)][...,0]  = self.B[0]*self.q*c[('u',0)]**(self.q-1)\n",
      "        c[('df',0,0)][...,1]  = self.B[1]*self.q*c[('u',0)]**(self.q-1)\n",
      "        c[('a',0,0)][...,0,0] = self.A[0][0]\n",
      "        c[('a',0,0)][...,1,1] = self.A[1][1]\n",
      "        c[('phi',0)][:] = c[('u',0)]**self.r\n",
      "        c[('dphi',0,0)][:] = self.r*c[('u',0)]**(self.r-1)\n",
      "        c[('r',0)][:]         = self.C*c[('u',0)]  \n",
      "        c[('dr',0,0)][:]      = self.C\n"
     ],
     "language": "python",
     "metadata": {
      "slideshow": {
       "slide_type": "slide"
      }
     },
     "outputs": []
    },
    {
     "cell_type": "heading",
     "level": 1,
     "metadata": {
      "slideshow": {
       "slide_type": "slide"
      }
     },
     "source": [
      "Physics"
     ]
    },
    {
     "cell_type": "code",
     "collapsed": false,
     "input": [
      "from proteus import default_p as p\n",
      "#physics\n",
      "p.name = \"nladr_2d\"\n",
      "p.nd = 2; #Two dimensions\n",
      "p.L=(1.0,1.0); \n",
      "p.T=1.0\n",
      "\n",
      "p.coefficients=NLADR(M=1.0,\n",
      "                    A=[[0.001,0.0],\n",
      "                       [0.0,0.001]],\n",
      "                    B=[2.0,1.0],\n",
      "                    C=0.0,\n",
      "                    p=1,\n",
      "                    q=2,\n",
      "                    r=2)\n",
      "\n",
      "def getDBC(x,flag):\n",
      "    if x[0] == 0.0 or x[1] == 0.0:\n",
      "        return lambda x,t: 1.0\n",
      "    #elif x[0] == p.L[0] or x[1] == p.L[1]:\n",
      "    #    return lambda x,t: 0.0\n",
      "    else:\n",
      "        return None\n",
      "    \n",
      "p.dirichletConditions = {0:getDBC}\n",
      "p.advectiveFluxBoundaryConditions = {}\n",
      "\n",
      "def getDFBC(x,flag):\n",
      "    if x[0] == p.L[0] or x[1] == p.L[1]:\n",
      "        return lambda x,t: 0.0\n",
      "\n",
      "p.diffusiveFluxBoundaryConditions = {0:{0:getDFBC}}\n",
      "p.periodicDirichletConditions = None\n",
      "class IC:\n",
      "    def __init__(self):\n",
      "        pass\n",
      "    def uOfXT(self,x,t):\n",
      "        if x[0] <= 0.0 or x[1] <= 0.0:\n",
      "            return 1.0\n",
      "        else:\n",
      "            return 0.0\n",
      "\n",
      "p.initialConditions  = {0:IC()}"
     ],
     "language": "python",
     "metadata": {
      "slideshow": {
       "slide_type": "fragment"
      }
     },
     "outputs": []
    },
    {
     "cell_type": "heading",
     "level": 1,
     "metadata": {
      "slideshow": {
       "slide_type": "slide"
      }
     },
     "source": [
      "Numerics"
     ]
    },
    {
     "cell_type": "code",
     "collapsed": false,
     "input": [
      "from proteus import default_n as n\n",
      "import proteus as pr\n",
      "n.timeIntegration = pr.TimeIntegration.BackwardEuler_cfl\n",
      "n.stepController = pr.StepControl.Min_dt_cfl_controller\n",
      "n.runCFL=0.99\n",
      "n.femSpaces = {0:pr.FemTools.C0_AffineLinearOnSimplexWithNodalBasis}\n",
      "n.elementQuadrature = pr.Quadrature.SimplexGaussQuadrature(p.nd,3)\n",
      "n.elementBoundaryQuadrature = pr.Quadrature.SimplexGaussQuadrature(p.nd-1,3)\n",
      "n.subgridError = pr.SubgridError.AdvectionDiffusionReaction_ASGS(p.coefficients,\n",
      "                                                                 p.nd,lag=False)\n",
      "n.shockCapturing = pr.ShockCapturing.ResGradQuad_SC(p.coefficients,\n",
      "                                                            p.nd,\n",
      "                                                            shockCapturingFactor=0.75,\n",
      "                                                            lag=True)\n",
      "n.numericalFluxType = pr.NumericalFlux.Advection_DiagonalUpwind_Diffusion_SIPG_exterior\n",
      "n.nnx=41; n.nny=41\n",
      "n.tnList=[float(i)/40.0 for i in range(11)]\n",
      "n.parallelPartitioningType = pr.MeshTools.MeshParallelPartitioningTypes.element\n",
      "n.nLayersOfOverlapForParallel = 1\n",
      "n.periodicDirichletConditions = None"
     ],
     "language": "python",
     "metadata": {
      "slideshow": {
       "slide_type": "fragment"
      }
     },
     "outputs": []
    },
    {
     "cell_type": "markdown",
     "metadata": {},
     "source": [
      "#Nonlinear solver selection"
     ]
    },
    {
     "cell_type": "code",
     "collapsed": false,
     "input": [
      "n.multilevelNonlinearSolver = pr.NonlinearSolvers.Newton\n",
      "n.maxLineSearches=0\n",
      "#convergence criteria\n",
      "n.maxNonlinearIts=50\n",
      "n.tolFac = 0.0\n",
      "n.nl_atol_res=1.0e-4"
     ],
     "language": "python",
     "metadata": {},
     "outputs": []
    },
    {
     "cell_type": "markdown",
     "metadata": {},
     "source": [
      "#Linear solver selection"
     ]
    },
    {
     "cell_type": "code",
     "collapsed": false,
     "input": [
      "n.matrix = pr.LinearAlgebraTools.SparseMatrix\n",
      "n.multilevelLinearSolver = pr.LinearSolvers.KSP_petsc4py\n",
      "# PETSc solver configuration\n",
      "from petsc4py import PETSc\n",
      "OptDB = PETSc.Options()\n",
      "OptDB.setValue(\"ksp_type\", \"gmres\")\n",
      "OptDB.setValue(\"pc_type\", \"jacobi\")\n",
      "# convergence criteria\n",
      "n.linearSolverConvergenceTest = 'r-true'\n",
      "n.linTolFac = 0.001\n",
      "n.l_atol_res = 0.001*n.nl_atol_res"
     ],
     "language": "python",
     "metadata": {},
     "outputs": []
    },
    {
     "cell_type": "heading",
     "level": 1,
     "metadata": {
      "slideshow": {
       "slide_type": "slide"
      }
     },
     "source": [
      "Operator Splitting"
     ]
    },
    {
     "cell_type": "code",
     "collapsed": false,
     "input": [
      "from proteus import default_s,default_so\n",
      "so = default_so\n",
      "so.name = p.name \n",
      "so.sList=[default_s]\n",
      "so.tnList = n.tnList"
     ],
     "language": "python",
     "metadata": {
      "slideshow": {
       "slide_type": "fragment"
      }
     },
     "outputs": []
    },
    {
     "cell_type": "heading",
     "level": 1,
     "metadata": {
      "slideshow": {
       "slide_type": "slide"
      }
     },
     "source": [
      "Initialize Numerical Solution Object"
     ]
    },
    {
     "cell_type": "code",
     "collapsed": false,
     "input": [
      "ns = NumericalSolution.NS_base(so,[p],[n],so.sList,opts)"
     ],
     "language": "python",
     "metadata": {
      "slideshow": {
       "slide_type": "fragment"
      }
     },
     "outputs": []
    },
    {
     "cell_type": "heading",
     "level": 1,
     "metadata": {
      "slideshow": {
       "slide_type": "slide"
      }
     },
     "source": [
      "Calculate Solution"
     ]
    },
    {
     "cell_type": "code",
     "collapsed": false,
     "input": [
      "failed = ns.calculateSolution('nladr_run1')\n",
      "assert(not failed)"
     ],
     "language": "python",
     "metadata": {
      "slideshow": {
       "slide_type": "fragment"
      }
     },
     "outputs": []
    },
    {
     "cell_type": "code",
     "collapsed": false,
     "input": [
      "import pylab\n",
      "x = ns.modelList[0].levelModelList[-1].mesh.nodeArray[:,0]\n",
      "y = ns.modelList[0].levelModelList[-1].mesh.nodeArray[:,1]\n",
      "triangles = ns.modelList[0].levelModelList[-1].mesh.elementNodesArray\n",
      "u = ns.modelList[0].levelModelList[-1].u[0].dof\n",
      "pylab.tricontourf(x,y,triangles,u)\n",
      "pylab.colorbar()\n",
      "pylab.show()\n",
      "u.min(),u.max()"
     ],
     "language": "python",
     "metadata": {
      "slideshow": {
       "slide_type": "slide"
      }
     },
     "outputs": []
    },
    {
     "cell_type": "code",
     "collapsed": false,
     "input": [
      "n.linTolFac = 0.9\n",
      "ns_lin = NumericalSolution.NS_base(so,[p],[n],so.sList,opts)\n",
      "failed = ns_lin.calculateSolution('nladr_lin')\n",
      "assert(not failed)"
     ],
     "language": "python",
     "metadata": {},
     "outputs": []
    },
    {
     "cell_type": "code",
     "collapsed": false,
     "input": [
      "u = ns_lin.modelList[0].levelModelList[-1].u[0].dof\n",
      "pylab.tricontourf(x,y,triangles,u)\n",
      "pylab.colorbar()\n",
      "pylab.show()\n",
      "u.min(),u.max()"
     ],
     "language": "python",
     "metadata": {},
     "outputs": []
    },
    {
     "cell_type": "code",
     "collapsed": false,
     "input": [
      "n.linTolFac = 0.0\n",
      "ns_quad_over = NumericalSolution.NS_base(so,[p],[n],so.sList,opts)\n",
      "failed = ns_quad_over.calculateSolution('nladr_quad_over')\n",
      "assert(not failed)"
     ],
     "language": "python",
     "metadata": {},
     "outputs": []
    },
    {
     "cell_type": "code",
     "collapsed": false,
     "input": [
      "u = ns_quad_over.modelList[0].levelModelList[-1].u[0].dof\n",
      "pylab.tricontourf(x,y,triangles,u)\n",
      "pylab.colorbar()\n",
      "pylab.show()\n",
      "u.min(),u.max()"
     ],
     "language": "python",
     "metadata": {},
     "outputs": []
    }
   ],
   "metadata": {}
  }
 ]
}