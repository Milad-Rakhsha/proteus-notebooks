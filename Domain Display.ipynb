{
 "cells": [
  {
   "cell_type": "markdown",
   "metadata": {},
   "source": [
    "Load javascript libraries\n",
    "===========================\n",
    "**loading three.js and some three.js example code -- git clone git://github.com/mrdoob/three.js.git in your notebook directory**\n",
    "**loading d3.js -- git clone git://github.com/mbostock/d3.git**"
   ]
  },
  {
   "cell_type": "code",
   "execution_count": 1,
   "metadata": {
    "collapsed": false
   },
   "outputs": [
    {
     "data": {
      "text/html": [
       "<script type=\"text/javascript\" src=\"files/three.js/build/three.js\"></script>\n",
       "<script type=\"text/javascript\" src=\"files/three.js/examples/js/controls/TrackballControls.js\"></script>\n",
       "<script type=\"text/javascript\" src=\"files/d3/d3.v2.js\"></script>"
      ],
      "text/plain": [
       "<IPython.core.display.HTML object>"
      ]
     },
     "metadata": {},
     "output_type": "display_data"
    }
   ],
   "source": [
    "%%html\n",
    "<script type=\"text/javascript\" src=\"files/three.js/build/three.js\"></script>\n",
    "<script type=\"text/javascript\" src=\"files/three.js/examples/js/controls/TrackballControls.js\"></script>\n",
    "<script type=\"text/javascript\" src=\"files/d3/d3.v2.js\"></script>"
   ]
  },
  {
   "cell_type": "markdown",
   "metadata": {},
   "source": [
    "**defining a toy \"proteus.js\" widget library**"
   ]
  },
  {
   "cell_type": "code",
   "execution_count": 2,
   "metadata": {
    "collapsed": false
   },
   "outputs": [
    {
     "data": {
      "text/html": [
       "<script type=\"text/javascript\">\n",
       "    // define the widgets\n",
       "    \n",
       "    //first the raw plotting stuff using a plotObject read from a JSON message\n",
       "\n",
       "    //2D is just a dummy implementation right now--need to use the plotObject\n",
       "    plot_rectangularDomain_2d = function(plotObject)\n",
       "        {\n",
       "            this.element.append(\"<div id='mydiv'></div>\")\n",
       "            var rectDemo = d3.select(\"#mydiv\")\n",
       "                .append(\"svg\")\n",
       "                .attr(\"width\", 400)\n",
       "                .attr(\"height\", 400);\n",
       "            rectDemo.append(\"rect\")\n",
       "                .style(\"stroke\", \"red\")\n",
       "                .style(\"fill\", \"white\")\n",
       "                .attr(\"x\",25)\n",
       "                .attr(\"y\",25)\n",
       "                .attr(\"width\",350)\n",
       "                .attr(\"height\", 350)\n",
       "                .on(\"mouseover\", function(){d3.select(this).style(\"fill\", \"red\");})\n",
       "                .on(\"mouseout\", function(){d3.select(this).style(\"fill\", \"white\");});\n",
       "            $(\".container\").show();\n",
       "        }\n",
       "        //3D plots a cube and allows animation, etc.\n",
       "    plot_rectangularDomain_3d = function(plotObject)\n",
       "        {\n",
       "            var renderer, scene, camera, light,controls;\n",
       "            mycanvas = document.getElementById(\"canvas_\"+plotObject.objectName+\"_\"+plotObject.widgetNumber);\n",
       "            renderer = new THREE.WebGLRenderer({'canvas':document.getElementById(\"canvas_\"+plotObject.objectName+\"_\"+plotObject.widgetNumber)});\n",
       "            scene = new THREE.Scene();\n",
       "            camera = new THREE.PerspectiveCamera(\n",
       "                                                35,             // Field of view\n",
       "                                                800 / 600,      // Aspect ratio\n",
       "                                                0.1,            // Near plane\n",
       "                                                10000           // Far plane\n",
       "                                            );\n",
       "            camera.position.set( -15, 10, 10 );\n",
       "            camera.lookAt( scene.position );\n",
       "            scene.add( camera );\n",
       "            var cubeMaterialArray = [];\n",
       "            // order to add materials: x+,x-,y+,y-,z+,z-\n",
       "            cubeMaterialArray.push( new THREE.MeshBasicMaterial( { color: 0xff3333 } ) );\n",
       "            cubeMaterialArray.push( new THREE.MeshBasicMaterial( { color: 0xff8800 } ) );\n",
       "            cubeMaterialArray.push( new THREE.MeshBasicMaterial( { color: 0xffff33 } ) );\n",
       "            cubeMaterialArray.push( new THREE.MeshBasicMaterial( { color: 0x33ff33 } ) );\n",
       "            cubeMaterialArray.push( new THREE.MeshBasicMaterial( { color: 0x3333ff } ) );\n",
       "            cubeMaterialArray.push( new THREE.MeshBasicMaterial( { color: 0x8833ff } ) );\n",
       "            var cube = new THREE.Mesh(\n",
       "                new THREE.CubeGeometry(plotObject.L[0], plotObject.L[1], plotObject.L[2], 0, 0, 0,cubeMaterialArray),\n",
       "                new THREE.MeshFaceMaterial()\n",
       "                                        );\n",
       "            scene.add( cube );\n",
       "            light = new THREE.AmbientLight( 0xF00000 );\n",
       "            scene.add( light );    \n",
       "            controls = new THREE.TrackballControls( camera,mycanvas );\n",
       "            controls.rotateSpeed = 1.0;\n",
       "            controls.zoomSpeed = 0.1;\n",
       "            controls.panSpeed = 0.8;\n",
       "            renderer.render( scene, camera );\n",
       "            function animate()\n",
       "            {\n",
       "                requestAnimationFrame(animate);\n",
       "                controls.update();\n",
       "                renderer.render(scene,camera)\n",
       "            }\n",
       "            animate();\n",
       "        };\n",
       "    //initialize the slider values \n",
       "    init_rectangularDomain = function(Lx,Ly,Lz,objectName,widgetNumber)\n",
       "        {\n",
       "            console.log(\"init_rectangularDomain\");\n",
       "             \n",
       "                console.log(objectName);\n",
       "                console.log(widgetNumber);\n",
       "                console.log(Lx);console.log(Ly);console.log(Lz);\n",
       "                $('div#Lx_slider_'+objectName+'_'+widgetNumber).slider(\n",
       "                {\n",
       "                    min : 0,\n",
       "                    max : 100,\n",
       "                    value : Lx,\n",
       "                    slide : request_update,\n",
       "                    change: request_update\n",
       "                }\n",
       "                );\n",
       "                $('div#Ly_slider_'+objectName+'_'+widgetNumber).slider(\n",
       "                {\n",
       "                    min : 0,\n",
       "                    max : 100,\n",
       "                    value : Ly,\n",
       "                    slide : request_update,\n",
       "                    change: request_update\n",
       "                }\n",
       "                );\n",
       "                $('div#Lz_slider_'+objectName+'_'+widgetNumber).slider(\n",
       "                {\n",
       "                    min : 0,\n",
       "                    max : 100,\n",
       "                    value : Lz,\n",
       "                    slide : request_update,\n",
       "                    change: request_update\n",
       "                }\n",
       "                );\n",
       "\n",
       "             \n",
       "                $('span#Lx_label_'+objectName+'_'+widgetNumber).text(\"Lx = \" + Lx);\n",
       "\n",
       "                \n",
       "                $('span#Ly_label_'+objectName+'_'+widgetNumber).text(\"Ly = \" + Ly);\n",
       "\n",
       "                \n",
       "                $('span#Lz_label_'+objectName+'_'+widgetNumber).text(\"Lz = \" + Lz);\n",
       "                \n",
       "        };\n",
       "    //callback function for updating the plot with the output of a request generated by the sliders\n",
       "    update_rectangularDomain_plot_js = function(msg_type, content)\n",
       "        {\n",
       "            if (msg_type !== 'display_data')\n",
       "                return;\n",
       "            var plotObject_json = content['data']['application/json'];\n",
       "            if (plotObject_json != undefined)\n",
       "            {\n",
       "                plotObject = JSON.parse(plotObject_json);\n",
       "                switch(plotObject.nd)\n",
       "                {\n",
       "                    case 1:\n",
       "                        plot_rectangularDomain_1d(plotObject);\n",
       "                        break;\n",
       "                    case 2:\n",
       "                        plot_rectangularDomain_2d(plotObject);\n",
       "                        break;\n",
       "                    case 3:\n",
       "                        plot_rectangularDomain_3d(plotObject);\n",
       "                        break;\n",
       "                    default:\n",
       "                         console.log(\"update_rectangularDomain_js doesn't know how to plot an nd=\"+plotObject.nd+\" object\")\n",
       "                }                    \n",
       "            } \n",
       "            else \n",
       "            {\n",
       "                console.log(\"update_rectangularDomain_js got no json\");\n",
       "                console.log(data);\n",
       "            }\n",
       "        };\n",
       "    //the javascript function to be used by the javascript generated by python, plays the role of the handler for now\n",
       "    update_rectangularDomain = function(objectName,widgetNumber)\n",
       "        {\n",
       "            console.log(\"update_rectangularDomain\");\n",
       "            console.log(objectName);\n",
       "            console.log(widgetNumber);\n",
       "            var kernel = IPython.notebook.kernel;\n",
       "            if (!kernel) return;\n",
       "            \n",
       "            // execute update on the kernel\n",
       "            var Lx = $('div#Lx_slider_'+objectName+'_'+widgetNumber).slider(\"value\");\n",
       "            $('span#Lx_label_'+objectName+'_'+widgetNumber).text(\"Lx = \" + Lx);\n",
       "\n",
       "            var Ly = $('div#Ly_slider_'+objectName+'_'+widgetNumber).slider(\"value\");\n",
       "            $('span#Ly_label_'+objectName+'_'+widgetNumber).text(\"Ly = \" + Ly);\n",
       "\n",
       "            var Lz = $('div#Lz_slider_'+objectName+'_'+widgetNumber).slider(\"value\");\n",
       "            $('span#Lz_label_'+objectName+'_'+widgetNumber).text(\"Lz = \" + Lz);\n",
       "\n",
       "            var jsonObject = {\"L\": [Lx,Ly,Lz]};\n",
       "            var jsonString = JSON.stringify(jsonObject);\n",
       "            console.log(\"kernel.execute\");\n",
       "            console.log(\"jsonObject\");\n",
       "            console.log(jsonObject);\n",
       "            console.log(\"jsonString\");\n",
       "            console.log(jsonString);\n",
       "            kernel.execute(objectName+\".update_rectangularDomain_py(\" + jsonString + \")\", {'output': update_rectangularDomain_plot_js});\n",
       "        };\n",
       "    //a thin wrapper to fit the slider callback signature\n",
       "    request_update = function(event,ui)\n",
       "        {\n",
       "            update_rectangularDomain($(ui.handle).parent().attr('objectName'),$(ui.handle).parent().attr('widgetNumber'));\n",
       "        };\n",
       "</script>"
      ],
      "text/plain": [
       "<IPython.core.display.HTML object>"
      ]
     },
     "metadata": {},
     "output_type": "display_data"
    }
   ],
   "source": [
    "%%html\n",
    "<script type=\"text/javascript\">\n",
    "    // define the widgets\n",
    "    \n",
    "    //first the raw plotting stuff using a plotObject read from a JSON message\n",
    "\n",
    "    //2D is just a dummy implementation right now--need to use the plotObject\n",
    "    plot_rectangularDomain_2d = function(plotObject)\n",
    "        {\n",
    "            this.element.append(\"<div id='mydiv'></div>\")\n",
    "            var rectDemo = d3.select(\"#mydiv\")\n",
    "                .append(\"svg\")\n",
    "                .attr(\"width\", 400)\n",
    "                .attr(\"height\", 400);\n",
    "            rectDemo.append(\"rect\")\n",
    "                .style(\"stroke\", \"red\")\n",
    "                .style(\"fill\", \"white\")\n",
    "                .attr(\"x\",25)\n",
    "                .attr(\"y\",25)\n",
    "                .attr(\"width\",350)\n",
    "                .attr(\"height\", 350)\n",
    "                .on(\"mouseover\", function(){d3.select(this).style(\"fill\", \"red\");})\n",
    "                .on(\"mouseout\", function(){d3.select(this).style(\"fill\", \"white\");});\n",
    "            $(\".container\").show();\n",
    "        }\n",
    "        //3D plots a cube and allows animation, etc.\n",
    "    plot_rectangularDomain_3d = function(plotObject)\n",
    "        {\n",
    "            var renderer, scene, camera, light,controls;\n",
    "            mycanvas = document.getElementById(\"canvas_\"+plotObject.objectName+\"_\"+plotObject.widgetNumber);\n",
    "            renderer = new THREE.WebGLRenderer({'canvas':document.getElementById(\"canvas_\"+plotObject.objectName+\"_\"+plotObject.widgetNumber)});\n",
    "            scene = new THREE.Scene();\n",
    "            camera = new THREE.PerspectiveCamera(\n",
    "                                                35,             // Field of view\n",
    "                                                800 / 600,      // Aspect ratio\n",
    "                                                0.1,            // Near plane\n",
    "                                                10000           // Far plane\n",
    "                                            );\n",
    "            camera.position.set( -15, 10, 10 );\n",
    "            camera.lookAt( scene.position );\n",
    "            scene.add( camera );\n",
    "            var cubeMaterialArray = [];\n",
    "            // order to add materials: x+,x-,y+,y-,z+,z-\n",
    "            cubeMaterialArray.push( new THREE.MeshBasicMaterial( { color: 0xff3333 } ) );\n",
    "            cubeMaterialArray.push( new THREE.MeshBasicMaterial( { color: 0xff8800 } ) );\n",
    "            cubeMaterialArray.push( new THREE.MeshBasicMaterial( { color: 0xffff33 } ) );\n",
    "            cubeMaterialArray.push( new THREE.MeshBasicMaterial( { color: 0x33ff33 } ) );\n",
    "            cubeMaterialArray.push( new THREE.MeshBasicMaterial( { color: 0x3333ff } ) );\n",
    "            cubeMaterialArray.push( new THREE.MeshBasicMaterial( { color: 0x8833ff } ) );\n",
    "            var cube = new THREE.Mesh(\n",
    "                new THREE.CubeGeometry(plotObject.L[0], plotObject.L[1], plotObject.L[2], 0, 0, 0,cubeMaterialArray),\n",
    "                new THREE.MeshFaceMaterial()\n",
    "                                        );\n",
    "            scene.add( cube );\n",
    "            light = new THREE.AmbientLight( 0xF00000 );\n",
    "            scene.add( light );    \n",
    "            controls = new THREE.TrackballControls( camera,mycanvas );\n",
    "            controls.rotateSpeed = 1.0;\n",
    "            controls.zoomSpeed = 0.1;\n",
    "            controls.panSpeed = 0.8;\n",
    "            renderer.render( scene, camera );\n",
    "            function animate()\n",
    "            {\n",
    "                requestAnimationFrame(animate);\n",
    "                controls.update();\n",
    "                renderer.render(scene,camera)\n",
    "            }\n",
    "            animate();\n",
    "        };\n",
    "    //initialize the slider values \n",
    "    init_rectangularDomain = function(Lx,Ly,Lz,objectName,widgetNumber)\n",
    "        {\n",
    "            console.log(\"init_rectangularDomain\");\n",
    "             \n",
    "                console.log(objectName);\n",
    "                console.log(widgetNumber);\n",
    "                console.log(Lx);console.log(Ly);console.log(Lz);\n",
    "                $('div#Lx_slider_'+objectName+'_'+widgetNumber).slider(\n",
    "                {\n",
    "                    min : 0,\n",
    "                    max : 100,\n",
    "                    value : Lx,\n",
    "                    slide : request_update,\n",
    "                    change: request_update\n",
    "                }\n",
    "                );\n",
    "                $('div#Ly_slider_'+objectName+'_'+widgetNumber).slider(\n",
    "                {\n",
    "                    min : 0,\n",
    "                    max : 100,\n",
    "                    value : Ly,\n",
    "                    slide : request_update,\n",
    "                    change: request_update\n",
    "                }\n",
    "                );\n",
    "                $('div#Lz_slider_'+objectName+'_'+widgetNumber).slider(\n",
    "                {\n",
    "                    min : 0,\n",
    "                    max : 100,\n",
    "                    value : Lz,\n",
    "                    slide : request_update,\n",
    "                    change: request_update\n",
    "                }\n",
    "                );\n",
    "\n",
    "             \n",
    "                $('span#Lx_label_'+objectName+'_'+widgetNumber).text(\"Lx = \" + Lx);\n",
    "\n",
    "                \n",
    "                $('span#Ly_label_'+objectName+'_'+widgetNumber).text(\"Ly = \" + Ly);\n",
    "\n",
    "                \n",
    "                $('span#Lz_label_'+objectName+'_'+widgetNumber).text(\"Lz = \" + Lz);\n",
    "                \n",
    "        };\n",
    "    //callback function for updating the plot with the output of a request generated by the sliders\n",
    "    update_rectangularDomain_plot_js = function(msg_type, content)\n",
    "        {\n",
    "            if (msg_type !== 'display_data')\n",
    "                return;\n",
    "            var plotObject_json = content['data']['application/json'];\n",
    "            if (plotObject_json != undefined)\n",
    "            {\n",
    "                plotObject = JSON.parse(plotObject_json);\n",
    "                switch(plotObject.nd)\n",
    "                {\n",
    "                    case 1:\n",
    "                        plot_rectangularDomain_1d(plotObject);\n",
    "                        break;\n",
    "                    case 2:\n",
    "                        plot_rectangularDomain_2d(plotObject);\n",
    "                        break;\n",
    "                    case 3:\n",
    "                        plot_rectangularDomain_3d(plotObject);\n",
    "                        break;\n",
    "                    default:\n",
    "                         console.log(\"update_rectangularDomain_js doesn't know how to plot an nd=\"+plotObject.nd+\" object\")\n",
    "                }                    \n",
    "            } \n",
    "            else \n",
    "            {\n",
    "                console.log(\"update_rectangularDomain_js got no json\");\n",
    "                console.log(data);\n",
    "            }\n",
    "        };\n",
    "    //the javascript function to be used by the javascript generated by python, plays the role of the handler for now\n",
    "    update_rectangularDomain = function(objectName,widgetNumber)\n",
    "        {\n",
    "            console.log(\"update_rectangularDomain\");\n",
    "            console.log(objectName);\n",
    "            console.log(widgetNumber);\n",
    "            var kernel = IPython.notebook.kernel;\n",
    "            if (!kernel) return;\n",
    "            \n",
    "            // execute update on the kernel\n",
    "            var Lx = $('div#Lx_slider_'+objectName+'_'+widgetNumber).slider(\"value\");\n",
    "            $('span#Lx_label_'+objectName+'_'+widgetNumber).text(\"Lx = \" + Lx);\n",
    "\n",
    "            var Ly = $('div#Ly_slider_'+objectName+'_'+widgetNumber).slider(\"value\");\n",
    "            $('span#Ly_label_'+objectName+'_'+widgetNumber).text(\"Ly = \" + Ly);\n",
    "\n",
    "            var Lz = $('div#Lz_slider_'+objectName+'_'+widgetNumber).slider(\"value\");\n",
    "            $('span#Lz_label_'+objectName+'_'+widgetNumber).text(\"Lz = \" + Lz);\n",
    "\n",
    "            var jsonObject = {\"L\": [Lx,Ly,Lz]};\n",
    "            var jsonString = JSON.stringify(jsonObject);\n",
    "            console.log(\"kernel.execute\");\n",
    "            console.log(\"jsonObject\");\n",
    "            console.log(jsonObject);\n",
    "            console.log(\"jsonString\");\n",
    "            console.log(jsonString);\n",
    "            kernel.execute(objectName+\".update_rectangularDomain_py(\" + jsonString + \")\", {'output': update_rectangularDomain_plot_js});\n",
    "        };\n",
    "    //a thin wrapper to fit the slider callback signature\n",
    "    request_update = function(event,ui)\n",
    "        {\n",
    "            update_rectangularDomain($(ui.handle).parent().attr('objectName'),$(ui.handle).parent().attr('widgetNumber'));\n",
    "        };\n",
    "</script>"
   ]
  },
  {
   "cell_type": "markdown",
   "metadata": {},
   "source": [
    "Create a simple class to represent a rectangular domain and make it display nicely\n",
    "=================================================================================="
   ]
  },
  {
   "cell_type": "code",
   "execution_count": 3,
   "metadata": {
    "collapsed": false
   },
   "outputs": [],
   "source": [
    "from IPython.core.display import *\n",
    "import json\n",
    "class RectangularDomain:\n",
    "    \"\"\"\n",
    "    A simple rectangular domain\n",
    "    \"\"\"\n",
    "    def __init__(self,nd,objectName=\"defaultDomain\",units=\"m\"):\n",
    "        \"\"\"\n",
    "        Set dimensions (nd), name string, and units string\n",
    "        \"\"\"\n",
    "        if nd not in [1,2,3]:\n",
    "            raise RuntimeError(\"Domain object must have dimension 1,2, or 3\")\n",
    "        self.nd=nd\n",
    "        self.objectName=objectName\n",
    "        self.units=units\n",
    "        self.x=[0.0,0.0,0.0]#minx,miny,minz\n",
    "        self.L=[1.0,1.0,1.0]#bounding box when self.x is origin\n",
    "        #\n",
    "        #stuff for IPython display protocol graphical representations\n",
    "        #\n",
    "        self.widgetNumber = 0\n",
    "        self._png_data = None\n",
    "        self._svg_data = None\n",
    "        self._js_data = None\n",
    "        self._html_data = None\n",
    "        self._javascript_data = None\n",
    "        self._math_data = None\n",
    "        self._latex_data = None\n",
    "        self._json_data = None\n",
    "\n",
    "    def __repr__(self):\n",
    "        if self.L == None:\n",
    "            return \"domain \"+`self.objectName`+\"is uninitialized\"\n",
    "        else:\n",
    "            return \"domain \"+`self.objectName`+\" lower left corner, x = \"+`self.x`+\"; dimensions, L = \"+`self.L`\n",
    "    \n",
    "    def _graph_data(self,format):\n",
    "        \"\"\"\n",
    "        Build a graphical representation of the domain\n",
    "        \"\"\"\n",
    "        if format == 'math':\n",
    "            if self._math_data == None:\n",
    "                if self.nd == 1:\n",
    "                    self._math_data = r\"\\left(%(x)s,%(xr)s\\right)\" % \\\n",
    "                        {'x':self.x[0],'xr':self.x[0]+self.L[0]}\n",
    "                if self.nd == 2:\n",
    "                    self._math_data = r\"\\left(%(x)s,%(xr)s\\right) \\times \\left(%(y)s,%(yr)s\\right)\" % \\\n",
    "                    {'x':self.x[0],'y':self.x[1],'xr':self.x[0]+self.L[0],'yr':self.x[1]+self.L[1]}\n",
    "                if self.nd == 3:\n",
    "                    self._math_data = r\"\\left(%(x)s,%(xr)s\\right) \\times \\left(%(y)s,%(yr)s\\right) \\times \\left(%(z)s,%(zr)s\\right)\" % \\\n",
    "                    {'x':self.x[0],'y':self.x[1],'z':self.x[2],'xr':self.x[0]+self.L[0],'yr':self.x[1]+self.L[1],'zr':self.x[2]+self.L[2]}\n",
    "            data = self._math_data\n",
    "        elif format == 'latex':\n",
    "            if self._latex_data == None:\n",
    "                if self._math_data == None:\n",
    "                    self._graph_data('math')\n",
    "                self._latex_data = '$$'+self._math_data+'$$'\n",
    "            data = self._latex_data\n",
    "        elif format == \"json\":\n",
    "            if self._json_data == None:\n",
    "                self._json_data = json.dumps(self.__dict__)\n",
    "            data = self._json_data\n",
    "        elif format == \"html\":\n",
    "            if self._html_data == None:\n",
    "                if self.nd == 2:\n",
    "                    self._html_data = \"\"\"<div id=%(objectName)s_%(widgetNumber)s objectName=%(objectName)s widgetNumber=%(widgetNumber)s style=\"width:600px;height:300px;\"></div>\n",
    "\n",
    "<br/>\n",
    "<span id=\"Lx_label_%(objectName)s_%(widgetNumber)s\" objectName=%(objectName)s widgetNumber=%(widgetNumber)s></span>\n",
    "<div id=\"Lx_slider_%(objectName)s_%(widgetNumber)s\" objectName=%(objectName)s widgetNumber=%(widgetNumber)s></div>\n",
    "\n",
    "<span id=\"Ly_label_%(objectName)s_%(widgetNumber)s\" objectName=%(objectName)s widgetNumber=%(widgetNumber)s></span>\n",
    "<div id=\"Ly_slider_%(objectName)s_%(widgetNumber)s\" objectName=%(objectName)s widgetNumber=%(widgetNumber)s></div>\n",
    "\n",
    "<span id=\"Lz_label_%(objectName)s_%(widgetNumber)s\" objectName=%(objectName)s widgetNumber=%(widgetNumber)s></span>\n",
    "<div id=\"Lz_slider_%(objectName)s_%(widgetNumber)s\" objectName=%(objectName)s widgetNumber=%(widgetNumber)s></div>\n",
    "\"\"\" % {'objectName':self.objectName,'widgetNumber':self.widgetNumber}\n",
    "                elif self.nd == 3:\n",
    "                        self._html_data = \"\"\"\n",
    "<div id=%(objectName)s_%(widgetNumber)s objectName=%(objectName)s widgetNumber=%(widgetNumber)s style=\"width:600px;height:300px;\"></div>\n",
    "\n",
    "<canvas id=\"canvas_%(objectName)s_%(widgetNumber)s\" objectName=%(objectName)s widgetNumber=%(widgetNumber)s style=\"border: none;\" width=\"800\" height=\"600\"></canvas>\n",
    "</br>\n",
    "<span id=\"Lx_label_%(objectName)s_%(widgetNumber)s\" objectName=%(objectName)s widgetNumber=%(widgetNumber)s></span>\n",
    "<div id=\"Lx_slider_%(objectName)s_%(widgetNumber)s\" objectName=%(objectName)s widgetNumber=%(widgetNumber)s></div>\n",
    "\n",
    "<span id=\"Ly_label_%(objectName)s_%(widgetNumber)s\" objectName=%(objectName)s widgetNumber=%(widgetNumber)s></span>\n",
    "<div id=\"Ly_slider_%(objectName)s_%(widgetNumber)s\" objectName=%(objectName)s widgetNumber=%(widgetNumber)s></div>\n",
    "\n",
    "<span id=\"Lz_label_%(objectName)s_%(widgetNumber)s\" objectName=%(objectName)s widgetNumber=%(widgetNumber)s></span>\n",
    "<div id=\"Lz_slider_%(objectName)s_%(widgetNumber)s\" objectName=%(objectName)s widgetNumber=%(widgetNumber)s></div>\n",
    "\"\"\" % {'objectName':self.objectName,'widgetNumber':self.widgetNumber}\n",
    "            data = self._html_data\n",
    "        elif format == \"javascript\":\n",
    "            if self._javascript_data == None:\n",
    "                self._javascript_data = \"\"\"\n",
    "init_rectangularDomain('%f','%f','%f','%s','%s');\n",
    "update_rectangularDomain('%s','%s');\"\"\" % (self.L[0],self.L[1],self.L[2],self.objectName,self.widgetNumber,self.objectName,self.widgetNumber)\n",
    "            data = self._javascript_data\n",
    "        elif format == \"svg\":\n",
    "            if self._svg_data == None:\n",
    "                self._svg_data = r\"\"\"\n",
    "<svg width=\"400\" height=\"400\"><rect style=\"stroke: #ff0000; fill: #ffffff\" x=\"25\" y=\"25\" width=\"350\" height=\"350\"></rect></svg>\n",
    "\"\"\"\n",
    "            data = self._svg_data\n",
    "        return data\n",
    "    \n",
    "    def _repr_pretty(self):\n",
    "        if self.L == None:\n",
    "            return self._repr()\n",
    "        else:\n",
    "            if self.nd == 1:\n",
    "                return r\"(%(x)s,%(xr)s) \" % {'x':self.x[0],'xr':self.x[0]+self.L[0]}\n",
    "            if self.nd == 2:\n",
    "                return r\"(%(x)s,%(xr)s) x (%(y)s,%(yr)s)\" % {'x':self.x[0],'y':self.x[1],\n",
    "                                                            'xr':self.x[0]+self.L[0],'yr':self.x[1]+self.L[1]}\n",
    "            if self.nd == 3:\n",
    "                return r\"(%(x)s,%(xr)s) x (%(y)s,%(yr)s) x (%(z)s,%(zr)s)\" % {'x':self.x[0],\n",
    "                                                                             'y':self.x[1],\n",
    "                                                                             'z':self.x[2],\n",
    "                                                                             'xr':self.x[0]+self.L[0],\n",
    "                                                                             'yr':self.x[1]+self.L[1],\n",
    "                                                                             'zr':self.x[2]+self.L[2]}\n",
    "    @property\n",
    "    def pretty(self):\n",
    "        return self._repr_pretty()\n",
    "    \n",
    "    def _repr_png_(self):\n",
    "        if self._png_data is None:\n",
    "            self._png_data = self._graph_data('png')\n",
    "        return self._png_data\n",
    "    @property\n",
    "    def png(self):\n",
    "        return Image(self._repr_png_(), embed=True)\n",
    "    \n",
    "    def _repr_svg_(self):\n",
    "        if self._svg_data is None:\n",
    "            self._svg_data = self._graph_data('svg')\n",
    "        return self._svg_data\n",
    "    @property\n",
    "    def svg(self):\n",
    "        return SVG(self._repr_svg_())\n",
    "    \n",
    "    def _repr_html_(self):\n",
    "        if self._html_data is None:\n",
    "            self._html_data = self._graph_data('html')\n",
    "        return self._html_data\n",
    "    @property\n",
    "    def html(self):\n",
    "        return HTML(self._repr_html_())\n",
    "\n",
    "    def _repr_javascript_(self):\n",
    "        if self._javascript_data is None:\n",
    "            self._javascript_data = self._graph_data('javascript')\n",
    "        return self._javascript_data\n",
    "    @property\n",
    "    def javascript(self):\n",
    "        return Javascript(self._repr_javascript_())\n",
    "\n",
    "    def _repr_math_(self):\n",
    "        if self._math_data is None:\n",
    "            self._math_data = self._graph_data('math')\n",
    "        return self._math_data\n",
    "    @property\n",
    "    def math(self):\n",
    "        return Math(self._repr_math_())\n",
    "\n",
    "    def _repr_latex_(self):\n",
    "        if self._latex_data is None:\n",
    "            self._latex_data = self._graph_data('latex')\n",
    "        return self._latex_data\n",
    "    @property\n",
    "    def latex(self):\n",
    "        return Latex(self._repr_latex_())\n",
    "\n",
    "    def _repr_json_(self):\n",
    "        if self._json_data is None:\n",
    "            self._json_data = self._graph_data('json')\n",
    "        return self._json_data\n",
    "    @property\n",
    "    def json(self):\n",
    "        return JSON(self._repr_json_())\n",
    "    def edit(self):\n",
    "        self.widgetNumber = self.widgetNumber + 1\n",
    "        display(self.html)\n",
    "        display(self.javascript)\n",
    "    def update_rectangularDomain_py(self,jsonObject):\n",
    "        self.L = jsonObject['L']\n",
    "        display(JSON(json.dumps(self.__dict__)))"
   ]
  },
  {
   "cell_type": "code",
   "execution_count": 4,
   "metadata": {
    "collapsed": false
   },
   "outputs": [
    {
     "data": {
      "text/plain": [
       "\"domain 'box3d' lower left corner, x = [0.0, 0.0, 0.0]; dimensions, L = [1.0, 1.0, 1.0]\""
      ]
     },
     "execution_count": 4,
     "metadata": {},
     "output_type": "execute_result"
    }
   ],
   "source": [
    "box3d = RectangularDomain(3,objectName=\"box3d\",units=\"cm\")\n",
    "repr(box3d)"
   ]
  },
  {
   "cell_type": "code",
   "execution_count": 5,
   "metadata": {
    "collapsed": false
   },
   "outputs": [
    {
     "data": {
      "text/latex": [
       "$$\\left(0.0,1.0\\right) \\times \\left(0.0,1.0\\right) \\times \\left(0.0,1.0\\right)$$"
      ],
      "text/plain": [
       "<IPython.core.display.Math object>"
      ]
     },
     "execution_count": 5,
     "metadata": {},
     "output_type": "execute_result"
    }
   ],
   "source": [
    "box3d.math"
   ]
  },
  {
   "cell_type": "code",
   "execution_count": 6,
   "metadata": {
    "collapsed": false
   },
   "outputs": [
    {
     "data": {
      "text/latex": [
       "$$\\left(0.0,1.0\\right) \\times \\left(0.0,1.0\\right) \\times \\left(0.0,1.0\\right)$$"
      ],
      "text/plain": [
       "<IPython.core.display.Latex object>"
      ]
     },
     "execution_count": 6,
     "metadata": {},
     "output_type": "execute_result"
    }
   ],
   "source": [
    "box3d.latex"
   ]
  },
  {
   "cell_type": "code",
   "execution_count": 7,
   "metadata": {
    "collapsed": false
   },
   "outputs": [
    {
     "data": {
      "text/plain": [
       "'(0.0,1.0) x (0.0,1.0) x (0.0,1.0)'"
      ]
     },
     "execution_count": 7,
     "metadata": {},
     "output_type": "execute_result"
    }
   ],
   "source": [
    "box3d.pretty"
   ]
  },
  {
   "cell_type": "code",
   "execution_count": 8,
   "metadata": {
    "collapsed": false
   },
   "outputs": [
    {
     "data": {
      "text/html": [
       "\n",
       "<div id=box3d_1 objectName=box3d widgetNumber=1 style=\"width:600px;height:300px;\"></div>\n",
       "\n",
       "<canvas id=\"canvas_box3d_1\" objectName=box3d widgetNumber=1 style=\"border: none;\" width=\"800\" height=\"600\"></canvas>\n",
       "</br>\n",
       "<span id=\"Lx_label_box3d_1\" objectName=box3d widgetNumber=1></span>\n",
       "<div id=\"Lx_slider_box3d_1\" objectName=box3d widgetNumber=1></div>\n",
       "\n",
       "<span id=\"Ly_label_box3d_1\" objectName=box3d widgetNumber=1></span>\n",
       "<div id=\"Ly_slider_box3d_1\" objectName=box3d widgetNumber=1></div>\n",
       "\n",
       "<span id=\"Lz_label_box3d_1\" objectName=box3d widgetNumber=1></span>\n",
       "<div id=\"Lz_slider_box3d_1\" objectName=box3d widgetNumber=1></div>\n"
      ],
      "text/plain": [
       "<IPython.core.display.HTML object>"
      ]
     },
     "metadata": {},
     "output_type": "display_data"
    },
    {
     "data": {
      "application/javascript": [
       "\n",
       "init_rectangularDomain('1.000000','1.000000','1.000000','box3d','1');\n",
       "update_rectangularDomain('box3d','1');"
      ],
      "text/plain": [
       "<IPython.core.display.Javascript object>"
      ]
     },
     "metadata": {},
     "output_type": "display_data"
    }
   ],
   "source": [
    "box3d.edit()"
   ]
  },
  {
   "cell_type": "code",
   "execution_count": 9,
   "metadata": {
    "collapsed": false
   },
   "outputs": [
    {
     "data": {
      "text/plain": [
       "[1, 1, 1]"
      ]
     },
     "execution_count": 9,
     "metadata": {},
     "output_type": "execute_result"
    }
   ],
   "source": [
    "box3d.L"
   ]
  },
  {
   "cell_type": "code",
   "execution_count": 10,
   "metadata": {
    "collapsed": false
   },
   "outputs": [
    {
     "data": {
      "text/plain": [
       "{u'L': [1, 1, 1],\n",
       " u'_html_data': u'\\n<div id=box3d_1 objectName=box3d widgetNumber=1 style=\"width:600px;height:300px;\"></div>\\n\\n<canvas id=\"canvas_box3d_1\" objectName=box3d widgetNumber=1 style=\"border: none;\" width=\"800\" height=\"600\"></canvas>\\n</br>\\n<span id=\"Lx_label_box3d_1\" objectName=box3d widgetNumber=1></span>\\n<div id=\"Lx_slider_box3d_1\" objectName=box3d widgetNumber=1></div>\\n\\n<span id=\"Ly_label_box3d_1\" objectName=box3d widgetNumber=1></span>\\n<div id=\"Ly_slider_box3d_1\" objectName=box3d widgetNumber=1></div>\\n\\n<span id=\"Lz_label_box3d_1\" objectName=box3d widgetNumber=1></span>\\n<div id=\"Lz_slider_box3d_1\" objectName=box3d widgetNumber=1></div>\\n',\n",
       " u'_javascript_data': u\"\\ninit_rectangularDomain('1.000000','1.000000','1.000000','box3d','1');\\nupdate_rectangularDomain('box3d','1');\",\n",
       " u'_js_data': None,\n",
       " u'_json_data': None,\n",
       " u'_latex_data': u'$$\\\\left(0.0,1.0\\\\right) \\\\times \\\\left(0.0,1.0\\\\right) \\\\times \\\\left(0.0,1.0\\\\right)$$',\n",
       " u'_math_data': u'\\\\left(0.0,1.0\\\\right) \\\\times \\\\left(0.0,1.0\\\\right) \\\\times \\\\left(0.0,1.0\\\\right)',\n",
       " u'_png_data': None,\n",
       " u'_svg_data': None,\n",
       " u'nd': 3,\n",
       " u'objectName': u'box3d',\n",
       " u'units': u'cm',\n",
       " u'widgetNumber': 1,\n",
       " u'x': [0.0, 0.0, 0.0]}"
      ]
     },
     "execution_count": 10,
     "metadata": {},
     "output_type": "execute_result"
    }
   ],
   "source": [
    "box3d.json.data"
   ]
  },
  {
   "cell_type": "code",
   "execution_count": 11,
   "metadata": {
    "collapsed": false
   },
   "outputs": [],
   "source": [
    "box2d = RectangularDomain(nd=2,objectName=\"box2d\",units=\"cm\")"
   ]
  },
  {
   "cell_type": "code",
   "execution_count": 12,
   "metadata": {
    "collapsed": false
   },
   "outputs": [
    {
     "data": {
      "text/latex": [
       "$$\\left(0.0,1.0\\right) \\times \\left(0.0,1.0\\right)$$"
      ],
      "text/plain": [
       "<IPython.core.display.Math object>"
      ]
     },
     "execution_count": 12,
     "metadata": {},
     "output_type": "execute_result"
    }
   ],
   "source": [
    "box2d.math"
   ]
  },
  {
   "cell_type": "code",
   "execution_count": 13,
   "metadata": {
    "collapsed": false
   },
   "outputs": [
    {
     "data": {
      "text/plain": [
       "'(0.0,1.0) x (0.0,1.0)'"
      ]
     },
     "execution_count": 13,
     "metadata": {},
     "output_type": "execute_result"
    }
   ],
   "source": [
    "box2d.pretty"
   ]
  },
  {
   "cell_type": "code",
   "execution_count": 14,
   "metadata": {
    "collapsed": false
   },
   "outputs": [
    {
     "data": {
      "image/svg+xml": [
       "<svg height=\"400\" width=\"400\"><rect height=\"350\" style=\"stroke: #ff0000; fill: #ffffff\" width=\"350\" x=\"25\" y=\"25\"/></svg>"
      ],
      "text/plain": [
       "<IPython.core.display.SVG object>"
      ]
     },
     "execution_count": 14,
     "metadata": {},
     "output_type": "execute_result"
    }
   ],
   "source": [
    "box2d.svg"
   ]
  },
  {
   "cell_type": "code",
   "execution_count": 15,
   "metadata": {
    "collapsed": false
   },
   "outputs": [
    {
     "data": {
      "text/html": [
       "<div id=box2d_1 objectName=box2d widgetNumber=1 style=\"width:600px;height:300px;\"></div>\n",
       "\n",
       "<br/>\n",
       "<span id=\"Lx_label_box2d_1\" objectName=box2d widgetNumber=1></span>\n",
       "<div id=\"Lx_slider_box2d_1\" objectName=box2d widgetNumber=1></div>\n",
       "\n",
       "<span id=\"Ly_label_box2d_1\" objectName=box2d widgetNumber=1></span>\n",
       "<div id=\"Ly_slider_box2d_1\" objectName=box2d widgetNumber=1></div>\n",
       "\n",
       "<span id=\"Lz_label_box2d_1\" objectName=box2d widgetNumber=1></span>\n",
       "<div id=\"Lz_slider_box2d_1\" objectName=box2d widgetNumber=1></div>\n"
      ],
      "text/plain": [
       "<IPython.core.display.HTML object>"
      ]
     },
     "metadata": {},
     "output_type": "display_data"
    },
    {
     "data": {
      "application/javascript": [
       "\n",
       "init_rectangularDomain('1.000000','1.000000','1.000000','box2d','1');\n",
       "update_rectangularDomain('box2d','1');"
      ],
      "text/plain": [
       "<IPython.core.display.Javascript object>"
      ]
     },
     "metadata": {},
     "output_type": "display_data"
    }
   ],
   "source": [
    "box2d.edit()"
   ]
  }
 ],
 "metadata": {
  "kernelspec": {
   "display_name": "Python 2",
   "language": "python",
   "name": "python2"
  },
  "language_info": {
   "codemirror_mode": {
    "name": "ipython",
    "version": 2
   },
   "file_extension": ".py",
   "mimetype": "text/x-python",
   "name": "python",
   "nbconvert_exporter": "python",
   "pygments_lexer": "ipython2",
   "version": "2.7.8"
  }
 },
 "nbformat": 4,
 "nbformat_minor": 0
}
