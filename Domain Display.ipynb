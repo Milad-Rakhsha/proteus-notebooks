{
 "metadata": {
  "name": "Domain Display"
 },
 "nbformat": 3,
 "nbformat_minor": 0,
 "worksheets": [
  {
   "cells": [
    {
     "cell_type": "markdown",
     "metadata": {},
     "source": [
      "**loading some three.js stuff -- git clone git://github.com/mrdoob/three.js.git in your notebook directory**\n",
      "<script type=\"text/javascript\" src=\"files/three.js/build/three.js\"></script>\n",
      "<script type=\"text/javascript\" src=\"files/three.js/examples/js/controls/TrackballControls.js\"></script>\n",
      "\n",
      "**loading d3.js**\n",
      "<script src=\"http://d3js.org/d3.v2.js\"></script>"
     ]
    },
    {
     "cell_type": "heading",
     "level": 1,
     "metadata": {},
     "source": [
      "Create a simple class to represent a rectangular domain and make it display nicely"
     ]
    },
    {
     "cell_type": "code",
     "collapsed": false,
     "input": [
      "from IPython.core.display import *\n",
      "import json\n",
      "class RectangularDomain:\n",
      "    \"\"\"\n",
      "    A simple rectangular domain\n",
      "    \"\"\"\n",
      "    def __init__(self,nd,name=\"defaultDomain\",units=\"m\"):\n",
      "        \"\"\"\n",
      "        Set dimensions (nd), name string, and units string\n",
      "        \"\"\"\n",
      "        if nd not in [1,2,3]:\n",
      "            raise RuntimeError(\"Domain object must have dimension 1,2, or 3\")\n",
      "        self.nd=nd\n",
      "        self.name=name\n",
      "        self.units=units\n",
      "        self.x=[0.0,0.0,0.0]#minx,miny,minz\n",
      "        self.L=[1.0,1.0,1.0]#bounding box when self.x is origin\n",
      "        #\n",
      "        #stuff for IPython display protocol graphical representations\n",
      "        #\n",
      "        self._png_data = None\n",
      "        self._svg_data = None\n",
      "        self._js_data = None\n",
      "        self._html_data = None\n",
      "        self._javascript_data = None\n",
      "        self._math_data = None\n",
      "        self._latex_data = None\n",
      "        self._json_data = None\n",
      "\n",
      "    def __repr__(self):\n",
      "        if self.L == None:\n",
      "            return \"domain \"+`self.name`+\"is uninitialized\"\n",
      "        else:\n",
      "            return \"domain \"+`self.name`+\" lower left corner, x = \"+`self.x`+\"; dimensions, L = \"+`self.L`\n",
      "    \n",
      "    def _graph_data(self,format):\n",
      "        \"\"\"\n",
      "        Build a graph of the domain\n",
      "        \"\"\"\n",
      "        if format == 'math':\n",
      "            if self._math_data == None:\n",
      "                if self.nd == 1:\n",
      "                    self._math_data = r\"\\left(%(x)s,%(xr)s\\right)\" % \\\n",
      "                        {'x':self.x[0],'xr':self.x[0]+self.L[0]}\n",
      "                if self.nd == 2:\n",
      "                    self._math_data = r\"\\left(%(x)s,%(xr)s\\right) \\times \\left(%(y)s,%(yr)s\\right)\" % \\\n",
      "                    {'x':self.x[0],'y':self.x[1],'xr':self.x[0]+self.L[0],'yr':self.x[1]+self.L[1]}\n",
      "                if self.nd == 3:\n",
      "                    self._math_data = r\"\\left(%(x)s,%(xr)s\\right) \\times \\left(%(y)s,%(yr)s\\right) \\times \\left(%(z)s,%(zr)s\\right)\" % \\\n",
      "                    {'x':self.x[0],'y':self.x[1],'z':self.x[2],'xr':self.x[0]+self.L[0],'yr':self.x[1]+self.L[1],'zr':self.x[2]+self.L[2]}\n",
      "            data = self._math_data\n",
      "        elif format == 'latex':\n",
      "            if self._latex_data == None:\n",
      "                if self._math_data == None:\n",
      "                    self._graph_data('math')\n",
      "                self._latex_data = '$$'+self._math_data+'$$'\n",
      "            data = self._latex_data\n",
      "        elif format == \"json\":\n",
      "            if self._json_data == None:\n",
      "                self._json_data = json.dumps(self.__dict__)\n",
      "            data = self._json_data\n",
      "        elif format == \"html\":\n",
      "            if self._html_data == None:\n",
      "                if self.nd == 2:\n",
      "                    self._html_data = r\"\"\"\n",
      "<div id=\"rect-demo\"></div>\n",
      "\"\"\"\n",
      "                elif self.nd == 3:\n",
      "                        self._html_data = r\"\"\"\n",
      "<canvas id=\"mycanvas\" style=\"border: none;\" width=\"800\" height=\"600\"></canvas>\n",
      "\"\"\"\n",
      "            data = self._html_data\n",
      "        elif format == \"javascript\":\n",
      "            if self._javascript_data == None:\n",
      "                if self.nd == 2:\n",
      "                    self._javascript_data = r\"\"\"\n",
      "this.element.append(\"<div id='mydiv'></div>\")\n",
      "var rectDemo = d3.select(\"#mydiv\")\n",
      ".append(\"svg\")\n",
      ".attr(\"width\", 400)\n",
      ".attr(\"height\", 400);\n",
      "rectDemo.append(\"rect\")\n",
      ".style(\"stroke\", \"red\")\n",
      ".style(\"fill\", \"white\")\n",
      ".attr(\"x\",25)\n",
      ".attr(\"y\",25)\n",
      ".attr(\"width\",350)\n",
      ".attr(\"height\", 350)\n",
      ".on(\"mouseover\", function(){d3.select(this).style(\"fill\", \"red\");})\n",
      ".on(\"mouseout\", function(){d3.select(this).style(\"fill\", \"white\");});\n",
      "$(\".container\").show();\n",
      "\"\"\"\n",
      "                elif self.nd == 3:\n",
      "                    self._javascript_data = r\"\"\"\n",
      "    var renderer, scene, camera, light,controls;\n",
      "\n",
      "    renderer = new THREE.WebGLRenderer({'canvas':document.getElementById(\"mycanvas\")});\n",
      "    scene = new THREE.Scene();\n",
      "    camera = new THREE.PerspectiveCamera(\n",
      "                                            35,             // Field of view\n",
      "                                            800 / 600,      // Aspect ratio\n",
      "                                            0.1,            // Near plane\n",
      "                                            10000           // Far plane\n",
      "                                        );\n",
      "    camera.position.set( -15, 10, 10 );\n",
      "    camera.lookAt( scene.position );\n",
      "    scene.add( camera );\n",
      "    var cubeMaterialArray = [];\n",
      "\t// order to add materials: x+,x-,y+,y-,z+,z-\n",
      "\tcubeMaterialArray.push( new THREE.MeshBasicMaterial( { color: 0xff3333 } ) );\n",
      "\tcubeMaterialArray.push( new THREE.MeshBasicMaterial( { color: 0xff8800 } ) );\n",
      "\tcubeMaterialArray.push( new THREE.MeshBasicMaterial( { color: 0xffff33 } ) );\n",
      "\tcubeMaterialArray.push( new THREE.MeshBasicMaterial( { color: 0x33ff33 } ) );\n",
      "\tcubeMaterialArray.push( new THREE.MeshBasicMaterial( { color: 0x3333ff } ) );\n",
      "\tcubeMaterialArray.push( new THREE.MeshBasicMaterial( { color: 0x8833ff } ) );\n",
      "\n",
      "    var cube = new THREE.Mesh(\n",
      "        new THREE.CubeGeometry( 5, 5, 5, 0, 0, 0,cubeMaterialArray),\n",
      "        new THREE.MeshFaceMaterial()\n",
      "                                );\n",
      "    scene.add( cube );\n",
      "    light = new THREE.AmbientLight( 0xF00000 );\n",
      "\tscene.add( light );    \n",
      "    controls = new THREE.TrackballControls( camera,mycanvas );\n",
      "    controls.rotateSpeed = 1.0;\n",
      "    controls.zoomSpeed = 0.1;\n",
      "\tcontrols.panSpeed = 0.8;\n",
      "    renderer.render( scene, camera );\n",
      "    function animate()\n",
      "    {\n",
      "    requestAnimationFrame(animate);\n",
      "    controls.update();\n",
      "    renderer.render(scene,camera)\n",
      "    }\n",
      "    animate()\n",
      "\"\"\"\n",
      "            data = self._javascript_data\n",
      "        elif format == \"svg\":\n",
      "            if self._svg_data == None:\n",
      "                self._svg_data = r\"\"\"\n",
      "<svg width=\"400\" height=\"400\"><rect style=\"stroke: #ff0000; fill: #ffffff\" x=\"25\" y=\"25\" width=\"350\" height=\"350\"></rect></svg>\n",
      "\"\"\"\n",
      "            data = self._svg_data\n",
      "        return data\n",
      "    \n",
      "    def _repr_pretty(self):\n",
      "        if self.L == None:\n",
      "            return self._repr()\n",
      "        else:\n",
      "            if self.nd == 1:\n",
      "                return r\"(%(x)s,%(xr)s) \" % {'x':self.x[0],'xr':self.x[0]+self.L[0]}\n",
      "            if self.nd == 2:\n",
      "                return r\"(%(x)s,%(xr)s) x (%(y)s,%(yr)s)\" % {'x':self.x[0],'y':self.x[1],\n",
      "                                                            'xr':self.x[0]+self.L[0],'yr':self.x[1]+self.L[1]}\n",
      "            if self.nd == 3:\n",
      "                return r\"(%(x)s,%(xr)s) x (%(y)s,%(yr)s) x (%(z)s,%(zr)s)\" % {'x':self.x[0],\n",
      "                                                                             'y':self.x[1],\n",
      "                                                                             'z':self.x[2],\n",
      "                                                                             'xr':self.x[0]+self.L[0],\n",
      "                                                                             'yr':self.x[1]+self.L[1],\n",
      "                                                                             'zr':self.x[2]+self.L[2]}\n",
      "    @property\n",
      "    def pretty(self):\n",
      "        return self._repr_pretty()\n",
      "    \n",
      "    def _repr_png_(self):\n",
      "        if self._png_data is None:\n",
      "            self._png_data = self._graph_data('png')\n",
      "        return self._png_data\n",
      "    @property\n",
      "    def png(self):\n",
      "        return Image(self._repr_png_(), embed=True)\n",
      "    \n",
      "    def _repr_svg_(self):\n",
      "        if self._svg_data is None:\n",
      "            self._svg_data = self._graph_data('svg')\n",
      "        return self._svg_data\n",
      "    @property\n",
      "    def svg(self):\n",
      "        return SVG(self._repr_svg_())\n",
      "    \n",
      "    def _repr_html_(self):\n",
      "        if self._html_data is None:\n",
      "            self._html_data = self._graph_data('html')\n",
      "        return self._html_data\n",
      "    @property\n",
      "    def html(self):\n",
      "        return HTML(self._repr_html_())\n",
      "\n",
      "    def _repr_javascript_(self):\n",
      "        if self._javascript_data is None:\n",
      "            self._javascript_data = self._graph_data('javascript')\n",
      "        return self._javascript_data\n",
      "    @property\n",
      "    def javascript(self):\n",
      "        return Javascript(self._repr_javascript_())\n",
      "\n",
      "    def _repr_math_(self):\n",
      "        if self._math_data is None:\n",
      "            self._math_data = self._graph_data('math')\n",
      "        return self._math_data\n",
      "    @property\n",
      "    def math(self):\n",
      "        return Math(self._repr_math_())\n",
      "\n",
      "    def _repr_latex_(self):\n",
      "        if self._latex_data is None:\n",
      "            self._latex_data = self._graph_data('latex')\n",
      "        return self._latex_data\n",
      "    @property\n",
      "    def latex(self):\n",
      "        return Latex(self._repr_latex_())\n",
      "\n",
      "    def _repr_json_(self):\n",
      "        if self._json_data is None:\n",
      "            self._json_data = self._graph_data('json')\n",
      "        return self._json_data\n",
      "    @property\n",
      "    def json(self):\n",
      "        return JSON(self._repr_json_())"
     ],
     "language": "python",
     "metadata": {},
     "outputs": [],
     "prompt_number": 306
    },
    {
     "cell_type": "code",
     "collapsed": false,
     "input": [
      "d = RectangularDomain(3,name=\"box\",units=\"cm\")\n",
      "repr(d)"
     ],
     "language": "python",
     "metadata": {},
     "outputs": [
      {
       "output_type": "pyout",
       "prompt_number": 307,
       "text": [
        "\"domain 'box' lower left corner, x = [0.0, 0.0, 0.0]; dimensions, L = [1.0, 1.0, 1.0]\""
       ]
      }
     ],
     "prompt_number": 307
    },
    {
     "cell_type": "code",
     "collapsed": false,
     "input": [
      "d.math"
     ],
     "language": "python",
     "metadata": {},
     "outputs": [
      {
       "latex": [
        "$$\\left(0.0,1.0\\right) \\times \\left(0.0,1.0\\right) \\times \\left(0.0,1.0\\right)$$"
       ],
       "output_type": "pyout",
       "prompt_number": 308,
       "text": [
        "<IPython.core.display.Math at 0x10fa24c50>"
       ]
      }
     ],
     "prompt_number": 308
    },
    {
     "cell_type": "code",
     "collapsed": false,
     "input": [
      "d.latex"
     ],
     "language": "python",
     "metadata": {},
     "outputs": [
      {
       "latex": [
        "$$\\left(0.0,1.0\\right) \\times \\left(0.0,1.0\\right) \\times \\left(0.0,1.0\\right)$$"
       ],
       "output_type": "pyout",
       "prompt_number": 309,
       "text": [
        "<IPython.core.display.Latex at 0x10fa24e10>"
       ]
      }
     ],
     "prompt_number": 309
    },
    {
     "cell_type": "code",
     "collapsed": false,
     "input": [
      "d.pretty"
     ],
     "language": "python",
     "metadata": {},
     "outputs": [
      {
       "output_type": "pyout",
       "prompt_number": 310,
       "text": [
        "'(0.0,1.0) x (0.0,1.0) x (0.0,1.0)'"
       ]
      }
     ],
     "prompt_number": 310
    },
    {
     "cell_type": "code",
     "collapsed": false,
     "input": [
      "display(d.html)\n",
      "d.javascript"
     ],
     "language": "python",
     "metadata": {},
     "outputs": [
      {
       "html": [
        "\n",
        "<canvas id=\"mycanvas\" style=\"border: none;\" width=\"800\" height=\"600\"></canvas>\n"
       ],
       "output_type": "display_data",
       "text": [
        "<IPython.core.display.HTML at 0x10fa24dd0>"
       ]
      },
      {
       "javascript": [
        "\n",
        "    var renderer, scene, camera, light,controls;\n",
        "\n",
        "    renderer = new THREE.WebGLRenderer({'canvas':document.getElementById(\"mycanvas\")});\n",
        "    scene = new THREE.Scene();\n",
        "    camera = new THREE.PerspectiveCamera(\n",
        "                                            35,             // Field of view\n",
        "                                            800 / 600,      // Aspect ratio\n",
        "                                            0.1,            // Near plane\n",
        "                                            10000           // Far plane\n",
        "                                        );\n",
        "    camera.position.set( -15, 10, 10 );\n",
        "    camera.lookAt( scene.position );\n",
        "    scene.add( camera );\n",
        "    var cubeMaterialArray = [];\n",
        "\t// order to add materials: x+,x-,y+,y-,z+,z-\n",
        "\tcubeMaterialArray.push( new THREE.MeshBasicMaterial( { color: 0xff3333 } ) );\n",
        "\tcubeMaterialArray.push( new THREE.MeshBasicMaterial( { color: 0xff8800 } ) );\n",
        "\tcubeMaterialArray.push( new THREE.MeshBasicMaterial( { color: 0xffff33 } ) );\n",
        "\tcubeMaterialArray.push( new THREE.MeshBasicMaterial( { color: 0x33ff33 } ) );\n",
        "\tcubeMaterialArray.push( new THREE.MeshBasicMaterial( { color: 0x3333ff } ) );\n",
        "\tcubeMaterialArray.push( new THREE.MeshBasicMaterial( { color: 0x8833ff } ) );\n",
        "\n",
        "    var cube = new THREE.Mesh(\n",
        "        new THREE.CubeGeometry( 5, 5, 5, 0, 0, 0,cubeMaterialArray),\n",
        "        new THREE.MeshFaceMaterial()\n",
        "                                );\n",
        "    scene.add( cube );\n",
        "    light = new THREE.AmbientLight( 0xF00000 );\n",
        "\tscene.add( light );    \n",
        "    controls = new THREE.TrackballControls( camera,mycanvas );\n",
        "    controls.rotateSpeed = 1.0;\n",
        "    controls.zoomSpeed = 0.1;\n",
        "\tcontrols.panSpeed = 0.8;\n",
        "    renderer.render( scene, camera );\n",
        "    function animate()\n",
        "    {\n",
        "    requestAnimationFrame(animate);\n",
        "    controls.update();\n",
        "    renderer.render(scene,camera)\n",
        "    }\n",
        "    animate()\n"
       ],
       "output_type": "pyout",
       "prompt_number": 311,
       "text": [
        "<IPython.core.display.Javascript at 0x10fa245d0>"
       ]
      }
     ],
     "prompt_number": 311
    },
    {
     "cell_type": "code",
     "collapsed": false,
     "input": [
      "d.json.data"
     ],
     "language": "python",
     "metadata": {},
     "outputs": [
      {
       "output_type": "pyout",
       "prompt_number": 312,
       "text": [
        "'{\"name\": \"box\", \"_math_data\": \"\\\\\\\\left(0.0,1.0\\\\\\\\right) \\\\\\\\times \\\\\\\\left(0.0,1.0\\\\\\\\right) \\\\\\\\times \\\\\\\\left(0.0,1.0\\\\\\\\right)\", \"nd\": 3, \"L\": [1.0, 1.0, 1.0], \"_html_data\": \"\\\\n<canvas id=\\\\\"mycanvas\\\\\" style=\\\\\"border: none;\\\\\" width=\\\\\"800\\\\\" height=\\\\\"600\\\\\"></canvas>\\\\n\", \"_png_data\": null, \"_json_data\": null, \"units\": \"cm\", \"x\": [0.0, 0.0, 0.0], \"_javascript_data\": \"\\\\n    var renderer, scene, camera, light,controls;\\\\n\\\\n    renderer = new THREE.WebGLRenderer({\\'canvas\\':document.getElementById(\\\\\"mycanvas\\\\\")});\\\\n    scene = new THREE.Scene();\\\\n    camera = new THREE.PerspectiveCamera(\\\\n                                            35,             // Field of view\\\\n                                            800 / 600,      // Aspect ratio\\\\n                                            0.1,            // Near plane\\\\n                                            10000           // Far plane\\\\n                                        );\\\\n    camera.position.set( -15, 10, 10 );\\\\n    camera.lookAt( scene.position );\\\\n    scene.add( camera );\\\\n    var cubeMaterialArray = [];\\\\n\\\\t// order to add materials: x+,x-,y+,y-,z+,z-\\\\n\\\\tcubeMaterialArray.push( new THREE.MeshBasicMaterial( { color: 0xff3333 } ) );\\\\n\\\\tcubeMaterialArray.push( new THREE.MeshBasicMaterial( { color: 0xff8800 } ) );\\\\n\\\\tcubeMaterialArray.push( new THREE.MeshBasicMaterial( { color: 0xffff33 } ) );\\\\n\\\\tcubeMaterialArray.push( new THREE.MeshBasicMaterial( { color: 0x33ff33 } ) );\\\\n\\\\tcubeMaterialArray.push( new THREE.MeshBasicMaterial( { color: 0x3333ff } ) );\\\\n\\\\tcubeMaterialArray.push( new THREE.MeshBasicMaterial( { color: 0x8833ff } ) );\\\\n\\\\n    var cube = new THREE.Mesh(\\\\n        new THREE.CubeGeometry( 5, 5, 5, 0, 0, 0,cubeMaterialArray),\\\\n        new THREE.MeshFaceMaterial()\\\\n                                );\\\\n    scene.add( cube );\\\\n    light = new THREE.AmbientLight( 0xF00000 );\\\\n\\\\tscene.add( light );    \\\\n    controls = new THREE.TrackballControls( camera,mycanvas );\\\\n    controls.rotateSpeed = 1.0;\\\\n    controls.zoomSpeed = 0.1;\\\\n\\\\tcontrols.panSpeed = 0.8;\\\\n    renderer.render( scene, camera );\\\\n    function animate()\\\\n    {\\\\n    requestAnimationFrame(animate);\\\\n    controls.update();\\\\n    renderer.render(scene,camera)\\\\n    }\\\\n    animate()\\\\n\", \"_latex_data\": \"$$\\\\\\\\left(0.0,1.0\\\\\\\\right) \\\\\\\\times \\\\\\\\left(0.0,1.0\\\\\\\\right) \\\\\\\\times \\\\\\\\left(0.0,1.0\\\\\\\\right)$$\", \"_js_data\": null, \"_svg_data\": null}'"
       ]
      }
     ],
     "prompt_number": 312
    },
    {
     "cell_type": "code",
     "collapsed": false,
     "input": [
      "d2 = RectangularDomain(nd=2,name=\"square\",units=\"cm\")"
     ],
     "language": "python",
     "metadata": {},
     "outputs": [],
     "prompt_number": 313
    },
    {
     "cell_type": "code",
     "collapsed": false,
     "input": [
      "d2.math"
     ],
     "language": "python",
     "metadata": {},
     "outputs": [
      {
       "latex": [
        "$$\\left(0.0,1.0\\right) \\times \\left(0.0,1.0\\right)$$"
       ],
       "output_type": "pyout",
       "prompt_number": 314,
       "text": [
        "<IPython.core.display.Math at 0x10fa24710>"
       ]
      }
     ],
     "prompt_number": 314
    },
    {
     "cell_type": "code",
     "collapsed": false,
     "input": [
      "d2.pretty"
     ],
     "language": "python",
     "metadata": {},
     "outputs": [
      {
       "output_type": "pyout",
       "prompt_number": 315,
       "text": [
        "'(0.0,1.0) x (0.0,1.0)'"
       ]
      }
     ],
     "prompt_number": 315
    },
    {
     "cell_type": "code",
     "collapsed": false,
     "input": [
      "#display(d2.html)\n",
      "d2.javascript"
     ],
     "language": "python",
     "metadata": {},
     "outputs": [
      {
       "javascript": [
        "\n",
        "this.element.append(\"<div id='mydiv'></div>\")\n",
        "var rectDemo = d3.select(\"#mydiv\")\n",
        ".append(\"svg\")\n",
        ".attr(\"width\", 400)\n",
        ".attr(\"height\", 400);\n",
        "rectDemo.append(\"rect\")\n",
        ".style(\"stroke\", \"red\")\n",
        ".style(\"fill\", \"white\")\n",
        ".attr(\"x\",25)\n",
        ".attr(\"y\",25)\n",
        ".attr(\"width\",350)\n",
        ".attr(\"height\", 350)\n",
        ".on(\"mouseover\", function(){d3.select(this).style(\"fill\", \"red\");})\n",
        ".on(\"mouseout\", function(){d3.select(this).style(\"fill\", \"white\");});\n",
        "$(\".container\").show();\n"
       ],
       "output_type": "pyout",
       "prompt_number": 316,
       "text": [
        "<IPython.core.display.Javascript at 0x10fa24810>"
       ]
      }
     ],
     "prompt_number": 316
    },
    {
     "cell_type": "code",
     "collapsed": false,
     "input": [
      "d2.svg"
     ],
     "language": "python",
     "metadata": {},
     "outputs": [
      {
       "output_type": "pyout",
       "prompt_number": 293,
       "svg": [
        "<svg height=\"400\" width=\"400\"><rect height=\"350\" style=\"stroke: #ff0000; fill: #ffffff\" width=\"350\" x=\"25\" y=\"25\"/></svg>"
       ],
       "text": [
        "<IPython.core.display.SVG at 0x10fa9cf50>"
       ]
      }
     ],
     "prompt_number": 293
    },
    {
     "cell_type": "code",
     "collapsed": false,
     "input": [
      "d2.javascript"
     ],
     "language": "python",
     "metadata": {},
     "outputs": [
      {
       "javascript": [
        "\n",
        "$(this).append(\"div:mydiv\")\n",
        "var rectDemo = d3.select(\"#mydiv\")\n",
        ".append(\"svg\")\n",
        ".attr(\"width\", 400)\n",
        ".attr(\"height\", 400);\n",
        "rectDemo.append(\"rect\")\n",
        ".style(\"stroke\", \"red\")\n",
        ".style(\"fill\", \"white\")\n",
        ".attr(\"x\",25)\n",
        ".attr(\"y\",25)\n",
        ".attr(\"width\",350)\n",
        ".attr(\"height\", 350)\n",
        ".on(\"mouseover\", function(){d3.select(this).style(\"fill\", \"red\");})\n",
        ".on(\"mouseout\", function(){d3.select(this).style(\"fill\", \"white\");});\n",
        "$(\".container\").show();\n"
       ],
       "output_type": "pyout",
       "prompt_number": 294,
       "text": [
        "<IPython.core.display.Javascript at 0x10fa9c310>"
       ]
      }
     ],
     "prompt_number": 294
    },
    {
     "cell_type": "code",
     "collapsed": false,
     "input": [],
     "language": "python",
     "metadata": {},
     "outputs": []
    }
   ],
   "metadata": {}
  }
 ]
}