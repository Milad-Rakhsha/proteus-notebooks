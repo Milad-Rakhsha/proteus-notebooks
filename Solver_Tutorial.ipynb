{
 "metadata": {
  "name": "",
  "signature": "sha256:200116b645a065bcc1d5d1e8c6dd3599b6b262d4d2d91418739022a621160f1d"
 },
 "nbformat": 3,
 "nbformat_minor": 0,
 "worksheets": [
  {
   "cells": [
    {
     "cell_type": "markdown",
     "metadata": {},
     "source": [
      "#Solvers "
     ]
    },
    {
     "cell_type": "code",
     "collapsed": false,
     "input": [
      "n.multilevelNonlinearSolver = pr.NonlinearSolvers.Newton\n",
      "n.maxLineSearches=0\n",
      "#convergence criteria\n",
      "n.maxNonlinearIts=50\n",
      "n.tolFac = 0.0\n",
      "n.nl_atol_res=1.0e-4\n"
     ],
     "language": "python",
     "metadata": {},
     "outputs": [
      {
       "ename": "NameError",
       "evalue": "name 'pr' is not defined",
       "output_type": "pyerr",
       "traceback": [
        "\u001b[1;31m---------------------------------------------------------------------------\u001b[0m\n\u001b[1;31mNameError\u001b[0m                                 Traceback (most recent call last)",
        "\u001b[1;32m<ipython-input-1-05d41df33c0d>\u001b[0m in \u001b[0;36m<module>\u001b[1;34m()\u001b[0m\n\u001b[1;32m----> 1\u001b[1;33m \u001b[0mn\u001b[0m\u001b[1;33m.\u001b[0m\u001b[0mmultilevelNonlinearSolver\u001b[0m \u001b[1;33m=\u001b[0m \u001b[0mpr\u001b[0m\u001b[1;33m.\u001b[0m\u001b[0mNonlinearSolvers\u001b[0m\u001b[1;33m.\u001b[0m\u001b[0mNewton\u001b[0m\u001b[1;33m\u001b[0m\u001b[0m\n\u001b[0m\u001b[0;32m      2\u001b[0m \u001b[0mn\u001b[0m\u001b[1;33m.\u001b[0m\u001b[0mmaxLineSearches\u001b[0m\u001b[1;33m=\u001b[0m\u001b[1;36m0\u001b[0m\u001b[1;33m\u001b[0m\u001b[0m\n\u001b[0;32m      3\u001b[0m \u001b[1;31m#convergence criteria\u001b[0m\u001b[1;33m\u001b[0m\u001b[1;33m\u001b[0m\u001b[0m\n\u001b[0;32m      4\u001b[0m \u001b[0mn\u001b[0m\u001b[1;33m.\u001b[0m\u001b[0mmaxNonlinearIts\u001b[0m\u001b[1;33m=\u001b[0m\u001b[1;36m50\u001b[0m\u001b[1;33m\u001b[0m\u001b[0m\n\u001b[0;32m      5\u001b[0m \u001b[0mn\u001b[0m\u001b[1;33m.\u001b[0m\u001b[0mtolFac\u001b[0m \u001b[1;33m=\u001b[0m \u001b[1;36m0.0\u001b[0m\u001b[1;33m\u001b[0m\u001b[0m\n",
        "\u001b[1;31mNameError\u001b[0m: name 'pr' is not defined"
       ]
      }
     ],
     "prompt_number": 1
    },
    {
     "cell_type": "code",
     "collapsed": false,
     "input": [
      "n.matrix = pr.LinearAlgebraTools.SparseMatrix\n",
      "n.multilevelLinearSolver = pr.LinearSolvers.KSP_petsc4py\n",
      "# PETSc solver configuration\n",
      "from petsc4py import PETSc\n",
      "OptDB = PETSc.Options()\n",
      "OptDB.setValue(\"ksp_type\", \"gmres\")\n",
      "OptDB.setValue(\"pc_type\", \"jacobi\")\n",
      "# convergence criteria\n",
      "n.linearSolverConvergenceTest = 'r-true'\n",
      "n.linTolFac = 0.001\n",
      "n.l_atol_res = 0.001*n.nl_atol_res"
     ],
     "language": "python",
     "metadata": {},
     "outputs": []
    }
   ],
   "metadata": {}
  }
 ]
}