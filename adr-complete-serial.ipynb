{
 "cells": [
  {
   "cell_type": "markdown",
   "metadata": {
    "slideshow": {
     "slide_type": "slide"
    }
   },
   "source": [
    "# Advection-Diffusion-Reaction Model\n",
    "\n",
    "This notebook demonstrates how to\n",
    "- Define the equation you want to solve\n",
    "- Setup up and initial-boundary value problem\n",
    "- Choose a particular set of numerics\n",
    "- Post-process the solution\n",
    "\n",
    "$\n",
    "\\newcommand{\\grad}{\\nabla}\n",
    "$"
   ]
  },
  {
   "cell_type": "code",
   "execution_count": 1,
   "metadata": {
    "collapsed": false,
    "slideshow": {
     "slide_type": "subslide"
    }
   },
   "outputs": [],
   "source": [
    "%matplotlib inline\n",
    "from proteus.iproteus import * "
   ]
  },
  {
   "cell_type": "markdown",
   "metadata": {
    "slideshow": {
     "slide_type": "slide"
    }
   },
   "source": [
    "# Defining an equation\n",
    "The equation we want to solve is\n",
    "\\begin{equation*}\n",
    "m_t + \\nabla \\cdot \\left(\\mathbf{f} - \\mathbf{a} \\grad u \\right) + r = 0\n",
    "\\end{equation*}\n",
    "where $u$ is the unknown solution and the coefficients have the specific  forms\n",
    "\\begin{align}\n",
    "m(u) &= M u \\\\\n",
    "f(u) &= \\mathbf{B} u \\\\\n",
    "a(u) &= \\mathbf{A} \\\\\n",
    "r(u) &= C u \\\\\n",
    "\\end{align}"
   ]
  },
  {
   "cell_type": "markdown",
   "metadata": {
    "slideshow": {
     "slide_type": "fragment"
    }
   },
   "source": [
    "# Proteus template equation\n",
    "\\begin{equation}\n",
    "\\mathbf{u} = \\left[ u^0,u^1,\\ldots,u^{nc-1} \\right]\n",
    "\\end{equation}\n",
    "\\begin{equation*}\n",
    "m^i_t + \\nabla \\cdot \\left(\\mathbf{f}^i - \\sum_k^{nc-1} \\mathbf{a}^{i,k} \\nabla \\phi^k(\\mathbf{u}) \\right) + r^i + H^i(\\nabla u^i)= 0 \\qquad \\mbox{for } i=0,\\ldots,nc-1\n",
    "\\end{equation*}\n",
    "\n",
    "- $m$ is \"mass\"\n",
    "- $\\mathbf{f}$ is advection\n",
    "- $\\mathbf{a}$ is diffution\n",
    "- $\\phi$ is potential\n",
    "- $H$ is Hamiltonian\n",
    "- $r$ is reaction\n",
    "\n",
    "Example: non-conservative advection\n",
    "\\begin{equation}\n",
    "u_t + \\mathbf{v} \\cdot \\nabla u = 0\n",
    "\\end{equation}\n",
    "\n",
    "What is $m$?\n",
    "What is $f$?\n",
    "What is $H$?"
   ]
  },
  {
   "cell_type": "code",
   "execution_count": 8,
   "metadata": {
    "collapsed": false,
    "slideshow": {
     "slide_type": "slide"
    }
   },
   "outputs": [],
   "source": [
    "class LADR(TransportCoefficients.TC_base):\n",
    "    \"\"\"\n",
    "    The coefficients of the linear advection-diffusion equation\n",
    "    \"\"\"\n",
    "    def __init__(self,M,A,B,C):\n",
    "        TransportCoefficients.TC_base.__init__(self,\n",
    "                                               nc=1, #number of components\n",
    "                                               variableNames=['u'],\n",
    "                                               mass      = {0:{0:'linear'}},\n",
    "                                               advection = {0:{0:'linear'}},\n",
    "                                               diffusion = {0:{0:{0:'constant'}}},\n",
    "                                               potential = {0:{0:'u'}},\n",
    "                                               reaction  = {0:{0:'linear'}})\n",
    "                                            \n",
    "        self.M=M;\n",
    "        self.A=A;\n",
    "        self.B=B;\n",
    "        self.C=C;\n",
    "    def evaluate(self,t,c):\n",
    "        c[('m',0)][:]         = self.M*c[('u',0)]  \n",
    "        c[('dm',0,0)][:]      = self.M\n",
    "        c[('f',0)][...,0]     = self.B[0]*c[('u',0)]\n",
    "        c[('f',0)][...,1]     = self.B[1]*c[('u',0)]\n",
    "        c[('df',0,0)][...,0]  = self.B[0]\n",
    "        c[('df',0,0)][...,1]  = self.B[1]\n",
    "        c[('a',0,0)][...,0,0] = self.A[0][0]\n",
    "        c[('a',0,0)][...,1,1] = self.A[1][1]\n",
    "        c[('r',0)][:]         = self.C*c[('u',0)]  \n",
    "        c[('dr',0,0)][:]      = self.C\n"
   ]
  },
  {
   "cell_type": "markdown",
   "metadata": {
    "slideshow": {
     "slide_type": "slide"
    }
   },
   "source": [
    "# Physics"
   ]
  },
  {
   "cell_type": "code",
   "execution_count": 9,
   "metadata": {
    "collapsed": false,
    "slideshow": {
     "slide_type": "fragment"
    }
   },
   "outputs": [],
   "source": [
    "from proteus import default_p as p\n",
    "#physics\n",
    "p.name = \"ladr_2d\"\n",
    "p.nd = 2; #Two dimensions\n",
    "p.L=(1.0,1.0); \n",
    "p.T=1.0\n",
    "\n",
    "p.coefficients=LADR(M=1.0,\n",
    "                    A=[[0.001,0.0],\n",
    "                       [0.0,0.001]],\n",
    "                    B=[2.0,1.0],\n",
    "                    C=0.0)\n",
    "\n",
    "def getDBC(x,flag):\n",
    "    if x[0] == 0.0 or x[1] == 0.0:\n",
    "        return lambda x,t: 1.0\n",
    "    elif x[0] == p.L[0] or x[1] == p.L[1]:\n",
    "        return lambda x,t: 0.0\n",
    "    else:\n",
    "        return None\n",
    "    \n",
    "p.dirichletConditions = {0:getDBC}\n",
    "p.advectiveFluxBoundaryConditions = {}\n",
    "p.diffusiveFluxBoundaryConditions = {0:{}}\n",
    "p.periodicDirichletConditions = None\n",
    "class IC:\n",
    "    def __init__(self):\n",
    "        pass\n",
    "    def uOfXT(self,x,t):\n",
    "        if x[0] <= 0.0 or x[1] <= 0.0:\n",
    "            return 1.0\n",
    "        else:\n",
    "            return 0.0\n",
    "\n",
    "p.initialConditions  = {0:IC()}"
   ]
  },
  {
   "cell_type": "markdown",
   "metadata": {
    "slideshow": {
     "slide_type": "slide"
    }
   },
   "source": [
    "# Numerics"
   ]
  },
  {
   "cell_type": "code",
   "execution_count": 10,
   "metadata": {
    "collapsed": false,
    "slideshow": {
     "slide_type": "fragment"
    }
   },
   "outputs": [],
   "source": [
    "from proteus import default_n as n\n",
    "import proteus as pr\n",
    "n.timeIntegration = pr.TimeIntegration.BackwardEuler_cfl\n",
    "n.stepController = pr.StepControl.Min_dt_cfl_controller\n",
    "n.runCFL=1.0\n",
    "n.femSpaces = {0:pr.FemTools.C0_AffineLinearOnSimplexWithNodalBasis}\n",
    "n.elementQuadrature = pr.Quadrature.SimplexGaussQuadrature(p.nd,3)\n",
    "n.elementBoundaryQuadrature = pr.Quadrature.SimplexGaussQuadrature(p.nd-1,3)\n",
    "n.subgridError = pr.SubgridError.AdvectionDiffusionReaction_ASGS(p.coefficients,\n",
    "                                                                 p.nd,lag=False)\n",
    "n.shockCapturing = pr.ShockCapturing.ResGradQuad_SC(p.coefficients,\n",
    "                                                    p.nd,\n",
    "                                                    shockCapturingFactor=0.99,\n",
    "                                                    lag=True)\n",
    "n.numericalFluxType = pr.NumericalFlux.Advection_DiagonalUpwind_Diffusion_SIPG_exterior\n",
    "n.nnx=41; n.nny=41\n",
    "n.tnList=[float(i)/40.0 for i in range(11)]\n",
    "n.matrix = pr.LinearAlgebraTools.SparseMatrix\n",
    "n.multilevelLinearSolver = pr.LinearSolvers.KSP_petsc4py\n",
    "n.l_atol_res = 1.0e-8\n",
    "n.parallelPartitioningType = pr.MeshTools.MeshParallelPartitioningTypes.element\n",
    "n.nLayersOfOverlapForParallel = 1\n",
    "n.periodicDirichletConditions = None"
   ]
  },
  {
   "cell_type": "markdown",
   "metadata": {
    "slideshow": {
     "slide_type": "slide"
    }
   },
   "source": [
    "# Operator Splitting"
   ]
  },
  {
   "cell_type": "code",
   "execution_count": 11,
   "metadata": {
    "collapsed": false,
    "slideshow": {
     "slide_type": "fragment"
    }
   },
   "outputs": [],
   "source": [
    "from proteus import default_s,default_so\n",
    "so = default_so\n",
    "so.name = p.name \n",
    "so.sList=[default_s]\n",
    "so.tnList = n.tnList"
   ]
  },
  {
   "cell_type": "markdown",
   "metadata": {
    "slideshow": {
     "slide_type": "slide"
    }
   },
   "source": [
    "# Initialize Numerical Solution Object"
   ]
  },
  {
   "cell_type": "code",
   "execution_count": 12,
   "metadata": {
    "collapsed": false,
    "slideshow": {
     "slide_type": "fragment"
    }
   },
   "outputs": [],
   "source": [
    "ns = NumericalSolution.NS_base(so,[p],[n],so.sList,opts)"
   ]
  },
  {
   "cell_type": "markdown",
   "metadata": {
    "slideshow": {
     "slide_type": "slide"
    }
   },
   "source": [
    "# Calculate Solution"
   ]
  },
  {
   "cell_type": "code",
   "execution_count": 13,
   "metadata": {
    "collapsed": false,
    "slideshow": {
     "slide_type": "fragment"
    }
   },
   "outputs": [],
   "source": [
    "failed = ns.calculateSolution('ladr_run1')\n",
    "assert(not failed)"
   ]
  },
  {
   "cell_type": "code",
   "execution_count": 14,
   "metadata": {
    "collapsed": false,
    "slideshow": {
     "slide_type": "slide"
    }
   },
   "outputs": [
    {
     "data": {
      "image/png": "[encoded data removed]",
      "text/plain": [
       "<matplotlib.figure.Figure at 0x7f6043d45fd0>"
      ]
     },
     "metadata": {},
     "output_type": "display_data"
    }
   ],
   "source": [
    "import pylab\n",
    "x = ns.modelList[0].levelModelList[-1].mesh.nodeArray[:,0]\n",
    "y = ns.modelList[0].levelModelList[-1].mesh.nodeArray[:,1]\n",
    "triangles = ns.modelList[0].levelModelList[-1].mesh.elementNodesArray\n",
    "u = ns.modelList[0].levelModelList[-1].u[0].dof\n",
    "pylab.tricontourf(x,y,triangles,u)\n",
    "pylab.show()"
   ]
  }
 ],
 "metadata": {
  "kernelspec": {
   "display_name": "Python 2",
   "language": "python",
   "name": "python2"
  },
  "language_info": {
   "codemirror_mode": {
    "name": "ipython",
    "version": 2
   },
   "file_extension": ".py",
   "mimetype": "text/x-python",
   "name": "python",
   "nbconvert_exporter": "python",
   "pygments_lexer": "ipython2",
   "version": "2.7.8"
  }
 },
 "nbformat": 4,
 "nbformat_minor": 0
}
