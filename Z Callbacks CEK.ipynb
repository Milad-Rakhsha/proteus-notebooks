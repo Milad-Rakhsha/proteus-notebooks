{
 "cells": [
  {
   "cell_type": "markdown",
   "metadata": {},
   "source": [
    "*this markdown cell loads the flot jQuery plugin, used for plotting*\n",
    "\n",
    "*CEK: and defines a widget that takes json input and uses a callback to modify Python objects*"
   ]
  },
  {
   "cell_type": "code",
   "execution_count": 1,
   "metadata": {
    "collapsed": false
   },
   "outputs": [
    {
     "data": {
      "text/html": [
       "<script type=\"text/javascript\">\n",
       "    // load flot\n",
       "    $.getScript(\"https://cdnjs.cloudflare.com/ajax/libs/flot/0.7/jquery.flot.min.js\", function(){});\n",
       "    \n",
       "    // define the widgets\n",
       "    update_plot_js = function(msg_type, content){\n",
       "        // callback for updating the plot with the output of the request\n",
       "        if (msg_type !== 'display_data')\n",
       "            return;\n",
       "        var plotObject = content['data']['application/json'];\n",
       "        if (plotObject != undefined){\n",
       "            plotObject = JSON.parse(plotObject);\n",
       "            $.plot($(\"#\"+plotObject.objectName+\"_\"+plotObject.widgetNumber), plotObject.lines);\n",
       "        } else {\n",
       "            console.log(\"no lines?!\");\n",
       "            console.log(data);\n",
       "        }\n",
       "    };\n",
       "    \n",
       "    update = function(objectName,widgetNumber){\n",
       "        var kernel = IPython.notebook.kernel;\n",
       "        if (!kernel) return;\n",
       "        // execute update on the kernel\n",
       "        var n = $('div#n_slider_'+objectName+'_'+widgetNumber).slider(\"value\");\n",
       "        $('span#n_label_'+objectName+'_'+widgetNumber).text(\"n = \" + n);\n",
       "\n",
       "        var xmax = $('div#xmax_slider_'+objectName+'_'+widgetNumber).slider(\"value\");\n",
       "        $('span#xmax_label_'+objectName+'_'+widgetNumber).text(\"xmax = \" + xmax);\n",
       "\n",
       "        var npoints = $('div#npoints_slider_'+objectName+'_'+widgetNumber).slider(\"value\");\n",
       "        $('span#npoints_label_'+objectName+'_'+widgetNumber).text(\"npoints = \" + npoints);\n",
       "\n",
       "        var args = n + \", xmax=\" + xmax + \", npoints=\" + npoints;\n",
       "        kernel.execute(objectName+\".update_plot_py(\" + args + \")\", {'output': update_plot_js});\n",
       "    };\n",
       "    \n",
       "    init = function(objectName,widgetNumber){\n",
       "    $('div#n_slider_'+objectName+'_'+widgetNumber).slider({\n",
       "        min : 1,\n",
       "        max : 20,\n",
       "        value : 4,\n",
       "        slide : request_update,\n",
       "        change: request_update\n",
       "    });\n",
       "    $('div#xmax_slider_'+objectName+'_'+widgetNumber).slider({\n",
       "        min : 1,\n",
       "        max : 32,\n",
       "        step : 0.2,\n",
       "        value : 10,\n",
       "        slide : request_update,\n",
       "        change: request_update\n",
       "    });\n",
       "    $('div#npoints_slider_'+objectName+'_'+widgetNumber).slider({\n",
       "        min : 2,\n",
       "        max : 128,\n",
       "        step : 1,\n",
       "        value : 100,\n",
       "        slide : request_update,\n",
       "        change: request_update\n",
       "    });\n",
       "    update(objectName,widgetNumber);\n",
       "    };\n",
       "    \n",
       "    request_update = function(event,ui){\n",
       "        update($(ui.handle).parent().attr('objectName'),$(ui.handle).parent().attr('widgetNumber'));\n",
       "    };\n",
       "</script>"
      ],
      "text/plain": [
       "<IPython.core.display.HTML object>"
      ]
     },
     "metadata": {},
     "output_type": "display_data"
    }
   ],
   "source": [
    "%%html\n",
    "<script type=\"text/javascript\">\n",
    "    // load flot\n",
    "    $.getScript(\"https://cdnjs.cloudflare.com/ajax/libs/flot/0.7/jquery.flot.min.js\", function(){});\n",
    "    \n",
    "    // define the widgets\n",
    "    update_plot_js = function(msg_type, content){\n",
    "        // callback for updating the plot with the output of the request\n",
    "        if (msg_type !== 'display_data')\n",
    "            return;\n",
    "        var plotObject = content['data']['application/json'];\n",
    "        if (plotObject != undefined){\n",
    "            plotObject = JSON.parse(plotObject);\n",
    "            $.plot($(\"#\"+plotObject.objectName+\"_\"+plotObject.widgetNumber), plotObject.lines);\n",
    "        } else {\n",
    "            console.log(\"no lines?!\");\n",
    "            console.log(data);\n",
    "        }\n",
    "    };\n",
    "    \n",
    "    update = function(objectName,widgetNumber){\n",
    "        var kernel = IPython.notebook.kernel;\n",
    "        if (!kernel) return;\n",
    "        // execute update on the kernel\n",
    "        var n = $('div#n_slider_'+objectName+'_'+widgetNumber).slider(\"value\");\n",
    "        $('span#n_label_'+objectName+'_'+widgetNumber).text(\"n = \" + n);\n",
    "\n",
    "        var xmax = $('div#xmax_slider_'+objectName+'_'+widgetNumber).slider(\"value\");\n",
    "        $('span#xmax_label_'+objectName+'_'+widgetNumber).text(\"xmax = \" + xmax);\n",
    "\n",
    "        var npoints = $('div#npoints_slider_'+objectName+'_'+widgetNumber).slider(\"value\");\n",
    "        $('span#npoints_label_'+objectName+'_'+widgetNumber).text(\"npoints = \" + npoints);\n",
    "\n",
    "        var args = n + \", xmax=\" + xmax + \", npoints=\" + npoints;\n",
    "        kernel.execute(objectName+\".update_plot_py(\" + args + \")\", {'output': update_plot_js});\n",
    "    };\n",
    "    \n",
    "    init = function(objectName,widgetNumber){\n",
    "    $('div#n_slider_'+objectName+'_'+widgetNumber).slider({\n",
    "        min : 1,\n",
    "        max : 20,\n",
    "        value : 4,\n",
    "        slide : request_update,\n",
    "        change: request_update\n",
    "    });\n",
    "    $('div#xmax_slider_'+objectName+'_'+widgetNumber).slider({\n",
    "        min : 1,\n",
    "        max : 32,\n",
    "        step : 0.2,\n",
    "        value : 10,\n",
    "        slide : request_update,\n",
    "        change: request_update\n",
    "    });\n",
    "    $('div#npoints_slider_'+objectName+'_'+widgetNumber).slider({\n",
    "        min : 2,\n",
    "        max : 128,\n",
    "        step : 1,\n",
    "        value : 100,\n",
    "        slide : request_update,\n",
    "        change: request_update\n",
    "    });\n",
    "    update(objectName,widgetNumber);\n",
    "    };\n",
    "    \n",
    "    request_update = function(event,ui){\n",
    "        update($(ui.handle).parent().attr('objectName'),$(ui.handle).parent().attr('widgetNumber'));\n",
    "    };\n",
    "</script>"
   ]
  },
  {
   "cell_type": "markdown",
   "metadata": {},
   "source": [
    "# Interactive JavaScript plots with kernel callbacks"
   ]
  },
  {
   "cell_type": "markdown",
   "metadata": {},
   "source": [
    "This is an example of a plotting widget, entirely in javascript, \n",
    "which can make callbacks to the Kernel to update data.\n",
    "\n",
    "In this case, there is a user-defined function (`update_plot`) that\n",
    "generates the new data for the plot.  The widget has sliders, which\n",
    "trigger calls to this function when they change.  There is a javascript\n",
    "callback hooked up, which updates a plot area with the new data when it arrives."
   ]
  },
  {
   "cell_type": "markdown",
   "metadata": {},
   "source": [
    "You must run this one code cell to define the function before it is available to the widget,\n",
    "then the plot should appear when you move one of the sliders."
   ]
  },
  {
   "cell_type": "code",
   "execution_count": 2,
   "metadata": {
    "collapsed": false
   },
   "outputs": [
    {
     "data": {
      "text/html": [
       "\n",
       "<div id=po_1 style=\"width:600px;height:300px;\"></div>\n",
       "\n",
       "<span id=\"n_label_po_1\" objectName=po widgetNumber=1></span>\n",
       "<div id=\"n_slider_po_1\" objectName=po widgetNumber=1></div>\n",
       "\n",
       "<span id=\"xmax_label_po_1\" objectName=po widgetNumber=1></span>\n",
       "<div id=\"xmax_slider_po_1\" objectName=po widgetNumber=1></div>\n",
       "\n",
       "<span id=\"npoints_label_po_1\" objectName=po widgetNumber=1></span>\n",
       "<div id=\"npoints_slider_po_1\" objectName=po widgetNumber=1></div>\n"
      ],
      "text/plain": [
       "<IPython.core.display.HTML object>"
      ]
     },
     "metadata": {},
     "output_type": "display_data"
    },
    {
     "data": {
      "application/javascript": [
       "\n",
       "    init('po',1);\n"
      ],
      "text/plain": [
       "<IPython.core.display.Javascript object>"
      ]
     },
     "metadata": {},
     "output_type": "display_data"
    }
   ],
   "source": [
    "import json\n",
    "from IPython.core.display import JSON, display,HTML,Javascript\n",
    "from sympy.functions.special.bessel import jn\n",
    "from numpy import linspace,array\n",
    "class PlotObject:\n",
    "    def __init__(self,myObjectName,n,xmax=5,npoints=10):\n",
    "        self.objectName=myObjectName\n",
    "        self.lines =[]\n",
    "        self.n=n\n",
    "        self.xmax=xmax\n",
    "        self.npoints=npoints\n",
    "        self.widgetNumber = 0\n",
    "        x = linspace(0, xmax, npoints)\n",
    "        for i in range(1,n+1):\n",
    "            self.lines.append(zip(x,array([float(jn(xi,i).n()) for xi in x])))\n",
    "    def _repr_html_(self):\n",
    "        self._html_data = \"\"\"\n",
    "<div id=%(objectName)s_%(widgetNumber)s style=\"width:600px;height:300px;\"></div>\n",
    "\n",
    "<span id=\"n_label_%(objectName)s_%(widgetNumber)s\" objectName=%(objectName)s widgetNumber=%(widgetNumber)s></span>\n",
    "<div id=\"n_slider_%(objectName)s_%(widgetNumber)s\" objectName=%(objectName)s widgetNumber=%(widgetNumber)s></div>\n",
    "\n",
    "<span id=\"xmax_label_%(objectName)s_%(widgetNumber)s\" objectName=%(objectName)s widgetNumber=%(widgetNumber)s></span>\n",
    "<div id=\"xmax_slider_%(objectName)s_%(widgetNumber)s\" objectName=%(objectName)s widgetNumber=%(widgetNumber)s></div>\n",
    "\n",
    "<span id=\"npoints_label_%(objectName)s_%(widgetNumber)s\" objectName=%(objectName)s widgetNumber=%(widgetNumber)s></span>\n",
    "<div id=\"npoints_slider_%(objectName)s_%(widgetNumber)s\" objectName=%(objectName)s widgetNumber=%(widgetNumber)s></div>\n",
    "\"\"\" % {'objectName':self.objectName,'widgetNumber':self.widgetNumber}\n",
    "        #print self._html_data\n",
    "        return self._html_data\n",
    "    @property\n",
    "    def html(self):\n",
    "        return HTML(self._repr_html_())\n",
    "    def _repr_javascript_(self):\n",
    "        self._javascript_data = \"\"\"\n",
    "    init('%(objectName)s',%(widgetNumber)s);\n",
    "\"\"\" % {'objectName':self.objectName,'widgetNumber':self.widgetNumber}\n",
    "        #print self._javascript_data\n",
    "        return self._javascript_data\n",
    "    @property\n",
    "    def javascript(self):\n",
    "        return Javascript(self._repr_javascript_())\n",
    "    def _repr_json_(self):\n",
    "        self._json_data = json.dumps(self.__dict__)\n",
    "    @property\n",
    "    def json(self):\n",
    "        return JSON(self._json_data)\n",
    "    def update_plot_py(self,n, xmax=10, npoints=200):\n",
    "        x = linspace(0, xmax, npoints)\n",
    "        self.lines = []\n",
    "        self.n = n\n",
    "        self.xmax = xmax\n",
    "        self.npoints = npoints\n",
    "        for i in range(1,n+1):\n",
    "            self.lines.append(zip(x,array([float(jn(xi,i).n()) for xi in x])))\n",
    "        display(JSON(json.dumps(self.__dict__)))\n",
    "    def edit(self):\n",
    "        self.widgetNumber += 1\n",
    "        display(po.html)\n",
    "        display(po.javascript)\n",
    "po = PlotObject(\"po\",5)\n",
    "po.edit()"
   ]
  },
  {
   "cell_type": "code",
   "execution_count": 3,
   "metadata": {
    "collapsed": false
   },
   "outputs": [
    {
     "name": "stdout",
     "output_type": "stream",
     "text": [
      "4 10 100\n"
     ]
    }
   ],
   "source": [
    "print po.n,po.xmax,po.npoints"
   ]
  },
  {
   "cell_type": "code",
   "execution_count": 4,
   "metadata": {
    "collapsed": false
   },
   "outputs": [
    {
     "data": {
      "text/html": [
       "\n",
       "<div id=po_2 style=\"width:600px;height:300px;\"></div>\n",
       "\n",
       "<span id=\"n_label_po_2\" objectName=po widgetNumber=2></span>\n",
       "<div id=\"n_slider_po_2\" objectName=po widgetNumber=2></div>\n",
       "\n",
       "<span id=\"xmax_label_po_2\" objectName=po widgetNumber=2></span>\n",
       "<div id=\"xmax_slider_po_2\" objectName=po widgetNumber=2></div>\n",
       "\n",
       "<span id=\"npoints_label_po_2\" objectName=po widgetNumber=2></span>\n",
       "<div id=\"npoints_slider_po_2\" objectName=po widgetNumber=2></div>\n"
      ],
      "text/plain": [
       "<IPython.core.display.HTML object>"
      ]
     },
     "metadata": {},
     "output_type": "display_data"
    },
    {
     "data": {
      "application/javascript": [
       "\n",
       "    init('po',2);\n"
      ],
      "text/plain": [
       "<IPython.core.display.Javascript object>"
      ]
     },
     "metadata": {},
     "output_type": "display_data"
    }
   ],
   "source": [
    "po.edit()"
   ]
  },
  {
   "cell_type": "code",
   "execution_count": 5,
   "metadata": {
    "collapsed": false
   },
   "outputs": [
    {
     "name": "stdout",
     "output_type": "stream",
     "text": [
      "4 10 100\n"
     ]
    }
   ],
   "source": [
    "print po.n,po.xmax,po.npoints"
   ]
  },
  {
   "cell_type": "markdown",
   "metadata": {},
   "source": [
    "<html>\n",
    "<h1>Flot Examples</h1>\n",
    "    \n",
    "<div id=\"placeholder\" style=\"width:600px;height:600px;\"></div>\n",
    "<P>    \n",
    "<p>Simple example. You don't need to specify much to get an\n",
    "       attractive look. Put in a placeholder, make sure you set its\n",
    "       dimensions (otherwise the plot library will barf) and call the\n",
    "       plot function with the data. The axes are automatically\n",
    "       scaled.</p>\n",
    "\n",
    "<script type=\"text/javascript\">\n",
    "    var d1 = [];\n",
    "    for (var i = 0; i < 14; i += 0.5)\n",
    "        d1.push([i, Math.sin(i)]);\n",
    "\n",
    "    var d2 = [[0, 3], [4, 8], [8, 5], [9, 13]];\n",
    "\n",
    "    // a null signifies separate line segments\n",
    "    var d3 = [[0, 12], [7, 12], null, [7, 2.5], [12, 2.5]];\n",
    "    \n",
    "    $.plot($(\"#placeholder\"), [ d1, d2]);\n",
    "</script>\n",
    "</html>"
   ]
  },
  {
   "cell_type": "code",
   "execution_count": 22,
   "metadata": {
    "collapsed": false
   },
   "outputs": [],
   "source": []
  }
 ],
 "metadata": {
  "kernelspec": {
   "display_name": "Python 2",
   "language": "python",
   "name": "python2"
  },
  "language_info": {
   "codemirror_mode": {
    "name": "ipython",
    "version": 2
   },
   "file_extension": ".py",
   "mimetype": "text/x-python",
   "name": "python",
   "nbconvert_exporter": "python",
   "pygments_lexer": "ipython2",
   "version": "2.7.8"
  }
 },
 "nbformat": 4,
 "nbformat_minor": 0
}
