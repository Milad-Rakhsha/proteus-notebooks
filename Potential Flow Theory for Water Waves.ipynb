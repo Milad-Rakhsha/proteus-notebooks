{
 "metadata": {
  "name": "Potential Flow Theory for Water Waves"
 },
 "nbformat": 3,
 "nbformat_minor": 0,
 "worksheets": [
  {
   "cells": [
    {
     "cell_type": "markdown",
     "metadata": {},
     "source": [
      "**The problem**\n",
      "\n",
      "Find the water free surface height, $z^s(x,y,t)$, and the water velocity potential, $\\phi(x,y,z,t)$, satisfying\n",
      "\n",
      "\n",
      "\\begin{eqnarray}\n",
      "\\Delta \\phi &=& 0 \\mbox{ in } z^b(x,y) < z < z^s \\\\\\\n",
      "z^s_t + \\nabla \\phi \\cdot (z^s_x,z^s_y,1)^t &=& 0 \\mbox{ on } z=z^s\\\\\\\n",
      "\\phi_t + \\frac{1}{2}\\nabla \\phi \\cdot \\nabla \\phi + gz &=& 0 \\mbox{ on } z=z^s \\\\\\\n",
      "\\nabla \\phi \\cdot (z^b_x,z^b_y,1)^t &=& 0 \\mbox{ on } z=z^b\\\\\\\n",
      "\\end{eqnarray}\n",
      "\n",
      "\n",
      "The first equation is potential flow in the three-dimensional region occuied by water. The second equation is the evolution equation for the surface height, which is a two-dimensional equation (Note that $z^s$ is only defined on the surface). The remaining equations are boundary conditions for $\\phi$, one of which is essentially Bernoulli's equation at the free surface assuming a constant air pressure at the free surface. The boundary conditions on the remaining boundaries can be periodic, Dirichlet, or Neumann in $\\phi$ and $z^s$ depending on the system of interest.  For example a sloshing tank could be modeled with homogenous Neumann conditions on both variables.\n",
      "\n",
      "These equations are highly nonlinear and analytical and semi-analytical solutions only exist under certain limiting conditions. The case of a highly variable bottom $z^b$ is of great interest for coastal environments. While the approach above assumes irrotational flow, the main nonlinearities and numerical challenges posed by the free surface problem are present in this formulation. \n",
      "\n",
      "Below is an approximate traveling wave solution to these equations using the \"third order Stokes\" approximation."
     ]
    },
    {
     "cell_type": "code",
     "collapsed": false,
     "input": [
      "g=9.8\n",
      "k = 2.0*pi/4.0\n",
      "h = 2.0\n",
      "a = 0.1*h\n",
      "sigma = tanh(k*h)\n",
      "omega = (sqrt(g*k*sigma*(1.0 + (9.0 - 10.0*sigma**2 + 9.0*sigma**4*(k*a)**2)/(8.0*tanh(k*h)**4))))\n",
      "c = omega/k\n",
      "def theta(x,t):\n",
      "    return k*x - omega*t\n",
      "def eta(x,t):\n",
      "    sigma = tanh(k*h)\n",
      "    theta = k*x - omega*t\n",
      "    return a*(cos(theta) + 0.5*k*a*cos(2.0*theta) + (3.0/8.0)*(k*a)**2*cos(3.0*theta))"
     ],
     "language": "python",
     "metadata": {},
     "outputs": [],
     "prompt_number": 8
    },
    {
     "cell_type": "code",
     "collapsed": false,
     "input": [
      "from sympy import *\n",
      "x,z,t = symbols('x,z,t')\n",
      "Phi = omega*exp(k*z)*sin(k*x-omega*t)/k\n",
      "u = diff(Phi,x)\n",
      "w = diff(Phi,z)"
     ],
     "language": "python",
     "metadata": {},
     "outputs": [],
     "prompt_number": 9
    },
    {
     "cell_type": "code",
     "collapsed": false,
     "input": [
      "nn = 25\n",
      "nt = 15\n",
      "X = np.linspace(0,float(4.0*pi/k),nn)\n",
      "Z = np.linspace(0,float(h+a),nn)\n",
      "U = np.zeros((nn,nn),'d')\n",
      "W = np.zeros((nn,nn),'d')\n",
      "T=0.0\n",
      "L = 6.0*pi/k\n",
      "Tp = 4.0*pi/omega\n",
      "for n,T in enumerate(np.linspace(0,Tp,nt)):\n",
      "    for J,xi in enumerate(X):\n",
      "        for I,zi in enumerate(Z):\n",
      "            z_surf = h+eta(xi,T)\n",
      "            if zi < z_surf:\n",
      "                UIJ = (u.evalf(subs={x:xi,z:zi,t:T})).n()\n",
      "                WIJ = (w.evalf(subs={x:xi,z:zi,t:T})).n()\n",
      "                U[I,J] =  UIJ\n",
      "                W[I,J] = WIJ\n",
      "            else:\n",
      "                U[I,J] = 0.0\n",
      "                W[I,J] = 0.0\n",
      "    speed = np.sqrt(U*U + W*W)\n",
      "    hl = [h+eta(xi,T) for xi in X]\n",
      "    pyplot.clf()\n",
      "    pyplot.axis('equal')\n",
      "    pyplot.plot(X,hl)\n",
      "    pyplot.streamplot(X, Z, U, W,density=(1,1), color=speed,linewidth=2.5*speed/speed.max())\n",
      "    pyplot.savefig('s3frame%4.4d.png' % n)"
     ],
     "language": "python",
     "metadata": {},
     "outputs": [],
     "prompt_number": 10
    },
    {
     "cell_type": "code",
     "collapsed": false,
     "input": [
      "import subprocess\n",
      "subprocess.call(r\"ffmpeg -r 2 -y -i s3frame%4d.png -vcodec libx264 -sameq wavesS3.mp4\",shell=True)"
     ],
     "language": "python",
     "metadata": {},
     "outputs": [],
     "prompt_number": 11
    },
    {
     "cell_type": "code",
     "collapsed": false,
     "input": [
      "from IPython.core.display import HTML\n",
      "data_uri_mp4 = open(\"wavesS3.mp4\", \"rb\").read().encode(\"base64\").replace(\"\\n\", \"\")\n",
      "print data_uri_mp4\n",
      "video_tag = \"\"\"<video controls>\n",
      "<source type =\"video/mp4\" src=\"data:video/mp4;base64,{mp4}\"/>\n",
      "Your browser does not support the video tag\n",
      "</video>\"\"\".format(mp4=data_uri_mp4)\n",
      "HTML(data=video_tag)"
     ],
     "language": "python",
     "metadata": {},
     "outputs": [],
     "prompt_number": 14
    },
    {
     "cell_type": "code",
     "collapsed": false,
     "input": [],
     "language": "python",
     "metadata": {},
     "outputs": [],
     "prompt_number": 12
    }
   ],
   "metadata": {}
  }
 ]
}